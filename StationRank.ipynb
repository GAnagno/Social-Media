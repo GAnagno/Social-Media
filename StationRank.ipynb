{
 "cells": [
  {
   "cell_type": "markdown",
   "metadata": {},
   "source": [
    "<h1><center>StationRank</center></h1>"
   ]
  },
  {
   "cell_type": "code",
   "execution_count": 1,
   "metadata": {},
   "outputs": [],
   "source": [
    "import os\n",
    "import warnings\n",
    "warnings.filterwarnings('ignore')"
   ]
  },
  {
   "cell_type": "code",
   "execution_count": 2,
   "metadata": {},
   "outputs": [],
   "source": [
    "%matplotlib inline\n",
    "import pandas as pd\n",
    "import geopandas as gpd\n",
    "import colorcet as cc\n",
    "import contextily as ctx\n",
    "import ipywidgets as widgets\n",
    "import matplotlib as mpl\n",
    "import numpy as np\n",
    "import matplotlib.pyplot as plt\n",
    "import matplotlib.ticker as ticker"
   ]
  },
  {
   "cell_type": "code",
   "execution_count": 3,
   "metadata": {},
   "outputs": [],
   "source": [
    "from matplotlib.lines import Line2D\n",
    "from adjustText import adjust_text\n",
    "from mpl_toolkits.axes_grid1 import make_axes_locatable\n",
    "from ipywidgets import interactive, Layout, VBox, AppLayout"
   ]
  },
  {
   "cell_type": "code",
   "execution_count": 4,
   "metadata": {},
   "outputs": [],
   "source": [
    "base_dir = f\"data/\"\n",
    "vector_dir = f\"{base_dir}vectors/\""
   ]
  },
  {
   "cell_type": "code",
   "execution_count": 17,
   "metadata": {},
   "outputs": [],
   "source": [
    "# Map tiles\n",
    "source_simple = 'https://tile.jawg.io/b0bdce7b-036a-4842-a818-81c6af57f09c/{z}/{x}/{y}.png?access-token=zsakaer0HRCbNjEC6TExV32UzssAHDI34iKwJhdHi5hUa9v5xzanjWAtzOQVgCUt'\n",
    "source_detail = 'https://tile.jawg.io/db400043-2505-4b3a-81c2-16b44c722134/{z}/{x}/{y}.png?access-token=zsakaer0HRCbNjEC6TExV32UzssAHDI34iKwJhdHi5hUa9v5xzanjWAtzOQVgCUt'\n",
    "source_online = 'https://api.mapbox.com/styles/v1/ganagno/ckffylm1u0civ19ochci2gw4t/tiles/512/{Z}/{X}/{Y}?access_token=pk.eyJ1IjoiZ2FuYWdubyIsImEiOiJjanpreGRzdXAwbmJkM2dvOWdibjhzOXZjIn0.OJP0eGHOq7qEb9fLSq0wBw'"
   ]
  },
  {
   "cell_type": "code",
   "execution_count": 6,
   "metadata": {},
   "outputs": [],
   "source": [
    "# Get vector files\n",
    "vectors = []\n",
    "files = sorted(os.listdir(vector_dir))\n",
    "for file in (files):\n",
    "    file = f'{vector_dir}{file}'\n",
    "    vector = pd.read_csv(file)\n",
    "    # Georeferenced locations by BPUIC\n",
    "    vector = gpd.GeoDataFrame(vector,\n",
    "                              geometry=gpd.points_from_xy(\n",
    "                                  vector.E_WGS84,\n",
    "                                  vector.N_WGS84,\n",
    "                                  crs={'init': 'epsg:4326'}))\n",
    "    vector['timestamp'] = vector['timestamp'].str.replace('_', '.')\n",
    "    vectors.append(vector)"
   ]
  },
  {
   "cell_type": "code",
   "execution_count": 7,
   "metadata": {},
   "outputs": [],
   "source": [
    "file = f'{base_dir}geolocations.csv'\n",
    "geolocations = pd.read_csv(file)\n",
    "# Georeferenced locations by BPUIC\n",
    "geolocations = gpd.GeoDataFrame(geolocations,\n",
    "                                geometry=gpd.points_from_xy(\n",
    "                                    geolocations.E_WGS84,\n",
    "                                    geolocations.N_WGS84,\n",
    "                                    crs={'init': 'epsg:4326'}))"
   ]
  },
  {
   "cell_type": "code",
   "execution_count": 8,
   "metadata": {},
   "outputs": [],
   "source": [
    "timestamps = list(pd.concat(vectors).timestamp.unique())"
   ]
  },
  {
   "cell_type": "code",
   "execution_count": 9,
   "metadata": {},
   "outputs": [],
   "source": [
    "def myfmt(x, _):\n",
    "    if x < 1:\n",
    "        form =  '{0:+.3f}'.format(x)\n",
    "    else:\n",
    "        form =  '{0:+.1f}'.format(x)      \n",
    "    return form"
   ]
  },
  {
   "cell_type": "code",
   "execution_count": 10,
   "metadata": {
    "code_folding": []
   },
   "outputs": [],
   "source": [
    "def mapper(vector, geolocations, column, cmap, norm, markersize, label):\n",
    "    f, ax = plt.subplots(figsize=(15, 10))\n",
    "    font = {'size': 12}\n",
    "    plt.rc('font', **font)\n",
    "    divider = make_axes_locatable(ax)\n",
    "    cax = divider.append_axes(\"right\", size=\"3%\", pad=0.2)\n",
    "    sm = plt.cm.ScalarMappable(cmap=cmap, norm=norm)\n",
    "    # Convert to Web Mercator\n",
    "    geolocations = geolocations.to_crs(epsg=3857)\n",
    "    geolocations.plot(ax=ax,\n",
    "                      zorder=5,\n",
    "                      markersize=markersize-5,\n",
    "                      fc='grey',\n",
    "                      ec='k',\n",
    "                      lw=0.2)\n",
    "    # Convert to Web Mercator\n",
    "    vector = vector.to_crs(epsg=3857)\n",
    "    vector.plot(ax=ax,\n",
    "                cax=cax,\n",
    "                zorder=10,\n",
    "                column=column,\n",
    "                cmap=cmap,\n",
    "                norm=norm,\n",
    "                markersize=markersize,\n",
    "                ec='k',\n",
    "                lw=0.2)\n",
    "    cbar = f.colorbar(sm, cax=cax, format=ticker.FuncFormatter(myfmt))\n",
    "    cbar.set_label(label)\n",
    "    legend_elements = [\n",
    "        Line2D([0], [0],\n",
    "               marker='o',\n",
    "               color='k',\n",
    "               label='excluded',\n",
    "               markerfacecolor='grey',\n",
    "               markeredgewidth=0.6,\n",
    "               markersize=10,\n",
    "               lw=0)\n",
    "    ]\n",
    "    ax.legend(handles=legend_elements, loc='upper left')\n",
    "    try:\n",
    "        ctx.add_basemap(ax, attribution=False, source=source_simple, zoom=8)\n",
    "    except:\n",
    "        pass\n",
    "    ax.set_axis_off()\n",
    "    f.tight_layout(pad=1.)\n",
    "    plt.show()\n",
    "    plt.close()"
   ]
  },
  {
   "cell_type": "code",
   "execution_count": 11,
   "metadata": {},
   "outputs": [],
   "source": [
    "def calibrate(vectors, column):\n",
    "    if column == 'remoteness':\n",
    "        cmap = cc.m_fire\n",
    "        vmin = 20\n",
    "        vmax = 100\n",
    "        label = 'Cube-root of transpose mean first passage time'\n",
    "    elif any(column in item for item in ['stationary', 'inflow' 'outflow']):\n",
    "        cmap = cc.m_CET_L19\n",
    "        vmin = 0.02\n",
    "        vmax = 0.16\n",
    "        label = 'Cube-root of the first eigenvector'\n",
    "    elif column == 'cluster':\n",
    "        cmap = 'turbo'\n",
    "        vmin = -0.5\n",
    "        vmax = 0.4\n",
    "        label = 'Cube-root of the second eigenvector'\n",
    "    elif column == 'fragility':\n",
    "        cmap = cc.m_CET_L16\n",
    "        vmin = 0.1\n",
    "        vmax = 1\n",
    "        label = 'Systemic fragility'\n",
    "    elif column == 'influence':\n",
    "        cmap = cc.m_CET_L19\n",
    "        vmin = 0.1\n",
    "        vmax = 1\n",
    "        label = 'Cube-root of systemic influence'\n",
    "    else:\n",
    "        cmap = 'seismic'\n",
    "        vmin = -80\n",
    "        vmax = +80\n",
    "        label = f'Effect on stationary distribution by a disruption at {column}'\n",
    "    norm = plt.Normalize(vmin=vmin, vmax=vmax)\n",
    "    return cmap, norm, label"
   ]
  },
  {
   "cell_type": "code",
   "execution_count": 12,
   "metadata": {},
   "outputs": [],
   "source": [
    "def show_mapper(vectors=vectors, date=timestamps[0], column='remoteness'):\n",
    "    cmap, norm, label = calibrate(vectors, column)\n",
    "    markersize = 80\n",
    "\n",
    "    return mapper(vectors[timestamps.index(date)], geolocations, column, cmap,\n",
    "                  norm, markersize, label)"
   ]
  },
  {
   "cell_type": "code",
   "execution_count": 13,
   "metadata": {},
   "outputs": [],
   "source": [
    "def bubbles(date=timestamps[0]):\n",
    "    ind = timestamps.index(date)\n",
    "    font = {'size': 12}\n",
    "    plt.rc('font', **font)\n",
    "    fig = plt.figure(figsize=(12, 7))\n",
    "    plt.subplot(1, 1, 1)\n",
    "    plt.grid(lw=.3, color='gray', linestyle=(0, (5, 5)), zorder=-1)\n",
    "    ax = plt.gca()\n",
    "    ax.set_xscale('linear')\n",
    "    ax.set_yscale('linear')\n",
    "    x = vectors[ind].fragility.values\n",
    "    y = vectors[ind].influence.values\n",
    "    z = vectors[ind].stationary.values\n",
    "    s_exp = [((n)**3 * 1e4)**2 for n in z]\n",
    "    ax.scatter(x,\n",
    "               y,\n",
    "               s=s_exp,\n",
    "               lw=.4,\n",
    "               marker='o',\n",
    "               ec=(0, 0, 0, 1),\n",
    "               fc=(0, 0, 1, 0.4),\n",
    "               label='$r\\propto\\pi_i$',\n",
    "               zorder=10)\n",
    "    rule1 = vectors[ind].fragility.values > .65\n",
    "    rule2 = vectors[ind].stationary.values > .1\n",
    "    rule3 = vectors[ind].influence.values > .8\n",
    "\n",
    "    subset = np.where(np.logical_or(np.logical_and(rule1, rule2), rule3))[0]\n",
    "    texts = [\n",
    "        ax.annotate(\n",
    "            vectors[ind].HALTESTELLEN_NAME.values[i],\n",
    "            xy=(vectors[ind].fragility.values[i] - 0.0,\n",
    "                vectors[ind].influence.values[i] - 0.0),\n",
    "        ) for i in subset\n",
    "    ]\n",
    "    adjust_text(texts)\n",
    "    plt.xlabel('systemic fragility (absolute change > {}%)'.format(thresh))\n",
    "    plt.ylabel('systemic influence (absolute change > {}%)'.format(thresh))\n",
    "    font = {'size': 14.}\n",
    "    plt.rc('font', **font)\n",
    "    plt.tight_layout()\n",
    "    leg = ax.legend(loc='best',\n",
    "                    borderpad=2,\n",
    "                    handletextpad=1.5,\n",
    "                    framealpha=1,\n",
    "                    shadow=False,\n",
    "                    fancybox=True)\n",
    "    leg.legendHandles[0].set_facecolor('white')\n",
    "    leg.legendHandles[0].set_edgecolor('black')\n",
    "    ax.autoscale(enable=True, axis='both', tight=False)\n",
    "    plt.ylim(0.1, 1.1)\n",
    "    plt.xlim(0.1, 1.1)\n",
    "    plt.show()\n",
    "    plt.close()"
   ]
  },
  {
   "cell_type": "code",
   "execution_count": 14,
   "metadata": {},
   "outputs": [
    {
     "data": {
      "application/vnd.jupyter.widget-view+json": {
       "model_id": "202c38da12674079bae29fbfcb2d6edf",
       "version_major": 2,
       "version_minor": 0
      },
      "text/plain": [
       "AppLayout(children=(VBox(children=(Dropdown(layout=Layout(width='70%'), options=('01.10.2019', '02.10.2019', '…"
      ]
     },
     "metadata": {},
     "output_type": "display_data"
    }
   ],
   "source": [
    "thresh = 1\n",
    "date = widgets.Dropdown(options=list(timestamps), value=timestamps[0])\n",
    "date.layout.width = '70%'\n",
    "ui = widgets.VBox([date], layout=Layout(flex_flow='col wrap'))\n",
    "ui.layout.align_items = 'flex-end'\n",
    "ui.layout.padding = '.9em'\n",
    "out = widgets.interactive_output(bubbles, {'date': date})\n",
    "AppLayout(left_sidebar=ui, center=out, pane_widths=[1, 3, 1], align_items='top')"
   ]
  },
  {
   "cell_type": "code",
   "execution_count": 18,
   "metadata": {},
   "outputs": [
    {
     "data": {
      "application/vnd.jupyter.widget-view+json": {
       "model_id": "878754da1718459c82cb7e18e6dea843",
       "version_major": 2,
       "version_minor": 0
      },
      "text/plain": [
       "AppLayout(children=(VBox(children=(Dropdown(index=4, layout=Layout(width='70%'), options=('remoteness', 'clust…"
      ]
     },
     "metadata": {},
     "output_type": "display_data"
    }
   ],
   "source": [
    "columns = ['remoteness', 'cluster', 'stationary', 'influence', 'fragility']\n",
    "column = widgets.Dropdown(options=list((columns)), value=columns[-1])\n",
    "column.layout.width = '70%'\n",
    "date = widgets.Dropdown(options=list(timestamps), value=timestamps[0])\n",
    "date.layout.width = '70%'\n",
    "ui = widgets.VBox([column, date], layout=Layout(flex_flow='col wrap'))\n",
    "ui.layout.align_items = 'flex-end'\n",
    "ui.layout.padding = '.9em'\n",
    "out = widgets.interactive_output(show_mapper, {'date': date, 'column': column})\n",
    "AppLayout(left_sidebar=ui, center=out, pane_widths=[1, 3, 1], align_items='top')"
   ]
  },
  {
   "cell_type": "code",
   "execution_count": 19,
   "metadata": {},
   "outputs": [
    {
     "data": {
      "application/vnd.jupyter.widget-view+json": {
       "model_id": "182115539fff4c0abb9fd2c89043f5ea",
       "version_major": 2,
       "version_minor": 0
      },
      "text/plain": [
       "AppLayout(children=(VBox(children=(Dropdown(index=2, layout=Layout(width='70%'), options=('Landquart', 'Olten'…"
      ]
     },
     "metadata": {},
     "output_type": "display_data"
    }
   ],
   "source": [
    "columns = vector.columns.values[15:-1]\n",
    "column = widgets.Dropdown(options=list((columns)), value='Winterthur')\n",
    "column.layout.width = '70%'\n",
    "date = widgets.Dropdown(options=list(timestamps), value=timestamps[0])\n",
    "date.layout.width = '70%'\n",
    "ui = widgets.VBox([column, date], layout=Layout(flex_flow='col wrap'))\n",
    "ui.layout.align_items = 'flex-end'\n",
    "ui.layout.padding = '.9em'\n",
    "out = widgets.interactive_output(show_mapper, {'date': date, 'column': column})\n",
    "AppLayout(left_sidebar=ui, center=out, pane_widths=[1, 3, 1], align_items='top')"
   ]
  },
  {
   "cell_type": "code",
   "execution_count": null,
   "metadata": {},
   "outputs": [],
   "source": []
  }
 ],
 "metadata": {
  "kernelspec": {
   "display_name": "Python 3",
   "language": "python",
   "name": "python3"
  },
  "language_info": {
   "codemirror_mode": {
    "name": "ipython",
    "version": 3
   },
   "file_extension": ".py",
   "mimetype": "text/x-python",
   "name": "python",
   "nbconvert_exporter": "python",
   "pygments_lexer": "ipython3",
   "version": "3.7.6"
  }
 },
 "nbformat": 4,
 "nbformat_minor": 4
}
