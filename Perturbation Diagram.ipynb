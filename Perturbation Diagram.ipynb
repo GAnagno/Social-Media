{
 "cells": [
  {
   "cell_type": "markdown",
   "metadata": {},
   "source": [
    "# Perturbation Diagram"
   ]
  },
  {
   "cell_type": "code",
   "execution_count": 2,
   "metadata": {},
   "outputs": [],
   "source": [
    "import pygraphviz as pgv\n",
    "from IPython.display import Image\n",
    "\n",
    "def draw(dot):\n",
    "    AG = pgv.AGraph(dot)\n",
    "    return Image(AG.draw(format='png', prog='dot'))\n",
    "\n",
    "g1 = \"\"\"digraph top {\n",
    "a [label = \"A\", style=filled, fillcolor=\"#1F77B45f\"]\n",
    "ab [label = \"A→B\", style=filled, fillcolor=\"#FF7F0E5f\"]\n",
    "ba [label = \"B→A\", style=filled, fillcolor=\"#FF7F0E5f\"]\n",
    "b [label = \"B\", style=filled, fillcolor=\"#1F77B45f\"]\n",
    "cb [label = \"C→B\", style=filled, fillcolor=\"#FF7F0E5f\"]\n",
    "bc [label = \"B→C\", style=filled, fillcolor=\"#FF7F0E5f\"]\n",
    "c [label = \"C\", style=filled, fillcolor=\"#1F77B45f\"]\n",
    "ac [label = \"A→C\", style=filled, fillcolor=\"#FF7F0E5f\"]\n",
    "ca [label = \"C→A\", style=filled, fillcolor=\"#FF7F0E5f\"]\n",
    "b -> ba -> ba -> a\n",
    "  -> ab -> ab -> b -> b\n",
    "c -> cb -> cb -> b\n",
    "c -> ca -> a\n",
    "b -> c\n",
    "b -> bc\n",
    "bc -> c\n",
    "a -> ac\n",
    "ac -> ac -> c\n",
    "}\"\"\"\n",
    "\n",
    "g2 = \"\"\"digraph top {\n",
    "a [label = \"A\", style=filled, fillcolor=\"#1F77B45f\"]\n",
    "ab [label = \"A→B\", style=filled, fillcolor=\"#FF7F0E5f\"]\n",
    "ba [label = \"B→A\", style=filled, fillcolor=\"#FF7F0E5f\"]\n",
    "b [label = \"B\", style=filled, fillcolor=\"#1F77B45f\"]\n",
    "cb [label = \"C→B\", style=dashed, color=grey]\n",
    "bc [label = \"B→C\", style=dashed, color=red]\n",
    "c [label = \"C\", style=filled, color=\"#FF00005f\"]\n",
    "ac [label = \"A→C\", style=dashed, color=red]\n",
    "ca [label = \"C→A\", style=dashed, color=grey]\n",
    "b -> ba -> ba -> a\n",
    "  -> ab -> ab -> b -> b\n",
    "c -> cb -> cb -> b [style=dashed, color=grey]\n",
    "c -> ca -> a [style=dashed, color=grey]\n",
    "b -> c [color=\"red\"]\n",
    "b -> bc [color=\"red\"]\n",
    "bc -> c [style=dashed, color=red]\n",
    "a -> ac [color=\"red\"]\n",
    "ac -> ac -> c [style=dashed, color=red]\n",
    "}\"\"\"\n",
    "\n",
    "draw(g1)\n",
    "draw(g2)\n",
    "pgv.AGraph(g1).draw('images/example1.pdf', format='pdf', prog='dot')\n",
    "pgv.AGraph(g2).draw('images/example2.pdf', format='pdf', prog='dot')"
   ]
  },
  {
   "cell_type": "code",
   "execution_count": null,
   "metadata": {},
   "outputs": [],
   "source": []
  }
 ],
 "metadata": {
  "kernelspec": {
   "display_name": "Python 3",
   "language": "python",
   "name": "python3"
  },
  "language_info": {
   "codemirror_mode": {
    "name": "ipython",
    "version": 3
   },
   "file_extension": ".py",
   "mimetype": "text/x-python",
   "name": "python",
   "nbconvert_exporter": "python",
   "pygments_lexer": "ipython3",
   "version": "3.7.6"
  }
 },
 "nbformat": 4,
 "nbformat_minor": 4
}
