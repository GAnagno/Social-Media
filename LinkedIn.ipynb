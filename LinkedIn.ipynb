{
 "cells": [
  {
   "cell_type": "markdown",
   "metadata": {},
   "source": [
    "## LinkedIn API Access"
   ]
  },
  {
   "cell_type": "code",
   "execution_count": null,
   "metadata": {},
   "outputs": [],
   "source": [
    "from linkedin_v2 import linkedin\n",
    "\n",
    "API_KEY   = ''\n",
    "API_SECRET = ''\n",
    "\n",
    "RETURN_URL = 'http://localhost:8888'\n",
    "\n",
    "authentication = linkedin.LinkedInAuthentication(API_KEY, API_SECRET, RETURN_URL, ['r_liteprofile'])\n",
    "\n",
    "print(authentication.authorization_url)  # open this url on your browser"
   ]
  },
  {
   "cell_type": "markdown",
   "metadata": {},
   "source": [
    "## Retrieving your LinkedIn profile"
   ]
  },
  {
   "cell_type": "code",
   "execution_count": null,
   "metadata": {},
   "outputs": [],
   "source": [
    "authentication.authorization_code = ''\n",
    "result = authentication.get_access_token()"
   ]
  },
  {
   "cell_type": "code",
   "execution_count": null,
   "metadata": {},
   "outputs": [],
   "source": [
    "app = linkedin.LinkedInApplication(token=result.access_token)"
   ]
  },
  {
   "cell_type": "markdown",
   "metadata": {},
   "source": [
    "## Download your profile data and read in connections data as a CSV file"
   ]
  },
  {
   "cell_type": "code",
   "execution_count": 1,
   "metadata": {},
   "outputs": [],
   "source": [
    "import os\n",
    "import csv\n",
    "\n",
    "# Point this to your 'Connections.csv' file.\n",
    "CSV_FILE = os.path.join('data', 'Connections.csv')\n",
    "\n",
    "csvReader = csv.DictReader(open(CSV_FILE, encoding='utf-8-sig'), delimiter=',', quotechar='\"')\n",
    "contacts = [row for row in csvReader]"
   ]
  },
  {
   "cell_type": "code",
   "execution_count": 2,
   "metadata": {},
   "outputs": [],
   "source": [
    "#contacts"
   ]
  },
  {
   "cell_type": "markdown",
   "metadata": {},
   "source": [
    "## Simple normalization of company suffixes from address book data"
   ]
  },
  {
   "cell_type": "code",
   "execution_count": 3,
   "metadata": {},
   "outputs": [
    {
     "name": "stdout",
     "output_type": "stream",
     "text": [
      "+-----------------------------------------+------+\n",
      "| Company                                 | Freq |\n",
      "+-----------------------------------------+------+\n",
      "| Pharmaplan                              | 24   |\n",
      "| National Technical University of Athens | 3    |\n",
      "| Zaha Hadid Architects                   | 2    |\n",
      "| EM2N                                    | 2    |\n",
      "| Hodkinson Consultancy                   | 2    |\n",
      "+-----------------------------------------+------+\n"
     ]
    }
   ],
   "source": [
    "from prettytable import PrettyTable # pip install prettytable\n",
    "from collections import Counter\n",
    "from operator import itemgetter\n",
    "\n",
    "# Define a set of transforms that converts the first item\n",
    "# to the second item. Here, we're simply handling some\n",
    "# commonly known abbreviations, stripping off common suffixes, \n",
    "# etc.\n",
    "\n",
    "transforms = [(', Inc.', ''), (', Inc', ''), (', LLC', ''), (', LLP', ''),\n",
    "               (' LLC', ''), (' Inc.', ''), (' Inc', ''), (' AG', ''), (' Ltd', ''), ('NNE', 'Pharmaplan')]\n",
    "\n",
    "companies = [c['Company'].strip() for c in contacts if c['Company'].strip() != '']\n",
    "\n",
    "for i, _ in enumerate(companies):\n",
    "    for transform in transforms:\n",
    "        companies[i] = companies[i].replace(*transform)\n",
    "\n",
    "pt = PrettyTable(field_names=['Company', 'Freq'])\n",
    "pt.align = 'l'\n",
    "c = Counter(companies)\n",
    "\n",
    "#print(c)\n",
    "\n",
    "[pt.add_row([company, freq]) for (company, freq) in sorted(c.items(), key=itemgetter(1), reverse=True) if freq > 1]\n",
    "\n",
    "print(pt)"
   ]
  },
  {
   "cell_type": "markdown",
   "metadata": {},
   "source": [
    "## Standardizing common job titles and computing their frequencies"
   ]
  },
  {
   "cell_type": "code",
   "execution_count": 4,
   "metadata": {},
   "outputs": [
    {
     "name": "stdout",
     "output_type": "stream",
     "text": [
      "+---------------------+------+\n",
      "| Job Title           | Freq |\n",
      "+---------------------+------+\n",
      "| Architect           | 23   |\n",
      "| Junior Architect    | 4    |\n",
      "| Project Architect   | 4    |\n",
      "| Project Engineer    | 3    |\n",
      "| Architect Engineer  | 3    |\n",
      "| Senior Architect    | 3    |\n",
      "| Assistant Professor | 3    |\n",
      "| Lead Engineer       | 2    |\n",
      "| Director            | 2    |\n",
      "| Teaching Assistant  | 2    |\n",
      "| Designer            | 2    |\n",
      "| Urban Designer      | 2    |\n",
      "| Founder             | 2    |\n",
      "| Co-Founder          | 2    |\n",
      "+---------------------+------+\n",
      "+---------------+------+\n",
      "| Token         | Freq |\n",
      "+---------------+------+\n",
      "| Architect     | 46   |\n",
      "| Engineer      | 21   |\n",
      "| Project       | 17   |\n",
      "| Senior        | 13   |\n",
      "| Assistant     | 12   |\n",
      "| Manager       | 10   |\n",
      "| Designer      | 8    |\n",
      "| Director      | 7    |\n",
      "| Specialist    | 7    |\n",
      "| Professor     | 7    |\n",
      "| Design        | 7    |\n",
      "| Junior        | 5    |\n",
      "| Research      | 5    |\n",
      "| Architectural | 5    |\n",
      "| Team          | 4    |\n",
      "| Head          | 4    |\n",
      "| Consultant    | 4    |\n",
      "| Researcher    | 4    |\n",
      "| Associate     | 4    |\n",
      "| Leader        | 3    |\n",
      "| Lead          | 3    |\n",
      "| and           | 3    |\n",
      "| Digital       | 3    |\n",
      "| Teaching      | 3    |\n",
      "| Product       | 3    |\n",
      "| Founder       | 3    |\n",
      "| Co-Founder    | 3    |\n",
      "+---------------+------+\n"
     ]
    }
   ],
   "source": [
    "transforms = [\n",
    "    ('Sr.', 'Senior'),\n",
    "    ('Sr', 'Senior'),\n",
    "    ('Jr.', 'Junior'),\n",
    "    ('Jr', 'Junior'),\n",
    "    ('CEO', 'Chief Executive Officer'),\n",
    "    ('COO', 'Chief Operating Officer'),\n",
    "    ('CTO', 'Chief Technology Officer'),\n",
    "    ('CFO', 'Chief Finance Officer'),\n",
    "    ('VP', 'Vice President'),\n",
    "    ('Architekt', 'Architect'),\n",
    "    ]\n",
    "\n",
    "# Read in a list of titles and split apart\n",
    "# any combined titles like \"President/CEO.\"\n",
    "# Other variations could be handled as well, such\n",
    "# as \"President & CEO\", \"President and CEO\", etc.\n",
    "\n",
    "titles = []\n",
    "for contact in contacts:\n",
    "    titles.extend([t.strip() for t in contact['Position'].split('/')\n",
    "                  if contact['Position'].strip() != ''])\n",
    "\n",
    "# Replace common/known abbreviations\n",
    "\n",
    "for i, _ in enumerate(titles):\n",
    "    for transform in transforms:\n",
    "        titles[i] = titles[i].replace(*transform)\n",
    "\n",
    "# Print out a table of titles sorted by frequency\n",
    "\n",
    "pt = PrettyTable(field_names=['Job Title', 'Freq'])\n",
    "pt.align = 'l'\n",
    "c = Counter(titles)\n",
    "[pt.add_row([title, freq]) \n",
    " for (title, freq) in sorted(c.items(), key=itemgetter(1), reverse=True) \n",
    "     if freq > 1]\n",
    "print(pt)\n",
    "\n",
    "# Print out a table of tokens sorted by frequency\n",
    "\n",
    "tokens = []\n",
    "for title in titles:\n",
    "    tokens.extend([t.strip(',') for t in title.split()])\n",
    "pt = PrettyTable(field_names=['Token', 'Freq'])\n",
    "pt.align = 'l'\n",
    "c = Counter(tokens)\n",
    "[pt.add_row([token, freq]) \n",
    " for (token, freq) in sorted(c.items(), key=itemgetter(1), reverse=True) \n",
    "     if freq > 2 and len(token) > 2]\n",
    "print(pt)"
   ]
  },
  {
   "cell_type": "markdown",
   "metadata": {},
   "source": [
    "## Geocoding locations with OpenStreetMap"
   ]
  },
  {
   "cell_type": "code",
   "execution_count": 5,
   "metadata": {},
   "outputs": [
    {
     "data": {
      "text/plain": [
       "networkx.classes.multidigraph.MultiDiGraph"
      ]
     },
     "execution_count": 5,
     "metadata": {},
     "output_type": "execute_result"
    }
   ],
   "source": [
    "import osmnx as ox\n",
    "import matplotlib.pyplot as plt\n",
    "%matplotlib inline\n",
    "\n",
    "# Specify the name that is used to seach for the data\n",
    "place_name = \"Altstadt, Zürich, Switzerland\"\n",
    "\n",
    "# Fetch OSM street network from the location\n",
    "graph = ox.graph_from_place(place_name)\n",
    "type(graph)"
   ]
  },
  {
   "cell_type": "code",
   "execution_count": 6,
   "metadata": {},
   "outputs": [
    {
     "data": {
      "image/png": "[encoded data removed]",
      "text/plain": [
       "<Figure size 507.947x432 with 1 Axes>"
      ]
     },
     "metadata": {},
     "output_type": "display_data"
    }
   ],
   "source": [
    "# Plot the streets\n",
    "fig, ax = ox.plot_graph(graph)"
   ]
  },
  {
   "cell_type": "code",
   "execution_count": 7,
   "metadata": {},
   "outputs": [],
   "source": [
    "import geocoder\n",
    "location = geocoder.osm(\"ETH Zürich\")"
   ]
  },
  {
   "cell_type": "code",
   "execution_count": 8,
   "metadata": {},
   "outputs": [
    {
     "data": {
      "text/plain": [
       "{'accuracy': 0.6981613543024849,\n",
       " 'address': 'ETH Zürich, 101, Rämistrasse, Hochschulen, Altstadt, Zürich, Bezirk Zürich, Zürich, 8092, Schweiz/Suisse/Svizzera/Svizra',\n",
       " 'bbox': {'northeast': [47.3771723, 8.5487892],\n",
       "  'southwest': [47.3756849, 8.5468475]},\n",
       " 'city': 'Zürich',\n",
       " 'confidence': 10,\n",
       " 'country': 'Schweiz/Suisse/Svizzera/Svizra',\n",
       " 'country_code': 'ch',\n",
       " 'county': 'Bezirk Zürich',\n",
       " 'housenumber': '101',\n",
       " 'importance': 0.6981613543024849,\n",
       " 'lat': 47.3764534,\n",
       " 'lng': 8.54770931489751,\n",
       " 'ok': True,\n",
       " 'osm_id': 192151232,\n",
       " 'osm_type': 'way',\n",
       " 'place_id': 255254827,\n",
       " 'place_rank': 30,\n",
       " 'postal': '8092',\n",
       " 'quality': 'university',\n",
       " 'raw': {'place_id': 255254827,\n",
       "  'licence': 'Data © OpenStreetMap contributors, ODbL 1.0. https://osm.org/copyright',\n",
       "  'osm_type': 'way',\n",
       "  'osm_id': 192151232,\n",
       "  'boundingbox': ['47.3756849', '47.3771723', '8.5468475', '8.5487892'],\n",
       "  'lat': '47.3764534',\n",
       "  'lon': '8.54770931489751',\n",
       "  'display_name': 'ETH Zürich, 101, Rämistrasse, Hochschulen, Altstadt, Zürich, Bezirk Zürich, Zürich, 8092, Schweiz/Suisse/Svizzera/Svizra',\n",
       "  'place_rank': 30,\n",
       "  'category': 'building',\n",
       "  'type': 'university',\n",
       "  'importance': 0.6981613543024849,\n",
       "  'address': {'address29': 'ETH Zürich',\n",
       "   'house_number': '101',\n",
       "   'road': 'Rämistrasse',\n",
       "   'suburb': 'Altstadt',\n",
       "   'city': 'Zürich',\n",
       "   'county': 'Bezirk Zürich',\n",
       "   'state': 'Zürich',\n",
       "   'postcode': '8092',\n",
       "   'country': 'Schweiz/Suisse/Svizzera/Svizra',\n",
       "   'country_code': 'ch'}},\n",
       " 'region': 'Zürich',\n",
       " 'state': 'Zürich',\n",
       " 'status': 'OK',\n",
       " 'street': 'Rämistrasse',\n",
       " 'suburb': 'Altstadt',\n",
       " 'type': 'university'}"
      ]
     },
     "execution_count": 8,
     "metadata": {},
     "output_type": "execute_result"
    }
   ],
   "source": [
    "location.json"
   ]
  },
  {
   "cell_type": "code",
   "execution_count": 9,
   "metadata": {},
   "outputs": [
    {
     "name": "stdout",
     "output_type": "stream",
     "text": [
      "ETH Zürich, 101, Rämistrasse, Hochschulen, Altstadt, Zürich, Bezirk Zürich, Zürich, 8092, Schweiz/Suisse/Svizzera/Svizra\n",
      "Lat/Lon: 47.3764534, 8.54770931489751\n",
      "https://www.google.ca/maps/@47.3764534,8.54770931489751,17z\n"
     ]
    }
   ],
   "source": [
    "from geopy.geocoders import Nominatim\n",
    "\n",
    "g = Nominatim(user_agent=\"https://ganagno.github.io/\")\n",
    "\n",
    "location = g.geocode(\"ETH Zürich\")\n",
    "print(location)\n",
    "print('Lat/Lon: {0}, {1}'.format(location.latitude,location.longitude))\n",
    "print('https://www.google.ca/maps/@{0},{1},17z'.format(location.latitude,location.longitude))"
   ]
  },
  {
   "cell_type": "markdown",
   "metadata": {},
   "source": [
    "## Geocoding locations of LinkedIn connections with Nominatim"
   ]
  },
  {
   "cell_type": "code",
   "execution_count": 10,
   "metadata": {},
   "outputs": [],
   "source": [
    "for i, c in enumerate(contacts):\n",
    "    progress = '{0:3d} of {1:3d} - '.format(i+1,len(contacts))\n",
    "    company = c['Company']\n",
    "    try:\n",
    "        location = g.geocode(company, addressdetails=True)\n",
    "    except:\n",
    "        print('... Failed to get a location for {0}'.format(company))\n",
    "        location = None\n",
    "    \n",
    "    if location != None:\n",
    "        c.update([('Location', location)])\n",
    "        #print(progress + company[:50] + ' -- ' + location.address)\n",
    "    else:\n",
    "        c.update([('Location', None)])\n",
    "        #print(progress + company[:50] + ' -- ' + 'Unknown Location')"
   ]
  },
  {
   "cell_type": "markdown",
   "metadata": {},
   "source": [
    "## Parsing out states from location results"
   ]
  },
  {
   "cell_type": "code",
   "execution_count": 11,
   "metadata": {},
   "outputs": [],
   "source": [
    "import json\n",
    "import codecs"
   ]
  },
  {
   "cell_type": "code",
   "execution_count": 13,
   "metadata": {},
   "outputs": [
    {
     "name": "stdout",
     "output_type": "stream",
     "text": [
      "{\n",
      " \"Self Employed, Kittitas County, Washington, USA\": \"Washington\",\n",
      " \"Taylor, Chapman Lake, Lackawanna County, Pennsylvania, 18433, USA\": \"Pennsylvania\",\n",
      " \"Nike Seattle, 1500, 6th Avenue, Central Business District, First Hill, Seattle, King County, Washington, 98101, USA\": \"Washington\",\n",
      " \"Rundquist Court, Rockford, Winnebago County, Illinois, 61114, USA\": \"Illinois\",\n",
      " \"AECOM, 3101, Wilson Boulevard, Clarendon, Arlington, Arlington County, Virginia, 22205, USA\": \"Virginia\"\n",
      "}\n"
     ]
    }
   ],
   "source": [
    "def checkIfUSA(loc):\n",
    "    if loc == None: return False\n",
    "    for key, value in loc.raw['address'].items():\n",
    "        if 'country' in key:\n",
    "            if value == 'USA':\n",
    "                return True\n",
    "            else:\n",
    "                return False\n",
    "    \n",
    "\n",
    "def parseStateFromOpenStreetMapsLocation(loc):\n",
    "    try:\n",
    "        for key, value in loc.raw['address'].items():\n",
    "            if 'state' in key:\n",
    "                return value\n",
    "    except:\n",
    "        return None\n",
    "    \n",
    "results = {}\n",
    "\n",
    "for c in contacts:\n",
    "    loc = c['Location']\n",
    "    if loc == None: continue\n",
    "    if not checkIfUSA(loc): continue \n",
    "    state = parseStateFromOpenStreetMapsLocation(loc)\n",
    "    if state == None: continue\n",
    "    results.update({loc.address : state})\n",
    "    \n",
    "print(json.dumps(results, indent=1))"
   ]
  },
  {
   "cell_type": "markdown",
   "metadata": {},
   "source": [
    "## Write the data to a JSON file, storing the address, latitude, and longitude data for location"
   ]
  },
  {
   "cell_type": "code",
   "execution_count": 14,
   "metadata": {},
   "outputs": [],
   "source": [
    "CONNECTIONS_DATA = 'linkedin_connections.json'\n",
    "\n",
    "# Loop over contacts and update the location information to store the\n",
    "# string address, also adding latitude and longitude information\n",
    "def serialize_contacts(contacts, output_filename):\n",
    "    for c in contacts:\n",
    "        location = c['Location']\n",
    "        if location != None:\n",
    "            # Convert the location to a string for serialization\n",
    "            c.update([('Location', location.raw['address'])])\n",
    "            c.update([('Lat', location.raw['lat'])])\n",
    "            c.update([('Lon', location.raw['lon'])])\n",
    "\n",
    "    output_file = codecs.open(output_filename, \"w\", encoding=\"utf-8\")\n",
    "    json.dump(contacts, output_file, indent=4, ensure_ascii=False)\n",
    "    return\n",
    "\n",
    "serialize_contacts(contacts, CONNECTIONS_DATA)"
   ]
  },
  {
   "cell_type": "markdown",
   "metadata": {},
   "source": [
    "### Here's how to power a Cartogram visualization with the data from the \"results\" variable"
   ]
  },
  {
   "cell_type": "code",
   "execution_count": 15,
   "metadata": {},
   "outputs": [],
   "source": [
    "# Load in a data structure mapping state names to codes.\n",
    "codes = json.loads(open('states-codes.json').read())"
   ]
  },
  {
   "cell_type": "code",
   "execution_count": 16,
   "metadata": {},
   "outputs": [
    {
     "data": {
      "text/plain": [
       "dict_items([('Washington', 2), ('Pennsylvania', 1), ('Illinois', 1), ('Virginia', 1)])"
      ]
     },
     "execution_count": 16,
     "metadata": {},
     "output_type": "execute_result"
    }
   ],
   "source": [
    "from collections import Counter\n",
    "c = Counter([r[1] for r in results.items()])\n",
    "c.items()"
   ]
  },
  {
   "cell_type": "code",
   "execution_count": 17,
   "metadata": {},
   "outputs": [
    {
     "data": {
      "text/plain": [
       "{'Washington': 2, 'Pennsylvania': 1, 'Illinois': 1, 'Virginia': 1}"
      ]
     },
     "execution_count": 17,
     "metadata": {},
     "output_type": "execute_result"
    }
   ],
   "source": [
    "states_freqs = { k : v for (k,v) in c.items() }\n",
    "states_freqs"
   ]
  },
  {
   "cell_type": "code",
   "execution_count": 18,
   "metadata": {},
   "outputs": [],
   "source": [
    "# Lace in all of the other states and provide a minimum value for each of them\n",
    "states_freqs.update({v : 0.2 for v in codes.values() if v not in states_freqs.keys() })"
   ]
  },
  {
   "cell_type": "code",
   "execution_count": 19,
   "metadata": {},
   "outputs": [],
   "source": [
    "# Write output to file\n",
    "f = open('states-freqs.json', 'w')\n",
    "f.write(json.dumps(states_freqs, indent=1))\n",
    "f.close()"
   ]
  },
  {
   "cell_type": "code",
   "execution_count": 20,
   "metadata": {},
   "outputs": [],
   "source": [
    "from IPython.display import display, Javascript, HTML"
   ]
  },
  {
   "cell_type": "code",
   "execution_count": 21,
   "metadata": {
    "scrolled": true
   },
   "outputs": [
    {
     "data": {
      "text/html": [
       "<meta charset=\"utf-8\">\n",
       "<div id=\"d3-example\"></div>\n",
       "<style>\n",
       "circle {\n",
       "  fill: #eee;\n",
       "  stroke: #000;\n",
       "  stroke-width: 1.5px;\n",
       "}\n",
       "text {\n",
       "  font: 10px sans-serif;\n",
       "}\n",
       "</style>\n"
      ],
      "text/plain": [
       "<IPython.core.display.HTML object>"
      ]
     },
     "metadata": {},
     "output_type": "display_data"
    }
   ],
   "source": [
    "%%html\n",
    "<meta charset=\"utf-8\">\n",
    "<div id=\"d3-example\"></div>\n",
    "<style>\n",
    "circle {\n",
    "  fill: #eee;\n",
    "  stroke: #000;\n",
    "  stroke-width: 1.5px;\n",
    "}\n",
    "text {\n",
    "  font: 10px sans-serif;\n",
    "}\n",
    "</style>"
   ]
  },
  {
   "cell_type": "code",
   "execution_count": 22,
   "metadata": {},
   "outputs": [
    {
     "data": {
      "application/javascript": [
       "// We load the d3.js library from the Web.\n",
       "require.config({paths:\n",
       "    {d3: \"http://d3js.org/d3.v3.min\"}});\n",
       "require([\"d3\"], function(d3) {\n",
       "  // The code in this block is executed when the\n",
       "  // d3.js library has been loaded.\n",
       "\n",
       "  // First, we specify the size of the canvas\n",
       "  // containing the visualization (size of the\n",
       "  // <div> element).    \n",
       "    \n",
       "  var margin = {top: 0, right: 0, bottom: 0, left: 0},\n",
       "      width = 960 - margin.left - margin.right,\n",
       "      height = 500 - margin.top - margin.bottom,\n",
       "      padding = 3;  \n",
       "\n",
       "  var projection = d3.geo.albersUsa();   \n",
       "    \n",
       "  var radius = d3.scale.sqrt()\n",
       "      .domain([0, 10])\n",
       "      .range([0, 30]);\n",
       "    \n",
       "  var force = d3.layout.force()\n",
       "      .charge(0)\n",
       "      .gravity(0)\n",
       "      .size([width, height]);\n",
       "    \n",
       "  var svg = d3.select(\"#d3-example\").append(\"svg\")\n",
       "      .attr(\"width\", width + margin.left + margin.right)\n",
       "      .attr(\"height\", height + margin.top + margin.bottom)\n",
       "    .append(\"g\")\n",
       "      .attr(\"transform\", \"translate(\" + margin.left + \",\" + margin.top + \")\");\n",
       "    \n",
       "    \n",
       "  // Load data\n",
       "  var statesToFreqs = null;\n",
       "  d3.json(\"states-freqs.json\", function(error, sf) {\n",
       "      statesToFreqs = sf;\n",
       "      console.log(sf);\n",
       "  });    \n",
       "\n",
       "  d3.json(\"us-states-centroids-simple.json\", function(error, states) {\n",
       "    if (error) throw error;\n",
       "      \n",
       "    console.log(states);\n",
       "\n",
       "    var nodes = [];\n",
       "    let s = 0;\n",
       "    for (s in states) {\n",
       "      try {\n",
       "        console.log(states[s]);\n",
       "        var point = projection(states[s]);\n",
       "        var value = statesToFreqs[s];\n",
       "        var node = {\n",
       "            x : point[0], y : point[1],\n",
       "            x0 : point[0], y0 : point[1],\n",
       "            r : radius(value),\n",
       "            value : value,\n",
       "            name : s\n",
       "        };\n",
       "        nodes.push(node);\n",
       "      } catch (e) { /* pass */}\n",
       "    }\n",
       "    \n",
       "    force\n",
       "        .nodes(nodes)\n",
       "        .on(\"tick\", tick)\n",
       "        .start();\n",
       "      \n",
       "    // We create a <circle> SVG element for each node\n",
       "    // in the graph, and we specify a few attributes.      \n",
       "    var node = svg.selectAll(\"circle\")\n",
       "        .data(nodes)\n",
       "      .enter().append(\"circle\")\n",
       "        .attr(\"r\", function(d) { return d.r; });;    \n",
       "      \n",
       "    // The name of each node is the node number.\n",
       "    node.append(\"title\").text(function(d) { return d.name }); \n",
       "      \n",
       "    function tick(e) {\n",
       "      node.each(gravity(e.alpha * .1))\n",
       "          .each(collide(.5))\n",
       "          .attr(\"cx\", function(d) { return d.x; })\n",
       "          .attr(\"cy\", function(d) { return d.y; });\n",
       "    }\n",
       "      \n",
       "      \n",
       "    function gravity(k) {\n",
       "      return function(d) {\n",
       "        d.x += (d.x0 - d.x) * k;\n",
       "        d.y += (d.y0 - d.y) * k;\n",
       "      };\n",
       "    }\n",
       "      \n",
       "    function collide(k) {\n",
       "      var q = d3.geom.quadtree(nodes);\n",
       "      return function(node) {\n",
       "        var nr = node.r + padding,\n",
       "            nx1 = node.x - nr,\n",
       "            nx2 = node.x + nr,\n",
       "            ny1 = node.y - nr,\n",
       "            ny2 = node.y + nr;\n",
       "        q.visit(function(quad, x1, y1, x2, y2) {\n",
       "          if (quad.point && (quad.point !== node)) {\n",
       "            var x = node.x - quad.point.x,\n",
       "                y = node.y - quad.point.y,\n",
       "                l = x * x + y * y,\n",
       "                r = nr + quad.point.r;\n",
       "            if (l < r * r) {\n",
       "              l = ((l = Math.sqrt(l)) - r) / l * k;\n",
       "              node.x -= x *= l;\n",
       "              node.y -= y *= l;\n",
       "              quad.point.x += x;\n",
       "              quad.point.y += y;\n",
       "            }\n",
       "          }\n",
       "          return x1 > nx2 || x2 < nx1 || y1 > ny2 || y2 < ny1;\n",
       "        });\n",
       "      };\n",
       "    }      \n",
       "  });\n",
       "});\n"
      ],
      "text/plain": [
       "<IPython.core.display.Javascript object>"
      ]
     },
     "metadata": {},
     "output_type": "display_data"
    }
   ],
   "source": [
    "%%javascript\n",
    "// We load the d3.js library from the Web.\n",
    "require.config({paths:\n",
    "    {d3: \"http://d3js.org/d3.v3.min\"}});\n",
    "require([\"d3\"], function(d3) {\n",
    "  // The code in this block is executed when the\n",
    "  // d3.js library has been loaded.\n",
    "\n",
    "  // First, we specify the size of the canvas\n",
    "  // containing the visualization (size of the\n",
    "  // <div> element).    \n",
    "    \n",
    "  var margin = {top: 0, right: 0, bottom: 0, left: 0},\n",
    "      width = 960 - margin.left - margin.right,\n",
    "      height = 500 - margin.top - margin.bottom,\n",
    "      padding = 3;  \n",
    "\n",
    "  var projection = d3.geo.albersUsa();   \n",
    "    \n",
    "  var radius = d3.scale.sqrt()\n",
    "      .domain([0, 10])\n",
    "      .range([0, 30]);\n",
    "    \n",
    "  var force = d3.layout.force()\n",
    "      .charge(0)\n",
    "      .gravity(0)\n",
    "      .size([width, height]);\n",
    "    \n",
    "  var svg = d3.select(\"#d3-example\").append(\"svg\")\n",
    "      .attr(\"width\", width + margin.left + margin.right)\n",
    "      .attr(\"height\", height + margin.top + margin.bottom)\n",
    "    .append(\"g\")\n",
    "      .attr(\"transform\", \"translate(\" + margin.left + \",\" + margin.top + \")\");\n",
    "    \n",
    "    \n",
    "  // Load data\n",
    "  var statesToFreqs = null;\n",
    "  d3.json(\"states-freqs.json\", function(error, sf) {\n",
    "      statesToFreqs = sf;\n",
    "      console.log(sf);\n",
    "  });    \n",
    "\n",
    "  d3.json(\"us-states-centroids-simple.json\", function(error, states) {\n",
    "    if (error) throw error;\n",
    "      \n",
    "    console.log(states);\n",
    "\n",
    "    var nodes = [];\n",
    "    let s = 0;\n",
    "    for (s in states) {\n",
    "      try {\n",
    "        console.log(states[s]);\n",
    "        var point = projection(states[s]);\n",
    "        var value = statesToFreqs[s];\n",
    "        var node = {\n",
    "            x : point[0], y : point[1],\n",
    "            x0 : point[0], y0 : point[1],\n",
    "            r : radius(value),\n",
    "            value : value,\n",
    "            name : s\n",
    "        };\n",
    "        nodes.push(node);\n",
    "      } catch (e) { /* pass */}\n",
    "    }\n",
    "    \n",
    "    force\n",
    "        .nodes(nodes)\n",
    "        .on(\"tick\", tick)\n",
    "        .start();\n",
    "      \n",
    "    // We create a <circle> SVG element for each node\n",
    "    // in the graph, and we specify a few attributes.      \n",
    "    var node = svg.selectAll(\"circle\")\n",
    "        .data(nodes)\n",
    "      .enter().append(\"circle\")\n",
    "        .attr(\"r\", function(d) { return d.r; });;    \n",
    "      \n",
    "    // The name of each node is the node number.\n",
    "    node.append(\"title\").text(function(d) { return d.name }); \n",
    "      \n",
    "    function tick(e) {\n",
    "      node.each(gravity(e.alpha * .1))\n",
    "          .each(collide(.5))\n",
    "          .attr(\"cx\", function(d) { return d.x; })\n",
    "          .attr(\"cy\", function(d) { return d.y; });\n",
    "    }\n",
    "      \n",
    "      \n",
    "    function gravity(k) {\n",
    "      return function(d) {\n",
    "        d.x += (d.x0 - d.x) * k;\n",
    "        d.y += (d.y0 - d.y) * k;\n",
    "      };\n",
    "    }\n",
    "      \n",
    "    function collide(k) {\n",
    "      var q = d3.geom.quadtree(nodes);\n",
    "      return function(node) {\n",
    "        var nr = node.r + padding,\n",
    "            nx1 = node.x - nr,\n",
    "            nx2 = node.x + nr,\n",
    "            ny1 = node.y - nr,\n",
    "            ny2 = node.y + nr;\n",
    "        q.visit(function(quad, x1, y1, x2, y2) {\n",
    "          if (quad.point && (quad.point !== node)) {\n",
    "            var x = node.x - quad.point.x,\n",
    "                y = node.y - quad.point.y,\n",
    "                l = x * x + y * y,\n",
    "                r = nr + quad.point.r;\n",
    "            if (l < r * r) {\n",
    "              l = ((l = Math.sqrt(l)) - r) / l * k;\n",
    "              node.x -= x *= l;\n",
    "              node.y -= y *= l;\n",
    "              quad.point.x += x;\n",
    "              quad.point.y += y;\n",
    "            }\n",
    "          }\n",
    "          return x1 > nx2 || x2 < nx1 || y1 > ny2 || y2 < ny1;\n",
    "        });\n",
    "      };\n",
    "    }      \n",
    "  });\n",
    "});"
   ]
  },
  {
   "cell_type": "markdown",
   "metadata": {},
   "source": [
    "## Clustering job titles using a greedy heuristic"
   ]
  },
  {
   "cell_type": "code",
   "execution_count": 23,
   "metadata": {},
   "outputs": [
    {
     "name": "stdout",
     "output_type": "stream",
     "text": [
      "[(None, 'Chief'), ('Chief', 'Executive'), ('Executive', 'Officer'), ('Officer', None)]\n",
      "[(None, 'Chief'), ('Chief', 'Technology'), ('Technology', 'Officer'), ('Officer', None)]\n",
      "2\n"
     ]
    }
   ],
   "source": [
    "from nltk.util import bigrams\n",
    "\n",
    "ceo_bigrams = list(bigrams(\"Chief Executive Officer\".split(), pad_left=True, pad_right=True))\n",
    "cto_bigrams = list(bigrams(\"Chief Technology Officer\".split(), pad_left=True, pad_right=True))\n",
    "\n",
    "print(ceo_bigrams)\n",
    "print(cto_bigrams)\n",
    "\n",
    "print(len(set(ceo_bigrams).intersection(set(cto_bigrams))))"
   ]
  },
  {
   "cell_type": "markdown",
   "metadata": {},
   "source": [
    "### Jaccard distance calculation"
   ]
  },
  {
   "cell_type": "code",
   "execution_count": 24,
   "metadata": {},
   "outputs": [
    {
     "name": "stdout",
     "output_type": "stream",
     "text": [
      "['Chief', 'Executive', 'Officer']\n",
      "['Chief', 'Technology', 'Officer']\n",
      "\n",
      "Intersection:\n",
      "{'Officer', 'Chief'}\n",
      "\n",
      "Union:\n",
      "{'Chief', 'Executive', 'Technology', 'Officer'}\n",
      "\n",
      "Similarity: 0.5\n",
      "Distance: 0.5\n"
     ]
    }
   ],
   "source": [
    "from nltk.metrics.distance import jaccard_distance # pip install nltk\n",
    "\n",
    "job_title_1 = 'Chief Executive Officer'.split()\n",
    "job_title_2 = 'Chief Technology Officer'.split()\n",
    "\n",
    "print(job_title_1)\n",
    "print(job_title_2)\n",
    "\n",
    "print()\n",
    "print('Intersection:')\n",
    "intersection = set(job_title_1).intersection(set(job_title_2))\n",
    "print(intersection)\n",
    "\n",
    "print()\n",
    "print('Union:')\n",
    "union = set(job_title_1).union(set(job_title_2))\n",
    "print(union)\n",
    "\n",
    "print()\n",
    "print('Similarity:', len(intersection) / len(union))\n",
    "print('Distance:', jaccard_distance(set(job_title_1), set(job_title_2)))"
   ]
  },
  {
   "cell_type": "code",
   "execution_count": 25,
   "metadata": {},
   "outputs": [
    {
     "name": "stdout",
     "output_type": "stream",
     "text": [
      "['Vice', 'President,', 'Sales']\n",
      "['Vice', 'President,', 'Customer', 'Relations']\n",
      "\n",
      "Intersection:\n",
      "{'Vice', 'President,'}\n",
      "\n",
      "Union:\n",
      "{'Customer', 'Relations', 'Sales', 'Vice', 'President,'}\n",
      "\n",
      "Similarity: 0.4\n",
      "Distance: 0.6\n"
     ]
    }
   ],
   "source": [
    "job_title_1 = 'Vice President, Sales'.split()\n",
    "job_title_2 = 'Vice President, Customer Relations'.split()\n",
    "\n",
    "print(job_title_1)\n",
    "print(job_title_2)\n",
    "\n",
    "print()\n",
    "print('Intersection:')\n",
    "intersection = set(job_title_1).intersection(set(job_title_2))\n",
    "print(intersection)\n",
    "\n",
    "print()\n",
    "print('Union:')\n",
    "union = set(job_title_1).union(set(job_title_2))\n",
    "print(union)\n",
    "\n",
    "print()\n",
    "print('Similarity:', len(intersection) / len(union))\n",
    "print('Distance:', jaccard_distance(set(job_title_1), set(job_title_2)))"
   ]
  },
  {
   "cell_type": "code",
   "execution_count": 26,
   "metadata": {},
   "outputs": [],
   "source": [
    "import os\n",
    "import csv\n",
    "\n",
    "# Point this to your 'Connections.csv' file.\n",
    "CSV_FILE = os.path.join('data', 'Connections.csv')\n",
    "\n",
    "csvReader = csv.DictReader(open(CSV_FILE, encoding='utf-8-sig'), delimiter=',', quotechar='\"')\n",
    "contacts = [row for row in csvReader]"
   ]
  },
  {
   "cell_type": "code",
   "execution_count": 27,
   "metadata": {},
   "outputs": [],
   "source": [
    "#contacts"
   ]
  },
  {
   "cell_type": "code",
   "execution_count": 28,
   "metadata": {},
   "outputs": [],
   "source": [
    "transforms = [\n",
    "    ('Sr.', 'Senior'),\n",
    "    ('Sr', 'Senior'),\n",
    "    ('Jr.', 'Junior'),\n",
    "    ('Jr', 'Junior'),\n",
    "    ('CEO', 'Chief Executive Officer'),\n",
    "    ('COO', 'Chief Operating Officer'),\n",
    "    ('CTO', 'Chief Technology Officer'),\n",
    "    ('CFO', 'Chief Finance Officer'),\n",
    "    ('VP', 'Vice President'),\n",
    "    ('Architekt', 'Architect'),\n",
    "    ('ARCHITECT', 'Architect'),\n",
    "    \n",
    "    ]\n",
    "\n",
    "separators = [' / ', ' and ', '|', ',' ,'&', '_ ', ' - ', ' I ', ' (UK/ARB- GR/TEE)', '/',  '(Pharma Process)', 'Project-',  ': ']\n",
    "\n",
    "# Normalize and/or replace known abbreviations\n",
    "# and build up a list of common titles.\n",
    "\n",
    "all_titles = []\n",
    "for i, _ in enumerate(contacts):\n",
    "    if contacts[i]['Position'] == '':\n",
    "        contacts[i]['Position'] = ['']\n",
    "        continue\n",
    "    titles = [contacts[i]['Position']]\n",
    "    for separator in separators:\n",
    "        for title in titles:\n",
    "            if separator in title:\n",
    "                titles.remove(title)\n",
    "                titles.extend([title.strip() for title in title.split(separator) if title.strip() != ''])\n",
    "    for transform in transforms:\n",
    "        titles = [title.replace(*transform) for title in titles]\n",
    "        titles = [title.strip() for title in titles]\n",
    "\n",
    "    contacts[i]['Position'] = titles\n",
    "    all_titles.extend(titles)"
   ]
  },
  {
   "cell_type": "code",
   "execution_count": 29,
   "metadata": {},
   "outputs": [],
   "source": [
    "#all_titles"
   ]
  },
  {
   "cell_type": "code",
   "execution_count": 30,
   "metadata": {},
   "outputs": [
    {
     "name": "stdout",
     "output_type": "stream",
     "text": [
      "  1 ['Senior Project Manager', 'Team Leader']\n",
      "  2 ['Lead Engineer']\n",
      "  3 ['']\n",
      "  4 ['Director Project Governance']\n",
      "  5 ['Keep in Touch via Social Platforms']\n",
      "  6 ['Specialist']\n",
      "  7 ['Project Engineer']\n",
      "  8 ['Architect']\n",
      "  9 ['Architect']\n",
      " 10 ['Lead REVIT P3D E3D PDMS SP3D PDS Truth seeker', 'Change Magician']\n",
      " 11 ['Graduate Area Manager']\n",
      " 12 ['Assistant Professor in Computational Design', 'Digital Fabrication']\n",
      " 13 ['Head of PM Department', 'Project Director']\n",
      " 14 ['Clean Utilities Senior Specialist', 'Team Leader']\n",
      " 15 ['Design Project Engineer']\n",
      " 16 ['Sales Director']\n",
      " 17 ['Account Manager']\n",
      " 18 ['Engineer Biotechnology']\n",
      " 19 ['Senior Project Engeneer']\n",
      " 20 ['Senior Engineer', 'Team Leader']\n",
      " 21 ['Project Engineer']\n",
      " 22 ['Project Assistant']\n",
      " 23 ['Junior Architect']\n",
      " 24 ['Security Engineer']\n",
      " 25 ['Portfolio Management', 'Consultant']\n",
      " 26 ['Construction Site Manager']\n",
      " 27 ['BIM Coordinator']\n",
      " 28 ['Project Engineer']\n",
      " 29 ['Qualification Engineer']\n",
      " 30 ['Laboratory Research Trainee']\n",
      " 31 ['Teamleiter GMP-Compliance']\n",
      " 32 ['Financial Administrator']\n",
      " 33 ['IT Supporter', 'Building Services']\n",
      " 34 ['Director']\n",
      " 35 ['Architect']\n",
      " 36 ['Visitor Experience Assistant']\n",
      " 37 ['Bauleiterin']\n",
      " 38 ['Career Guidance Counselor']\n",
      " 39 ['Project Engineer']\n",
      " 40 ['PHD Researcher']\n",
      " 41 ['Site Engineer']\n",
      " 42 ['Lead Engineer']\n",
      " 43 ['Affiliate']\n",
      " 44 ['Junior Architect']\n",
      " 45 ['Architect']\n",
      " 46 ['Architect']\n",
      " 47 ['Architect Engineer']\n",
      " 48 ['Academic Tutor']\n",
      " 49 ['Junior Architect']\n",
      " 50 ['']\n",
      " 51 ['Graphic Designer']\n",
      " 52 ['Managing Director']\n",
      " 53 ['Architect']\n",
      " 54 ['Chief Executive Officer']\n",
      " 55 ['Freelance Architect']\n",
      " 56 ['plateia fanarioton']\n",
      " 57 ['Architect']\n",
      " 58 ['Architect']\n",
      " 59 ['Intern Social Worker']\n",
      " 60 ['Architect']\n",
      " 61 ['']\n",
      " 62 ['Project Architect']\n",
      " 63 ['Geschäftsführer']\n",
      " 64 ['Credit Control']\n",
      " 65 ['Teaching Assistant']\n",
      " 66 ['Ingénieur Structure']\n",
      " 67 ['My showreel 2018']\n",
      " 68 ['Ψυχολόγος']\n",
      " 69 ['']\n",
      " 70 ['Designer']\n",
      " 71 [\"member of IM's Community of Practice\"]\n",
      " 72 ['Barista']\n",
      " 73 ['Architect']\n",
      " 74 ['Architect Engineer']\n",
      " 75 ['Sustainability Engineer']\n",
      " 76 ['Staff Accountant', 'MGA Controller']\n",
      " 77 ['Software Developer']\n",
      " 78 ['Facade Engineer']\n",
      " 79 ['Project Architect']\n",
      " 80 ['Architect', 'Urban Designer']\n",
      " 81 ['Senior Unity Developer']\n",
      " 82 ['Designer']\n",
      " 83 ['Architect']\n",
      " 84 ['']\n",
      " 85 ['Tutor']\n",
      " 86 ['Senior Architect', 'Robotic 3d printing specialist']\n",
      " 87 ['Head of IT']\n",
      " 88 ['Architect']\n",
      " 89 ['']\n",
      " 90 ['98th National Guard Higher Command', 'Corps Engineer Command', 'Assistant Architect Engineer']\n",
      " 91 ['Landscape Architect']\n",
      " 92 ['Senior Digital Product Manager', 'Website', 'E-commerce']\n",
      " 93 ['Intern']\n",
      " 94 ['Urban Designer']\n",
      " 95 ['Architect']\n",
      " 96 ['Director']\n",
      " 97 ['Design Professional']\n",
      " 98 ['Head of Digital Planning', 'Innovation']\n",
      " 99 ['Architect']\n",
      "100 ['Senior Researcher', 'Architect']\n",
      "101 ['Architectural Assistant', 'Internship']\n",
      "102 ['Private']\n",
      "103 ['Founder']\n",
      "104 ['Architect']\n",
      "105 ['Researcher']\n",
      "106 ['Architect']\n",
      "107 ['ResearchSpace', 'Project Manager']\n",
      "108 ['']\n",
      "109 ['Architect']\n",
      "110 ['Energy Specialist']\n",
      "111 ['PhD Researcher']\n",
      "112 ['Specialist for sustainable building design']\n",
      "113 ['']\n",
      "114 ['']\n",
      "115 ['Design Assistant']\n",
      "116 ['Architect Engineer']\n",
      "117 ['Architect', 'Revit specialist']\n",
      "118 ['Teaching Assistant']\n",
      "119 ['architect', 'urban planner']\n",
      "120 ['Architectural Design Associate']\n",
      "121 ['Junior Architect Store Design']\n",
      "122 ['Chef de clinique']\n",
      "123 ['Space Planning Specialist']\n",
      "124 ['Co-Founder']\n",
      "125 ['Junior Architect']\n",
      "126 ['Architectural Assistant Part II']\n",
      "127 ['Founder']\n",
      "128 ['Project Architect']\n",
      "129 ['Research Associate']\n",
      "130 ['Senior Environmental Specialist']\n",
      "131 ['Project Architect']\n",
      "132 ['Graduate Teaching Fellow']\n",
      "133 ['Principal Architect', 'Architectural Engineer']\n",
      "134 ['Guest Professor']\n",
      "135 ['Senior Architect']\n",
      "136 ['Architect']\n",
      "137 ['Senior Architect']\n",
      "138 ['Administrative Support']\n",
      "139 ['Architectural Designer']\n",
      "140 ['Founder', 'Owner', 'Architect Engineer', 'Designer', 'Computer Consultant', 'Computer Specialist']\n",
      "141 ['Architect', 'Product Designer']\n",
      "142 ['Associate Director']\n",
      "143 ['Architect']\n",
      "144 ['Sustainability Consultant']\n",
      "145 ['Research Fellow']\n",
      "146 ['Co-Founder']\n",
      "147 ['Architect']\n",
      "148 ['Co-Founder', 'Head of Product']\n",
      "149 ['Architect']\n",
      "150 ['Design Manager']\n",
      "151 ['Senior Consultant']\n",
      "152 ['']\n",
      "153 ['Architect']\n",
      "154 ['Consulting', 'Project Department Deputy Manager']\n",
      "155 ['Associate Professor']\n",
      "156 ['Parametric Applied Research Team']\n",
      "157 ['Infrastructure', 'Landscape Project Manager']\n",
      "158 ['Telecommunications']\n",
      "159 ['Assistant Professor']\n",
      "160 ['']\n",
      "161 ['Assistant Professor']\n",
      "162 ['']\n",
      "163 ['Founding Partner']\n",
      "164 ['']\n",
      "165 ['Adjunct Assistant Professor']\n",
      "166 ['Assistant Professor']\n",
      "167 ['Research Program Manager at TUC TIE Lab']\n",
      "168 ['Senior Architect']\n",
      "169 ['filmmaker', 'teacher', 'media educator']\n",
      "170 ['lecturer']\n"
     ]
    }
   ],
   "source": [
    "for i, c in enumerate(contacts):\n",
    "    text = '{0:3d} {1}'.format(i+1,c['Position'])    \n",
    "    print(text)"
   ]
  },
  {
   "cell_type": "code",
   "execution_count": null,
   "metadata": {},
   "outputs": [],
   "source": []
  },
  {
   "cell_type": "code",
   "execution_count": null,
   "metadata": {},
   "outputs": [],
   "source": []
  },
  {
   "cell_type": "code",
   "execution_count": null,
   "metadata": {},
   "outputs": [],
   "source": []
  }
 ],
 "metadata": {
  "kernelspec": {
   "display_name": "TensorFlow-GPU",
   "language": "python",
   "name": "tf-gpu"
  },
  "language_info": {
   "codemirror_mode": {
    "name": "ipython",
    "version": 3
   },
   "file_extension": ".py",
   "mimetype": "text/x-python",
   "name": "python",
   "nbconvert_exporter": "python",
   "pygments_lexer": "ipython3",
   "version": "3.6.6"
  }
 },
 "nbformat": 4,
 "nbformat_minor": 2
}
