{
 "cells": [
  {
   "cell_type": "markdown",
   "metadata": {},
   "source": [
    "## Instagram API Access"
   ]
  },
  {
   "cell_type": "code",
   "execution_count": 35,
   "metadata": {},
   "outputs": [
    {
     "name": "stdout",
     "output_type": "stream",
     "text": [
      "Click the following URL, which will taken you to the REDIRECT_URI you set in creating the APP.\n",
      "You may need to log into Instagram.\n",
      "\n",
      "https://api.instagram.com/oauth/authorize/?client_id=e06ea50d76524d9aa66e758b2e1b1a10&redirect_uri=http://anagno.com/&response_type=code&scope=public_content\n"
     ]
    }
   ],
   "source": [
    "CLIENT_ID = 'e06ea50d76524d9aa66e758b2e1b1a10'\n",
    "CLIENT_SECRET = 'f240ee2ed3d049058487f5eb83b69bea'\n",
    "\n",
    "REDIRECT_URI = 'http://anagno.com/'\n",
    "\n",
    "base_url = 'https://api.instagram.com/oauth/authorize/'\n",
    "\n",
    "url = '{0}?client_id={1}&redirect_uri={2}&response_type=code&scope=public_content'.format(base_url, CLIENT_ID, REDIRECT_URI)\n",
    "\n",
    "print('Click the following URL, which will taken you to the REDIRECT_URI you set in creating the APP.')\n",
    "print('You may need to log into Instagram.')\n",
    "print()\n",
    "print(url)"
   ]
  },
  {
   "cell_type": "code",
   "execution_count": 36,
   "metadata": {},
   "outputs": [],
   "source": [
    "import requests # pip install requests\n",
    "\n",
    "CODE = '78be864b693146ed89d35667128f9ae6'\n",
    "\n",
    "payload = dict(client_id=CLIENT_ID, \n",
    "               client_secret=CLIENT_SECRET,\n",
    "               grant_type='authorization_code',\n",
    "               redirect_uri=REDIRECT_URI,\n",
    "               code=CODE)\n",
    "\n",
    "response = requests.post(\n",
    "    'https://api.instagram.com/oauth/access_token',\n",
    "    data = payload)"
   ]
  },
  {
   "cell_type": "code",
   "execution_count": 37,
   "metadata": {},
   "outputs": [
    {
     "data": {
      "text/plain": [
       "{'access_token': '4622338623.e06ea50.10589b7343054d84ad99900b21f02e74',\n",
       " 'user': {'id': '4622338623',\n",
       "  'username': 'ge_anagno',\n",
       "  'profile_picture': 'https://scontent.cdninstagram.com/vp/8cfa48a75f91a4ab1bd0273d18fa5a85/5D143B84/t51.2885-19/s150x150/30079070_883696551817036_7308215161444106240_n.jpg?_nc_ht=scontent.cdninstagram.com',\n",
       "  'full_name': 'Georgios Anagnostopoulos',\n",
       "  'bio': '',\n",
       "  'website': '',\n",
       "  'is_business': False}}"
      ]
     },
     "execution_count": 37,
     "metadata": {},
     "output_type": "execute_result"
    }
   ],
   "source": [
    "response.json()"
   ]
  },
  {
   "cell_type": "code",
   "execution_count": 38,
   "metadata": {},
   "outputs": [
    {
     "data": {
      "text/plain": [
       "'4622338623.e06ea50.10589b7343054d84ad99900b21f02e74'"
      ]
     },
     "execution_count": 38,
     "metadata": {},
     "output_type": "execute_result"
    }
   ],
   "source": [
    "ACCESS_TOKEN = response.json()['access_token']\n",
    "ACCESS_TOKEN"
   ]
  },
  {
   "cell_type": "code",
   "execution_count": 43,
   "metadata": {},
   "outputs": [
    {
     "name": "stdout",
     "output_type": "stream",
     "text": [
      "{\"data\": {\"id\": \"4622338623\", \"username\": \"ge_anagno\", \"profile_picture\": \"https://scontent.cdninstagram.com/vp/8cfa48a75f91a4ab1bd0273d18fa5a85/5D143B84/t51.2885-19/s150x150/30079070_883696551817036_7308215161444106240_n.jpg?_nc_ht=scontent.cdninstagram.com\", \"full_name\": \"Georgios Anagnostopoulos\", \"bio\": \"This is not a drill\", \"website\": \"http://anagno.com/\", \"is_business\": false, \"counts\": {\"media\": 9, \"follows\": 80, \"followed_by\": 81}}, \"meta\": {\"code\": 200}}\n"
     ]
    }
   ],
   "source": [
    "response = requests.get('https://api.instagram.com/v1/users/self/?access_token='+ACCESS_TOKEN)\n",
    "\n",
    "print(response.text)"
   ]
  },
  {
   "cell_type": "markdown",
   "metadata": {},
   "source": [
    "## Retrieving your Feed"
   ]
  },
  {
   "cell_type": "code",
   "execution_count": 81,
   "metadata": {},
   "outputs": [],
   "source": [
    "from IPython.display import display, Image \n",
    "\n",
    "response = requests.get('https://api.instagram.com/v1/users/self/media/recent/?access_token='+ACCESS_TOKEN)\n",
    "recent_posts = response.json()\n",
    "\n",
    "def display_image_feed(feed, include_captions=True):\n",
    "    for post in feed['data']:\n",
    "        display(Image(url=post['images']['standard_resolution']['url']))\n",
    "        print(post['images']['standard_resolution']['url'])\n",
    "        if include_captions: print(post['caption']['text'])\n",
    "        print()"
   ]
  },
  {
   "cell_type": "code",
   "execution_count": 82,
   "metadata": {},
   "outputs": [
    {
     "data": {
      "text/html": [
       "<img src=\"https://scontent.cdninstagram.com/vp/dc052488c7d7890bdc134aa8b5f08aa8/5D17B3D1/t51.2885-15/sh0.08/e35/s640x640/50262152_2125692624188363_6673113234964835916_n.jpg?_nc_ht=scontent.cdninstagram.com\"/>"
      ],
      "text/plain": [
       "<IPython.core.display.Image object>"
      ]
     },
     "metadata": {},
     "output_type": "display_data"
    },
    {
     "name": "stdout",
     "output_type": "stream",
     "text": [
      "https://scontent.cdninstagram.com/vp/dc052488c7d7890bdc134aa8b5f08aa8/5D17B3D1/t51.2885-15/sh0.08/e35/s640x640/50262152_2125692624188363_6673113234964835916_n.jpg?_nc_ht=scontent.cdninstagram.com\n",
      "#Zillis\n",
      "\n"
     ]
    },
    {
     "data": {
      "text/html": [
       "<img src=\"https://scontent.cdninstagram.com/vp/4283011421ed9804dcf61527231caf8b/5D08229D/t51.2885-15/sh0.08/e35/s640x640/46853263_956139434582818_9050359290620097074_n.jpg?_nc_ht=scontent.cdninstagram.com\"/>"
      ],
      "text/plain": [
       "<IPython.core.display.Image object>"
      ]
     },
     "metadata": {},
     "output_type": "display_data"
    },
    {
     "name": "stdout",
     "output_type": "stream",
     "text": [
      "https://scontent.cdninstagram.com/vp/4283011421ed9804dcf61527231caf8b/5D08229D/t51.2885-15/sh0.08/e35/s640x640/46853263_956139434582818_9050359290620097074_n.jpg?_nc_ht=scontent.cdninstagram.com\n",
      "#cosmos #curiosities\n",
      "\n"
     ]
    },
    {
     "data": {
      "text/html": [
       "<img src=\"https://scontent.cdninstagram.com/vp/f41c9d36c2f874e045389c24e11c714e/5D06F46A/t51.2885-15/sh0.08/e35/s640x640/46551455_224129575129821_11025701569261811_n.jpg?_nc_ht=scontent.cdninstagram.com\"/>"
      ],
      "text/plain": [
       "<IPython.core.display.Image object>"
      ]
     },
     "metadata": {},
     "output_type": "display_data"
    },
    {
     "name": "stdout",
     "output_type": "stream",
     "text": [
      "https://scontent.cdninstagram.com/vp/f41c9d36c2f874e045389c24e11c714e/5D06F46A/t51.2885-15/sh0.08/e35/s640x640/46551455_224129575129821_11025701569261811_n.jpg?_nc_ht=scontent.cdninstagram.com\n",
      "Caption\n",
      "\n"
     ]
    },
    {
     "data": {
      "text/html": [
       "<img src=\"https://scontent.cdninstagram.com/vp/7d43dfa5f541bbe1573824c5f3c93feb/5D22BC15/t51.2885-15/sh0.08/e35/s640x640/37596682_2087494048182917_7116015344883335168_n.jpg?_nc_ht=scontent.cdninstagram.com\"/>"
      ],
      "text/plain": [
       "<IPython.core.display.Image object>"
      ]
     },
     "metadata": {},
     "output_type": "display_data"
    },
    {
     "name": "stdout",
     "output_type": "stream",
     "text": [
      "https://scontent.cdninstagram.com/vp/7d43dfa5f541bbe1573824c5f3c93feb/5D22BC15/t51.2885-15/sh0.08/e35/s640x640/37596682_2087494048182917_7116015344883335168_n.jpg?_nc_ht=scontent.cdninstagram.com\n",
      "Mirjam im Beyeler\n",
      "\n"
     ]
    },
    {
     "data": {
      "text/html": [
       "<img src=\"https://scontent.cdninstagram.com/vp/ae8648381bf26593378b517c6f0be516/5D0EB9B1/t51.2885-15/sh0.08/e35/s640x640/37186884_2179297979024006_6534256990938464256_n.jpg?_nc_ht=scontent.cdninstagram.com\"/>"
      ],
      "text/plain": [
       "<IPython.core.display.Image object>"
      ]
     },
     "metadata": {},
     "output_type": "display_data"
    },
    {
     "name": "stdout",
     "output_type": "stream",
     "text": [
      "https://scontent.cdninstagram.com/vp/ae8648381bf26593378b517c6f0be516/5D0EB9B1/t51.2885-15/sh0.08/e35/s640x640/37186884_2179297979024006_6534256990938464256_n.jpg?_nc_ht=scontent.cdninstagram.com\n",
      "#simplonpass\n",
      "\n"
     ]
    },
    {
     "data": {
      "text/html": [
       "<img src=\"https://scontent.cdninstagram.com/vp/4846147f8e6112a6f665735a27d28c44/5D09FF16/t51.2885-15/sh0.08/e35/p640x640/26407897_177430346360101_5119776217137938432_n.jpg?_nc_ht=scontent.cdninstagram.com\"/>"
      ],
      "text/plain": [
       "<IPython.core.display.Image object>"
      ]
     },
     "metadata": {},
     "output_type": "display_data"
    },
    {
     "name": "stdout",
     "output_type": "stream",
     "text": [
      "https://scontent.cdninstagram.com/vp/4846147f8e6112a6f665735a27d28c44/5D09FF16/t51.2885-15/sh0.08/e35/p640x640/26407897_177430346360101_5119776217137938432_n.jpg?_nc_ht=scontent.cdninstagram.com\n",
      "#saturdaynight #fever🕺\n",
      "\n"
     ]
    },
    {
     "data": {
      "text/html": [
       "<img src=\"https://scontent.cdninstagram.com/vp/54ab386639f5d9605f2626f92130536a/5D12B188/t51.2885-15/sh0.08/e35/s640x640/23279290_146390135985274_4653204977651548160_n.jpg?_nc_ht=scontent.cdninstagram.com\"/>"
      ],
      "text/plain": [
       "<IPython.core.display.Image object>"
      ]
     },
     "metadata": {},
     "output_type": "display_data"
    },
    {
     "name": "stdout",
     "output_type": "stream",
     "text": [
      "https://scontent.cdninstagram.com/vp/54ab386639f5d9605f2626f92130536a/5D12B188/t51.2885-15/sh0.08/e35/s640x640/23279290_146390135985274_4653204977651548160_n.jpg?_nc_ht=scontent.cdninstagram.com\n",
      "#ballroom #birdseye\n",
      "\n"
     ]
    },
    {
     "data": {
      "text/html": [
       "<img src=\"https://scontent.cdninstagram.com/vp/992e4dfef9ed3782a4acdad2caf5e102/5D1EB93D/t51.2885-15/sh0.08/e35/s640x640/18443457_1890074447924967_6864422500055384064_n.jpg?_nc_ht=scontent.cdninstagram.com\"/>"
      ],
      "text/plain": [
       "<IPython.core.display.Image object>"
      ]
     },
     "metadata": {},
     "output_type": "display_data"
    },
    {
     "name": "stdout",
     "output_type": "stream",
     "text": [
      "https://scontent.cdninstagram.com/vp/992e4dfef9ed3782a4acdad2caf5e102/5D1EB93D/t51.2885-15/sh0.08/e35/s640x640/18443457_1890074447924967_6864422500055384064_n.jpg?_nc_ht=scontent.cdninstagram.com\n",
      "#baustelle #zink #mehrzweckhalle\n",
      "\n"
     ]
    },
    {
     "data": {
      "text/html": [
       "<img src=\"https://scontent.cdninstagram.com/vp/fb30a29e3de35e407c43fa399c042542/5D1678B0/t51.2885-15/sh0.08/e35/p640x640/18299333_318759418541409_7179494012330442752_n.jpg?_nc_ht=scontent.cdninstagram.com\"/>"
      ],
      "text/plain": [
       "<IPython.core.display.Image object>"
      ]
     },
     "metadata": {},
     "output_type": "display_data"
    },
    {
     "name": "stdout",
     "output_type": "stream",
     "text": [
      "https://scontent.cdninstagram.com/vp/fb30a29e3de35e407c43fa399c042542/5D1678B0/t51.2885-15/sh0.08/e35/p640x640/18299333_318759418541409_7179494012330442752_n.jpg?_nc_ht=scontent.cdninstagram.com\n",
      "#parametric\n",
      "\n"
     ]
    }
   ],
   "source": [
    "display_image_feed(recent_posts, include_captions=True)"
   ]
  },
  {
   "cell_type": "markdown",
   "metadata": {},
   "source": [
    "## Anatomy of an Instagram Post"
   ]
  },
  {
   "cell_type": "code",
   "execution_count": 89,
   "metadata": {},
   "outputs": [],
   "source": [
    "import json\n",
    "\n",
    "response = requests.get('https://api.instagram.com/v1/users/self/media/recent/?access_token='+ACCESS_TOKEN)\n",
    "recent_posts = response.json()\n",
    "\n",
    "#print(json.dumps(recent_posts, indent=1))"
   ]
  },
  {
   "cell_type": "code",
   "execution_count": 90,
   "metadata": {},
   "outputs": [
    {
     "name": "stdout",
     "output_type": "stream",
     "text": [
      "dict_keys(['pagination', 'data', 'meta'])\n"
     ]
    }
   ],
   "source": [
    "print(recent_posts.keys())"
   ]
  },
  {
   "cell_type": "code",
   "execution_count": 91,
   "metadata": {},
   "outputs": [
    {
     "name": "stdout",
     "output_type": "stream",
     "text": [
      "{}\n",
      "{'code': 200}\n"
     ]
    }
   ],
   "source": [
    "print(recent_posts['pagination'])\n",
    "print(recent_posts['meta'])"
   ]
  },
  {
   "cell_type": "code",
   "execution_count": 92,
   "metadata": {},
   "outputs": [],
   "source": [
    "#print(json.dumps(recent_posts['data'], indent=1))"
   ]
  },
  {
   "cell_type": "code",
   "execution_count": 93,
   "metadata": {},
   "outputs": [
    {
     "name": "stdout",
     "output_type": "stream",
     "text": [
      "{\n",
      " \"id\": \"1973192693577619527_4622338623\",\n",
      " \"user\": {\n",
      "  \"id\": \"4622338623\",\n",
      "  \"full_name\": \"Georgios Anagnostopoulos\",\n",
      "  \"profile_picture\": \"https://scontent.cdninstagram.com/vp/8cfa48a75f91a4ab1bd0273d18fa5a85/5D143B84/t51.2885-19/s150x150/30079070_883696551817036_7308215161444106240_n.jpg?_nc_ht=scontent.cdninstagram.com\",\n",
      "  \"username\": \"ge_anagno\"\n",
      " },\n",
      " \"images\": {\n",
      "  \"thumbnail\": {\n",
      "   \"width\": 150,\n",
      "   \"height\": 150,\n",
      "   \"url\": \"https://scontent.cdninstagram.com/vp/9bba0aaf4d7ff288f82a8d3f3683e701/5D23C454/t51.2885-15/e35/s150x150/50262152_2125692624188363_6673113234964835916_n.jpg?_nc_ht=scontent.cdninstagram.com\"\n",
      "  },\n",
      "  \"low_resolution\": {\n",
      "   \"width\": 320,\n",
      "   \"height\": 320,\n",
      "   \"url\": \"https://scontent.cdninstagram.com/vp/a8165e7b3acf89707f9263ad020375af/5D27CA2C/t51.2885-15/e35/s320x320/50262152_2125692624188363_6673113234964835916_n.jpg?_nc_ht=scontent.cdninstagram.com\"\n",
      "  },\n",
      "  \"standard_resolution\": {\n",
      "   \"width\": 640,\n",
      "   \"height\": 640,\n",
      "   \"url\": \"https://scontent.cdninstagram.com/vp/dc052488c7d7890bdc134aa8b5f08aa8/5D17B3D1/t51.2885-15/sh0.08/e35/s640x640/50262152_2125692624188363_6673113234964835916_n.jpg?_nc_ht=scontent.cdninstagram.com\"\n",
      "  }\n",
      " },\n",
      " \"created_time\": \"1549442920\",\n",
      " \"caption\": {\n",
      "  \"id\": \"17874982720318197\",\n",
      "  \"text\": \"#Zillis\",\n",
      "  \"created_time\": \"1549442920\",\n",
      "  \"from\": {\n",
      "   \"id\": \"4622338623\",\n",
      "   \"full_name\": \"Georgios Anagnostopoulos\",\n",
      "   \"profile_picture\": \"https://scontent.cdninstagram.com/vp/8cfa48a75f91a4ab1bd0273d18fa5a85/5D143B84/t51.2885-19/s150x150/30079070_883696551817036_7308215161444106240_n.jpg?_nc_ht=scontent.cdninstagram.com\",\n",
      "   \"username\": \"ge_anagno\"\n",
      "  }\n",
      " },\n",
      " \"user_has_liked\": false,\n",
      " \"likes\": {\n",
      "  \"count\": 11\n",
      " },\n",
      " \"tags\": [\n",
      "  \"zillis\"\n",
      " ],\n",
      " \"filter\": \"Lo-fi\",\n",
      " \"comments\": {\n",
      "  \"count\": 0\n",
      " },\n",
      " \"type\": \"image\",\n",
      " \"link\": \"https://www.instagram.com/p/BtiMEzmFxhHZQJxdLzoRXwWlR9197Nt97S_FHg0/\",\n",
      " \"location\": {\n",
      "  \"latitude\": 46.75,\n",
      "  \"longitude\": 9.5,\n",
      "  \"name\": \"Graub\\u00fcnden\",\n",
      "  \"id\": 728831180\n",
      " },\n",
      " \"attribution\": null,\n",
      " \"users_in_photo\": []\n",
      "}\n"
     ]
    }
   ],
   "source": [
    "print(json.dumps(recent_posts['data'][0], indent=1))"
   ]
  },
  {
   "cell_type": "code",
   "execution_count": null,
   "metadata": {},
   "outputs": [],
   "source": []
  }
 ],
 "metadata": {
  "kernelspec": {
   "display_name": "TensorFlow-GPU",
   "language": "python",
   "name": "tf-gpu"
  },
  "language_info": {
   "codemirror_mode": {
    "name": "ipython",
    "version": 3
   },
   "file_extension": ".py",
   "mimetype": "text/x-python",
   "name": "python",
   "nbconvert_exporter": "python",
   "pygments_lexer": "ipython3",
   "version": "3.6.6"
  }
 },
 "nbformat": 4,
 "nbformat_minor": 2
}
