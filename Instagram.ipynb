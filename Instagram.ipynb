{
 "cells": [
  {
   "cell_type": "markdown",
   "metadata": {},
   "source": [
    "## Instagram API Access"
   ]
  },
  {
   "cell_type": "code",
   "execution_count": 35,
   "metadata": {},
   "outputs": [
    {
     "name": "stdout",
     "output_type": "stream",
     "text": [
      "Click the following URL, which will taken you to the REDIRECT_URI you set in creating the APP.\n",
      "You may need to log into Instagram.\n",
      "\n",
      "https://api.instagram.com/oauth/authorize/?client_id=e06ea50d76524d9aa66e758b2e1b1a10&redirect_uri=http://anagno.com/&response_type=code&scope=public_content\n"
     ]
    }
   ],
   "source": [
    "CLIENT_ID = 'e06ea50d76524d9aa66e758b2e1b1a10'\n",
    "CLIENT_SECRET = 'f240ee2ed3d049058487f5eb83b69bea'\n",
    "\n",
    "REDIRECT_URI = 'http://anagno.com/'\n",
    "\n",
    "base_url = 'https://api.instagram.com/oauth/authorize/'\n",
    "\n",
    "url = '{0}?client_id={1}&redirect_uri={2}&response_type=code&scope=public_content'.format(base_url, CLIENT_ID, REDIRECT_URI)\n",
    "\n",
    "print('Click the following URL, which will taken you to the REDIRECT_URI you set in creating the APP.')\n",
    "print('You may need to log into Instagram.')\n",
    "print()\n",
    "print(url)"
   ]
  },
  {
   "cell_type": "code",
   "execution_count": 36,
   "metadata": {},
   "outputs": [],
   "source": [
    "import requests # pip install requests\n",
    "\n",
    "CODE = '78be864b693146ed89d35667128f9ae6'\n",
    "\n",
    "payload = dict(client_id=CLIENT_ID, \n",
    "               client_secret=CLIENT_SECRET,\n",
    "               grant_type='authorization_code',\n",
    "               redirect_uri=REDIRECT_URI,\n",
    "               code=CODE)\n",
    "\n",
    "response = requests.post(\n",
    "    'https://api.instagram.com/oauth/access_token',\n",
    "    data = payload)"
   ]
  },
  {
   "cell_type": "code",
   "execution_count": 37,
   "metadata": {},
   "outputs": [
    {
     "data": {
      "text/plain": [
       "{'access_token': '4622338623.e06ea50.10589b7343054d84ad99900b21f02e74',\n",
       " 'user': {'id': '4622338623',\n",
       "  'username': 'ge_anagno',\n",
       "  'profile_picture': 'https://scontent.cdninstagram.com/vp/8cfa48a75f91a4ab1bd0273d18fa5a85/5D143B84/t51.2885-19/s150x150/30079070_883696551817036_7308215161444106240_n.jpg?_nc_ht=scontent.cdninstagram.com',\n",
       "  'full_name': 'Georgios Anagnostopoulos',\n",
       "  'bio': '',\n",
       "  'website': '',\n",
       "  'is_business': False}}"
      ]
     },
     "execution_count": 37,
     "metadata": {},
     "output_type": "execute_result"
    }
   ],
   "source": [
    "response.json()"
   ]
  },
  {
   "cell_type": "code",
   "execution_count": 38,
   "metadata": {},
   "outputs": [
    {
     "data": {
      "text/plain": [
       "'4622338623.e06ea50.10589b7343054d84ad99900b21f02e74'"
      ]
     },
     "execution_count": 38,
     "metadata": {},
     "output_type": "execute_result"
    }
   ],
   "source": [
    "ACCESS_TOKEN = response.json()['access_token']\n",
    "ACCESS_TOKEN"
   ]
  },
  {
   "cell_type": "code",
   "execution_count": 43,
   "metadata": {},
   "outputs": [
    {
     "name": "stdout",
     "output_type": "stream",
     "text": [
      "{\"data\": {\"id\": \"4622338623\", \"username\": \"ge_anagno\", \"profile_picture\": \"https://scontent.cdninstagram.com/vp/8cfa48a75f91a4ab1bd0273d18fa5a85/5D143B84/t51.2885-19/s150x150/30079070_883696551817036_7308215161444106240_n.jpg?_nc_ht=scontent.cdninstagram.com\", \"full_name\": \"Georgios Anagnostopoulos\", \"bio\": \"This is not a drill\", \"website\": \"http://anagno.com/\", \"is_business\": false, \"counts\": {\"media\": 9, \"follows\": 80, \"followed_by\": 81}}, \"meta\": {\"code\": 200}}\n"
     ]
    }
   ],
   "source": [
    "response = requests.get('https://api.instagram.com/v1/users/self/?access_token='+ACCESS_TOKEN)\n",
    "\n",
    "print(response.text)"
   ]
  },
  {
   "cell_type": "markdown",
   "metadata": {},
   "source": [
    "## Retrieving your Feed"
   ]
  },
  {
   "cell_type": "code",
   "execution_count": 68,
   "metadata": {},
   "outputs": [],
   "source": [
    "from IPython.display import display, Image \n",
    "\n",
    "response = requests.get('https://api.instagram.com/v1/users/self/media/recent/?access_token='+ACCESS_TOKEN)\n",
    "recent_posts = response.json()\n",
    "\n",
    "def display_image_feed(feed, include_captions=True):\n",
    "    for post in feed['data']:\n",
    "        display(Image(url=post['images']['standard_resolution']['url']))\n",
    "        print(post['images']['standard_resolution']['url'])\n",
    "        if include_captions: print(post['caption']['text'])\n",
    "        print()"
   ]
  },
  {
   "cell_type": "code",
   "execution_count": 71,
   "metadata": {},
   "outputs": [
    {
     "data": {
      "text/plain": [
       "[{'id': '1973192693577619527_4622338623',\n",
       "  'user': {'id': '4622338623',\n",
       "   'full_name': 'Georgios Anagnostopoulos',\n",
       "   'profile_picture': 'https://scontent.cdninstagram.com/vp/8cfa48a75f91a4ab1bd0273d18fa5a85/5D143B84/t51.2885-19/s150x150/30079070_883696551817036_7308215161444106240_n.jpg?_nc_ht=scontent.cdninstagram.com',\n",
       "   'username': 'ge_anagno'},\n",
       "  'images': {'thumbnail': {'width': 150,\n",
       "    'height': 150,\n",
       "    'url': 'https://scontent.cdninstagram.com/vp/9bba0aaf4d7ff288f82a8d3f3683e701/5D23C454/t51.2885-15/e35/s150x150/50262152_2125692624188363_6673113234964835916_n.jpg?_nc_ht=scontent.cdninstagram.com'},\n",
       "   'low_resolution': {'width': 320,\n",
       "    'height': 320,\n",
       "    'url': 'https://scontent.cdninstagram.com/vp/a8165e7b3acf89707f9263ad020375af/5D27CA2C/t51.2885-15/e35/s320x320/50262152_2125692624188363_6673113234964835916_n.jpg?_nc_ht=scontent.cdninstagram.com'},\n",
       "   'standard_resolution': {'width': 640,\n",
       "    'height': 640,\n",
       "    'url': 'https://scontent.cdninstagram.com/vp/dc052488c7d7890bdc134aa8b5f08aa8/5D17B3D1/t51.2885-15/sh0.08/e35/s640x640/50262152_2125692624188363_6673113234964835916_n.jpg?_nc_ht=scontent.cdninstagram.com'}},\n",
       "  'created_time': '1549442920',\n",
       "  'caption': {'id': '17874982720318197',\n",
       "   'text': '#Zillis',\n",
       "   'created_time': '1549442920',\n",
       "   'from': {'id': '4622338623',\n",
       "    'full_name': 'Georgios Anagnostopoulos',\n",
       "    'profile_picture': 'https://scontent.cdninstagram.com/vp/8cfa48a75f91a4ab1bd0273d18fa5a85/5D143B84/t51.2885-19/s150x150/30079070_883696551817036_7308215161444106240_n.jpg?_nc_ht=scontent.cdninstagram.com',\n",
       "    'username': 'ge_anagno'}},\n",
       "  'user_has_liked': False,\n",
       "  'likes': {'count': 11},\n",
       "  'tags': ['zillis'],\n",
       "  'filter': 'Lo-fi',\n",
       "  'comments': {'count': 0},\n",
       "  'type': 'image',\n",
       "  'link': 'https://www.instagram.com/p/BtiMEzmFxhHZQJxdLzoRXwWlR9197Nt97S_FHg0/',\n",
       "  'location': {'latitude': 46.75,\n",
       "   'longitude': 9.5,\n",
       "   'name': 'Graubünden',\n",
       "   'id': 728831180},\n",
       "  'attribution': None,\n",
       "  'users_in_photo': []},\n",
       " {'id': '1937166397470963958_4622338623',\n",
       "  'user': {'id': '4622338623',\n",
       "   'full_name': 'Georgios Anagnostopoulos',\n",
       "   'profile_picture': 'https://scontent.cdninstagram.com/vp/8cfa48a75f91a4ab1bd0273d18fa5a85/5D143B84/t51.2885-19/s150x150/30079070_883696551817036_7308215161444106240_n.jpg?_nc_ht=scontent.cdninstagram.com',\n",
       "   'username': 'ge_anagno'},\n",
       "  'images': {'thumbnail': {'width': 150,\n",
       "    'height': 150,\n",
       "    'url': 'https://scontent.cdninstagram.com/vp/16fde803042f150b8e3d6f2cf97c310e/5D0C123A/t51.2885-15/e35/s150x150/46853263_956139434582818_9050359290620097074_n.jpg?_nc_ht=scontent.cdninstagram.com'},\n",
       "   'low_resolution': {'width': 320,\n",
       "    'height': 320,\n",
       "    'url': 'https://scontent.cdninstagram.com/vp/a2762701baba2bde8964f1d685becbdc/5D0BB8CA/t51.2885-15/e35/s320x320/46853263_956139434582818_9050359290620097074_n.jpg?_nc_ht=scontent.cdninstagram.com'},\n",
       "   'standard_resolution': {'width': 640,\n",
       "    'height': 640,\n",
       "    'url': 'https://scontent.cdninstagram.com/vp/4283011421ed9804dcf61527231caf8b/5D08229D/t51.2885-15/sh0.08/e35/s640x640/46853263_956139434582818_9050359290620097074_n.jpg?_nc_ht=scontent.cdninstagram.com'}},\n",
       "  'created_time': '1545148251',\n",
       "  'caption': {'id': '18006976312068711',\n",
       "   'text': '#cosmos #curiosities',\n",
       "   'created_time': '1545148251',\n",
       "   'from': {'id': '4622338623',\n",
       "    'full_name': 'Georgios Anagnostopoulos',\n",
       "    'profile_picture': 'https://scontent.cdninstagram.com/vp/8cfa48a75f91a4ab1bd0273d18fa5a85/5D143B84/t51.2885-19/s150x150/30079070_883696551817036_7308215161444106240_n.jpg?_nc_ht=scontent.cdninstagram.com',\n",
       "    'username': 'ge_anagno'}},\n",
       "  'user_has_liked': False,\n",
       "  'likes': {'count': 10},\n",
       "  'tags': ['cosmos', 'curiosities'],\n",
       "  'filter': 'Lo-fi',\n",
       "  'comments': {'count': 0},\n",
       "  'type': 'image',\n",
       "  'link': 'https://www.instagram.com/p/BriMpMwFHj2W_6wQd-sIcXGPau_sb8uDmRhSbs0/',\n",
       "  'location': None,\n",
       "  'attribution': None,\n",
       "  'users_in_photo': []},\n",
       " {'id': '1925749986903213376_4622338623',\n",
       "  'user': {'id': '4622338623',\n",
       "   'full_name': 'Georgios Anagnostopoulos',\n",
       "   'profile_picture': 'https://scontent.cdninstagram.com/vp/8cfa48a75f91a4ab1bd0273d18fa5a85/5D143B84/t51.2885-19/s150x150/30079070_883696551817036_7308215161444106240_n.jpg?_nc_ht=scontent.cdninstagram.com',\n",
       "   'username': 'ge_anagno'},\n",
       "  'images': {'thumbnail': {'width': 150,\n",
       "    'height': 150,\n",
       "    'url': 'https://scontent.cdninstagram.com/vp/33a52fbcb58bfa82d6b81bfd704290cd/5D162A21/t51.2885-15/e35/s150x150/46551455_224129575129821_11025701569261811_n.jpg?_nc_ht=scontent.cdninstagram.com'},\n",
       "   'low_resolution': {'width': 320,\n",
       "    'height': 320,\n",
       "    'url': 'https://scontent.cdninstagram.com/vp/29b3936773d65eec2d44921bee9c3980/5D0444DF/t51.2885-15/e35/s320x320/46551455_224129575129821_11025701569261811_n.jpg?_nc_ht=scontent.cdninstagram.com'},\n",
       "   'standard_resolution': {'width': 640,\n",
       "    'height': 640,\n",
       "    'url': 'https://scontent.cdninstagram.com/vp/f41c9d36c2f874e045389c24e11c714e/5D06F46A/t51.2885-15/sh0.08/e35/s640x640/46551455_224129575129821_11025701569261811_n.jpg?_nc_ht=scontent.cdninstagram.com'}},\n",
       "  'created_time': '1543787309',\n",
       "  'caption': {'id': '17979403057214898',\n",
       "   'text': 'Caption',\n",
       "   'created_time': '1543787309',\n",
       "   'from': {'id': '4622338623',\n",
       "    'full_name': 'Georgios Anagnostopoulos',\n",
       "    'profile_picture': 'https://scontent.cdninstagram.com/vp/8cfa48a75f91a4ab1bd0273d18fa5a85/5D143B84/t51.2885-19/s150x150/30079070_883696551817036_7308215161444106240_n.jpg?_nc_ht=scontent.cdninstagram.com',\n",
       "    'username': 'ge_anagno'}},\n",
       "  'user_has_liked': False,\n",
       "  'likes': {'count': 20},\n",
       "  'tags': [],\n",
       "  'filter': 'Lark',\n",
       "  'comments': {'count': 1},\n",
       "  'type': 'image',\n",
       "  'link': 'https://www.instagram.com/p/Bq5o2j3lEVAWk4JWjGMK_-fFF1GKolMob5yuW80/',\n",
       "  'location': {'latitude': 48.8567,\n",
       "   'longitude': 2.3508,\n",
       "   'name': 'Paris, France',\n",
       "   'id': 6889842},\n",
       "  'attribution': None,\n",
       "  'users_in_photo': [{'user': {'username': 'jorgos_papoulias'},\n",
       "    'position': {'x': 0.328125, 'y': 0.3984375}},\n",
       "   {'user': {'username': 'theo.pou'},\n",
       "    'position': {'x': 0.0828125, 'y': 0.265625}}]},\n",
       " {'id': '1833646261922087277_4622338623',\n",
       "  'user': {'id': '4622338623',\n",
       "   'full_name': 'Georgios Anagnostopoulos',\n",
       "   'profile_picture': 'https://scontent.cdninstagram.com/vp/8cfa48a75f91a4ab1bd0273d18fa5a85/5D143B84/t51.2885-19/s150x150/30079070_883696551817036_7308215161444106240_n.jpg?_nc_ht=scontent.cdninstagram.com',\n",
       "   'username': 'ge_anagno'},\n",
       "  'images': {'thumbnail': {'width': 150,\n",
       "    'height': 150,\n",
       "    'url': 'https://scontent.cdninstagram.com/vp/9d8f9d055fc1a77912303d73b1cdae71/5D20B67A/t51.2885-15/e35/c135.0.810.810a/s150x150/37596682_2087494048182917_7116015344883335168_n.jpg?_nc_ht=scontent.cdninstagram.com'},\n",
       "   'low_resolution': {'width': 320,\n",
       "    'height': 240,\n",
       "    'url': 'https://scontent.cdninstagram.com/vp/6804790fd735f0a3bf3c6a051cf8fa17/5D0B0EE8/t51.2885-15/e35/s320x320/37596682_2087494048182917_7116015344883335168_n.jpg?_nc_ht=scontent.cdninstagram.com'},\n",
       "   'standard_resolution': {'width': 640,\n",
       "    'height': 480,\n",
       "    'url': 'https://scontent.cdninstagram.com/vp/7d43dfa5f541bbe1573824c5f3c93feb/5D22BC15/t51.2885-15/sh0.08/e35/s640x640/37596682_2087494048182917_7116015344883335168_n.jpg?_nc_ht=scontent.cdninstagram.com'}},\n",
       "  'created_time': '1532807689',\n",
       "  'caption': {'id': '17963867182002135',\n",
       "   'text': 'Mirjam im Beyeler',\n",
       "   'created_time': '1532807689',\n",
       "   'from': {'id': '4622338623',\n",
       "    'full_name': 'Georgios Anagnostopoulos',\n",
       "    'profile_picture': 'https://scontent.cdninstagram.com/vp/8cfa48a75f91a4ab1bd0273d18fa5a85/5D143B84/t51.2885-19/s150x150/30079070_883696551817036_7308215161444106240_n.jpg?_nc_ht=scontent.cdninstagram.com',\n",
       "    'username': 'ge_anagno'}},\n",
       "  'user_has_liked': False,\n",
       "  'likes': {'count': 16},\n",
       "  'tags': [],\n",
       "  'filter': 'Clarendon',\n",
       "  'comments': {'count': 0},\n",
       "  'type': 'image',\n",
       "  'link': 'https://www.instagram.com/p/Blya49llsFty9Fp8PM8oCCaToJwtKm_ZIv4npE0/',\n",
       "  'location': {'latitude': 47.58734385167,\n",
       "   'longitude': 7.6507440226518,\n",
       "   'name': 'Fondation Beyeler',\n",
       "   'id': 302814},\n",
       "  'attribution': None,\n",
       "  'users_in_photo': [{'user': {'username': 'mirjam_petri'},\n",
       "    'position': {'x': 0.5859375, 'y': 0.4479166667}}]},\n",
       " {'id': '1824880079823729166_4622338623',\n",
       "  'user': {'id': '4622338623',\n",
       "   'full_name': 'Georgios Anagnostopoulos',\n",
       "   'profile_picture': 'https://scontent.cdninstagram.com/vp/8cfa48a75f91a4ab1bd0273d18fa5a85/5D143B84/t51.2885-19/s150x150/30079070_883696551817036_7308215161444106240_n.jpg?_nc_ht=scontent.cdninstagram.com',\n",
       "   'username': 'ge_anagno'},\n",
       "  'images': {'thumbnail': {'width': 150,\n",
       "    'height': 150,\n",
       "    'url': 'https://scontent.cdninstagram.com/vp/a40c689c5b9dfd962a2aca73842d4f63/5D0EFB08/t51.2885-15/e35/c135.0.810.810/s150x150/37186884_2179297979024006_6534256990938464256_n.jpg?_nc_ht=scontent.cdninstagram.com'},\n",
       "   'low_resolution': {'width': 320,\n",
       "    'height': 240,\n",
       "    'url': 'https://scontent.cdninstagram.com/vp/09f0f6b40a69855121dbb2c41ae5f748/5D07444C/t51.2885-15/e35/s320x320/37186884_2179297979024006_6534256990938464256_n.jpg?_nc_ht=scontent.cdninstagram.com'},\n",
       "   'standard_resolution': {'width': 640,\n",
       "    'height': 480,\n",
       "    'url': 'https://scontent.cdninstagram.com/vp/ae8648381bf26593378b517c6f0be516/5D0EB9B1/t51.2885-15/sh0.08/e35/s640x640/37186884_2179297979024006_6534256990938464256_n.jpg?_nc_ht=scontent.cdninstagram.com'}},\n",
       "  'created_time': '1531762679',\n",
       "  'caption': {'id': '17952099184255206',\n",
       "   'text': '#simplonpass',\n",
       "   'created_time': '1531762679',\n",
       "   'from': {'id': '4622338623',\n",
       "    'full_name': 'Georgios Anagnostopoulos',\n",
       "    'profile_picture': 'https://scontent.cdninstagram.com/vp/8cfa48a75f91a4ab1bd0273d18fa5a85/5D143B84/t51.2885-19/s150x150/30079070_883696551817036_7308215161444106240_n.jpg?_nc_ht=scontent.cdninstagram.com',\n",
       "    'username': 'ge_anagno'}},\n",
       "  'user_has_liked': False,\n",
       "  'likes': {'count': 21},\n",
       "  'tags': ['simplonpass'],\n",
       "  'filter': 'Sierra',\n",
       "  'comments': {'count': 0},\n",
       "  'type': 'image',\n",
       "  'link': 'https://www.instagram.com/p/BlTRsOTlHIOwq3WfjvO-T81gWWwAAqL76rq-fo0/',\n",
       "  'location': {'latitude': 46.2,\n",
       "   'longitude': 8.05,\n",
       "   'name': 'Simplon',\n",
       "   'id': 602160509},\n",
       "  'attribution': None,\n",
       "  'users_in_photo': []},\n",
       " {'id': '1691738844883782958_4622338623',\n",
       "  'user': {'id': '4622338623',\n",
       "   'full_name': 'Georgios Anagnostopoulos',\n",
       "   'profile_picture': 'https://scontent.cdninstagram.com/vp/8cfa48a75f91a4ab1bd0273d18fa5a85/5D143B84/t51.2885-19/s150x150/30079070_883696551817036_7308215161444106240_n.jpg?_nc_ht=scontent.cdninstagram.com',\n",
       "   'username': 'ge_anagno'},\n",
       "  'images': {'thumbnail': {'width': 150,\n",
       "    'height': 150,\n",
       "    'url': 'https://scontent.cdninstagram.com/vp/302581cf3b18e42ac69b10416079a584/5D114880/t51.2885-15/e35/c0.113.905.905/s150x150/26407897_177430346360101_5119776217137938432_n.jpg?_nc_ht=scontent.cdninstagram.com'},\n",
       "   'low_resolution': {'width': 320,\n",
       "    'height': 400,\n",
       "    'url': 'https://scontent.cdninstagram.com/vp/59416621e12b06e100c1df4c9856cce1/5D118C41/t51.2885-15/e35/p320x320/26407897_177430346360101_5119776217137938432_n.jpg?_nc_ht=scontent.cdninstagram.com'},\n",
       "   'standard_resolution': {'width': 640,\n",
       "    'height': 800,\n",
       "    'url': 'https://scontent.cdninstagram.com/vp/4846147f8e6112a6f665735a27d28c44/5D09FF16/t51.2885-15/sh0.08/e35/p640x640/26407897_177430346360101_5119776217137938432_n.jpg?_nc_ht=scontent.cdninstagram.com'}},\n",
       "  'created_time': '1515891007',\n",
       "  'caption': {'id': '17918720053028421',\n",
       "   'text': '#saturdaynight #fever🕺',\n",
       "   'created_time': '1515891007',\n",
       "   'from': {'id': '4622338623',\n",
       "    'full_name': 'Georgios Anagnostopoulos',\n",
       "    'profile_picture': 'https://scontent.cdninstagram.com/vp/8cfa48a75f91a4ab1bd0273d18fa5a85/5D143B84/t51.2885-19/s150x150/30079070_883696551817036_7308215161444106240_n.jpg?_nc_ht=scontent.cdninstagram.com',\n",
       "    'username': 'ge_anagno'}},\n",
       "  'user_has_liked': False,\n",
       "  'likes': {'count': 17},\n",
       "  'tags': ['fever🕺', 'saturdaynight'],\n",
       "  'filter': 'Normal',\n",
       "  'comments': {'count': 2},\n",
       "  'type': 'image',\n",
       "  'link': 'https://www.instagram.com/p/Bd6Q4QmBw0uJ7plNhMIU-PSJk94xmewBlYnGmw0/',\n",
       "  'location': {'latitude': 47.3846,\n",
       "   'longitude': 8.5316,\n",
       "   'name': 'Zürich, Switzerland',\n",
       "   'id': 214122044},\n",
       "  'attribution': None,\n",
       "  'users_in_photo': []},\n",
       " {'id': '1642315945517396936_4622338623',\n",
       "  'user': {'id': '4622338623',\n",
       "   'full_name': 'Georgios Anagnostopoulos',\n",
       "   'profile_picture': 'https://scontent.cdninstagram.com/vp/8cfa48a75f91a4ab1bd0273d18fa5a85/5D143B84/t51.2885-19/s150x150/30079070_883696551817036_7308215161444106240_n.jpg?_nc_ht=scontent.cdninstagram.com',\n",
       "   'username': 'ge_anagno'},\n",
       "  'images': {'thumbnail': {'width': 150,\n",
       "    'height': 150,\n",
       "    'url': 'https://scontent.cdninstagram.com/vp/943201ccaf13303f9fefb802aab84f8e/5D219199/t51.2885-15/e35/c139.0.802.802/s150x150/23279290_146390135985274_4653204977651548160_n.jpg?_nc_ht=scontent.cdninstagram.com'},\n",
       "   'low_resolution': {'width': 320,\n",
       "    'height': 237,\n",
       "    'url': 'https://scontent.cdninstagram.com/vp/13cc28ae1a271f7a13afecf541b6a949/5D13DBDF/t51.2885-15/e35/s320x320/23279290_146390135985274_4653204977651548160_n.jpg?_nc_ht=scontent.cdninstagram.com'},\n",
       "   'standard_resolution': {'width': 640,\n",
       "    'height': 475,\n",
       "    'url': 'https://scontent.cdninstagram.com/vp/54ab386639f5d9605f2626f92130536a/5D12B188/t51.2885-15/sh0.08/e35/s640x640/23279290_146390135985274_4653204977651548160_n.jpg?_nc_ht=scontent.cdninstagram.com'}},\n",
       "  'created_time': '1509999338',\n",
       "  'caption': {'id': '17907385567029308',\n",
       "   'text': '#ballroom #birdseye',\n",
       "   'created_time': '1509999338',\n",
       "   'from': {'id': '4622338623',\n",
       "    'full_name': 'Georgios Anagnostopoulos',\n",
       "    'profile_picture': 'https://scontent.cdninstagram.com/vp/8cfa48a75f91a4ab1bd0273d18fa5a85/5D143B84/t51.2885-19/s150x150/30079070_883696551817036_7308215161444106240_n.jpg?_nc_ht=scontent.cdninstagram.com',\n",
       "    'username': 'ge_anagno'}},\n",
       "  'user_has_liked': False,\n",
       "  'likes': {'count': 15},\n",
       "  'tags': ['birdseye', 'ballroom'],\n",
       "  'filter': 'Sierra',\n",
       "  'comments': {'count': 0},\n",
       "  'type': 'image',\n",
       "  'link': 'https://www.instagram.com/p/BbKraathjPIZv9pKBbjkgrXaPUIVh4wru4gSX00/',\n",
       "  'location': {'latitude': 47.349955982308,\n",
       "   'longitude': 8.5613824441569,\n",
       "   'name': 'Tiefenbrunnen',\n",
       "   'id': 4367695},\n",
       "  'attribution': None,\n",
       "  'users_in_photo': []},\n",
       " {'id': '1513391295702585144_4622338623',\n",
       "  'user': {'id': '4622338623',\n",
       "   'full_name': 'Georgios Anagnostopoulos',\n",
       "   'profile_picture': 'https://scontent.cdninstagram.com/vp/8cfa48a75f91a4ab1bd0273d18fa5a85/5D143B84/t51.2885-19/s150x150/30079070_883696551817036_7308215161444106240_n.jpg?_nc_ht=scontent.cdninstagram.com',\n",
       "   'username': 'ge_anagno'},\n",
       "  'images': {'thumbnail': {'width': 150,\n",
       "    'height': 150,\n",
       "    'url': 'https://scontent.cdninstagram.com/vp/22d626996dad7e19702a0c352fbd6966/5D2566B8/t51.2885-15/e35/s150x150/18443457_1890074447924967_6864422500055384064_n.jpg?_nc_ht=scontent.cdninstagram.com'},\n",
       "   'low_resolution': {'width': 320,\n",
       "    'height': 320,\n",
       "    'url': 'https://scontent.cdninstagram.com/vp/4476f060d6a3fd21582301843b252401/5D1666C0/t51.2885-15/e35/s320x320/18443457_1890074447924967_6864422500055384064_n.jpg?_nc_ht=scontent.cdninstagram.com'},\n",
       "   'standard_resolution': {'width': 640,\n",
       "    'height': 640,\n",
       "    'url': 'https://scontent.cdninstagram.com/vp/992e4dfef9ed3782a4acdad2caf5e102/5D1EB93D/t51.2885-15/sh0.08/e35/s640x640/18443457_1890074447924967_6864422500055384064_n.jpg?_nc_ht=scontent.cdninstagram.com'}},\n",
       "  'created_time': '1494630322',\n",
       "  'caption': {'id': '17880372433000135',\n",
       "   'text': '#baustelle #zink #mehrzweckhalle',\n",
       "   'created_time': '1494630322',\n",
       "   'from': {'id': '4622338623',\n",
       "    'full_name': 'Georgios Anagnostopoulos',\n",
       "    'profile_picture': 'https://scontent.cdninstagram.com/vp/8cfa48a75f91a4ab1bd0273d18fa5a85/5D143B84/t51.2885-19/s150x150/30079070_883696551817036_7308215161444106240_n.jpg?_nc_ht=scontent.cdninstagram.com',\n",
       "    'username': 'ge_anagno'}},\n",
       "  'user_has_liked': False,\n",
       "  'likes': {'count': 12},\n",
       "  'tags': ['baustelle', 'mehrzweckhalle', 'zink'],\n",
       "  'filter': 'Sierra',\n",
       "  'comments': {'count': 0},\n",
       "  'type': 'image',\n",
       "  'link': 'https://www.instagram.com/p/BUApV16hU84zHVE6mw-Oim3MogUjou_zgtekm40/',\n",
       "  'location': {'latitude': 47.45041,\n",
       "   'longitude': 7.73577,\n",
       "   'name': 'Bubendorf, Switzerland',\n",
       "   'id': 297620031},\n",
       "  'attribution': None,\n",
       "  'users_in_photo': []},\n",
       " {'id': '1510522984212042293_4622338623',\n",
       "  'user': {'id': '4622338623',\n",
       "   'full_name': 'Georgios Anagnostopoulos',\n",
       "   'profile_picture': 'https://scontent.cdninstagram.com/vp/8cfa48a75f91a4ab1bd0273d18fa5a85/5D143B84/t51.2885-19/s150x150/30079070_883696551817036_7308215161444106240_n.jpg?_nc_ht=scontent.cdninstagram.com',\n",
       "   'username': 'ge_anagno'},\n",
       "  'images': {'thumbnail': {'width': 150,\n",
       "    'height': 150,\n",
       "    'url': 'https://scontent.cdninstagram.com/vp/41bc24a1dfdebb3edbece4740f751a36/5D17E71E/t51.2885-15/e35/c0.135.1080.1080/s150x150/18299333_318759418541409_7179494012330442752_n.jpg?_nc_ht=scontent.cdninstagram.com'},\n",
       "   'low_resolution': {'width': 320,\n",
       "    'height': 400,\n",
       "    'url': 'https://scontent.cdninstagram.com/vp/790d95b842bc046ab1e011567f192960/5D1C7DE7/t51.2885-15/e35/p320x320/18299333_318759418541409_7179494012330442752_n.jpg?_nc_ht=scontent.cdninstagram.com'},\n",
       "   'standard_resolution': {'width': 640,\n",
       "    'height': 800,\n",
       "    'url': 'https://scontent.cdninstagram.com/vp/fb30a29e3de35e407c43fa399c042542/5D1678B0/t51.2885-15/sh0.08/e35/p640x640/18299333_318759418541409_7179494012330442752_n.jpg?_nc_ht=scontent.cdninstagram.com'}},\n",
       "  'created_time': '1494288393',\n",
       "  'caption': {'id': '17858387191143244',\n",
       "   'text': '#parametric',\n",
       "   'created_time': '1494288393',\n",
       "   'from': {'id': '4622338623',\n",
       "    'full_name': 'Georgios Anagnostopoulos',\n",
       "    'profile_picture': 'https://scontent.cdninstagram.com/vp/8cfa48a75f91a4ab1bd0273d18fa5a85/5D143B84/t51.2885-19/s150x150/30079070_883696551817036_7308215161444106240_n.jpg?_nc_ht=scontent.cdninstagram.com',\n",
       "    'username': 'ge_anagno'}},\n",
       "  'user_has_liked': False,\n",
       "  'likes': {'count': 12},\n",
       "  'tags': ['parametric'],\n",
       "  'filter': 'Inkwell',\n",
       "  'comments': {'count': 0},\n",
       "  'type': 'image',\n",
       "  'link': 'https://www.instagram.com/p/BT2dKarBZI1yTz8Sjaiiw8NJcu1UZOFwQduu2s0/',\n",
       "  'location': {'latitude': 47.5667,\n",
       "   'longitude': 7.6,\n",
       "   'name': 'Basel, Switzerland',\n",
       "   'id': 213774089},\n",
       "  'attribution': None,\n",
       "  'users_in_photo': []}]"
      ]
     },
     "execution_count": 71,
     "metadata": {},
     "output_type": "execute_result"
    }
   ],
   "source": [
    "recent_posts['data']"
   ]
  },
  {
   "cell_type": "code",
   "execution_count": 72,
   "metadata": {},
   "outputs": [
    {
     "data": {
      "text/html": [
       "<img src=\"https://scontent.cdninstagram.com/vp/dc052488c7d7890bdc134aa8b5f08aa8/5D17B3D1/t51.2885-15/sh0.08/e35/s640x640/50262152_2125692624188363_6673113234964835916_n.jpg?_nc_ht=scontent.cdninstagram.com\"/>"
      ],
      "text/plain": [
       "<IPython.core.display.Image object>"
      ]
     },
     "metadata": {},
     "output_type": "display_data"
    },
    {
     "name": "stdout",
     "output_type": "stream",
     "text": [
      "https://scontent.cdninstagram.com/vp/dc052488c7d7890bdc134aa8b5f08aa8/5D17B3D1/t51.2885-15/sh0.08/e35/s640x640/50262152_2125692624188363_6673113234964835916_n.jpg?_nc_ht=scontent.cdninstagram.com\n",
      "#Zillis\n",
      "\n"
     ]
    },
    {
     "data": {
      "text/html": [
       "<img src=\"https://scontent.cdninstagram.com/vp/4283011421ed9804dcf61527231caf8b/5D08229D/t51.2885-15/sh0.08/e35/s640x640/46853263_956139434582818_9050359290620097074_n.jpg?_nc_ht=scontent.cdninstagram.com\"/>"
      ],
      "text/plain": [
       "<IPython.core.display.Image object>"
      ]
     },
     "metadata": {},
     "output_type": "display_data"
    },
    {
     "name": "stdout",
     "output_type": "stream",
     "text": [
      "https://scontent.cdninstagram.com/vp/4283011421ed9804dcf61527231caf8b/5D08229D/t51.2885-15/sh0.08/e35/s640x640/46853263_956139434582818_9050359290620097074_n.jpg?_nc_ht=scontent.cdninstagram.com\n",
      "#cosmos #curiosities\n",
      "\n"
     ]
    },
    {
     "data": {
      "text/html": [
       "<img src=\"https://scontent.cdninstagram.com/vp/f41c9d36c2f874e045389c24e11c714e/5D06F46A/t51.2885-15/sh0.08/e35/s640x640/46551455_224129575129821_11025701569261811_n.jpg?_nc_ht=scontent.cdninstagram.com\"/>"
      ],
      "text/plain": [
       "<IPython.core.display.Image object>"
      ]
     },
     "metadata": {},
     "output_type": "display_data"
    },
    {
     "name": "stdout",
     "output_type": "stream",
     "text": [
      "https://scontent.cdninstagram.com/vp/f41c9d36c2f874e045389c24e11c714e/5D06F46A/t51.2885-15/sh0.08/e35/s640x640/46551455_224129575129821_11025701569261811_n.jpg?_nc_ht=scontent.cdninstagram.com\n",
      "Caption\n",
      "\n"
     ]
    },
    {
     "data": {
      "text/html": [
       "<img src=\"https://scontent.cdninstagram.com/vp/7d43dfa5f541bbe1573824c5f3c93feb/5D22BC15/t51.2885-15/sh0.08/e35/s640x640/37596682_2087494048182917_7116015344883335168_n.jpg?_nc_ht=scontent.cdninstagram.com\"/>"
      ],
      "text/plain": [
       "<IPython.core.display.Image object>"
      ]
     },
     "metadata": {},
     "output_type": "display_data"
    },
    {
     "name": "stdout",
     "output_type": "stream",
     "text": [
      "https://scontent.cdninstagram.com/vp/7d43dfa5f541bbe1573824c5f3c93feb/5D22BC15/t51.2885-15/sh0.08/e35/s640x640/37596682_2087494048182917_7116015344883335168_n.jpg?_nc_ht=scontent.cdninstagram.com\n",
      "Mirjam im Beyeler\n",
      "\n"
     ]
    },
    {
     "data": {
      "text/html": [
       "<img src=\"https://scontent.cdninstagram.com/vp/ae8648381bf26593378b517c6f0be516/5D0EB9B1/t51.2885-15/sh0.08/e35/s640x640/37186884_2179297979024006_6534256990938464256_n.jpg?_nc_ht=scontent.cdninstagram.com\"/>"
      ],
      "text/plain": [
       "<IPython.core.display.Image object>"
      ]
     },
     "metadata": {},
     "output_type": "display_data"
    },
    {
     "name": "stdout",
     "output_type": "stream",
     "text": [
      "https://scontent.cdninstagram.com/vp/ae8648381bf26593378b517c6f0be516/5D0EB9B1/t51.2885-15/sh0.08/e35/s640x640/37186884_2179297979024006_6534256990938464256_n.jpg?_nc_ht=scontent.cdninstagram.com\n",
      "#simplonpass\n",
      "\n"
     ]
    },
    {
     "data": {
      "text/html": [
       "<img src=\"https://scontent.cdninstagram.com/vp/4846147f8e6112a6f665735a27d28c44/5D09FF16/t51.2885-15/sh0.08/e35/p640x640/26407897_177430346360101_5119776217137938432_n.jpg?_nc_ht=scontent.cdninstagram.com\"/>"
      ],
      "text/plain": [
       "<IPython.core.display.Image object>"
      ]
     },
     "metadata": {},
     "output_type": "display_data"
    },
    {
     "name": "stdout",
     "output_type": "stream",
     "text": [
      "https://scontent.cdninstagram.com/vp/4846147f8e6112a6f665735a27d28c44/5D09FF16/t51.2885-15/sh0.08/e35/p640x640/26407897_177430346360101_5119776217137938432_n.jpg?_nc_ht=scontent.cdninstagram.com\n",
      "#saturdaynight #fever🕺\n",
      "\n"
     ]
    },
    {
     "data": {
      "text/html": [
       "<img src=\"https://scontent.cdninstagram.com/vp/54ab386639f5d9605f2626f92130536a/5D12B188/t51.2885-15/sh0.08/e35/s640x640/23279290_146390135985274_4653204977651548160_n.jpg?_nc_ht=scontent.cdninstagram.com\"/>"
      ],
      "text/plain": [
       "<IPython.core.display.Image object>"
      ]
     },
     "metadata": {},
     "output_type": "display_data"
    },
    {
     "name": "stdout",
     "output_type": "stream",
     "text": [
      "https://scontent.cdninstagram.com/vp/54ab386639f5d9605f2626f92130536a/5D12B188/t51.2885-15/sh0.08/e35/s640x640/23279290_146390135985274_4653204977651548160_n.jpg?_nc_ht=scontent.cdninstagram.com\n",
      "#ballroom #birdseye\n",
      "\n"
     ]
    },
    {
     "data": {
      "text/html": [
       "<img src=\"https://scontent.cdninstagram.com/vp/992e4dfef9ed3782a4acdad2caf5e102/5D1EB93D/t51.2885-15/sh0.08/e35/s640x640/18443457_1890074447924967_6864422500055384064_n.jpg?_nc_ht=scontent.cdninstagram.com\"/>"
      ],
      "text/plain": [
       "<IPython.core.display.Image object>"
      ]
     },
     "metadata": {},
     "output_type": "display_data"
    },
    {
     "name": "stdout",
     "output_type": "stream",
     "text": [
      "https://scontent.cdninstagram.com/vp/992e4dfef9ed3782a4acdad2caf5e102/5D1EB93D/t51.2885-15/sh0.08/e35/s640x640/18443457_1890074447924967_6864422500055384064_n.jpg?_nc_ht=scontent.cdninstagram.com\n",
      "#baustelle #zink #mehrzweckhalle\n",
      "\n"
     ]
    },
    {
     "data": {
      "text/html": [
       "<img src=\"https://scontent.cdninstagram.com/vp/fb30a29e3de35e407c43fa399c042542/5D1678B0/t51.2885-15/sh0.08/e35/p640x640/18299333_318759418541409_7179494012330442752_n.jpg?_nc_ht=scontent.cdninstagram.com\"/>"
      ],
      "text/plain": [
       "<IPython.core.display.Image object>"
      ]
     },
     "metadata": {},
     "output_type": "display_data"
    },
    {
     "name": "stdout",
     "output_type": "stream",
     "text": [
      "https://scontent.cdninstagram.com/vp/fb30a29e3de35e407c43fa399c042542/5D1678B0/t51.2885-15/sh0.08/e35/p640x640/18299333_318759418541409_7179494012330442752_n.jpg?_nc_ht=scontent.cdninstagram.com\n",
      "#parametric\n",
      "\n"
     ]
    }
   ],
   "source": [
    "display_image_feed(recent_posts, include_captions=True)"
   ]
  },
  {
   "cell_type": "code",
   "execution_count": null,
   "metadata": {},
   "outputs": [],
   "source": []
  }
 ],
 "metadata": {
  "kernelspec": {
   "display_name": "TensorFlow-GPU",
   "language": "python",
   "name": "tf-gpu"
  },
  "language_info": {
   "codemirror_mode": {
    "name": "ipython",
    "version": 3
   },
   "file_extension": ".py",
   "mimetype": "text/x-python",
   "name": "python",
   "nbconvert_exporter": "python",
   "pygments_lexer": "ipython3",
   "version": "3.6.6"
  }
 },
 "nbformat": 4,
 "nbformat_minor": 2
}
