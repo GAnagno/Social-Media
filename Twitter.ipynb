{
 "cells": [
  {
   "cell_type": "code",
   "execution_count": 1,
   "metadata": {},
   "outputs": [],
   "source": [
    "import tweepy\n",
    "import json"
   ]
  },
  {
   "cell_type": "code",
   "execution_count": 2,
   "metadata": {},
   "outputs": [],
   "source": [
    "from itertools import islice"
   ]
  },
  {
   "cell_type": "code",
   "execution_count": 3,
   "metadata": {},
   "outputs": [],
   "source": []
  },
  {
   "cell_type": "code",
   "execution_count": 4,
   "metadata": {},
   "outputs": [],
   "source": [
    "auth = tweepy.auth.OAuthHandler(CONSUMER_KEY, CONSUMER_SECRET)\n",
    "auth.set_access_token(OAUTH_TOKEN, OAUTH_TOKEN_SECRET)\n",
    "api = tweepy.API(auth, parser=tweepy.parsers.JSONParser())"
   ]
  },
  {
   "cell_type": "code",
   "execution_count": 5,
   "metadata": {},
   "outputs": [
    {
     "name": "stdout",
     "output_type": "stream",
     "text": [
      "<tweepy.api.API object at 0x0000021481572BE0>\n"
     ]
    }
   ],
   "source": [
    "print(api)"
   ]
  },
  {
   "cell_type": "code",
   "execution_count": 6,
   "metadata": {},
   "outputs": [
    {
     "name": "stdout",
     "output_type": "stream",
     "text": [
      "[\n",
      " {\n",
      "  \"name\": \"#PSGMUN\",\n",
      "  \"url\": \"http://twitter.com/search?q=%23PSGMUN\",\n",
      "  \"promoted_content\": null,\n",
      "  \"query\": \"%23PSGMUN\",\n",
      "  \"tweet_volume\": 222979\n",
      " },\n",
      " {\n",
      "  \"name\": \"#MUFC\",\n",
      "  \"url\": \"http://twitter.com/search?q=%23MUFC\",\n",
      "  \"promoted_content\": null,\n",
      "  \"query\": \"%23MUFC\",\n",
      "  \"tweet_volume\": 474707\n",
      " }\n",
      "]\n"
     ]
    }
   ],
   "source": [
    "# The Yahoo! Where On Earth ID for the entire world is 1.\n",
    "# See https://dev.twitter.com/docs/api/1.1/get/trends/place and\n",
    "# http://developer.yahoo.com/geo/geoplanet/\n",
    "\n",
    "WORLD_WOE_ID = 1\n",
    "ZH_WOE_ID = 784794\n",
    "\n",
    "world_trends = api.trends_place(WORLD_WOE_ID)\n",
    "zh_trends = api.trends_place(ZH_WOE_ID)\n",
    "\n",
    "print(json.dumps(list(islice(world_trends[0]['trends'], 2)), indent=1))"
   ]
  },
  {
   "cell_type": "code",
   "execution_count": 7,
   "metadata": {},
   "outputs": [
    {
     "name": "stdout",
     "output_type": "stream",
     "text": [
      "{'United', '#MUFC', '#PSGMUFC', 'Neymar', '#PSGMUN', '#ChampionsLeague'}\n"
     ]
    }
   ],
   "source": [
    "world_trends_set = set([trend['name'] \n",
    "                        for trend in world_trends[0]['trends']])\n",
    "\n",
    "zh_trends_set = set([trend['name'] \n",
    "                     for trend in zh_trends[0]['trends']])\n",
    "\n",
    "common_trends = world_trends_set.intersection(zh_trends_set)\n",
    "\n",
    "print(common_trends)"
   ]
  },
  {
   "cell_type": "code",
   "execution_count": 8,
   "metadata": {},
   "outputs": [],
   "source": [
    "q = '#ChampionsLeague' \n",
    "\n",
    "count = 100\n",
    "\n",
    "# Import unquote to prevent url encoding errors in next_results\n",
    "from urllib.parse import unquote\n",
    "\n",
    "# See https://dev.twitter.com/rest/reference/get/search/tweets\n",
    "\n",
    "search_results = api.search(q=q, count=count)"
   ]
  },
  {
   "cell_type": "code",
   "execution_count": 9,
   "metadata": {},
   "outputs": [],
   "source": [
    "statuses = search_results['statuses']"
   ]
  },
  {
   "cell_type": "code",
   "execution_count": 10,
   "metadata": {},
   "outputs": [
    {
     "data": {
      "text/plain": [
       "dict_keys(['statuses', 'search_metadata'])"
      ]
     },
     "execution_count": 10,
     "metadata": {},
     "output_type": "execute_result"
    }
   ],
   "source": [
    "search_results.keys()"
   ]
  },
  {
   "cell_type": "code",
   "execution_count": 11,
   "metadata": {},
   "outputs": [
    {
     "name": "stdout",
     "output_type": "stream",
     "text": [
      "Length of statuses 100\n",
      "Length of statuses 200\n",
      "Length of statuses 300\n",
      "Length of statuses 393\n",
      "Length of statuses 491\n"
     ]
    }
   ],
   "source": [
    "# Iterate through 5 more batches of results by following the cursor\n",
    "for _ in range(5):\n",
    "    print('Length of statuses', len(statuses))\n",
    "    try:\n",
    "        next_results = search_results['search_metadata']['next_results']\n",
    "    except KeyError as e: # No more results when next_results doesn't exist\n",
    "        break\n",
    "        \n",
    "    # Create a dictionary from next_results, which has the following form:\n",
    "    # ?max_id=847960489447628799&q=%23RIPSelena&count=100&include_entities=1\n",
    "    kwargs = dict([ kv.split('=') for kv in unquote(next_results[1:]).split(\"&\") ])\n",
    "    #print(next_results[1:].split(\"&\"))\n",
    "    search_results = api.search(**kwargs)\n",
    "    statuses += search_results['statuses']"
   ]
  },
  {
   "cell_type": "code",
   "execution_count": 12,
   "metadata": {},
   "outputs": [
    {
     "name": "stdout",
     "output_type": "stream",
     "text": [
      "{\n",
      "  \"created_at\": \"Wed Mar 06 23:04:53 +0000 2019\",\n",
      "  \"id\": 1103431285102518275,\n",
      "  \"id_str\": \"1103431285102518275\",\n",
      "  \"text\": \"RT @SouthSubSA: Based in today's games, everyone playing next week better prepare!!!!\\n#ChampionsLeague\",\n",
      "  \"truncated\": false,\n",
      "  \"entities\": {\n",
      "    \"hashtags\": [\n",
      "      {\n",
      "        \"text\": \"ChampionsLeague\",\n",
      "        \"indices\": [\n",
      "          86,\n",
      "          102\n",
      "        ]\n",
      "      }\n",
      "    ],\n",
      "    \"symbols\": [],\n",
      "    \"user_mentions\": [\n",
      "      {\n",
      "        \"screen_name\": \"SouthSubSA\",\n",
      "        \"name\": \"SouthSuburbanSA\",\n",
      "        \"id\": 1368316452,\n",
      "        \"id_str\": \"1368316452\",\n",
      "        \"indices\": [\n",
      "          3,\n",
      "          14\n",
      "        ]\n",
      "      }\n",
      "    ],\n",
      "    \"urls\": []\n",
      "  },\n",
      "  \"metadata\": {\n",
      "    \"iso_language_code\": \"en\",\n",
      "    \"result_type\": \"recent\"\n",
      "  },\n",
      "  \"source\": \"<a href=\\\"http://twitter.com/download/iphone\\\" rel=\\\"nofollow\\\">Twitter for iPhone</a>\",\n",
      "  \"in_reply_to_status_id\": null,\n",
      "  \"in_reply_to_status_id_str\": null,\n",
      "  \"in_reply_to_user_id\": null,\n",
      "  \"in_reply_to_user_id_str\": null,\n",
      "  \"in_reply_to_screen_name\": null,\n",
      "  \"user\": {\n",
      "    \"id\": 1099442029,\n",
      "    \"id_str\": \"1099442029\",\n",
      "    \"name\": \"Jay-Dawg\",\n",
      "    \"screen_name\": \"JayBedollaaa\",\n",
      "    \"location\": \"Guanajuato, M\\u00e9xico\",\n",
      "    \"description\": \"All love | Gina \\u2764\\ufe0f | \\u26bd\\ufe0f\",\n",
      "    \"url\": null,\n",
      "    \"entities\": {\n",
      "      \"description\": {\n",
      "        \"urls\": []\n",
      "      }\n",
      "    },\n",
      "    \"protected\": false,\n",
      "    \"followers_count\": 667,\n",
      "    \"friends_count\": 459,\n",
      "    \"listed_count\": 0,\n",
      "    \"created_at\": \"Thu Jan 17 22:29:24 +0000 2013\",\n",
      "    \"favourites_count\": 6907,\n",
      "    \"utc_offset\": null,\n",
      "    \"time_zone\": null,\n",
      "    \"geo_enabled\": false,\n",
      "    \"verified\": false,\n",
      "    \"statuses_count\": 10527,\n",
      "    \"lang\": \"en\",\n",
      "    \"contributors_enabled\": false,\n",
      "    \"is_translator\": false,\n",
      "    \"is_translation_enabled\": false,\n",
      "    \"profile_background_color\": \"C0DEED\",\n",
      "    \"profile_background_image_url\": \"http://abs.twimg.com/images/themes/theme1/bg.png\",\n",
      "    \"profile_background_image_url_https\": \"https://abs.twimg.com/images/themes/theme1/bg.png\",\n",
      "    \"profile_background_tile\": false,\n",
      "    \"profile_image_url\": \"http://pbs.twimg.com/profile_images/1090234430130712584/wi42koPF_normal.jpg\",\n",
      "    \"profile_image_url_https\": \"https://pbs.twimg.com/profile_images/1090234430130712584/wi42koPF_normal.jpg\",\n",
      "    \"profile_banner_url\": \"https://pbs.twimg.com/profile_banners/1099442029/1547011981\",\n",
      "    \"profile_link_color\": \"1DA1F2\",\n",
      "    \"profile_sidebar_border_color\": \"C0DEED\",\n",
      "    \"profile_sidebar_fill_color\": \"DDEEF6\",\n",
      "    \"profile_text_color\": \"333333\",\n",
      "    \"profile_use_background_image\": true,\n",
      "    \"has_extended_profile\": true,\n",
      "    \"default_profile\": true,\n",
      "    \"default_profile_image\": false,\n",
      "    \"following\": false,\n",
      "    \"follow_request_sent\": false,\n",
      "    \"notifications\": false,\n",
      "    \"translator_type\": \"none\"\n",
      "  },\n",
      "  \"geo\": null,\n",
      "  \"coordinates\": null,\n",
      "  \"place\": null,\n",
      "  \"contributors\": null,\n",
      "  \"retweeted_status\": {\n",
      "    \"created_at\": \"Wed Mar 06 22:43:02 +0000 2019\",\n",
      "    \"id\": 1103425784331595780,\n",
      "    \"id_str\": \"1103425784331595780\",\n",
      "    \"text\": \"Based in today's games, everyone playing next week better prepare!!!!\\n#ChampionsLeague\",\n",
      "    \"truncated\": false,\n",
      "    \"entities\": {\n",
      "      \"hashtags\": [\n",
      "        {\n",
      "          \"text\": \"ChampionsLeague\",\n",
      "          \"indices\": [\n",
      "            70,\n",
      "            86\n",
      "          ]\n",
      "        }\n",
      "      ],\n",
      "      \"symbols\": [],\n",
      "      \"user_mentions\": [],\n",
      "      \"urls\": []\n",
      "    },\n",
      "    \"metadata\": {\n",
      "      \"iso_language_code\": \"en\",\n",
      "      \"result_type\": \"recent\"\n",
      "    },\n",
      "    \"source\": \"<a href=\\\"http://twitter.com/download/android\\\" rel=\\\"nofollow\\\">Twitter for Android</a>\",\n",
      "    \"in_reply_to_status_id\": null,\n",
      "    \"in_reply_to_status_id_str\": null,\n",
      "    \"in_reply_to_user_id\": null,\n",
      "    \"in_reply_to_user_id_str\": null,\n",
      "    \"in_reply_to_screen_name\": null,\n",
      "    \"user\": {\n",
      "      \"id\": 1368316452,\n",
      "      \"id_str\": \"1368316452\",\n",
      "      \"name\": \"SouthSuburbanSA\",\n",
      "      \"screen_name\": \"SouthSubSA\",\n",
      "      \"location\": \"\",\n",
      "      \"description\": \"FE, FAMILIA, FUTBOL\",\n",
      "      \"url\": \"http://t.co/2EXMkl5Cu6\",\n",
      "      \"entities\": {\n",
      "        \"url\": {\n",
      "          \"urls\": [\n",
      "            {\n",
      "              \"url\": \"http://t.co/2EXMkl5Cu6\",\n",
      "              \"expanded_url\": \"http://www.southsuburbanacademy.com\",\n",
      "              \"display_url\": \"southsuburbanacademy.com\",\n",
      "              \"indices\": [\n",
      "                0,\n",
      "                22\n",
      "              ]\n",
      "            }\n",
      "          ]\n",
      "        },\n",
      "        \"description\": {\n",
      "          \"urls\": []\n",
      "        }\n",
      "      },\n",
      "      \"protected\": false,\n",
      "      \"followers_count\": 729,\n",
      "      \"friends_count\": 749,\n",
      "      \"listed_count\": 3,\n",
      "      \"created_at\": \"Sun Apr 21 00:48:32 +0000 2013\",\n",
      "      \"favourites_count\": 19188,\n",
      "      \"utc_offset\": null,\n",
      "      \"time_zone\": null,\n",
      "      \"geo_enabled\": true,\n",
      "      \"verified\": false,\n",
      "      \"statuses_count\": 8916,\n",
      "      \"lang\": \"en\",\n",
      "      \"contributors_enabled\": false,\n",
      "      \"is_translator\": false,\n",
      "      \"is_translation_enabled\": false,\n",
      "      \"profile_background_color\": \"C0DEED\",\n",
      "      \"profile_background_image_url\": \"http://abs.twimg.com/images/themes/theme1/bg.png\",\n",
      "      \"profile_background_image_url_https\": \"https://abs.twimg.com/images/themes/theme1/bg.png\",\n",
      "      \"profile_background_tile\": false,\n",
      "      \"profile_image_url\": \"http://pbs.twimg.com/profile_images/3551442120/397f7f9f5aed7dadade8bd8490441014_normal.jpeg\",\n",
      "      \"profile_image_url_https\": \"https://pbs.twimg.com/profile_images/3551442120/397f7f9f5aed7dadade8bd8490441014_normal.jpeg\",\n",
      "      \"profile_link_color\": \"1DA1F2\",\n",
      "      \"profile_sidebar_border_color\": \"C0DEED\",\n",
      "      \"profile_sidebar_fill_color\": \"DDEEF6\",\n",
      "      \"profile_text_color\": \"333333\",\n",
      "      \"profile_use_background_image\": true,\n",
      "      \"has_extended_profile\": false,\n",
      "      \"default_profile\": true,\n",
      "      \"default_profile_image\": false,\n",
      "      \"following\": false,\n",
      "      \"follow_request_sent\": false,\n",
      "      \"notifications\": false,\n",
      "      \"translator_type\": \"none\"\n",
      "    },\n",
      "    \"geo\": null,\n",
      "    \"coordinates\": null,\n",
      "    \"place\": null,\n",
      "    \"contributors\": null,\n",
      "    \"is_quote_status\": false,\n",
      "    \"retweet_count\": 2,\n",
      "    \"favorite_count\": 1,\n",
      "    \"favorited\": false,\n",
      "    \"retweeted\": false,\n",
      "    \"lang\": \"en\"\n",
      "  },\n",
      "  \"is_quote_status\": false,\n",
      "  \"retweet_count\": 2,\n",
      "  \"favorite_count\": 0,\n",
      "  \"favorited\": false,\n",
      "  \"retweeted\": false,\n",
      "  \"lang\": \"en\"\n",
      "}\n"
     ]
    }
   ],
   "source": [
    "# Show one sample search result by slicing the list...\n",
    "print(json.dumps(statuses[0], indent=2))"
   ]
  },
  {
   "cell_type": "code",
   "execution_count": 13,
   "metadata": {},
   "outputs": [
    {
     "name": "stdout",
     "output_type": "stream",
     "text": [
      "\n",
      "RT @SouthSubSA: Based in today's games, everyone playing next week better prepare!!!!\n",
      "#ChampionsLeague\n",
      "Favorites:  0\n",
      "Retweets:  2\n",
      "\n",
      "RT @S7meraviglie: #PSGMUN #ChampionsLeague il PSG 2012/13:quarti di finale\n",
      "2013/14:quarti di finale\n",
      "2014/15:quarti di finale\n",
      "2015/16:quarti…\n",
      "Favorites:  0\n",
      "Retweets:  1\n",
      "\n",
      "RT @AtaqueFutbolero: HISTÓRICO lo sucedido en París! #ManchesterUnited 🏴󠁧󠁢󠁥󠁮󠁧󠁿 sacó al #PSG 🇫🇷 de la #ChampionsLeague y se metió en los 4to…\n",
      "Favorites:  0\n",
      "Retweets:  32\n"
     ]
    }
   ],
   "source": [
    "for i in range(3):\n",
    "    print()\n",
    "    print(statuses[i]['text'])\n",
    "    print('Favorites: ', statuses[i]['favorite_count'])\n",
    "    print('Retweets: ', statuses[i]['retweet_count'])"
   ]
  },
  {
   "cell_type": "code",
   "execution_count": null,
   "metadata": {},
   "outputs": [],
   "source": []
  }
 ],
 "metadata": {
  "kernelspec": {
   "display_name": "TensorFlow-GPU",
   "language": "python",
   "name": "tf-gpu"
  },
  "language_info": {
   "codemirror_mode": {
    "name": "ipython",
    "version": 3
   },
   "file_extension": ".py",
   "mimetype": "text/x-python",
   "name": "python",
   "nbconvert_exporter": "python",
   "pygments_lexer": "ipython3",
   "version": "3.6.6"
  }
 },
 "nbformat": 4,
 "nbformat_minor": 2
}
