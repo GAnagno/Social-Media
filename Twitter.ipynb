{
 "cells": [
  {
   "cell_type": "code",
   "execution_count": 1,
   "metadata": {},
   "outputs": [],
   "source": [
    "import tweepy\n",
    "import json"
   ]
  },
  {
   "cell_type": "code",
   "execution_count": 2,
   "metadata": {},
   "outputs": [],
   "source": [
    "from itertools import islice"
   ]
  },
  {
   "cell_type": "code",
   "execution_count": 3,
   "metadata": {},
   "outputs": [],
   "source": []
  },
  {
   "cell_type": "code",
   "execution_count": 4,
   "metadata": {},
   "outputs": [],
   "source": [
    "auth = tweepy.auth.OAuthHandler(CONSUMER_KEY, CONSUMER_SECRET)\n",
    "auth.set_access_token(OAUTH_TOKEN, OAUTH_TOKEN_SECRET)\n",
    "api = tweepy.API(auth, parser=tweepy.parsers.JSONParser())"
   ]
  },
  {
   "cell_type": "code",
   "execution_count": 5,
   "metadata": {},
   "outputs": [
    {
     "name": "stdout",
     "output_type": "stream",
     "text": [
      "<tweepy.api.API object at 0x000001C08CE83080>\n"
     ]
    }
   ],
   "source": [
    "print(api)"
   ]
  },
  {
   "cell_type": "code",
   "execution_count": 6,
   "metadata": {},
   "outputs": [
    {
     "name": "stdout",
     "output_type": "stream",
     "text": [
      "[\n",
      " {\n",
      "  \"name\": \"#PSGMUN\",\n",
      "  \"url\": \"http://twitter.com/search?q=%23PSGMUN\",\n",
      "  \"promoted_content\": null,\n",
      "  \"query\": \"%23PSGMUN\",\n",
      "  \"tweet_volume\": 210851\n",
      " },\n",
      " {\n",
      "  \"name\": \"#MUFC\",\n",
      "  \"url\": \"http://twitter.com/search?q=%23MUFC\",\n",
      "  \"promoted_content\": null,\n",
      "  \"query\": \"%23MUFC\",\n",
      "  \"tweet_volume\": 436420\n",
      " }\n",
      "]\n"
     ]
    }
   ],
   "source": [
    "# The Yahoo! Where On Earth ID for the entire world is 1.\n",
    "# See https://dev.twitter.com/docs/api/1.1/get/trends/place and\n",
    "# http://developer.yahoo.com/geo/geoplanet/\n",
    "\n",
    "WORLD_WOE_ID = 1\n",
    "ZH_WOE_ID = 784794\n",
    "\n",
    "world_trends = api.trends_place(WORLD_WOE_ID)\n",
    "zh_trends = api.trends_place(ZH_WOE_ID)\n",
    "\n",
    "print(json.dumps(list(islice(world_trends[0]['trends'], 2)), indent=1))"
   ]
  },
  {
   "cell_type": "code",
   "execution_count": 7,
   "metadata": {},
   "outputs": [
    {
     "name": "stdout",
     "output_type": "stream",
     "text": [
      "{'#ChampionsLeague', 'United', 'Neymar', '#PSGMUFC', '#PSGMUN', '#MUFC'}\n"
     ]
    }
   ],
   "source": [
    "world_trends_set = set([trend['name'] \n",
    "                        for trend in world_trends[0]['trends']])\n",
    "\n",
    "zh_trends_set = set([trend['name'] \n",
    "                     for trend in zh_trends[0]['trends']])\n",
    "\n",
    "common_trends = world_trends_set.intersection(zh_trends_set)\n",
    "\n",
    "print(common_trends)"
   ]
  },
  {
   "cell_type": "code",
   "execution_count": 8,
   "metadata": {},
   "outputs": [],
   "source": [
    "q = '#ChampionsLeague' \n",
    "\n",
    "count = 100\n",
    "\n",
    "# Import unquote to prevent url encoding errors in next_results\n",
    "from urllib.parse import unquote\n",
    "\n",
    "# See https://dev.twitter.com/rest/reference/get/search/tweets\n",
    "\n",
    "search_results = api.search(q=q, count=count)"
   ]
  },
  {
   "cell_type": "code",
   "execution_count": 9,
   "metadata": {},
   "outputs": [],
   "source": [
    "statuses = search_results['statuses']"
   ]
  },
  {
   "cell_type": "code",
   "execution_count": 10,
   "metadata": {},
   "outputs": [
    {
     "data": {
      "text/plain": [
       "dict_keys(['statuses', 'search_metadata'])"
      ]
     },
     "execution_count": 10,
     "metadata": {},
     "output_type": "execute_result"
    }
   ],
   "source": [
    "search_results.keys()"
   ]
  },
  {
   "cell_type": "code",
   "execution_count": 11,
   "metadata": {},
   "outputs": [
    {
     "name": "stdout",
     "output_type": "stream",
     "text": [
      "Length of statuses 100\n",
      "Length of statuses 200\n",
      "Length of statuses 300\n",
      "Length of statuses 400\n",
      "Length of statuses 500\n"
     ]
    }
   ],
   "source": [
    "# Iterate through 5 more batches of results by following the cursor\n",
    "for _ in range(5):\n",
    "    print('Length of statuses', len(statuses))\n",
    "    try:\n",
    "        next_results = search_results['search_metadata']['next_results']\n",
    "    except KeyError as e: # No more results when next_results doesn't exist\n",
    "        break\n",
    "        \n",
    "    # Create a dictionary from next_results, which has the following form:\n",
    "    # ?max_id=847960489447628799&q=%23RIPSelena&count=100&include_entities=1\n",
    "    kwargs = dict([ kv.split('=') for kv in unquote(next_results[1:]).split(\"&\") ])\n",
    "    #print(next_results[1:].split(\"&\"))\n",
    "    search_results = api.search(**kwargs)\n",
    "    statuses += search_results['statuses']"
   ]
  },
  {
   "cell_type": "code",
   "execution_count": 13,
   "metadata": {},
   "outputs": [
    {
     "name": "stdout",
     "output_type": "stream",
     "text": [
      "{\n",
      "    \"created_at\": \"Wed Mar 06 22:58:25 +0000 2019\",\n",
      "    \"id\": 1103429657695784965,\n",
      "    \"id_str\": \"1103429657695784965\",\n",
      "    \"text\": \"RT @DanielWebber81: And that, ladies and gentlemen... Is what @ManUtd is all about! #OlesAtTheWheel #MUFC #ChampionsLeague\",\n",
      "    \"truncated\": false,\n",
      "    \"entities\": {\n",
      "        \"hashtags\": [\n",
      "            {\n",
      "                \"text\": \"OlesAtTheWheel\",\n",
      "                \"indices\": [\n",
      "                    84,\n",
      "                    99\n",
      "                ]\n",
      "            },\n",
      "            {\n",
      "                \"text\": \"MUFC\",\n",
      "                \"indices\": [\n",
      "                    100,\n",
      "                    105\n",
      "                ]\n",
      "            },\n",
      "            {\n",
      "                \"text\": \"ChampionsLeague\",\n",
      "                \"indices\": [\n",
      "                    106,\n",
      "                    122\n",
      "                ]\n",
      "            }\n",
      "        ],\n",
      "        \"symbols\": [],\n",
      "        \"user_mentions\": [\n",
      "            {\n",
      "                \"screen_name\": \"DanielWebber81\",\n",
      "                \"name\": \"Danny Webber \\ud83d\\udc1d\",\n",
      "                \"id\": 136966815,\n",
      "                \"id_str\": \"136966815\",\n",
      "                \"indices\": [\n",
      "                    3,\n",
      "                    18\n",
      "                ]\n",
      "            },\n",
      "            {\n",
      "                \"screen_name\": \"ManUtd\",\n",
      "                \"name\": \"Manchester United\",\n",
      "                \"id\": 558797310,\n",
      "                \"id_str\": \"558797310\",\n",
      "                \"indices\": [\n",
      "                    62,\n",
      "                    69\n",
      "                ]\n",
      "            }\n",
      "        ],\n",
      "        \"urls\": []\n",
      "    },\n",
      "    \"metadata\": {\n",
      "        \"iso_language_code\": \"en\",\n",
      "        \"result_type\": \"recent\"\n",
      "    },\n",
      "    \"source\": \"<a href=\\\"http://twitter.com/download/iphone\\\" rel=\\\"nofollow\\\">Twitter for iPhone</a>\",\n",
      "    \"in_reply_to_status_id\": null,\n",
      "    \"in_reply_to_status_id_str\": null,\n",
      "    \"in_reply_to_user_id\": null,\n",
      "    \"in_reply_to_user_id_str\": null,\n",
      "    \"in_reply_to_screen_name\": null,\n",
      "    \"user\": {\n",
      "        \"id\": 865131285030809600,\n",
      "        \"id_str\": \"865131285030809600\",\n",
      "        \"name\": \"Jeremy Gorick\",\n",
      "        \"screen_name\": \"JeremyGorick\",\n",
      "        \"location\": \"Chorley, England\",\n",
      "        \"description\": \"\",\n",
      "        \"url\": null,\n",
      "        \"entities\": {\n",
      "            \"description\": {\n",
      "                \"urls\": []\n",
      "            }\n",
      "        },\n",
      "        \"protected\": false,\n",
      "        \"followers_count\": 47,\n",
      "        \"friends_count\": 53,\n",
      "        \"listed_count\": 0,\n",
      "        \"created_at\": \"Thu May 18 09:05:46 +0000 2017\",\n",
      "        \"favourites_count\": 181,\n",
      "        \"utc_offset\": null,\n",
      "        \"time_zone\": null,\n",
      "        \"geo_enabled\": false,\n",
      "        \"verified\": false,\n",
      "        \"statuses_count\": 186,\n",
      "        \"lang\": \"en\",\n",
      "        \"contributors_enabled\": false,\n",
      "        \"is_translator\": false,\n",
      "        \"is_translation_enabled\": false,\n",
      "        \"profile_background_color\": \"F5F8FA\",\n",
      "        \"profile_background_image_url\": null,\n",
      "        \"profile_background_image_url_https\": null,\n",
      "        \"profile_background_tile\": false,\n",
      "        \"profile_image_url\": \"http://pbs.twimg.com/profile_images/865133156600434689/IoQjKyoC_normal.jpg\",\n",
      "        \"profile_image_url_https\": \"https://pbs.twimg.com/profile_images/865133156600434689/IoQjKyoC_normal.jpg\",\n",
      "        \"profile_banner_url\": \"https://pbs.twimg.com/profile_banners/865131285030809600/1495099838\",\n",
      "        \"profile_link_color\": \"1DA1F2\",\n",
      "        \"profile_sidebar_border_color\": \"C0DEED\",\n",
      "        \"profile_sidebar_fill_color\": \"DDEEF6\",\n",
      "        \"profile_text_color\": \"333333\",\n",
      "        \"profile_use_background_image\": true,\n",
      "        \"has_extended_profile\": false,\n",
      "        \"default_profile\": true,\n",
      "        \"default_profile_image\": false,\n",
      "        \"following\": false,\n",
      "        \"follow_request_sent\": false,\n",
      "        \"notifications\": false,\n",
      "        \"translator_type\": \"none\"\n",
      "    },\n",
      "    \"geo\": null,\n",
      "    \"coordinates\": null,\n",
      "    \"place\": null,\n",
      "    \"contributors\": null,\n",
      "    \"retweeted_status\": {\n",
      "        \"created_at\": \"Wed Mar 06 21:57:13 +0000 2019\",\n",
      "        \"id\": 1103414253812363266,\n",
      "        \"id_str\": \"1103414253812363266\",\n",
      "        \"text\": \"And that, ladies and gentlemen... Is what @ManUtd is all about! #OlesAtTheWheel #MUFC #ChampionsLeague\",\n",
      "        \"truncated\": false,\n",
      "        \"entities\": {\n",
      "            \"hashtags\": [\n",
      "                {\n",
      "                    \"text\": \"OlesAtTheWheel\",\n",
      "                    \"indices\": [\n",
      "                        64,\n",
      "                        79\n",
      "                    ]\n",
      "                },\n",
      "                {\n",
      "                    \"text\": \"MUFC\",\n",
      "                    \"indices\": [\n",
      "                        80,\n",
      "                        85\n",
      "                    ]\n",
      "                },\n",
      "                {\n",
      "                    \"text\": \"ChampionsLeague\",\n",
      "                    \"indices\": [\n",
      "                        86,\n",
      "                        102\n",
      "                    ]\n",
      "                }\n",
      "            ],\n",
      "            \"symbols\": [],\n",
      "            \"user_mentions\": [\n",
      "                {\n",
      "                    \"screen_name\": \"ManUtd\",\n",
      "                    \"name\": \"Manchester United\",\n",
      "                    \"id\": 558797310,\n",
      "                    \"id_str\": \"558797310\",\n",
      "                    \"indices\": [\n",
      "                        42,\n",
      "                        49\n",
      "                    ]\n",
      "                }\n",
      "            ],\n",
      "            \"urls\": []\n",
      "        },\n",
      "        \"metadata\": {\n",
      "            \"iso_language_code\": \"en\",\n",
      "            \"result_type\": \"recent\"\n",
      "        },\n",
      "        \"source\": \"<a href=\\\"http://twitter.com/download/iphone\\\" rel=\\\"nofollow\\\">Twitter for iPhone</a>\",\n",
      "        \"in_reply_to_status_id\": null,\n",
      "        \"in_reply_to_status_id_str\": null,\n",
      "        \"in_reply_to_user_id\": null,\n",
      "        \"in_reply_to_user_id_str\": null,\n",
      "        \"in_reply_to_screen_name\": null,\n",
      "        \"user\": {\n",
      "            \"id\": 136966815,\n",
      "            \"id_str\": \"136966815\",\n",
      "            \"name\": \"Danny Webber \\ud83d\\udc1d\",\n",
      "            \"screen_name\": \"DanielWebber81\",\n",
      "            \"location\": \"Manchester\",\n",
      "            \"description\": \"Ex Pro Footballer @ManUtd @WatfordFC @SUFC_tweets @officialpompey @LUFC @SalfordCityFC | Uefa 'A' Coach | Media Enquiries @tonguetweets\",\n",
      "            \"url\": \"https://t.co/3gkfVcwqnC\",\n",
      "            \"entities\": {\n",
      "                \"url\": {\n",
      "                    \"urls\": [\n",
      "                        {\n",
      "                            \"url\": \"https://t.co/3gkfVcwqnC\",\n",
      "                            \"expanded_url\": \"http://www.tonguetiedmedia.co.uk\",\n",
      "                            \"display_url\": \"tonguetiedmedia.co.uk\",\n",
      "                            \"indices\": [\n",
      "                                0,\n",
      "                                23\n",
      "                            ]\n",
      "                        }\n",
      "                    ]\n",
      "                },\n",
      "                \"description\": {\n",
      "                    \"urls\": []\n",
      "                }\n",
      "            },\n",
      "            \"protected\": false,\n",
      "            \"followers_count\": 35700,\n",
      "            \"friends_count\": 3714,\n",
      "            \"listed_count\": 226,\n",
      "            \"created_at\": \"Sun Apr 25 11:54:28 +0000 2010\",\n",
      "            \"favourites_count\": 10336,\n",
      "            \"utc_offset\": null,\n",
      "            \"time_zone\": null,\n",
      "            \"geo_enabled\": true,\n",
      "            \"verified\": true,\n",
      "            \"statuses_count\": 5157,\n",
      "            \"lang\": \"en\",\n",
      "            \"contributors_enabled\": false,\n",
      "            \"is_translator\": false,\n",
      "            \"is_translation_enabled\": false,\n",
      "            \"profile_background_color\": \"050505\",\n",
      "            \"profile_background_image_url\": \"http://abs.twimg.com/images/themes/theme14/bg.gif\",\n",
      "            \"profile_background_image_url_https\": \"https://abs.twimg.com/images/themes/theme14/bg.gif\",\n",
      "            \"profile_background_tile\": false,\n",
      "            \"profile_image_url\": \"http://pbs.twimg.com/profile_images/699723236406390784/-Rs-RqAH_normal.jpg\",\n",
      "            \"profile_image_url_https\": \"https://pbs.twimg.com/profile_images/699723236406390784/-Rs-RqAH_normal.jpg\",\n",
      "            \"profile_banner_url\": \"https://pbs.twimg.com/profile_banners/136966815/1500026262\",\n",
      "            \"profile_link_color\": \"00646B\",\n",
      "            \"profile_sidebar_border_color\": \"FFFFFF\",\n",
      "            \"profile_sidebar_fill_color\": \"EFEFEF\",\n",
      "            \"profile_text_color\": \"333333\",\n",
      "            \"profile_use_background_image\": false,\n",
      "            \"has_extended_profile\": true,\n",
      "            \"default_profile\": false,\n",
      "            \"default_profile_image\": false,\n",
      "            \"following\": false,\n",
      "            \"follow_request_sent\": false,\n",
      "            \"notifications\": false,\n",
      "            \"translator_type\": \"none\"\n",
      "        },\n",
      "        \"geo\": null,\n",
      "        \"coordinates\": null,\n",
      "        \"place\": null,\n",
      "        \"contributors\": null,\n",
      "        \"is_quote_status\": false,\n",
      "        \"retweet_count\": 1091,\n",
      "        \"favorite_count\": 7333,\n",
      "        \"favorited\": false,\n",
      "        \"retweeted\": false,\n",
      "        \"lang\": \"en\"\n",
      "    },\n",
      "    \"is_quote_status\": false,\n",
      "    \"retweet_count\": 1091,\n",
      "    \"favorite_count\": 0,\n",
      "    \"favorited\": false,\n",
      "    \"retweeted\": false,\n",
      "    \"lang\": \"en\"\n",
      "}\n"
     ]
    }
   ],
   "source": [
    "# Show one sample search result by slicing the list...\n",
    "print(json.dumps(statuses[0], indent=4))"
   ]
  },
  {
   "cell_type": "code",
   "execution_count": 15,
   "metadata": {},
   "outputs": [
    {
     "name": "stdout",
     "output_type": "stream",
     "text": [
      "\n",
      "RT @DanielWebber81: And that, ladies and gentlemen... Is what @ManUtd is all about! #OlesAtTheWheel #MUFC #ChampionsLeague\n",
      "Favorites:  0\n",
      "Retweets:  1091\n",
      "\n",
      "Em choque com essa eliminação #ChampionsLeague https://t.co/oWQ2nbOOWQ\n",
      "Favorites:  0\n",
      "Retweets:  0\n",
      "\n",
      "RT @ChrisCowlin: Well, the @ChampionsLeague quarter-final draw will be interesting next week... 😀⚽️👍\n",
      "- Tottenham Hotspur\n",
      "- Manchester Utd\n",
      "-…\n",
      "Favorites:  0\n",
      "Retweets:  4\n"
     ]
    }
   ],
   "source": [
    "for i in range(3):\n",
    "    print()\n",
    "    print(statuses[i]['text'])\n",
    "    print('Favorites: ', statuses[i]['favorite_count'])\n",
    "    print('Retweets: ', statuses[i]['retweet_count'])"
   ]
  },
  {
   "cell_type": "code",
   "execution_count": null,
   "metadata": {},
   "outputs": [],
   "source": []
  }
 ],
 "metadata": {
  "kernelspec": {
   "display_name": "TensorFlow-GPU",
   "language": "python",
   "name": "tf-gpu"
  },
  "language_info": {
   "codemirror_mode": {
    "name": "ipython",
    "version": 3
   },
   "file_extension": ".py",
   "mimetype": "text/x-python",
   "name": "python",
   "nbconvert_exporter": "python",
   "pygments_lexer": "ipython3",
   "version": "3.6.6"
  }
 },
 "nbformat": 4,
 "nbformat_minor": 2
}
