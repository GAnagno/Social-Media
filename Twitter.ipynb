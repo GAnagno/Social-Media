{
 "cells": [
  {
   "cell_type": "markdown",
   "metadata": {},
   "source": [
    "## Authorizing an application to access Twitter account data"
   ]
  },
  {
   "cell_type": "code",
   "execution_count": 1,
   "metadata": {},
   "outputs": [],
   "source": [
    "import tweepy\n",
    "import json"
   ]
  },
  {
   "cell_type": "code",
   "execution_count": 2,
   "metadata": {},
   "outputs": [],
   "source": [
    "from itertools import islice"
   ]
  },
  {
   "cell_type": "code",
   "execution_count": 4,
   "metadata": {},
   "outputs": [],
   "source": [
    "auth = tweepy.auth.OAuthHandler(CONSUMER_KEY, CONSUMER_SECRET)\n",
    "auth.set_access_token(OAUTH_TOKEN, OAUTH_TOKEN_SECRET)\n",
    "api = tweepy.API(auth, parser=tweepy.parsers.JSONParser())"
   ]
  },
  {
   "cell_type": "code",
   "execution_count": 5,
   "metadata": {},
   "outputs": [
    {
     "name": "stdout",
     "output_type": "stream",
     "text": [
      "<tweepy.api.API object at 0x000002045EA130F0>\n"
     ]
    }
   ],
   "source": [
    "print(api)"
   ]
  },
  {
   "cell_type": "markdown",
   "metadata": {},
   "source": [
    "## Retrieving trends"
   ]
  },
  {
   "cell_type": "code",
   "execution_count": 6,
   "metadata": {},
   "outputs": [
    {
     "name": "stdout",
     "output_type": "stream",
     "text": [
      "[\n",
      " {\n",
      "  \"name\": \"#ARSMUN\",\n",
      "  \"url\": \"http://twitter.com/search?q=%23ARSMUN\",\n",
      "  \"promoted_content\": null,\n",
      "  \"query\": \"%23ARSMUN\",\n",
      "  \"tweet_volume\": 197509\n",
      " },\n",
      " {\n",
      "  \"name\": \"Arsenal\",\n",
      "  \"url\": \"http://twitter.com/search?q=Arsenal\",\n",
      "  \"promoted_content\": null,\n",
      "  \"query\": \"Arsenal\",\n",
      "  \"tweet_volume\": 416166\n",
      " },\n",
      " {\n",
      "  \"name\": \"#COYG\",\n",
      "  \"url\": \"http://twitter.com/search?q=%23COYG\",\n",
      "  \"promoted_content\": null,\n",
      "  \"query\": \"%23COYG\",\n",
      "  \"tweet_volume\": 26454\n",
      " }\n",
      "]\n"
     ]
    }
   ],
   "source": [
    "# The Yahoo! Where On Earth ID for the entire world is 1.\n",
    "# See https://dev.twitter.com/docs/api/1.1/get/trends/place and\n",
    "# http://developer.yahoo.com/geo/geoplanet/\n",
    "\n",
    "WORLD_WOE_ID = 1\n",
    "ZH_WOE_ID = 784794\n",
    "\n",
    "world_trends = api.trends_place(WORLD_WOE_ID)\n",
    "zh_trends = api.trends_place(ZH_WOE_ID)\n",
    "\n",
    "print(json.dumps(list(islice(world_trends[0]['trends'], 3)), indent=1))"
   ]
  },
  {
   "cell_type": "code",
   "execution_count": 7,
   "metadata": {},
   "outputs": [
    {
     "name": "stdout",
     "output_type": "stream",
     "text": [
      "{'#QatarGP', '#ARSMUN', 'Arsenal'}\n"
     ]
    }
   ],
   "source": [
    "world_trends_set = set([trend['name'] \n",
    "                        for trend in world_trends[0]['trends']])\n",
    "\n",
    "zh_trends_set = set([trend['name'] \n",
    "                     for trend in zh_trends[0]['trends']])\n",
    "\n",
    "common_trends = world_trends_set.intersection(zh_trends_set)\n",
    "\n",
    "print(common_trends)"
   ]
  },
  {
   "cell_type": "markdown",
   "metadata": {},
   "source": [
    "## Anatomy of a Tweet"
   ]
  },
  {
   "cell_type": "code",
   "execution_count": 8,
   "metadata": {},
   "outputs": [],
   "source": [
    "q = '#QatarGP' \n",
    "\n",
    "count = 100\n",
    "\n",
    "# Import unquote to prevent url encoding errors in next_results\n",
    "from urllib.parse import unquote\n",
    "\n",
    "# See https://dev.twitter.com/rest/reference/get/search/tweets\n",
    "\n",
    "search_results = api.search(q=q, count=count)"
   ]
  },
  {
   "cell_type": "code",
   "execution_count": 9,
   "metadata": {},
   "outputs": [],
   "source": [
    "statuses = search_results['statuses']"
   ]
  },
  {
   "cell_type": "code",
   "execution_count": 10,
   "metadata": {},
   "outputs": [
    {
     "data": {
      "text/plain": [
       "dict_keys(['statuses', 'search_metadata'])"
      ]
     },
     "execution_count": 10,
     "metadata": {},
     "output_type": "execute_result"
    }
   ],
   "source": [
    "search_results.keys()"
   ]
  },
  {
   "cell_type": "code",
   "execution_count": 11,
   "metadata": {},
   "outputs": [
    {
     "name": "stdout",
     "output_type": "stream",
     "text": [
      "Length of statuses 100\n",
      "['max_id=1104830678968004607', 'q=%23QatarGP', 'count=100', 'include_entities=1']\n",
      "Length of statuses 198\n",
      "['max_id=1104829988816199686', 'q=%23QatarGP', 'count=100', 'include_entities=1']\n",
      "Length of statuses 298\n",
      "['max_id=1104829298719014912', 'q=%23QatarGP', 'count=100', 'include_entities=1']\n",
      "Length of statuses 398\n",
      "['max_id=1104828674421870592', 'q=%23QatarGP', 'count=100', 'include_entities=1']\n",
      "Length of statuses 498\n",
      "['max_id=1104828113341632511', 'q=%23QatarGP', 'count=100', 'include_entities=1']\n"
     ]
    }
   ],
   "source": [
    "# Iterate through 5 more batches of results by following the cursor\n",
    "for _ in range(5):\n",
    "    print('Length of statuses', len(statuses))\n",
    "    try:\n",
    "        next_results = search_results['search_metadata']['next_results']\n",
    "    except KeyError as e: # No more results when next_results doesn't exist\n",
    "        break\n",
    "        \n",
    "    # Create a dictionary from next_results, which has the following form:\n",
    "    # ?max_id=847960489447628799&q=%23RIPSelena&count=100&include_entities=1\n",
    "    kwargs = dict([ kv.split('=') for kv in unquote(next_results[1:]).split(\"&\") ])\n",
    "    print(next_results[1:].split(\"&\"))\n",
    "    search_results = api.search(**kwargs)\n",
    "    statuses += search_results['statuses']"
   ]
  },
  {
   "cell_type": "code",
   "execution_count": 12,
   "metadata": {},
   "outputs": [
    {
     "name": "stdout",
     "output_type": "stream",
     "text": [
      "{\n",
      "  \"created_at\": \"Sun Mar 10 19:48:23 +0000 2019\",\n",
      "  \"id\": 1104831384533626881,\n",
      "  \"id_str\": \"1104831384533626881\",\n",
      "  \"text\": \"RT @MotoGP: \\ud83c\\udfc1 #MotoGP RACE\\n\\nConfirmation of the results after a stunning season opener at Losail! \\u23f1\\ufe0f\\n\\n#QatarGP \\ud83c\\uddf6\\ud83c\\udde6 https://t.co/8z0jCavYuJ\",\n",
      "  \"truncated\": false,\n",
      "  \"entities\": {\n",
      "    \"hashtags\": [\n",
      "      {\n",
      "        \"text\": \"MotoGP\",\n",
      "        \"indices\": [\n",
      "          14,\n",
      "          21\n",
      "        ]\n",
      "      },\n",
      "      {\n",
      "        \"text\": \"QatarGP\",\n",
      "        \"indices\": [\n",
      "          102,\n",
      "          110\n",
      "        ]\n",
      "      }\n",
      "    ],\n",
      "    \"symbols\": [],\n",
      "    \"user_mentions\": [\n",
      "      {\n",
      "        \"screen_name\": \"MotoGP\",\n",
      "        \"name\": \"MotoGP\\u2122 \\ud83c\\uddf6\\ud83c\\udde6\",\n",
      "        \"id\": 14082692,\n",
      "        \"id_str\": \"14082692\",\n",
      "        \"indices\": [\n",
      "          3,\n",
      "          10\n",
      "        ]\n",
      "      }\n",
      "    ],\n",
      "    \"urls\": [],\n",
      "    \"media\": [\n",
      "      {\n",
      "        \"id\": 1104807142006185986,\n",
      "        \"id_str\": \"1104807142006185986\",\n",
      "        \"indices\": [\n",
      "          114,\n",
      "          137\n",
      "        ],\n",
      "        \"media_url\": \"http://pbs.twimg.com/media/D1UQPfyX4AI3MNk.jpg\",\n",
      "        \"media_url_https\": \"https://pbs.twimg.com/media/D1UQPfyX4AI3MNk.jpg\",\n",
      "        \"url\": \"https://t.co/8z0jCavYuJ\",\n",
      "        \"display_url\": \"pic.twitter.com/8z0jCavYuJ\",\n",
      "        \"expanded_url\": \"https://twitter.com/MotoGP/status/1104807172859486208/photo/1\",\n",
      "        \"type\": \"photo\",\n",
      "        \"sizes\": {\n",
      "          \"thumb\": {\n",
      "            \"w\": 150,\n",
      "            \"h\": 150,\n",
      "            \"resize\": \"crop\"\n",
      "          },\n",
      "          \"small\": {\n",
      "            \"w\": 680,\n",
      "            \"h\": 383,\n",
      "            \"resize\": \"fit\"\n",
      "          },\n",
      "          \"medium\": {\n",
      "            \"w\": 1200,\n",
      "            \"h\": 675,\n",
      "            \"resize\": \"fit\"\n",
      "          },\n",
      "          \"large\": {\n",
      "            \"w\": 1920,\n",
      "            \"h\": 1080,\n",
      "            \"resize\": \"fit\"\n",
      "          }\n",
      "        },\n",
      "        \"source_status_id\": 1104807172859486208,\n",
      "        \"source_status_id_str\": \"1104807172859486208\",\n",
      "        \"source_user_id\": 14082692,\n",
      "        \"source_user_id_str\": \"14082692\"\n",
      "      }\n",
      "    ]\n",
      "  },\n",
      "  \"extended_entities\": {\n",
      "    \"media\": [\n",
      "      {\n",
      "        \"id\": 1104807142006185986,\n",
      "        \"id_str\": \"1104807142006185986\",\n",
      "        \"indices\": [\n",
      "          114,\n",
      "          137\n",
      "        ],\n",
      "        \"media_url\": \"http://pbs.twimg.com/media/D1UQPfyX4AI3MNk.jpg\",\n",
      "        \"media_url_https\": \"https://pbs.twimg.com/media/D1UQPfyX4AI3MNk.jpg\",\n",
      "        \"url\": \"https://t.co/8z0jCavYuJ\",\n",
      "        \"display_url\": \"pic.twitter.com/8z0jCavYuJ\",\n",
      "        \"expanded_url\": \"https://twitter.com/MotoGP/status/1104807172859486208/photo/1\",\n",
      "        \"type\": \"photo\",\n",
      "        \"sizes\": {\n",
      "          \"thumb\": {\n",
      "            \"w\": 150,\n",
      "            \"h\": 150,\n",
      "            \"resize\": \"crop\"\n",
      "          },\n",
      "          \"small\": {\n",
      "            \"w\": 680,\n",
      "            \"h\": 383,\n",
      "            \"resize\": \"fit\"\n",
      "          },\n",
      "          \"medium\": {\n",
      "            \"w\": 1200,\n",
      "            \"h\": 675,\n",
      "            \"resize\": \"fit\"\n",
      "          },\n",
      "          \"large\": {\n",
      "            \"w\": 1920,\n",
      "            \"h\": 1080,\n",
      "            \"resize\": \"fit\"\n",
      "          }\n",
      "        },\n",
      "        \"source_status_id\": 1104807172859486208,\n",
      "        \"source_status_id_str\": \"1104807172859486208\",\n",
      "        \"source_user_id\": 14082692,\n",
      "        \"source_user_id_str\": \"14082692\"\n",
      "      },\n",
      "      {\n",
      "        \"id\": 1104807142031347712,\n",
      "        \"id_str\": \"1104807142031347712\",\n",
      "        \"indices\": [\n",
      "          114,\n",
      "          137\n",
      "        ],\n",
      "        \"media_url\": \"http://pbs.twimg.com/media/D1UQPf4X0AAP6f9.jpg\",\n",
      "        \"media_url_https\": \"https://pbs.twimg.com/media/D1UQPf4X0AAP6f9.jpg\",\n",
      "        \"url\": \"https://t.co/8z0jCavYuJ\",\n",
      "        \"display_url\": \"pic.twitter.com/8z0jCavYuJ\",\n",
      "        \"expanded_url\": \"https://twitter.com/MotoGP/status/1104807172859486208/photo/1\",\n",
      "        \"type\": \"photo\",\n",
      "        \"sizes\": {\n",
      "          \"thumb\": {\n",
      "            \"w\": 150,\n",
      "            \"h\": 150,\n",
      "            \"resize\": \"crop\"\n",
      "          },\n",
      "          \"small\": {\n",
      "            \"w\": 680,\n",
      "            \"h\": 383,\n",
      "            \"resize\": \"fit\"\n",
      "          },\n",
      "          \"medium\": {\n",
      "            \"w\": 1200,\n",
      "            \"h\": 675,\n",
      "            \"resize\": \"fit\"\n",
      "          },\n",
      "          \"large\": {\n",
      "            \"w\": 1920,\n",
      "            \"h\": 1080,\n",
      "            \"resize\": \"fit\"\n",
      "          }\n",
      "        },\n",
      "        \"source_status_id\": 1104807172859486208,\n",
      "        \"source_status_id_str\": \"1104807172859486208\",\n",
      "        \"source_user_id\": 14082692,\n",
      "        \"source_user_id_str\": \"14082692\"\n",
      "      },\n",
      "      {\n",
      "        \"id\": 1104807142010306561,\n",
      "        \"id_str\": \"1104807142010306561\",\n",
      "        \"indices\": [\n",
      "          114,\n",
      "          137\n",
      "        ],\n",
      "        \"media_url\": \"http://pbs.twimg.com/media/D1UQPfzWwAEagOm.jpg\",\n",
      "        \"media_url_https\": \"https://pbs.twimg.com/media/D1UQPfzWwAEagOm.jpg\",\n",
      "        \"url\": \"https://t.co/8z0jCavYuJ\",\n",
      "        \"display_url\": \"pic.twitter.com/8z0jCavYuJ\",\n",
      "        \"expanded_url\": \"https://twitter.com/MotoGP/status/1104807172859486208/photo/1\",\n",
      "        \"type\": \"photo\",\n",
      "        \"sizes\": {\n",
      "          \"thumb\": {\n",
      "            \"w\": 150,\n",
      "            \"h\": 150,\n",
      "            \"resize\": \"crop\"\n",
      "          },\n",
      "          \"medium\": {\n",
      "            \"w\": 1200,\n",
      "            \"h\": 675,\n",
      "            \"resize\": \"fit\"\n",
      "          },\n",
      "          \"small\": {\n",
      "            \"w\": 680,\n",
      "            \"h\": 383,\n",
      "            \"resize\": \"fit\"\n",
      "          },\n",
      "          \"large\": {\n",
      "            \"w\": 1920,\n",
      "            \"h\": 1080,\n",
      "            \"resize\": \"fit\"\n",
      "          }\n",
      "        },\n",
      "        \"source_status_id\": 1104807172859486208,\n",
      "        \"source_status_id_str\": \"1104807172859486208\",\n",
      "        \"source_user_id\": 14082692,\n",
      "        \"source_user_id_str\": \"14082692\"\n",
      "      }\n",
      "    ]\n",
      "  },\n",
      "  \"metadata\": {\n",
      "    \"iso_language_code\": \"en\",\n",
      "    \"result_type\": \"recent\"\n",
      "  },\n",
      "  \"source\": \"<a href=\\\"http://twitter.com\\\" rel=\\\"nofollow\\\">Twitter Web Client</a>\",\n",
      "  \"in_reply_to_status_id\": null,\n",
      "  \"in_reply_to_status_id_str\": null,\n",
      "  \"in_reply_to_user_id\": null,\n",
      "  \"in_reply_to_user_id_str\": null,\n",
      "  \"in_reply_to_screen_name\": null,\n",
      "  \"user\": {\n",
      "    \"id\": 3222922286,\n",
      "    \"id_str\": \"3222922286\",\n",
      "    \"name\": \"IamI777\",\n",
      "    \"screen_name\": \"coffeeholix777\",\n",
      "    \"location\": \"\",\n",
      "    \"description\": \"\",\n",
      "    \"url\": null,\n",
      "    \"entities\": {\n",
      "      \"description\": {\n",
      "        \"urls\": []\n",
      "      }\n",
      "    },\n",
      "    \"protected\": false,\n",
      "    \"followers_count\": 506,\n",
      "    \"friends_count\": 3715,\n",
      "    \"listed_count\": 0,\n",
      "    \"created_at\": \"Fri May 22 03:55:18 +0000 2015\",\n",
      "    \"favourites_count\": 1762,\n",
      "    \"utc_offset\": null,\n",
      "    \"time_zone\": null,\n",
      "    \"geo_enabled\": false,\n",
      "    \"verified\": false,\n",
      "    \"statuses_count\": 2022,\n",
      "    \"lang\": \"en\",\n",
      "    \"contributors_enabled\": false,\n",
      "    \"is_translator\": false,\n",
      "    \"is_translation_enabled\": false,\n",
      "    \"profile_background_color\": \"000000\",\n",
      "    \"profile_background_image_url\": \"http://abs.twimg.com/images/themes/theme1/bg.png\",\n",
      "    \"profile_background_image_url_https\": \"https://abs.twimg.com/images/themes/theme1/bg.png\",\n",
      "    \"profile_background_tile\": true,\n",
      "    \"profile_image_url\": \"http://pbs.twimg.com/profile_images/1032237624474329089/YE4gBEcG_normal.jpg\",\n",
      "    \"profile_image_url_https\": \"https://pbs.twimg.com/profile_images/1032237624474329089/YE4gBEcG_normal.jpg\",\n",
      "    \"profile_banner_url\": \"https://pbs.twimg.com/profile_banners/3222922286/1432275832\",\n",
      "    \"profile_link_color\": \"000000\",\n",
      "    \"profile_sidebar_border_color\": \"000000\",\n",
      "    \"profile_sidebar_fill_color\": \"000000\",\n",
      "    \"profile_text_color\": \"000000\",\n",
      "    \"profile_use_background_image\": true,\n",
      "    \"has_extended_profile\": false,\n",
      "    \"default_profile\": false,\n",
      "    \"default_profile_image\": false,\n",
      "    \"following\": false,\n",
      "    \"follow_request_sent\": false,\n",
      "    \"notifications\": false,\n",
      "    \"translator_type\": \"none\"\n",
      "  },\n",
      "  \"geo\": null,\n",
      "  \"coordinates\": null,\n",
      "  \"place\": null,\n",
      "  \"contributors\": null,\n",
      "  \"retweeted_status\": {\n",
      "    \"created_at\": \"Sun Mar 10 18:12:10 +0000 2019\",\n",
      "    \"id\": 1104807172859486208,\n",
      "    \"id_str\": \"1104807172859486208\",\n",
      "    \"text\": \"\\ud83c\\udfc1 #MotoGP RACE\\n\\nConfirmation of the results after a stunning season opener at Losail! \\u23f1\\ufe0f\\n\\n#QatarGP \\ud83c\\uddf6\\ud83c\\udde6 https://t.co/8z0jCavYuJ\",\n",
      "    \"truncated\": false,\n",
      "    \"entities\": {\n",
      "      \"hashtags\": [\n",
      "        {\n",
      "          \"text\": \"MotoGP\",\n",
      "          \"indices\": [\n",
      "            2,\n",
      "            9\n",
      "          ]\n",
      "        },\n",
      "        {\n",
      "          \"text\": \"QatarGP\",\n",
      "          \"indices\": [\n",
      "            90,\n",
      "            98\n",
      "          ]\n",
      "        }\n",
      "      ],\n",
      "      \"symbols\": [],\n",
      "      \"user_mentions\": [],\n",
      "      \"urls\": [],\n",
      "      \"media\": [\n",
      "        {\n",
      "          \"id\": 1104807142006185986,\n",
      "          \"id_str\": \"1104807142006185986\",\n",
      "          \"indices\": [\n",
      "            102,\n",
      "            125\n",
      "          ],\n",
      "          \"media_url\": \"http://pbs.twimg.com/media/D1UQPfyX4AI3MNk.jpg\",\n",
      "          \"media_url_https\": \"https://pbs.twimg.com/media/D1UQPfyX4AI3MNk.jpg\",\n",
      "          \"url\": \"https://t.co/8z0jCavYuJ\",\n",
      "          \"display_url\": \"pic.twitter.com/8z0jCavYuJ\",\n",
      "          \"expanded_url\": \"https://twitter.com/MotoGP/status/1104807172859486208/photo/1\",\n",
      "          \"type\": \"photo\",\n",
      "          \"sizes\": {\n",
      "            \"thumb\": {\n",
      "              \"w\": 150,\n",
      "              \"h\": 150,\n",
      "              \"resize\": \"crop\"\n",
      "            },\n",
      "            \"small\": {\n",
      "              \"w\": 680,\n",
      "              \"h\": 383,\n",
      "              \"resize\": \"fit\"\n",
      "            },\n",
      "            \"medium\": {\n",
      "              \"w\": 1200,\n",
      "              \"h\": 675,\n",
      "              \"resize\": \"fit\"\n",
      "            },\n",
      "            \"large\": {\n",
      "              \"w\": 1920,\n",
      "              \"h\": 1080,\n",
      "              \"resize\": \"fit\"\n",
      "            }\n",
      "          }\n",
      "        }\n",
      "      ]\n",
      "    },\n",
      "    \"extended_entities\": {\n",
      "      \"media\": [\n",
      "        {\n",
      "          \"id\": 1104807142006185986,\n",
      "          \"id_str\": \"1104807142006185986\",\n",
      "          \"indices\": [\n",
      "            102,\n",
      "            125\n",
      "          ],\n",
      "          \"media_url\": \"http://pbs.twimg.com/media/D1UQPfyX4AI3MNk.jpg\",\n",
      "          \"media_url_https\": \"https://pbs.twimg.com/media/D1UQPfyX4AI3MNk.jpg\",\n",
      "          \"url\": \"https://t.co/8z0jCavYuJ\",\n",
      "          \"display_url\": \"pic.twitter.com/8z0jCavYuJ\",\n",
      "          \"expanded_url\": \"https://twitter.com/MotoGP/status/1104807172859486208/photo/1\",\n",
      "          \"type\": \"photo\",\n",
      "          \"sizes\": {\n",
      "            \"thumb\": {\n",
      "              \"w\": 150,\n",
      "              \"h\": 150,\n",
      "              \"resize\": \"crop\"\n",
      "            },\n",
      "            \"small\": {\n",
      "              \"w\": 680,\n",
      "              \"h\": 383,\n",
      "              \"resize\": \"fit\"\n",
      "            },\n",
      "            \"medium\": {\n",
      "              \"w\": 1200,\n",
      "              \"h\": 675,\n",
      "              \"resize\": \"fit\"\n",
      "            },\n",
      "            \"large\": {\n",
      "              \"w\": 1920,\n",
      "              \"h\": 1080,\n",
      "              \"resize\": \"fit\"\n",
      "            }\n",
      "          }\n",
      "        },\n",
      "        {\n",
      "          \"id\": 1104807142031347712,\n",
      "          \"id_str\": \"1104807142031347712\",\n",
      "          \"indices\": [\n",
      "            102,\n",
      "            125\n",
      "          ],\n",
      "          \"media_url\": \"http://pbs.twimg.com/media/D1UQPf4X0AAP6f9.jpg\",\n",
      "          \"media_url_https\": \"https://pbs.twimg.com/media/D1UQPf4X0AAP6f9.jpg\",\n",
      "          \"url\": \"https://t.co/8z0jCavYuJ\",\n",
      "          \"display_url\": \"pic.twitter.com/8z0jCavYuJ\",\n",
      "          \"expanded_url\": \"https://twitter.com/MotoGP/status/1104807172859486208/photo/1\",\n",
      "          \"type\": \"photo\",\n",
      "          \"sizes\": {\n",
      "            \"thumb\": {\n",
      "              \"w\": 150,\n",
      "              \"h\": 150,\n",
      "              \"resize\": \"crop\"\n",
      "            },\n",
      "            \"small\": {\n",
      "              \"w\": 680,\n",
      "              \"h\": 383,\n",
      "              \"resize\": \"fit\"\n",
      "            },\n",
      "            \"medium\": {\n",
      "              \"w\": 1200,\n",
      "              \"h\": 675,\n",
      "              \"resize\": \"fit\"\n",
      "            },\n",
      "            \"large\": {\n",
      "              \"w\": 1920,\n",
      "              \"h\": 1080,\n",
      "              \"resize\": \"fit\"\n",
      "            }\n",
      "          }\n",
      "        },\n",
      "        {\n",
      "          \"id\": 1104807142010306561,\n",
      "          \"id_str\": \"1104807142010306561\",\n",
      "          \"indices\": [\n",
      "            102,\n",
      "            125\n",
      "          ],\n",
      "          \"media_url\": \"http://pbs.twimg.com/media/D1UQPfzWwAEagOm.jpg\",\n",
      "          \"media_url_https\": \"https://pbs.twimg.com/media/D1UQPfzWwAEagOm.jpg\",\n",
      "          \"url\": \"https://t.co/8z0jCavYuJ\",\n",
      "          \"display_url\": \"pic.twitter.com/8z0jCavYuJ\",\n",
      "          \"expanded_url\": \"https://twitter.com/MotoGP/status/1104807172859486208/photo/1\",\n",
      "          \"type\": \"photo\",\n",
      "          \"sizes\": {\n",
      "            \"thumb\": {\n",
      "              \"w\": 150,\n",
      "              \"h\": 150,\n",
      "              \"resize\": \"crop\"\n",
      "            },\n",
      "            \"medium\": {\n",
      "              \"w\": 1200,\n",
      "              \"h\": 675,\n",
      "              \"resize\": \"fit\"\n",
      "            },\n",
      "            \"small\": {\n",
      "              \"w\": 680,\n",
      "              \"h\": 383,\n",
      "              \"resize\": \"fit\"\n",
      "            },\n",
      "            \"large\": {\n",
      "              \"w\": 1920,\n",
      "              \"h\": 1080,\n",
      "              \"resize\": \"fit\"\n",
      "            }\n",
      "          }\n",
      "        }\n",
      "      ]\n",
      "    },\n",
      "    \"metadata\": {\n",
      "      \"iso_language_code\": \"en\",\n",
      "      \"result_type\": \"recent\"\n",
      "    },\n",
      "    \"source\": \"<a href=\\\"https://about.twitter.com/products/tweetdeck\\\" rel=\\\"nofollow\\\">TweetDeck</a>\",\n",
      "    \"in_reply_to_status_id\": null,\n",
      "    \"in_reply_to_status_id_str\": null,\n",
      "    \"in_reply_to_user_id\": null,\n",
      "    \"in_reply_to_user_id_str\": null,\n",
      "    \"in_reply_to_screen_name\": null,\n",
      "    \"user\": {\n",
      "      \"id\": 14082692,\n",
      "      \"id_str\": \"14082692\",\n",
      "      \"name\": \"MotoGP\\u2122 \\ud83c\\uddf6\\ud83c\\udde6\",\n",
      "      \"screen_name\": \"MotoGP\",\n",
      "      \"location\": \"The World\",\n",
      "      \"description\": \"First on the throttle, last on the brakes.\",\n",
      "      \"url\": \"https://t.co/BhSH9SjnvW\",\n",
      "      \"entities\": {\n",
      "        \"url\": {\n",
      "          \"urls\": [\n",
      "            {\n",
      "              \"url\": \"https://t.co/BhSH9SjnvW\",\n",
      "              \"expanded_url\": \"http://www.motogp.com\",\n",
      "              \"display_url\": \"motogp.com\",\n",
      "              \"indices\": [\n",
      "                0,\n",
      "                23\n",
      "              ]\n",
      "            }\n",
      "          ]\n",
      "        },\n",
      "        \"description\": {\n",
      "          \"urls\": []\n",
      "        }\n",
      "      },\n",
      "      \"protected\": false,\n",
      "      \"followers_count\": 2499838,\n",
      "      \"friends_count\": 288,\n",
      "      \"listed_count\": 10285,\n",
      "      \"created_at\": \"Wed Mar 05 11:19:05 +0000 2008\",\n",
      "      \"favourites_count\": 8009,\n",
      "      \"utc_offset\": null,\n",
      "      \"time_zone\": null,\n",
      "      \"geo_enabled\": true,\n",
      "      \"verified\": true,\n",
      "      \"statuses_count\": 58172,\n",
      "      \"lang\": \"en\",\n",
      "      \"contributors_enabled\": false,\n",
      "      \"is_translator\": false,\n",
      "      \"is_translation_enabled\": false,\n",
      "      \"profile_background_color\": \"000000\",\n",
      "      \"profile_background_image_url\": \"http://abs.twimg.com/images/themes/theme1/bg.png\",\n",
      "      \"profile_background_image_url_https\": \"https://abs.twimg.com/images/themes/theme1/bg.png\",\n",
      "      \"profile_background_tile\": false,\n",
      "      \"profile_image_url\": \"http://pbs.twimg.com/profile_images/466637052885217280/sVktQhxZ_normal.png\",\n",
      "      \"profile_image_url_https\": \"https://pbs.twimg.com/profile_images/466637052885217280/sVktQhxZ_normal.png\",\n",
      "      \"profile_banner_url\": \"https://pbs.twimg.com/profile_banners/14082692/1552243196\",\n",
      "      \"profile_link_color\": \"ED134D\",\n",
      "      \"profile_sidebar_border_color\": \"FFFFFF\",\n",
      "      \"profile_sidebar_fill_color\": \"DEDEDE\",\n",
      "      \"profile_text_color\": \"262626\",\n",
      "      \"profile_use_background_image\": true,\n",
      "      \"has_extended_profile\": false,\n",
      "      \"default_profile\": false,\n",
      "      \"default_profile_image\": false,\n",
      "      \"following\": false,\n",
      "      \"follow_request_sent\": false,\n",
      "      \"notifications\": false,\n",
      "      \"translator_type\": \"none\"\n",
      "    },\n",
      "    \"geo\": null,\n",
      "    \"coordinates\": null,\n",
      "    \"place\": null,\n",
      "    \"contributors\": null,\n",
      "    \"is_quote_status\": false,\n",
      "    \"retweet_count\": 378,\n",
      "    \"favorite_count\": 755,\n",
      "    \"favorited\": false,\n",
      "    \"retweeted\": false,\n",
      "    \"possibly_sensitive\": false,\n",
      "    \"lang\": \"en\"\n",
      "  },\n",
      "  \"is_quote_status\": false,\n",
      "  \"retweet_count\": 378,\n",
      "  \"favorite_count\": 0,\n",
      "  \"favorited\": false,\n",
      "  \"retweeted\": false,\n",
      "  \"possibly_sensitive\": false,\n",
      "  \"lang\": \"en\"\n",
      "}\n"
     ]
    }
   ],
   "source": [
    "# Show one sample search result by slicing the list...\n",
    "print(json.dumps(statuses[0], indent=2))"
   ]
  },
  {
   "cell_type": "code",
   "execution_count": 13,
   "metadata": {},
   "outputs": [
    {
     "name": "stdout",
     "output_type": "stream",
     "text": [
      "\n",
      "RT @MotoGP: 🏁 #MotoGP RACE\n",
      "\n",
      "Confirmation of the results after a stunning season opener at Losail! ⏱️\n",
      "\n",
      "#QatarGP 🇶🇦 https://t.co/8z0jCavYuJ\n",
      "Favorites:  0\n",
      "Retweets:  378\n",
      "\n",
      "RT @MotoGP: First #MotoGP winner of 2019 💪\n",
      "\n",
      "@AndreaDovizioso took another victory on the finish line at the #QatarGP 🏁 https://t.co/H94HHCz…\n",
      "Favorites:  0\n",
      "Retweets:  10\n",
      "\n",
      "RT @MotoGP: “Eventually I would love to try a MotoGP bike, that’s the dream.” 💬 \n",
      "\n",
      "5 time F1 World Champion @LewisHamilton  certainly enjoye…\n",
      "Favorites:  0\n",
      "Retweets:  465\n"
     ]
    }
   ],
   "source": [
    "for i in range(3):\n",
    "    print()\n",
    "    print(statuses[i]['text'])\n",
    "    print('Favorites: ', statuses[i]['favorite_count'])\n",
    "    print('Retweets: ', statuses[i]['retweet_count'])"
   ]
  },
  {
   "cell_type": "markdown",
   "metadata": {},
   "source": [
    "## Extracting text, screen names, and hashtags from tweets"
   ]
  },
  {
   "cell_type": "code",
   "execution_count": 14,
   "metadata": {},
   "outputs": [
    {
     "name": "stdout",
     "output_type": "stream",
     "text": [
      "[\n",
      " \"RT @MotoGP: \\ud83c\\udfc1 #MotoGP RACE\\n\\nConfirmation of the results after a stunning season opener at Losail! \\u23f1\\ufe0f\\n\\n#QatarGP \\ud83c\\uddf6\\ud83c\\udde6 https://t.co/8z0jCavYuJ\",\n",
      " \"RT @MotoGP: First #MotoGP winner of 2019 \\ud83d\\udcaa\\n\\n@AndreaDovizioso took another victory on the finish line at the #QatarGP \\ud83c\\udfc1 https://t.co/H94HHCz\\u2026\",\n",
      " \"RT @MotoGP: \\u201cEventually I would love to try a MotoGP bike, that\\u2019s the dream.\\u201d \\ud83d\\udcac \\n\\n5 time F1 World Champion @LewisHamilton  certainly enjoye\\u2026\",\n",
      " \"RT @MotoGP: First #MotoGP winner of 2019 \\ud83d\\udcaa\\n\\n@AndreaDovizioso took another victory on the finish line at the #QatarGP \\ud83c\\udfc1 https://t.co/H94HHCz\\u2026\",\n",
      " \"RT @MotoGP: Spot the difference \\ud83d\\ude09\\n\\n#QatarGP \\ud83c\\uddf6\\ud83c\\udde6 https://t.co/Uw0BrS6yrL\"\n",
      "]\n",
      "[\n",
      " \"MotoGP\",\n",
      " \"MotoGP\",\n",
      " \"AndreaDovizioso\",\n",
      " \"MotoGP\",\n",
      " \"LewisHamilton\"\n",
      "]\n",
      "[\n",
      " \"MotoGP\",\n",
      " \"QatarGP\",\n",
      " \"MotoGP\",\n",
      " \"QatarGP\",\n",
      " \"MotoGP\"\n",
      "]\n",
      "[\n",
      " \"RT\",\n",
      " \"@MotoGP:\",\n",
      " \"\\ud83c\\udfc1\",\n",
      " \"#MotoGP\",\n",
      " \"RACE\"\n",
      "]\n"
     ]
    }
   ],
   "source": [
    "status_texts = [ status['text'] \n",
    "                 for status in statuses ]\n",
    "\n",
    "screen_names = [ user_mention['screen_name'] \n",
    "                 for status in statuses\n",
    "                     for user_mention in status['entities']['user_mentions'] ]\n",
    "\n",
    "hashtags = [ hashtag['text'] \n",
    "             for status in statuses\n",
    "                 for hashtag in status['entities']['hashtags'] ]\n",
    "\n",
    "# Compute a collection of all words from all tweets\n",
    "words = [ w \n",
    "          for t in status_texts \n",
    "              for w in t.split() ]\n",
    "\n",
    "# Explore the first 5 items for each...\n",
    "\n",
    "print(json.dumps(status_texts[0:5], indent=1))\n",
    "print(json.dumps(screen_names[0:5], indent=1) )\n",
    "print(json.dumps(hashtags[0:5], indent=1))\n",
    "print(json.dumps(words[0:5], indent=1))"
   ]
  },
  {
   "cell_type": "markdown",
   "metadata": {},
   "source": [
    "## Creating a basic frequency distribution from the words in tweets"
   ]
  },
  {
   "cell_type": "code",
   "execution_count": 15,
   "metadata": {},
   "outputs": [
    {
     "name": "stdout",
     "output_type": "stream",
     "text": [
      "[('RT', 513), ('#QatarGP', 471), ('the', 352), ('@MotoGP:', 268), ('🇶🇦', 233), ('#MotoGP', 140), ('of', 114), ('a', 114), ('to', 112), ('in', 109)]\n",
      "\n",
      "[('MotoGP', 295), ('AndreaDovizioso', 112), ('marcmarquez93', 78), ('ValeYellow46', 59), ('btsportmotogp', 23), ('LewisHamilton', 21), ('YamahaMotoGP', 19), ('DucatiMotor', 17), ('KaitoToba', 15), ('calcrutchlow', 14)]\n",
      "\n",
      "[('QatarGP', 486), ('MotoGP', 155), ('MM93', 16), ('MonsterYamaha', 16), ('SkyMotori', 15), ('Dovizioso', 13), ('MotoGP_jp', 12), ('Moto2', 12), ('Moto3', 12), ('ForzaDucati', 12)]\n",
      "\n"
     ]
    }
   ],
   "source": [
    "from collections import Counter\n",
    "\n",
    "for item in [words, screen_names, hashtags]:\n",
    "    c = Counter(item)\n",
    "    print(c.most_common()[:10]) # top 10\n",
    "    print()"
   ]
  },
  {
   "cell_type": "markdown",
   "metadata": {},
   "source": [
    "## Using prettytable to display tuples in a nice tabular format"
   ]
  },
  {
   "cell_type": "code",
   "execution_count": 16,
   "metadata": {},
   "outputs": [
    {
     "name": "stdout",
     "output_type": "stream",
     "text": [
      "+----------+-------+\n",
      "| Word     | Count |\n",
      "+----------+-------+\n",
      "| RT       |   513 |\n",
      "| #QatarGP |   471 |\n",
      "| the      |   352 |\n",
      "| @MotoGP: |   268 |\n",
      "| 🇶🇦       |   233 |\n",
      "| #MotoGP  |   140 |\n",
      "| of       |   114 |\n",
      "| a        |   114 |\n",
      "| to       |   112 |\n",
      "| in       |   109 |\n",
      "+----------+-------+\n",
      "+-----------------+-------+\n",
      "| Screen Name     | Count |\n",
      "+-----------------+-------+\n",
      "| MotoGP          |   295 |\n",
      "| AndreaDovizioso |   112 |\n",
      "| marcmarquez93   |    78 |\n",
      "| ValeYellow46    |    59 |\n",
      "| btsportmotogp   |    23 |\n",
      "| LewisHamilton   |    21 |\n",
      "| YamahaMotoGP    |    19 |\n",
      "| DucatiMotor     |    17 |\n",
      "| KaitoToba       |    15 |\n",
      "| calcrutchlow    |    14 |\n",
      "+-----------------+-------+\n",
      "+---------------+-------+\n",
      "| Hashtag       | Count |\n",
      "+---------------+-------+\n",
      "| QatarGP       |   486 |\n",
      "| MotoGP        |   155 |\n",
      "| MM93          |    16 |\n",
      "| MonsterYamaha |    16 |\n",
      "| SkyMotori     |    15 |\n",
      "| Dovizioso     |    13 |\n",
      "| MotoGP_jp     |    12 |\n",
      "| Moto2         |    12 |\n",
      "| Moto3         |    12 |\n",
      "| ForzaDucati   |    12 |\n",
      "+---------------+-------+\n"
     ]
    }
   ],
   "source": [
    "from prettytable import PrettyTable\n",
    "\n",
    "for label, data in (('Word', words), \n",
    "                    ('Screen Name', screen_names), \n",
    "                    ('Hashtag', hashtags)):\n",
    "    pt = PrettyTable(field_names=[label, 'Count']) \n",
    "    c = Counter(data)\n",
    "    [ pt.add_row(kv) for kv in c.most_common()[:10] ]\n",
    "    pt.align[label], pt.align['Count'] = 'l', 'r' # Set column alignment\n",
    "    print(pt)"
   ]
  },
  {
   "cell_type": "markdown",
   "metadata": {},
   "source": [
    "## Calculating lexical diversity for tweets"
   ]
  },
  {
   "cell_type": "code",
   "execution_count": 17,
   "metadata": {},
   "outputs": [
    {
     "name": "stdout",
     "output_type": "stream",
     "text": [
      "0.2236764416453454\n",
      "0.14948453608247422\n",
      "0.11267605633802817\n",
      "16.993311036789297\n"
     ]
    }
   ],
   "source": [
    "# A function for computing lexical diversity\n",
    "def lexical_diversity(tokens):\n",
    "    return len(set(tokens))/len(tokens) \n",
    "\n",
    "# A function for computing the average number of words per tweet\n",
    "def average_words(statuses):\n",
    "    total_words = sum([ len(s.split()) for s in statuses ]) \n",
    "    return total_words/len(statuses)\n",
    "\n",
    "print(lexical_diversity(words))\n",
    "print(lexical_diversity(screen_names))\n",
    "print(lexical_diversity(hashtags))\n",
    "print(average_words(status_texts))"
   ]
  },
  {
   "cell_type": "markdown",
   "metadata": {},
   "source": [
    "## Finding the most popular retweets"
   ]
  },
  {
   "cell_type": "code",
   "execution_count": 18,
   "metadata": {},
   "outputs": [
    {
     "name": "stdout",
     "output_type": "stream",
     "text": [
      "+-------+-------------+---------------------+-------------------------------------+\n",
      "| Count | Screen Name | Tweet ID            | Text                                |\n",
      "+-------+-------------+---------------------+-------------------------------------+\n",
      "| 1082  | MotoGP      | 1104815706271551488 | RT @MotoGP: Spot the difference 😉   |\n",
      "|       |             |                     |                                     |\n",
      "|       |             |                     | #QatarGP 🇶🇦 https://t.co/Uw0BrS6yrL |\n",
      "| 1082  | MotoGP      | 1104815706271551488 | RT @MotoGP: Spot the difference 😉   |\n",
      "|       |             |                     |                                     |\n",
      "|       |             |                     | #QatarGP 🇶🇦 https://t.co/Uw0BrS6yrL |\n",
      "| 1082  | MotoGP      | 1104815706271551488 | RT @MotoGP: Spot the difference 😉   |\n",
      "|       |             |                     |                                     |\n",
      "|       |             |                     | #QatarGP 🇶🇦 https://t.co/Uw0BrS6yrL |\n",
      "| 1082  | MotoGP      | 1104815706271551488 | RT @MotoGP: Spot the difference 😉   |\n",
      "|       |             |                     |                                     |\n",
      "|       |             |                     | #QatarGP 🇶🇦 https://t.co/Uw0BrS6yrL |\n",
      "| 1082  | MotoGP      | 1104815706271551488 | RT @MotoGP: Spot the difference 😉   |\n",
      "|       |             |                     |                                     |\n",
      "|       |             |                     | #QatarGP 🇶🇦 https://t.co/Uw0BrS6yrL |\n",
      "+-------+-------------+---------------------+-------------------------------------+\n"
     ]
    }
   ],
   "source": [
    "retweets = [\n",
    "            # Store out a tuple of these three values ...\n",
    "            (status['retweet_count'], \n",
    "             status['retweeted_status']['user']['screen_name'],\n",
    "             status['retweeted_status']['id'],\n",
    "             status['text']) \n",
    "            \n",
    "            # ... for each status ...\n",
    "            for status in statuses \n",
    "            \n",
    "            # ... so long as the status meets this condition.\n",
    "                if 'retweeted_status' in status.keys()\n",
    "           ]\n",
    "\n",
    "# Slice off the first 5 from the sorted results and display each item in the tuple\n",
    "\n",
    "pt = PrettyTable(field_names=['Count', 'Screen Name', 'Tweet ID', 'Text'])\n",
    "[ pt.add_row(row) for row in sorted(retweets, reverse=True)[:5] ]\n",
    "pt.max_width['Text'] = 50\n",
    "pt.align= 'l'\n",
    "print(pt)"
   ]
  },
  {
   "cell_type": "markdown",
   "metadata": {},
   "source": [
    "## Looking up users who have retweeted a status"
   ]
  },
  {
   "cell_type": "code",
   "execution_count": 19,
   "metadata": {},
   "outputs": [
    {
     "name": "stdout",
     "output_type": "stream",
     "text": [
      "['ashcairo', 'xcreatedev']\n"
     ]
    }
   ],
   "source": [
    "# Get the original tweet id for a tweet from its retweeted_status node \n",
    "# and insert it here\n",
    "\n",
    "_retweets = api.retweets(id= 1102813316089634816)\n",
    "print([r['user']['screen_name'] for r in _retweets])"
   ]
  },
  {
   "cell_type": "markdown",
   "metadata": {},
   "source": [
    "## Plotting frequencies of words"
   ]
  },
  {
   "cell_type": "code",
   "execution_count": 20,
   "metadata": {},
   "outputs": [
    {
     "data": {
      "text/plain": [
       "Text(0.5, 0, 'Word Rank')"
      ]
     },
     "execution_count": 20,
     "metadata": {},
     "output_type": "execute_result"
    },
    {
     "data": {
      "image/png": "[encoded data removed]",
      "text/plain": [
       "<Figure size 432x288 with 1 Axes>"
      ]
     },
     "metadata": {
      "needs_background": "light"
     },
     "output_type": "display_data"
    }
   ],
   "source": [
    "import matplotlib.pyplot as plt\n",
    "%matplotlib inline\n",
    "word_counts = sorted(Counter(words).values(), reverse=True)\n",
    "\n",
    "plt.loglog(word_counts)\n",
    "plt.ylabel(\"Freq\")\n",
    "plt.xlabel(\"Word Rank\")"
   ]
  },
  {
   "cell_type": "markdown",
   "metadata": {},
   "source": [
    "## Generating histograms of words, screen names, and hashtags"
   ]
  },
  {
   "cell_type": "code",
   "execution_count": 21,
   "metadata": {},
   "outputs": [
    {
     "data": {
      "image/png": "[encoded data removed]",
      "text/plain": [
       "<Figure size 432x288 with 1 Axes>"
      ]
     },
     "metadata": {
      "needs_background": "light"
     },
     "output_type": "display_data"
    },
    {
     "data": {
      "image/png": "[encoded data removed]",
      "text/plain": [
       "<Figure size 432x288 with 1 Axes>"
      ]
     },
     "metadata": {
      "needs_background": "light"
     },
     "output_type": "display_data"
    },
    {
     "data": {
      "image/png": "[encoded data removed]",
      "text/plain": [
       "<Figure size 432x288 with 1 Axes>"
      ]
     },
     "metadata": {
      "needs_background": "light"
     },
     "output_type": "display_data"
    },
    {
     "data": {
      "text/plain": [
       "<Figure size 432x288 with 0 Axes>"
      ]
     },
     "metadata": {},
     "output_type": "display_data"
    }
   ],
   "source": [
    "for label, data in (('Words', words), \n",
    "                    ('Screen Names', screen_names), \n",
    "                    ('Hashtags', hashtags)):\n",
    "\n",
    "    # Build a frequency map for each set of data\n",
    "    # and plot the values\n",
    "    c = Counter(data)\n",
    "    plt.hist(list(c.values()))\n",
    "    \n",
    "    # Add a title and y-label ...\n",
    "    plt.title(label)\n",
    "    plt.ylabel(\"Number of items in bin\")\n",
    "    plt.xlabel(\"Bins (number of times an item appeared)\")\n",
    "    \n",
    "    # ... and display as a new figure\n",
    "    plt.figure()"
   ]
  },
  {
   "cell_type": "markdown",
   "metadata": {},
   "source": [
    "## Generating a histogram of retweet counts"
   ]
  },
  {
   "cell_type": "code",
   "execution_count": 22,
   "metadata": {},
   "outputs": [
    {
     "data": {
      "text/plain": [
       "Text(0, 0.5, 'Number of tweets in bin')"
      ]
     },
     "execution_count": 22,
     "metadata": {},
     "output_type": "execute_result"
    },
    {
     "data": {
      "image/png": "[encoded data removed]",
      "text/plain": [
       "<Figure size 432x288 with 1 Axes>"
      ]
     },
     "metadata": {
      "needs_background": "light"
     },
     "output_type": "display_data"
    }
   ],
   "source": [
    "# Using underscores while unpacking values in\n",
    "# a tuple is idiomatic for discarding them\n",
    "\n",
    "counts = [count for count, _, _, _ in retweets]\n",
    "\n",
    "plt.hist(counts)\n",
    "plt.title('Retweets')\n",
    "plt.xlabel('Bins (number of times retweeted)')\n",
    "plt.ylabel('Number of tweets in bin')"
   ]
  },
  {
   "cell_type": "markdown",
   "metadata": {},
   "source": [
    "## Sentiment Analysis"
   ]
  },
  {
   "cell_type": "code",
   "execution_count": 23,
   "metadata": {},
   "outputs": [
    {
     "name": "stderr",
     "output_type": "stream",
     "text": [
      "[nltk_data] Downloading package vader_lexicon to\n",
      "[nltk_data]     C:\\Users\\GAO\\AppData\\Roaming\\nltk_data...\n",
      "[nltk_data]   Package vader_lexicon is already up-to-date!\n"
     ]
    }
   ],
   "source": [
    "import time\n",
    "import nltk\n",
    "nltk.download('vader_lexicon')\n",
    "\n",
    "import numpy as np\n",
    "from nltk.sentiment.vader import SentimentIntensityAnalyzer"
   ]
  },
  {
   "cell_type": "code",
   "execution_count": 24,
   "metadata": {},
   "outputs": [],
   "source": [
    "tweets = []"
   ]
  },
  {
   "cell_type": "code",
   "execution_count": 25,
   "metadata": {},
   "outputs": [],
   "source": [
    "class MyStreamListener(tweepy.StreamListener):\n",
    "    def __init__(self, time_limit=60):\n",
    "        self.start_time = time.time()\n",
    "        self.limit = time_limit\n",
    "        super(MyStreamListener, self).__init__()\n",
    "\n",
    "    def on_status(self, status):\n",
    "        if (time.time() - self.start_time) < self.limit:\n",
    "            if status.lang == \"en\":\n",
    "                tweets.append(status.text)\n",
    "                #print(status.text)\n",
    "            return True\n",
    "        else:\n",
    "            return False"
   ]
  },
  {
   "cell_type": "code",
   "execution_count": 26,
   "metadata": {},
   "outputs": [],
   "source": [
    "myStream = tweepy.Stream(auth=api.auth, listener=MyStreamListener(time_limit=5))\n",
    "iterator = myStream.sample()"
   ]
  },
  {
   "cell_type": "code",
   "execution_count": 27,
   "metadata": {},
   "outputs": [
    {
     "data": {
      "text/plain": [
       "['RT @jackfrank_jjf: Ben Simmons says he and Joel Embiid wanna stay in Philly and win championships together https://t.co/YJDHy7Yxot',\n",
       " 'RT @CIassicGaming: Mortal Kombat is the first game in the Mortal Kombat fighting game series by Midway. It was released in arcades in 1992…',\n",
       " 'When arsenal wins a match, we won’t hear word 😒',\n",
       " '@mwolter14 We did not waste anything. He was the best QB on the roster at the time. That’s on Chryst, not Hornibrook.',\n",
       " 'RT @artsykunkle: Congrats @khost19! \\n#stolenfromfacebook https://t.co/n8V1QS7Fz1',\n",
       " '@united do the right thing and ground your fleet of #737MAX until @BoeingAirplanes figures out what is going on.',\n",
       " 'RT @exol_kaa: summoning circle, and it will fucking work:\\n\\n                       🕯\\n              🕯             🕯\\n        🕯   sm station…',\n",
       " '@austincharcoal from sawdust i like romeo and juliet and from day &amp; age i like spaceman! they also have a single ca… https://t.co/BImyv2fRrF',\n",
       " '@_Fanelekile @Thabo09 Where do you buy it?',\n",
       " 'RT @LemmeLickUrDick: Women that clench their pussy on your dick during sex are demons.',\n",
       " 'RT @creoleasf: If I ever see her in person bro I’m staring directly at her ass. On all the gay shit. 😭 https://t.co/E6qOjvrKfb',\n",
       " 'RT @AddictedViral: In the blink of an eye https://t.co/OuWfmspT9Z',\n",
       " 'RT @thedepthsbeIow: Bright blue cuttle fish https://t.co/GLmXCpV7Mi',\n",
       " \"RT @Brianky82: @MinerGate I'm still waiting for email confirmation as well as the new 1.4 miner for Ubuntu when can I expect this????\",\n",
       " 'RT @MichaelBensonn: 🎶 Imagine being absolutely plastered at a rave and then Tyson Fury turns up next to you out of the blue. Bournemouth la…',\n",
       " '@YesItsMoxey Close enough',\n",
       " '@Wildbergerrrr Hope you feel better!',\n",
       " \"time to memorize the pieces I'm performing at the next two student recitals 😬\",\n",
       " 'I am back online Lili4676karl78 I have 1314 loyal followers click to see my show https://t.co/RVTrqOoUaw https://t.co/3ihuflCCOi',\n",
       " 'The hottest #dates worldwide!\\nJoin today for free:\\n\\nhttps://t.co/5Vk2bxjdqm\\n\\n#Dating #Singles #Hookup #Date https://t.co/AlQW0YRFcQ',\n",
       " \"I've re-watched SPIDER-VERSE about 5 times, my new comfort movie.\",\n",
       " '@Mhbuwu i’ll make you one tomorrow :’)',\n",
       " 'RT @thottyhilfiger: Decided to surprise my parents and come home early. Here’s their reaction 😇 https://t.co/xLY4fzi7ID',\n",
       " 'RT @RBW_MAMAMOO: [#MAMAMOO]\\n\\n4SEASON PROJECT 4\\n#WHITE_WIND TRACK LIST\\n\\n✔ 2019.03.14 Thu PM6(KST)\\n \\n#마마무 #MMM\\n#고고베베 #9966 💭\\n#12시✌🎤 https://t…',\n",
       " 'RT @WORLDSTAR: They stay tryna finesse 😤😂 https://t.co/UYaBYmmfM6',\n",
       " 'I always find it hard to help people nowadays. People think there’s always expectations or a catch kanti it’s just… https://t.co/DTUtxp34Q1',\n",
       " 'RT @PhillyTheBoss: Yep.. 18 simply means you’re no longer a “minor”. You can’t grab a case of beer, most rental car companies will laugh u…',\n",
       " 'RT @ItsBravin: Ladies, not every man who asks you out for lunch is interested in you sexually or wants to date you sometimes we just want t…',\n",
       " 'RT @Lisabcarlisle: Today I signed the @NEUnion open letter and I hope lots of my fellow councillors will! @LGA_Labour @LabourCllrs @ruthalc…',\n",
       " 'RT @C_millz6: me walking into my moms room to go annoy her when I’m bored https://t.co/70z7mLHLcy',\n",
       " 'RT @05amv: Update: his current kidney function is now 12%. He will be starting dialysis on Friday &amp; we still have no possible living donors…',\n",
       " 'RT @MyBaby0825: 190119 Youth in Moscow\\n #데이식스 #Day6 #Wonpil #원필 #김원필 🐰 https://t.co/vvLtTPARft',\n",
       " 'Cardi snapped wit da rap snacks',\n",
       " 'RT @playboiashton: once that first bite burns your tongue, the whole meal is ruined',\n",
       " '@bassyhlungwani @TwiggleBurg @AtholT Older that sin evidance.....you are living in the past.....',\n",
       " '@TweetsByReilly I can’t argue with this assessment',\n",
       " 'RT @CarlBanksGIII: Guess whos doing the coin toss? Yup me! I am Legend @AafLegends https://t.co/oWc1p7Ut1z',\n",
       " \"@MagicValleyComp @dougthinks @DevinNunes So you're making a point that Doug isn't even arguing about, and you call… https://t.co/NJj2bJYjVg\",\n",
       " '@Casperwaits @tide Try throwing in some powder Oxyfresh. I’ll do this with HOT water cycle (obviously depending on… https://t.co/XWqQn3fP7v',\n",
       " 'RT @jayceehall12: Now where will I get my “shit I gotta be at this party in 4 hours” outfit from ? https://t.co/a3uAkU6bK5',\n",
       " 'RT @HamillHimself: What a Han/Luke reunion might have been like... https://t.co/E6LXnWAwhe',\n",
       " 'RT @Dre_Trey5: Thank You for taking a chance on a kid from Albany,Ga and making me into who I am today . All love 🖤🙏🏾 https://t.co/rxJZpRON…',\n",
       " 'RT @cityt0city: TIP OF THE DAY: don’t even do them how they did u, just disappear and DO BETTER',\n",
       " 'RT @kindakit: check out all these things naruto said to sasuke in one (1) episode https://t.co/ja3E5cvAOo',\n",
       " 'lemonade album will forever be iconic i just love how she finished it off with formation.',\n",
       " \"RT @leastfixedpoint: @rsnous In case you've not yet seen it: https://t.co/7YcuJjx8kI\",\n",
       " 'TIMMY SAYS NO!!\\n#SKCvPHI #ForGloryForCity #SportingKC',\n",
       " 'PSA: kratom is like if health hippies designed a super low grade heroin with no side effects.\\n\\nCheap too',\n",
       " 'RT @NakTwit_: A simple \"bye\" can make us cry,\\n\\na simple \"joke\" can make us laugh \\n\\nand \\n\\na simple \"care\" can make us fall in love 😊',\n",
       " '@bradmatthews24 Never too late to throw it away and drop out bro 🤣',\n",
       " '@Arsenal Accurate 🔥🔥🔥',\n",
       " '@PitchingNinja The Red Sox could really use him in the Pen',\n",
       " 'RT @Arsenal: Unai’s at the wheel... 😉\\n\\n#ARSMUN https://t.co/0nPatIgQyj',\n",
       " 'RT @kingxpanna: Then your mcm dms it to his wcw. Gbas gbos gbas gbos https://t.co/iYBSqmwnHK',\n",
       " 'RT @Lacazettes: Mesut Ozil with a shot at Lingard, Pogba and other dancers? Give this man a life-time contract. He finished them. 😭👏🏽 https…',\n",
       " \"@katiemckenzie99 @OnlyFans @OnlyFansSupport I'm trying to add my visa card and it's not registering it. Says it com… https://t.co/uRGel0GWex\",\n",
       " 'You are. I personally wouldn’t cross you. Anymore.']"
      ]
     },
     "execution_count": 27,
     "metadata": {},
     "output_type": "execute_result"
    }
   ],
   "source": [
    "tweets"
   ]
  },
  {
   "cell_type": "code",
   "execution_count": 28,
   "metadata": {},
   "outputs": [],
   "source": [
    "analyzer = SentimentIntensityAnalyzer()"
   ]
  },
  {
   "cell_type": "code",
   "execution_count": 29,
   "metadata": {},
   "outputs": [
    {
     "data": {
      "text/plain": [
       "{'neg': 0.0, 'neu': 1.0, 'pos': 0.0, 'compound': 0.0}"
      ]
     },
     "execution_count": 29,
     "metadata": {},
     "output_type": "execute_result"
    }
   ],
   "source": [
    "analyzer.polarity_scores('Hello')"
   ]
  },
  {
   "cell_type": "code",
   "execution_count": 30,
   "metadata": {},
   "outputs": [
    {
     "data": {
      "text/plain": [
       "{'neg': 0.0, 'neu': 0.534, 'pos': 0.466, 'compound': 0.5413}"
      ]
     },
     "execution_count": 30,
     "metadata": {},
     "output_type": "execute_result"
    }
   ],
   "source": [
    "analyzer.polarity_scores('I really enjoy this video series.')"
   ]
  },
  {
   "cell_type": "code",
   "execution_count": 31,
   "metadata": {},
   "outputs": [
    {
     "data": {
      "text/plain": [
       "{'neg': 0.0, 'neu': 0.486, 'pos': 0.514, 'compound': 0.64}"
      ]
     },
     "execution_count": 31,
     "metadata": {},
     "output_type": "execute_result"
    }
   ],
   "source": [
    "analyzer.polarity_scores('I REALLY enjoy this video series.')"
   ]
  },
  {
   "cell_type": "code",
   "execution_count": 32,
   "metadata": {},
   "outputs": [
    {
     "data": {
      "text/plain": [
       "{'neg': 0.0, 'neu': 0.439, 'pos': 0.561, 'compound': 0.7271}"
      ]
     },
     "execution_count": 32,
     "metadata": {},
     "output_type": "execute_result"
    }
   ],
   "source": [
    "analyzer.polarity_scores('I REALLY enjoy this video series!!!')"
   ]
  },
  {
   "cell_type": "code",
   "execution_count": 33,
   "metadata": {},
   "outputs": [
    {
     "data": {
      "text/plain": [
       "{'neg': 0.425, 'neu': 0.575, 'pos': 0.0, 'compound': -0.6627}"
      ]
     },
     "execution_count": 33,
     "metadata": {},
     "output_type": "execute_result"
    }
   ],
   "source": [
    "analyzer.polarity_scores('I REALLY did not enjoy this video series!!!')"
   ]
  },
  {
   "cell_type": "code",
   "execution_count": 34,
   "metadata": {},
   "outputs": [],
   "source": [
    "scores = np.zeros(len(tweets))\n",
    "\n",
    "for i, t in enumerate(tweets):\n",
    "    \n",
    "    # Measure the polarity of the tweet\n",
    "    polarity = analyzer.polarity_scores(t)\n",
    "    \n",
    "    # Store the normalized, weighted composite score\n",
    "    scores[i] = polarity['compound']"
   ]
  },
  {
   "cell_type": "code",
   "execution_count": 35,
   "metadata": {},
   "outputs": [],
   "source": [
    "most_positive = np.argmax(scores)\n",
    "most_negative = np.argmin(scores)"
   ]
  },
  {
   "cell_type": "code",
   "execution_count": 36,
   "metadata": {},
   "outputs": [
    {
     "data": {
      "text/plain": [
       "array([ 0.7906, -0.3612,  0.5719,  0.7602,  0.5707,  0.    ,  0.    ,\n",
       "        0.6476,  0.    , -0.5106, -0.7964,  0.    ,  0.4404,  0.4696,\n",
       "       -0.5719,  0.    ,  0.7263,  0.    ,  0.4767,  0.6996,  0.3612,\n",
       "        0.    ,  0.2732,  0.    ,  0.    ,  0.3182,  0.34  ,  0.4588,\n",
       "        0.4926, -0.6124, -0.296 ,  0.    ,  0.    , -0.4767, -0.5574,\n",
       "       -0.34  ,  0.    ,  0.357 ,  0.    ,  0.481 ,  0.    ,  0.8271,\n",
       "        0.4084,  0.    ,  0.6369,  0.    , -0.5449, -0.0258,  0.6908,\n",
       "       -0.2732,  0.    ,  0.    ,  0.    ,  0.    ,  0.    ,  0.    ,\n",
       "        0.    ])"
      ]
     },
     "execution_count": 36,
     "metadata": {},
     "output_type": "execute_result"
    }
   ],
   "source": [
    "scores"
   ]
  },
  {
   "cell_type": "code",
   "execution_count": 37,
   "metadata": {},
   "outputs": [
    {
     "data": {
      "text/plain": [
       "41"
      ]
     },
     "execution_count": 37,
     "metadata": {},
     "output_type": "execute_result"
    }
   ],
   "source": [
    "most_positive"
   ]
  },
  {
   "cell_type": "code",
   "execution_count": 38,
   "metadata": {},
   "outputs": [
    {
     "data": {
      "text/plain": [
       "10"
      ]
     },
     "execution_count": 38,
     "metadata": {},
     "output_type": "execute_result"
    }
   ],
   "source": [
    "most_negative"
   ]
  },
  {
   "cell_type": "code",
   "execution_count": 39,
   "metadata": {},
   "outputs": [
    {
     "name": "stdout",
     "output_type": "stream",
     "text": [
      " 0.827 : \"RT @Dre_Trey5: Thank You for taking a chance on a kid from Albany,Ga and making me into who I am today . All love 🖤🙏🏾 https://t.co/rxJZpRON…\"\n"
     ]
    }
   ],
   "source": [
    "print('{0:6.3f} : \"{1}\"'.format(scores[most_positive], tweets[most_positive]))"
   ]
  },
  {
   "cell_type": "code",
   "execution_count": 40,
   "metadata": {},
   "outputs": [
    {
     "name": "stdout",
     "output_type": "stream",
     "text": [
      "-0.796 : \"RT @creoleasf: If I ever see her in person bro I’m staring directly at her ass. On all the gay shit. 😭 https://t.co/E6qOjvrKfb\"\n"
     ]
    }
   ],
   "source": [
    "print('{0:6.3f} : \"{1}\"'.format(scores[most_negative], tweets[most_negative]))"
   ]
  },
  {
   "cell_type": "code",
   "execution_count": null,
   "metadata": {},
   "outputs": [],
   "source": []
  }
 ],
 "metadata": {
  "kernelspec": {
   "display_name": "TensorFlow-GPU",
   "language": "python",
   "name": "tf-gpu"
  },
  "language_info": {
   "codemirror_mode": {
    "name": "ipython",
    "version": 3
   },
   "file_extension": ".py",
   "mimetype": "text/x-python",
   "name": "python",
   "nbconvert_exporter": "python",
   "pygments_lexer": "ipython3",
   "version": "3.6.6"
  }
 },
 "nbformat": 4,
 "nbformat_minor": 2
}
