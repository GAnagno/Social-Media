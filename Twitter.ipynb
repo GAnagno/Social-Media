{
 "cells": [
  {
   "cell_type": "code",
   "execution_count": 1,
   "metadata": {},
   "outputs": [],
   "source": [
    "import tweepy"
   ]
  },
  {
   "cell_type": "code",
   "execution_count": 3,
   "metadata": {},
   "outputs": [],
   "source": [
    "auth = tweepy.auth.OAuthHandler(CONSUMER_KEY, CONSUMER_SECRET)\n",
    "auth.set_access_token(OAUTH_TOKEN, OAUTH_TOKEN_SECRET)\n",
    "twitter_api = tweepy.API(auth)"
   ]
  },
  {
   "cell_type": "code",
   "execution_count": 4,
   "metadata": {},
   "outputs": [
    {
     "name": "stdout",
     "output_type": "stream",
     "text": [
      "<tweepy.api.API object at 0x000002BAA1A35E48>\n"
     ]
    }
   ],
   "source": [
    "print(twitter_api)"
   ]
  },
  {
   "cell_type": "code",
   "execution_count": 5,
   "metadata": {},
   "outputs": [],
   "source": [
    "# The Yahoo! Where On Earth ID for the entire world is 1.\n",
    "# See https://dev.twitter.com/docs/api/1.1/get/trends/place and\n",
    "# http://developer.yahoo.com/geo/geoplanet/\n",
    "\n",
    "WORLD_WOE_ID = 1\n",
    "ZH_WOE_ID = 784794\n",
    "\n",
    "world_trends = twitter_api.trends_place(WORLD_WOE_ID)\n",
    "zh_trends = twitter_api.trends_place(ZH_WOE_ID)\n",
    "\n",
    "#print(zh_trends)"
   ]
  },
  {
   "cell_type": "code",
   "execution_count": 6,
   "metadata": {},
   "outputs": [
    {
     "name": "stdout",
     "output_type": "stream",
     "text": [
      "#grag\n",
      "#1000ernote\n",
      "Luke Perry\n",
      "#IWD2019\n",
      "#WomensDay\n",
      "#RIPLukePerry\n",
      "Fragen\n",
      "Keith Flint\n",
      "Berne\n",
      "Beverly Hills\n",
      "Riverdale\n",
      "Saison\n",
      "Massnahmen\n",
      "sturm\n",
      "Studie\n",
      "Klar\n",
      "michael jackson\n",
      "rest\n",
      "Sprache\n",
      "stimmen\n",
      "bienne\n",
      "J'avais\n",
      "Vernets\n",
      "Aussage\n",
      "runde\n",
      "#GSHCZSC\n",
      "#NationalLeague\n",
      "#theprodigy\n",
      "#WomensWeek\n",
      "#prodigy\n",
      "#bennet\n",
      "#children\n",
      "#africa\n",
      "#playoffs\n",
      "#Azerbaijan\n",
      "#SwissGames\n",
      "#aargau\n",
      "#GenderEquality\n",
      "#Digitalisierung\n",
      "#Artikel13\n",
      "#Vaud\n",
      "#childrights\n",
      "#hcap\n",
      "#Syria\n",
      "#Israel\n",
      "#Macron\n",
      "#srffussball\n",
      "#srfhockey\n",
      "#pakistan\n",
      "#climatechange\n"
     ]
    }
   ],
   "source": [
    "for trend in zh_trends[0]['trends']:\n",
    "    print(trend['name'])"
   ]
  },
  {
   "cell_type": "code",
   "execution_count": null,
   "metadata": {},
   "outputs": [],
   "source": []
  }
 ],
 "metadata": {
  "kernelspec": {
   "display_name": "TensorFlow-GPU",
   "language": "python",
   "name": "tf-gpu"
  },
  "language_info": {
   "codemirror_mode": {
    "name": "ipython",
    "version": 3
   },
   "file_extension": ".py",
   "mimetype": "text/x-python",
   "name": "python",
   "nbconvert_exporter": "python",
   "pygments_lexer": "ipython3",
   "version": "3.6.6"
  }
 },
 "nbformat": 4,
 "nbformat_minor": 2
}
