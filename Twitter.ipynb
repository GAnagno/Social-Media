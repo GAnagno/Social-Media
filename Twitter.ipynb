{
 "cells": [
  {
   "cell_type": "code",
   "execution_count": 126,
   "metadata": {},
   "outputs": [],
   "source": [
    "import tweepy\n",
    "import json"
   ]
  },
  {
   "cell_type": "code",
   "execution_count": 127,
   "metadata": {},
   "outputs": [],
   "source": [
    "from itertools import islice"
   ]
  },
  {
   "cell_type": "code",
   "execution_count": 128,
   "metadata": {},
   "outputs": [],
   "source": []
  },
  {
   "cell_type": "code",
   "execution_count": 129,
   "metadata": {},
   "outputs": [],
   "source": [
    "auth = tweepy.auth.OAuthHandler(CONSUMER_KEY, CONSUMER_SECRET)\n",
    "auth.set_access_token(OAUTH_TOKEN, OAUTH_TOKEN_SECRET)\n",
    "api = tweepy.API(auth)"
   ]
  },
  {
   "cell_type": "code",
   "execution_count": 130,
   "metadata": {},
   "outputs": [
    {
     "name": "stdout",
     "output_type": "stream",
     "text": [
      "<tweepy.api.API object at 0x00000245F1C9BA20>\n"
     ]
    }
   ],
   "source": [
    "print(api)"
   ]
  },
  {
   "cell_type": "code",
   "execution_count": 137,
   "metadata": {},
   "outputs": [
    {
     "name": "stdout",
     "output_type": "stream",
     "text": [
      "[\n",
      " {\n",
      "  \"name\": \"#AllahT\\u00fcrkeYarOlsun\",\n",
      "  \"url\": \"http://twitter.com/search?q=%23AllahT%C3%BCrkeYarOlsun\",\n",
      "  \"promoted_content\": null,\n",
      "  \"query\": \"%23AllahT%C3%BCrkeYarOlsun\",\n",
      "  \"tweet_volume\": 34827\n",
      " },\n",
      " {\n",
      "  \"name\": \"#BolsonaroTemRaz\\u00e3o\",\n",
      "  \"url\": \"http://twitter.com/search?q=%23BolsonaroTemRaz%C3%A3o\",\n",
      "  \"promoted_content\": null,\n",
      "  \"query\": \"%23BolsonaroTemRaz%C3%A3o\",\n",
      "  \"tweet_volume\": 330638\n",
      " }\n",
      "]\n"
     ]
    }
   ],
   "source": [
    "# The Yahoo! Where On Earth ID for the entire world is 1.\n",
    "# See https://dev.twitter.com/docs/api/1.1/get/trends/place and\n",
    "# http://developer.yahoo.com/geo/geoplanet/\n",
    "\n",
    "WORLD_WOE_ID = 1\n",
    "ZH_WOE_ID = 784794\n",
    "\n",
    "world_trends = api.trends_place(WORLD_WOE_ID)\n",
    "zh_trends = api.trends_place(ZH_WOE_ID)\n",
    "\n",
    "print(json.dumps(list(islice(world_trends[0]['trends'], 2)), indent=1))"
   ]
  },
  {
   "cell_type": "code",
   "execution_count": 138,
   "metadata": {},
   "outputs": [
    {
     "name": "stdout",
     "output_type": "stream",
     "text": [
      "set()\n"
     ]
    }
   ],
   "source": [
    "world_trends_set = set([trend['name'] \n",
    "                        for trend in world_trends[0]['trends']])\n",
    "\n",
    "zh_trends_set = set([trend['name'] \n",
    "                     for trend in zh_trends[0]['trends']])\n",
    "\n",
    "common_trends = world_trends_set.intersection(zh_trends_set)\n",
    "\n",
    "print(common_trends)"
   ]
  },
  {
   "cell_type": "code",
   "execution_count": 133,
   "metadata": {},
   "outputs": [
    {
     "name": "stdout",
     "output_type": "stream",
     "text": [
      "#FCLYB\n",
      "#IWD2019\n",
      "#RMAAJA\n",
      "#AlgarveCup\n",
      "#SUIESP\n"
     ]
    }
   ],
   "source": [
    "for trend in list(islice(zh_trends[0]['trends'], 5)):\n",
    "    print(trend['name'])"
   ]
  },
  {
   "cell_type": "code",
   "execution_count": 134,
   "metadata": {},
   "outputs": [],
   "source": [
    "q = '#razerblade' \n",
    "\n",
    "count = 10\n",
    "\n",
    "# Import unquote to prevent url encoding errors in next_results\n",
    "from urllib.parse import unquote\n",
    "\n",
    "# See https://dev.twitter.com/rest/reference/get/search/tweets\n",
    "\n",
    "search_results = api.search(q=q, count=count)"
   ]
  },
  {
   "cell_type": "code",
   "execution_count": 135,
   "metadata": {},
   "outputs": [
    {
     "name": "stdout",
     "output_type": "stream",
     "text": [
      "2019-03-05 15:30:21\n",
      "2019-03-04 15:18:39\n",
      "2019-03-04 13:27:58\n",
      "2019-02-28 22:24:49\n",
      "2019-02-28 20:12:58\n",
      "2019-02-28 12:14:35\n",
      "2019-02-28 10:31:42\n",
      "2019-02-28 01:30:08\n",
      "2019-02-28 01:00:01\n",
      "2019-02-27 14:59:03\n"
     ]
    }
   ],
   "source": [
    "for result in search_results:\n",
    "    #print(result._api)\n",
    "    print(result.created_at)"
   ]
  },
  {
   "cell_type": "code",
   "execution_count": 108,
   "metadata": {},
   "outputs": [
    {
     "name": "stdout",
     "output_type": "stream",
     "text": [
      "R & W Media\n",
      "RAJ SINGH GAHARWAR\n",
      "VeritasDigital\n",
      "Mwave Australia\n",
      "Jared.Oddity\n",
      "Skreemus\n",
      "RΞZYN8\n",
      "Gadget Boulevard\n",
      "digi-SOL\n",
      "MegannonTV\n"
     ]
    }
   ],
   "source": [
    "for result in search_results:\n",
    "    #print(result._api)\n",
    "    print(result.author._json['name'])"
   ]
  },
  {
   "cell_type": "code",
   "execution_count": 51,
   "metadata": {},
   "outputs": [
    {
     "name": "stdout",
     "output_type": "stream",
     "text": [
      "1102954508068507650 [{'text': 'laptop', 'indices': [93, 100]}, {'text': 'RazerBlade', 'indices': [101, 112]}] user: R & W Media\n",
      "1102589176795615232 [] user: RAJ SINGH GAHARWAR\n",
      "1102561322183610368 [] user: VeritasDigital\n",
      "1101246874768465921 [] user: Mwave Australia\n",
      "1101213693793038336 [] user: Jared.Oddity\n",
      "1101093301984215040 [] user: Skreemus\n",
      "1101067411325825024 [] user: RΞZYN8\n",
      "1100931120160538624 [{'text': 'RTX', 'indices': [3, 7]}] user: Gadget Boulevard\n",
      "1100923542655373312 [{'text': 'RazerBlade', 'indices': [98, 109]}] user: digi-SOL\n",
      "1100772306618667008 [{'text': 'edm', 'indices': [66, 70]}, {'text': 'edmtwitter', 'indices': [71, 82]}, {'text': 'music', 'indices': [83, 89]}, {'text': 'musicproduction', 'indices': [90, 106]}, {'text': 'dubstep', 'indices': [107, 115]}, {'text': 'dubstepisdead', 'indices': [116, 130]}] user: MegannonTV\n"
     ]
    }
   ],
   "source": [
    "for result in search_results:\n",
    "    #print(result._api)\n",
    "    print(result._json['id_str'], result._json['entities']['hashtags'], \"user: %s\" %result.author._json['name'])"
   ]
  },
  {
   "cell_type": "code",
   "execution_count": 52,
   "metadata": {},
   "outputs": [
    {
     "data": {
      "text/plain": [
       "'Tue Mar 05 15:30:21 +0000 2019'"
      ]
     },
     "execution_count": 52,
     "metadata": {},
     "output_type": "execute_result"
    }
   ],
   "source": [
    "search_results[0]._json['created_at']"
   ]
  },
  {
   "cell_type": "code",
   "execution_count": 53,
   "metadata": {},
   "outputs": [
    {
     "data": {
      "text/plain": [
       "'It’s the new @Razer Blade 15 Laptop! We’re all getting a laptop upgrade here in the office \\n\\n#laptop #RazerBlade… https://t.co/0dC7PYBmsp'"
      ]
     },
     "execution_count": 53,
     "metadata": {},
     "output_type": "execute_result"
    }
   ],
   "source": [
    "search_results[0].text"
   ]
  },
  {
   "cell_type": "code",
   "execution_count": 54,
   "metadata": {},
   "outputs": [
    {
     "data": {
      "text/plain": [
       "'Mon Mar 04 15:18:39 +0000 2019'"
      ]
     },
     "execution_count": 54,
     "metadata": {},
     "output_type": "execute_result"
    }
   ],
   "source": [
    "search_results[1]._json['created_at']"
   ]
  },
  {
   "cell_type": "code",
   "execution_count": 55,
   "metadata": {},
   "outputs": [
    {
     "name": "stdout",
     "output_type": "stream",
     "text": [
      "2019-03-05 15:30:21 It’s the new @Razer Blade 15 Laptop! We’re all getting a laptop upgrade here in the office \n",
      "\n",
      "#laptop #RazerBlade… https://t.co/0dC7PYBmsp\n",
      "2019-03-04 15:18:39 HYDRA GURU GAMING VS RAZER BLADE ( MATCH MAKER ) CONTROVERSY HYDRA GURU GAMING VS RAZER BLADE ( MATCH MAKER ) CONTR… https://t.co/1Z9QllgnSb\n",
      "2019-03-04 13:27:58 Next up for us this Monday afternoon we are trying out some new softwares using this Razer Blade laptop to speed th… https://t.co/r9N58cItVx\n",
      "2019-02-28 22:24:49 RT @rezyn8: Hey Sydney! I'll be hosting a @Razer hands on with @MwaveAu on Saturday March 9 featuring the new Razer Blade 15 RTX series lap…\n",
      "2019-02-28 20:12:58 RT @rezyn8: Hey Sydney! I'll be hosting a @Razer hands on with @MwaveAu on Saturday March 9 featuring the new Razer Blade 15 RTX series lap…\n",
      "2019-02-28 12:14:35 RT @rezyn8: Hey Sydney! I'll be hosting a @Razer hands on with @MwaveAu on Saturday March 9 featuring the new Razer Blade 15 RTX series lap…\n",
      "2019-02-28 10:31:42 Hey Sydney! I'll be hosting a @Razer hands on with @MwaveAu on Saturday March 9 featuring the new Razer Blade 15 RT… https://t.co/bMg1MuawvA\n",
      "2019-02-28 01:30:08 Is #RTX on a laptop really as bad as compared to the desktop version? But if I can carry it wherever I go, I might… https://t.co/BxpTkOx4vC\n",
      "2019-02-28 01:00:01 Razer just made our favorite gaming laptop even more powerful than before https://t.co/EHXaGKdqM4 #RazerBlade https://t.co/hxShxezEdI\n",
      "2019-02-27 14:59:03 RT @TRESILLIAN_: There are worse places to produce I suppose 🌴☠️\n",
      "\n",
      "#edm #edmtwitter #music #musicproduction #dubstep #dubstepisdead #product…\n"
     ]
    }
   ],
   "source": [
    "for tweet in tweepy.Cursor(api.search, q=q).items(count):\n",
    "    print (tweet.created_at, tweet.text)"
   ]
  },
  {
   "cell_type": "code",
   "execution_count": 314,
   "metadata": {},
   "outputs": [
    {
     "data": {
      "text/plain": [
       "10"
      ]
     },
     "execution_count": 314,
     "metadata": {},
     "output_type": "execute_result"
    }
   ],
   "source": [
    "len(search_results)"
   ]
  },
  {
   "cell_type": "code",
   "execution_count": 315,
   "metadata": {},
   "outputs": [
    {
     "data": {
      "text/plain": [
       "tweepy.models.SearchResults"
      ]
     },
     "execution_count": 315,
     "metadata": {},
     "output_type": "execute_result"
    }
   ],
   "source": [
    "type(search_results)"
   ]
  },
  {
   "cell_type": "code",
   "execution_count": 316,
   "metadata": {},
   "outputs": [
    {
     "data": {
      "text/plain": [
       "tweepy.models.Status"
      ]
     },
     "execution_count": 316,
     "metadata": {},
     "output_type": "execute_result"
    }
   ],
   "source": [
    "type(search_results[0])"
   ]
  },
  {
   "cell_type": "code",
   "execution_count": 317,
   "metadata": {},
   "outputs": [
    {
     "data": {
      "text/plain": [
       "dict"
      ]
     },
     "execution_count": 317,
     "metadata": {},
     "output_type": "execute_result"
    }
   ],
   "source": [
    "type(search_results[0]._json)"
   ]
  },
  {
   "cell_type": "code",
   "execution_count": 318,
   "metadata": {},
   "outputs": [
    {
     "data": {
      "text/plain": [
       "str"
      ]
     },
     "execution_count": 318,
     "metadata": {},
     "output_type": "execute_result"
    }
   ],
   "source": [
    "type(search_results[0]._json['created_at'])"
   ]
  },
  {
   "cell_type": "code",
   "execution_count": 139,
   "metadata": {},
   "outputs": [],
   "source": [
    "#search_results"
   ]
  },
  {
   "cell_type": "code",
   "execution_count": null,
   "metadata": {},
   "outputs": [],
   "source": []
  }
 ],
 "metadata": {
  "kernelspec": {
   "display_name": "TensorFlow-GPU",
   "language": "python",
   "name": "tf-gpu"
  },
  "language_info": {
   "codemirror_mode": {
    "name": "ipython",
    "version": 3
   },
   "file_extension": ".py",
   "mimetype": "text/x-python",
   "name": "python",
   "nbconvert_exporter": "python",
   "pygments_lexer": "ipython3",
   "version": "3.6.6"
  }
 },
 "nbformat": 4,
 "nbformat_minor": 2
}
