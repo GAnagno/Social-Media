{
 "cells": [
  {
   "cell_type": "code",
   "execution_count": 20,
   "metadata": {},
   "outputs": [],
   "source": [
    "import tweepy"
   ]
  },
  {
   "cell_type": "code",
   "execution_count": 22,
   "metadata": {},
   "outputs": [],
   "source": [
    "auth = tweepy.auth.OAuthHandler(CONSUMER_KEY, CONSUMER_SECRET)\n",
    "auth.set_access_token(OAUTH_TOKEN, OAUTH_TOKEN_SECRET)\n",
    "twitter_api = tweepy.API(auth)"
   ]
  },
  {
   "cell_type": "code",
   "execution_count": 23,
   "metadata": {},
   "outputs": [
    {
     "name": "stdout",
     "output_type": "stream",
     "text": [
      "<tweepy.api.API object at 0x000001DE89B5A710>\n"
     ]
    }
   ],
   "source": [
    "print(twitter_api)"
   ]
  },
  {
   "cell_type": "code",
   "execution_count": 24,
   "metadata": {},
   "outputs": [
    {
     "name": "stdout",
     "output_type": "stream",
     "text": [
      "[{'trends': [{'name': 'Luke Perry', 'url': 'http://twitter.com/search?q=%22Luke+Perry%22', 'promoted_content': None, 'query': '%22Luke+Perry%22', 'tweet_volume': 580704}, {'name': '#RIPLukePerry', 'url': 'http://twitter.com/search?q=%23RIPLukePerry', 'promoted_content': None, 'query': '%23RIPLukePerry', 'tweet_volume': 56679}, {'name': '#DragQueenLPGC', 'url': 'http://twitter.com/search?q=%23DragQueenLPGC', 'promoted_content': None, 'query': '%23DragQueenLPGC', 'tweet_volume': 22316}, {'name': '私の死亡予定日時', 'url': 'http://twitter.com/search?q=%E7%A7%81%E3%81%AE%E6%AD%BB%E4%BA%A1%E4%BA%88%E5%AE%9A%E6%97%A5%E6%99%82', 'promoted_content': None, 'query': '%E7%A7%81%E3%81%AE%E6%AD%BB%E4%BA%A1%E4%BA%88%E5%AE%9A%E6%97%A5%E6%99%82', 'tweet_volume': None}, {'name': '#おそらく最も正確な寿命測定器', 'url': 'http://twitter.com/search?q=%23%E3%81%8A%E3%81%9D%E3%82%89%E3%81%8F%E6%9C%80%E3%82%82%E6%AD%A3%E7%A2%BA%E3%81%AA%E5%AF%BF%E5%91%BD%E6%B8%AC%E5%AE%9A%E5%99%A8', 'promoted_content': None, 'query': '%23%E3%81%8A%E3%81%9D%E3%82%89%E3%81%8F%E6%9C%80%E3%82%82%E6%AD%A3%E7%A2%BA%E3%81%AA%E5%AF%BF%E5%91%BD%E6%B8%AC%E5%AE%9A%E5%99%A8', 'tweet_volume': None}, {'name': '#isola', 'url': 'http://twitter.com/search?q=%23isola', 'promoted_content': None, 'query': '%23isola', 'tweet_volume': 17662}, {'name': 'Riverdale', 'url': 'http://twitter.com/search?q=Riverdale', 'promoted_content': None, 'query': 'Riverdale', 'tweet_volume': 239539}, {'name': 'Dylan', 'url': 'http://twitter.com/search?q=Dylan', 'promoted_content': None, 'query': 'Dylan', 'tweet_volume': 110295}, {'name': '#LaVozAsaltos5', 'url': 'http://twitter.com/search?q=%23LaVozAsaltos5', 'promoted_content': None, 'query': '%23LaVozAsaltos5', 'tweet_volume': None}, {'name': 'Aklıma GelenŞey', 'url': 'http://twitter.com/search?q=%22Akl%C4%B1ma+Gelen%C5%9Eey%22', 'promoted_content': None, 'query': '%22Akl%C4%B1ma+Gelen%C5%9Eey%22', 'tweet_volume': None}, {'name': 'ディラン', 'url': 'http://twitter.com/search?q=%E3%83%87%E3%82%A3%E3%83%A9%E3%83%B3', 'promoted_content': None, 'query': '%E3%83%87%E3%82%A3%E3%83%A9%E3%83%B3', 'tweet_volume': None}, {'name': 'AhımGider VahımKalır', 'url': 'http://twitter.com/search?q=%22Ah%C4%B1mGider+Vah%C4%B1mKal%C4%B1r%22', 'promoted_content': None, 'query': '%22Ah%C4%B1mGider+Vah%C4%B1mKal%C4%B1r%22', 'tweet_volume': None}, {'name': 'DENE KANKA', 'url': 'http://twitter.com/search?q=%22DENE+KANKA%22', 'promoted_content': None, 'query': '%22DENE+KANKA%22', 'tweet_volume': None}, {'name': 'Fred Andrews', 'url': 'http://twitter.com/search?q=%22Fred+Andrews%22', 'promoted_content': None, 'query': '%22Fred+Andrews%22', 'tweet_volume': 43831}, {'name': 'beverly hills', 'url': 'http://twitter.com/search?q=%22beverly+hills%22', 'promoted_content': None, 'query': '%22beverly+hills%22', 'tweet_volume': 118160}, {'name': 'Jane Philpott', 'url': 'http://twitter.com/search?q=%22Jane+Philpott%22', 'promoted_content': None, 'query': '%22Jane+Philpott%22', 'tweet_volume': 10454}, {'name': 'Pete Davidson', 'url': 'http://twitter.com/search?q=%22Pete+Davidson%22', 'promoted_content': None, 'query': '%22Pete+Davidson%22', 'tweet_volume': 18252}, {'name': 'ビバヒル', 'url': 'http://twitter.com/search?q=%E3%83%93%E3%83%90%E3%83%92%E3%83%AB', 'promoted_content': None, 'query': '%E3%83%93%E3%83%90%E3%83%92%E3%83%AB', 'tweet_volume': None}, {'name': 'Landon Collins', 'url': 'http://twitter.com/search?q=%22Landon+Collins%22', 'promoted_content': None, 'query': '%22Landon+Collins%22', 'tweet_volume': None}, {'name': 'RIP Luke', 'url': 'http://twitter.com/search?q=%22RIP+Luke%22', 'promoted_content': None, 'query': '%22RIP+Luke%22', 'tweet_volume': 74015}, {'name': 'Rest In Peace', 'url': 'http://twitter.com/search?q=%22Rest+In+Peace%22', 'promoted_content': None, 'query': '%22Rest+In+Peace%22', 'tweet_volume': 85431}, {'name': 'Tevhid Manifestosu', 'url': 'http://twitter.com/search?q=%22Tevhid+Manifestosu%22', 'promoted_content': None, 'query': '%22Tevhid+Manifestosu%22', 'tweet_volume': 23932}, {'name': '#Fleabag', 'url': 'http://twitter.com/search?q=%23Fleabag', 'promoted_content': None, 'query': '%23Fleabag', 'tweet_volume': None}, {'name': '#IlNomeDellaRosa', 'url': 'http://twitter.com/search?q=%23IlNomeDellaRosa', 'promoted_content': None, 'query': '%23IlNomeDellaRosa', 'tweet_volume': 12494}, {'name': '#AmarAMorirTVN', 'url': 'http://twitter.com/search?q=%23AmarAMorirTVN', 'promoted_content': None, 'query': '%23AmarAMorirTVN', 'tweet_volume': None}, {'name': '#Critters', 'url': 'http://twitter.com/search?q=%23Critters', 'promoted_content': None, 'query': '%23Critters', 'tweet_volume': None}, {'name': '#الاتحاد_الريان', 'url': 'http://twitter.com/search?q=%23%D8%A7%D9%84%D8%A7%D8%AA%D8%AD%D8%A7%D8%AF_%D8%A7%D9%84%D8%B1%D9%8A%D8%A7%D9%86', 'promoted_content': None, 'query': '%23%D8%A7%D9%84%D8%A7%D8%AA%D8%AD%D8%A7%D8%AF_%D8%A7%D9%84%D8%B1%D9%8A%D8%A7%D9%86', 'tweet_volume': 220534}, {'name': '#GalaDragNova', 'url': 'http://twitter.com/search?q=%23GalaDragNova', 'promoted_content': None, 'query': '%23GalaDragNova', 'tweet_volume': None}, {'name': '#BeverlyHills90210', 'url': 'http://twitter.com/search?q=%23BeverlyHills90210', 'promoted_content': None, 'query': '%23BeverlyHills90210', 'tweet_volume': 13338}, {'name': '#SignsYouAreAGoodPerson', 'url': 'http://twitter.com/search?q=%23SignsYouAreAGoodPerson', 'promoted_content': None, 'query': '%23SignsYouAreAGoodPerson', 'tweet_volume': None}, {'name': '#FOIJESUSQUEVENCEU', 'url': 'http://twitter.com/search?q=%23FOIJESUSQUEVENCEU', 'promoted_content': None, 'query': '%23FOIJESUSQUEVENCEU', 'tweet_volume': None}, {'name': '#TheBachelorUK', 'url': 'http://twitter.com/search?q=%23TheBachelorUK', 'promoted_content': None, 'query': '%23TheBachelorUK', 'tweet_volume': None}, {'name': '#LosAmigosDeDalessio', 'url': 'http://twitter.com/search?q=%23LosAmigosDeDalessio', 'promoted_content': None, 'query': '%23LosAmigosDeDalessio', 'tweet_volume': None}, {'name': '#McAfeeForMNF', 'url': 'http://twitter.com/search?q=%23McAfeeForMNF', 'promoted_content': None, 'query': '%23McAfeeForMNF', 'tweet_volume': 27336}, {'name': '#CriticalRole', 'url': 'http://twitter.com/search?q=%23CriticalRole', 'promoted_content': None, 'query': '%23CriticalRole', 'tweet_volume': 16370}, {'name': '#احيانا_الكلام_يكون', 'url': 'http://twitter.com/search?q=%23%D8%A7%D8%AD%D9%8A%D8%A7%D9%86%D8%A7_%D8%A7%D9%84%D9%83%D9%84%D8%A7%D9%85_%D9%8A%D9%83%D9%88%D9%86', 'promoted_content': None, 'query': '%23%D8%A7%D8%AD%D9%8A%D8%A7%D9%86%D8%A7_%D8%A7%D9%84%D9%83%D9%84%D8%A7%D9%85_%D9%8A%D9%83%D9%88%D9%86', 'tweet_volume': 14096}, {'name': '#Rojo3raTemporada', 'url': 'http://twitter.com/search?q=%23Rojo3raTemporada', 'promoted_content': None, 'query': '%23Rojo3raTemporada', 'tweet_volume': None}, {'name': '#AynıBelediyeOtobüsündeyiz', 'url': 'http://twitter.com/search?q=%23Ayn%C4%B1BelediyeOtob%C3%BCs%C3%BCndeyiz', 'promoted_content': None, 'query': '%23Ayn%C4%B1BelediyeOtob%C3%BCs%C3%BCndeyiz', 'tweet_volume': 25768}, {'name': '#LouisTheroux', 'url': 'http://twitter.com/search?q=%23LouisTheroux', 'promoted_content': None, 'query': '%23LouisTheroux', 'tweet_volume': None}, {'name': '#ThisTime', 'url': 'http://twitter.com/search?q=%23ThisTime', 'promoted_content': None, 'query': '%23ThisTime', 'tweet_volume': None}, {'name': '#GotTalent6', 'url': 'http://twitter.com/search?q=%23GotTalent6', 'promoted_content': None, 'query': '%23GotTalent6', 'tweet_volume': None}, {'name': '#IStandWithIlhan', 'url': 'http://twitter.com/search?q=%23IStandWithIlhan', 'promoted_content': None, 'query': '%23IStandWithIlhan', 'tweet_volume': None}, {'name': '#BirSebebiVar', 'url': 'http://twitter.com/search?q=%23BirSebebiVar', 'promoted_content': None, 'query': '%23BirSebebiVar', 'tweet_volume': None}, {'name': '#JohnGone', 'url': 'http://twitter.com/search?q=%23JohnGone', 'promoted_content': None, 'query': '%23JohnGone', 'tweet_volume': None}, {'name': '#LukePerryRIP', 'url': 'http://twitter.com/search?q=%23LukePerryRIP', 'promoted_content': None, 'query': '%23LukePerryRIP', 'tweet_volume': None}, {'name': '#HaniDiyorumKi', 'url': 'http://twitter.com/search?q=%23HaniDiyorumKi', 'promoted_content': None, 'query': '%23HaniDiyorumKi', 'tweet_volume': None}, {'name': '#EsquerdaFreguesDaDireita', 'url': 'http://twitter.com/search?q=%23EsquerdaFreguesDaDireita', 'promoted_content': None, 'query': '%23EsquerdaFreguesDaDireita', 'tweet_volume': 16601}, {'name': '#DüşbazFM', 'url': 'http://twitter.com/search?q=%23D%C3%BC%C5%9FbazFM', 'promoted_content': None, 'query': '%23D%C3%BC%C5%9FbazFM', 'tweet_volume': None}, {'name': '#medet', 'url': 'http://twitter.com/search?q=%23medet', 'promoted_content': None, 'query': '%23medet', 'tweet_volume': 23284}, {'name': '#LavaJatoNoMec', 'url': 'http://twitter.com/search?q=%23LavaJatoNoMec', 'promoted_content': None, 'query': '%23LavaJatoNoMec', 'tweet_volume': 62469}], 'as_of': '2019-03-05T00:03:37Z', 'created_at': '2019-03-04T23:58:30Z', 'locations': [{'name': 'Worldwide', 'woeid': 1}]}]\n"
     ]
    }
   ],
   "source": [
    "# The Yahoo! Where On Earth ID for the entire world is 1.\n",
    "# See https://dev.twitter.com/docs/api/1.1/get/trends/place and\n",
    "# http://developer.yahoo.com/geo/geoplanet/\n",
    "\n",
    "WORLD_WOE_ID = 1\n",
    "ZH_WOE_ID = 784794\n",
    "\n",
    "world_trends = twitter_api.trends_place(WORLD_WOE_ID)\n",
    "zh_trends = twitter_api.trends_place(ZH_WOE_ID)\n",
    "\n",
    "print(world_trends)"
   ]
  },
  {
   "cell_type": "code",
   "execution_count": 25,
   "metadata": {},
   "outputs": [
    {
     "name": "stdout",
     "output_type": "stream",
     "text": [
      "Luke Perry\n",
      "#RIPLukePerry\n",
      "#DragQueenLPGC\n",
      "私の死亡予定日時\n",
      "#おそらく最も正確な寿命測定器\n",
      "#isola\n",
      "Riverdale\n",
      "Dylan\n",
      "#LaVozAsaltos5\n",
      "Aklıma GelenŞey\n",
      "ディラン\n",
      "AhımGider VahımKalır\n",
      "DENE KANKA\n",
      "Fred Andrews\n",
      "beverly hills\n",
      "Jane Philpott\n",
      "Pete Davidson\n",
      "ビバヒル\n",
      "Landon Collins\n",
      "RIP Luke\n",
      "Rest In Peace\n",
      "Tevhid Manifestosu\n",
      "#Fleabag\n",
      "#IlNomeDellaRosa\n",
      "#AmarAMorirTVN\n",
      "#Critters\n",
      "#الاتحاد_الريان\n",
      "#GalaDragNova\n",
      "#BeverlyHills90210\n",
      "#SignsYouAreAGoodPerson\n",
      "#FOIJESUSQUEVENCEU\n",
      "#TheBachelorUK\n",
      "#LosAmigosDeDalessio\n",
      "#McAfeeForMNF\n",
      "#CriticalRole\n",
      "#احيانا_الكلام_يكون\n",
      "#Rojo3raTemporada\n",
      "#AynıBelediyeOtobüsündeyiz\n",
      "#LouisTheroux\n",
      "#ThisTime\n",
      "#GotTalent6\n",
      "#IStandWithIlhan\n",
      "#BirSebebiVar\n",
      "#JohnGone\n",
      "#LukePerryRIP\n",
      "#HaniDiyorumKi\n",
      "#EsquerdaFreguesDaDireita\n",
      "#DüşbazFM\n",
      "#medet\n",
      "#LavaJatoNoMec\n"
     ]
    }
   ],
   "source": [
    "for trend in world_trends[0]['trends']:\n",
    "    print(trend['name'])"
   ]
  },
  {
   "cell_type": "code",
   "execution_count": null,
   "metadata": {},
   "outputs": [],
   "source": []
  },
  {
   "cell_type": "code",
   "execution_count": null,
   "metadata": {},
   "outputs": [],
   "source": []
  }
 ],
 "metadata": {
  "kernelspec": {
   "display_name": "TensorFlow-GPU",
   "language": "python",
   "name": "tf-gpu"
  },
  "language_info": {
   "codemirror_mode": {
    "name": "ipython",
    "version": 3
   },
   "file_extension": ".py",
   "mimetype": "text/x-python",
   "name": "python",
   "nbconvert_exporter": "python",
   "pygments_lexer": "ipython3",
   "version": "3.6.6"
  }
 },
 "nbformat": 4,
 "nbformat_minor": 2
}
