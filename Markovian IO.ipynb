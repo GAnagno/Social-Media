{
 "cells": [
  {
   "cell_type": "markdown",
   "metadata": {},
   "source": [
    "# A Markovian model of evolving world IO network\n",
    "https://sevamoo.github.io/Markovian_IO_SI_PLOSONE/"
   ]
  },
  {
   "cell_type": "code",
   "execution_count": 2,
   "metadata": {},
   "outputs": [],
   "source": [
    "import datetime\n",
    "import pandas as pd\n",
    "import numpy as np\n",
    "from matplotlib import pyplot as plt\n",
    "import sys\n",
    "import sompy as SOM\n",
    "from pylab import matshow, savefig\n",
    "from scipy.linalg import norm\n",
    "import time"
   ]
  },
  {
   "cell_type": "markdown",
   "metadata": {},
   "source": [
    "## Supporting Functions"
   ]
  },
  {
   "cell_type": "code",
   "execution_count": 3,
   "metadata": {},
   "outputs": [],
   "source": [
    "def update_by_momentum(series, span, pred_period):\n",
    "    result = []  # first value is same as series\n",
    "    vals = series[-span - 1:]\n",
    "    for n in range(pred_period):\n",
    "        momentum_avg = np.mean(np.diff(vals))\n",
    "        result.append(vals[-1] + momentum_avg)\n",
    "        vals[-1] = result[-1]\n",
    "\n",
    "    return result"
   ]
  },
  {
   "cell_type": "code",
   "execution_count": 4,
   "metadata": {},
   "outputs": [],
   "source": [
    "def aggregate_economy_int_consumptions(WIOT):\n",
    "    economy_n = 41\n",
    "    industry_n = 35\n",
    "    economy_int_consumptions_n = 1\n",
    "    economy_produsction_costs_n = 1\n",
    "    states_n = economy_n * industry_n + economy_n * 1 + industry_n * 1\n",
    "\n",
    "    economy_income = np.zeros((economy_n * industry_n, economy_n))\n",
    "    economy_int_consumptions = np.zeros((economy_n * industry_n, economy_n))\n",
    "    ind = economy_n * industry_n\n",
    "    for i in range(economy_n):\n",
    "        # This data are stored in the last columns on the right side of WIOD.\n",
    "        # They are in five subcategory that here we just sum them as the final consumption of the government (inc. households)\n",
    "        col = i * 5 + ind\n",
    "        economy_int_consumptions[:, i] = WIOT[:, col:col + 5].sum(axis=1)\n",
    "\n",
    "    # I don't know why but sometimes it gets a bit negative?!!! due to change in inventory (5th column of economy consum)\n",
    "    economy_int_consumptions[economy_int_consumptions < 0] = 0\n",
    "\n",
    "    # This is Tax, Payments, ...\n",
    "    industry_production_costs = np.around(\n",
    "        WIOT[:].sum(axis=1) - WIOT[:, :economy_n * industry_n].sum(axis=0), decimals=5)\n",
    "\n",
    "    return (economy_int_consumptions, industry_production_costs)"
   ]
  },
  {
   "cell_type": "code",
   "execution_count": 5,
   "metadata": {},
   "outputs": [],
   "source": [
    "def build_markov_chain_Dense(\n",
    "        Q,\n",
    "        WIOT,\n",
    "        economy_n,\n",
    "        industry_n,\n",
    "        economy_int_consumptions,\n",
    "        industry_production_costs,\n",
    "):\n",
    "    e0 = time.time()\n",
    "    eps = .001\n",
    "\n",
    "    for i in range(0, economy_n * industry_n):\n",
    "\n",
    "        # For industry interactions\n",
    "        for j in range(0, economy_n * industry_n):\n",
    "            Q[i, j] = WIOT[j, i]\n",
    "\n",
    "        # For payments of industry to its economy: This is the source of income for the economy\n",
    "        economy_ind_industry = i // industry_n\n",
    "        Q[i, economy_n * industry_n + economy_ind_industry] = industry_production_costs[i]\n",
    "\n",
    "        # For economy's costs (i.e. consumptions)\n",
    "        ind_economy_inTM = economy_n * industry_n\n",
    "\n",
    "        for j in range(economy_n):\n",
    "            Q[j + ind_economy_inTM, i] = economy_int_consumptions[i, j]\n",
    "\n",
    "    # We have row stochastic matrix! In the paper we have column stochastic!\n",
    "    singular_industries = []\n",
    "    for i in range(Q.shape[0]):\n",
    "        s = sum(Q[i])\n",
    "\n",
    "        if np.sum(Q[i] > 0) == 1:\n",
    "            if np.where(Q[i] > 0) == i:\n",
    "\n",
    "                # means absorbing state\n",
    "                Q[i] = eps\n",
    "                Q[i, i] = 1.\n",
    "                s = sum(Q[i])\n",
    "                Q[i] = np.divide(Q[i], s)\n",
    "            else:\n",
    "                pass\n",
    "            # print(np.where(Q[i] > 0), i, np.sum(Q[:, i] > 0))\n",
    "\n",
    "        if s == 0:\n",
    "            singular_industries.append(i % economy_n)\n",
    "            Q[i] = eps\n",
    "            Q[i, i] = 1.\n",
    "            s = sum(Q[i])\n",
    "            Q[i] = np.divide(Q[i], s)\n",
    "        else:\n",
    "            Q[i] = np.divide(Q[i], s)\n",
    "    print('Making the TM in {} second'.format(time.time() - e0))\n",
    "\n",
    "    return (np.around(Q, decimals=10), list(np.unique(singular_industries)))"
   ]
  },
  {
   "cell_type": "code",
   "execution_count": 6,
   "metadata": {},
   "outputs": [],
   "source": [
    "def simulate_markov(TM, verbose='on'):\n",
    "    e1 = time.time()\n",
    "    states_n = TM.shape[0]\n",
    "    pi = np.ones(states_n)\n",
    "    pi1 = np.zeros(states_n)\n",
    "    pi = np.random.rand(states_n)\n",
    "    pi = pi / pi.sum()\n",
    "\n",
    "    n = norm(pi - pi1)\n",
    "    i = 0\n",
    "    diff = []\n",
    "    while n > 1e-6 and i < 1 * 1e4:\n",
    "        pi1 = TM.T.dot(pi).copy()\n",
    "        n = norm(pi - pi1)\n",
    "        i += 1\n",
    "        diff.append(n)\n",
    "        pi = pi1.copy()\n",
    "    if verbose == 'on':\n",
    "        print(\"Iterating {} times in {}\".format(i, time.time() - e1))\n",
    "\n",
    "    mixing_ = i\n",
    "\n",
    "    return pi1, mixing_"
   ]
  },
  {
   "cell_type": "code",
   "execution_count": 7,
   "metadata": {},
   "outputs": [],
   "source": [
    "def Kemeny_constant(MC):\n",
    "    from scipy.linalg import eig\n",
    "    eigval, vl, vr = eig(MC, left=True)\n",
    "    eigval = np.real(eigval)\n",
    "    vl = np.real(vl)\n",
    "\n",
    "    eigvec_1 = vl[:, np.argmax(np.abs(\n",
    "        eigval))] / vl[:, np.argmax(np.abs(eigval))].sum()\n",
    "    ind = np.around(eigval, decimals=8) != 1\n",
    "    return np.divide(1, (1 - eigval[ind])).sum(), eigvec_1"
   ]
  },
  {
   "cell_type": "code",
   "execution_count": 8,
   "metadata": {},
   "outputs": [],
   "source": [
    "# Sensitivity analysis on a single node\n",
    "def change_node(M,\n",
    "                economy_to_perturb=None,\n",
    "                industry_to_perturb=None,\n",
    "                percent=10):\n",
    "    MC = M.copy()\n",
    "    \n",
    "    ind_indusrty_to_perturb_from_their_economy = []\n",
    "    ind_indusrty_to_perturb_from_specific_industry = []\n",
    "\n",
    "    if industry_to_perturb == industry_n:\n",
    "        i = industry_n * economy_n + economy_to_perturb\n",
    "    else:\n",
    "        i = industry_to_perturb + (economy_to_perturb) * industry_n\n",
    "        \n",
    "    MC[i, :] = MC[i, :] * (1 + percent * .01)\n",
    "    MC[:, i] = MC[:, i] * (1 + percent * .01)\n",
    "    MC[i, i] = MC[i, i] / (1 + percent * .01)\n",
    "\n",
    "    for i in range(MC.shape[0]):\n",
    "        s = sum(MC[i])\n",
    "        \n",
    "        if s == 0:\n",
    "            MC[i] = eps\n",
    "            MC[i, i] = 1.\n",
    "            s = sum(MC[i])\n",
    "            MC[i] = np.divide(MC[i], s)\n",
    "\n",
    "        else:\n",
    "            MC[i] = np.divide(MC[i], s)\n",
    "\n",
    "    return MC"
   ]
  },
  {
   "cell_type": "markdown",
   "metadata": {},
   "source": [
    "## Load Dataset"
   ]
  },
  {
   "cell_type": "code",
   "execution_count": 9,
   "metadata": {},
   "outputs": [],
   "source": [
    "economy_n = 41\n",
    "industry_n = 35\n",
    "header = pd.read_csv('./markov/Data/WIOD/header.csv', header=None)\n",
    "economy_names = header.values[1, range(0, 1435, 35)]\n",
    "industry_names = header.values[0, range(0, 35)]"
   ]
  },
  {
   "cell_type": "code",
   "execution_count": 10,
   "metadata": {},
   "outputs": [],
   "source": [
    "Countries = pd.read_csv(\"./markov/Data/WIOD/Economies_Names.csv\")"
   ]
  },
  {
   "cell_type": "code",
   "execution_count": 11,
   "metadata": {},
   "outputs": [],
   "source": [
    "# We calculated this before from the WIOD, for GDP calculations\n",
    "VA = pd.read_csv('./markov/Data/WIOD/VAs.csv', index_col=[0])"
   ]
  },
  {
   "cell_type": "code",
   "execution_count": 12,
   "metadata": {},
   "outputs": [
    {
     "name": "stdout",
     "output_type": "stream",
     "text": [
      "1995 (1435, 1640)\n",
      "1996 (1435, 1640)\n",
      "1997 (1435, 1640)\n",
      "1998 (1435, 1640)\n",
      "1999 (1435, 1640)\n",
      "2000 (1435, 1640)\n",
      "2001 (1435, 1640)\n",
      "2002 (1435, 1640)\n",
      "2003 (1435, 1640)\n",
      "2004 (1435, 1640)\n",
      "2005 (1435, 1640)\n",
      "2006 (1435, 1640)\n",
      "2007 (1435, 1640)\n",
      "2008 (1435, 1640)\n",
      "2009 (1435, 1640)\n",
      "2010 (1435, 1640)\n",
      "2011 (1435, 1640)\n"
     ]
    }
   ],
   "source": [
    "WIO = list()\n",
    "for i in range(1995, 2012):\n",
    "    d = pd.read_csv(\n",
    "        './markov/Data/WIOD/wiot' + str(i) + '_row_apr12.csv', header=[0, 1, 2])\n",
    "    WIO.append(d.values[:])\n",
    "    print(i, d.shape)"
   ]
  },
  {
   "cell_type": "markdown",
   "metadata": {},
   "source": [
    "## Using Power Iteration to calculate the steady state probabilities, Pi"
   ]
  },
  {
   "cell_type": "code",
   "execution_count": 13,
   "metadata": {},
   "outputs": [
    {
     "name": "stdout",
     "output_type": "stream",
     "text": [
      "Making the TM in 1.0270366668701172 second\n",
      "Iterating 291 times in 0.18399786949157715\n",
      "Making the TM in 1.065000057220459 second\n",
      "Iterating 257 times in 0.15500426292419434\n",
      "Making the TM in 1.100038766860962 second\n",
      "Iterating 250 times in 0.1500086784362793\n",
      "Making the TM in 1.206000566482544 second\n",
      "Iterating 258 times in 0.14000487327575684\n",
      "Making the TM in 1.0490307807922363 second\n",
      "Iterating 261 times in 0.14499902725219727\n",
      "Making the TM in 1.054999589920044 second\n",
      "Iterating 241 times in 0.13000702857971191\n",
      "Making the TM in 1.0309982299804688 second\n",
      "Iterating 229 times in 0.13301515579223633\n",
      "Making the TM in 1.0550458431243896 second\n",
      "Iterating 229 times in 0.1260066032409668\n",
      "Making the TM in 1.0500388145446777 second\n",
      "Iterating 222 times in 0.11999797821044922\n",
      "Making the TM in 1.030000925064087 second\n",
      "Iterating 208 times in 0.12001657485961914\n",
      "Making the TM in 1.0399930477142334 second\n",
      "Iterating 189 times in 0.11701774597167969\n",
      "Making the TM in 1.0220363140106201 second\n",
      "Iterating 173 times in 0.09404563903808594\n",
      "Making the TM in 1.0060405731201172 second\n",
      "Iterating 166 times in 0.09701180458068848\n",
      "Making the TM in 1.071035623550415 second\n",
      "Iterating 157 times in 0.15099859237670898\n",
      "Making the TM in 1.0929980278015137 second\n",
      "Iterating 191 times in 0.10600924491882324\n",
      "Making the TM in 1.033038854598999 second\n",
      "Iterating 173 times in 0.08801436424255371\n",
      "Making the TM in 1.0460395812988281 second\n",
      "Iterating 158 times in 0.09606361389160156\n"
     ]
    }
   ],
   "source": [
    "Pi = []\n",
    "TMs = []\n",
    "Mixing_times = []\n",
    "singular_ids = []\n",
    "\n",
    "for i, WIOT in enumerate(WIO):\n",
    "    economy_int_consumptions, industry_production_costs = aggregate_economy_int_consumptions(WIOT)\n",
    "    economy_n = 41\n",
    "    industry_n = 35\n",
    "    states_n = economy_n * industry_n + economy_n\n",
    "    TM = np.zeros((states_n, states_n))\n",
    "    TM, singular_id = build_markov_chain_Dense(TM, WIOT, economy_n, industry_n,\n",
    "                                               economy_int_consumptions,\n",
    "                                               industry_production_costs)\n",
    "    TMs.append(TM)\n",
    "    singular_ids.extend(singular_id)\n",
    "    t, mixing_ = simulate_markov(TM)\n",
    "    Pi.append(t)\n",
    "    Mixing_times.append(mixing_)\n",
    "\n",
    "singular_ids = np.unique(singular_ids)"
   ]
  },
  {
   "cell_type": "markdown",
   "metadata": {},
   "source": [
    "## Average mixing time of Markov chains as an aggregate index of globalization"
   ]
  },
  {
   "cell_type": "code",
   "execution_count": 14,
   "metadata": {},
   "outputs": [],
   "source": [
    "# We run the power iteration for several times to see if there are some variations in the mixing time\n",
    "n = 100\n",
    "Mixing_times_n_times = np.zeros((n, len(TMs)))\n",
    "for i in range(n):\n",
    "    for j in range(len(TMs)):\n",
    "        t, mixing_ = simulate_markov(TMs[j], verbose='off')\n",
    "        Mixing_times_n_times[i, j] = mixing_"
   ]
  },
  {
   "cell_type": "code",
   "execution_count": 19,
   "metadata": {},
   "outputs": [
    {
     "data": {
      "image/png": "[encoded data removed]",
      "text/plain": [
       "<Figure size 720x504 with 1 Axes>"
      ]
     },
     "metadata": {
      "needs_background": "light"
     },
     "output_type": "display_data"
    }
   ],
   "source": [
    "fig = plt.figure(figsize=(10, 7));\n",
    "yerr = 3 * Mixing_times_n_times.std(axis=0)\n",
    "plt.errorbar(\n",
    "    range(1, 18),\n",
    "    Mixing_times_n_times.mean(axis=0),\n",
    "    yerr=yerr,\n",
    "    fmt='-',\n",
    "    color='b',\n",
    "    ecolor='b',\n",
    "    linewidth=.51,\n",
    "    elinewidth=3)\n",
    "plt.xticks(range(1, 18), range(1995, 2012))\n",
    "label = range(1995, 2012)\n",
    "font = {'size': 12}\n",
    "plt.rc('font', **font)\n",
    "plt.ylabel('Mixing Time of the Corresponding Markov Chain')\n",
    "plt.xlabel('Year')\n",
    "plt.xticks(range(1, 18), label, rotation=90)\n",
    "\n",
    "plt.grid(linewidth=.31, color='gray', linestyle='--')\n",
    "# path = './markov/Images/Mixing_Time.tiff'\n",
    "# fig.savefig(path,dpi=300)\n",
    "plt.show();"
   ]
  },
  {
   "cell_type": "code",
   "execution_count": null,
   "metadata": {},
   "outputs": [],
   "source": []
  }
 ],
 "metadata": {
  "kernelspec": {
   "display_name": "TensorFlow-GPU",
   "language": "python",
   "name": "tf-gpu"
  },
  "language_info": {
   "codemirror_mode": {
    "name": "ipython",
    "version": 3
   },
   "file_extension": ".py",
   "mimetype": "text/x-python",
   "name": "python",
   "nbconvert_exporter": "python",
   "pygments_lexer": "ipython3",
   "version": "3.6.9"
  }
 },
 "nbformat": 4,
 "nbformat_minor": 2
}
