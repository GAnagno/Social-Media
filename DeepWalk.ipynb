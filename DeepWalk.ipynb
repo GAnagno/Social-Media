{
 "cells": [
  {
   "cell_type": "code",
   "execution_count": 4,
   "metadata": {},
   "outputs": [],
   "source": [
    "import deepwalk"
   ]
  },
  {
   "cell_type": "code",
   "execution_count": 5,
   "metadata": {},
   "outputs": [
    {
     "name": "stdout",
     "output_type": "stream",
     "text": [
      "Help on package deepwalk:\n",
      "\n",
      "NAME\n",
      "    deepwalk - # -*- coding: utf-8 -*-\n",
      "\n",
      "PACKAGE CONTENTS\n",
      "    __main__\n",
      "    graph\n",
      "    skipgram\n",
      "    walks\n",
      "\n",
      "DATA\n",
      "    __email__ = 'bperozzi@cs.stonybrook.edu'\n",
      "\n",
      "VERSION\n",
      "    1.0.0\n",
      "\n",
      "AUTHOR\n",
      "    Bryan Perozzi\n",
      "\n",
      "FILE\n",
      "    c:\\users\\gao\\appdata\\local\\continuum\\anaconda3\\envs\\tf-gpu\\lib\\site-packages\\deepwalk\\__init__.py\n",
      "\n",
      "\n"
     ]
    }
   ],
   "source": [
    "help(deepwalk)"
   ]
  },
  {
   "cell_type": "code",
   "execution_count": 9,
   "metadata": {},
   "outputs": [],
   "source": [
    "from deepwalk import graph"
   ]
  },
  {
   "cell_type": "code",
   "execution_count": 16,
   "metadata": {},
   "outputs": [],
   "source": [
    "#help(graph)"
   ]
  },
  {
   "cell_type": "code",
   "execution_count": 10,
   "metadata": {},
   "outputs": [
    {
     "name": "stderr",
     "output_type": "stream",
     "text": [
      "C:\\Users\\GAO\\AppData\\Local\\Continuum\\anaconda3\\envs\\tf-gpu\\lib\\site-packages\\gensim\\utils.py:1197: UserWarning: detected Windows; aliasing chunkize to chunkize_serial\n",
      "  warnings.warn(\"detected Windows; aliasing chunkize to chunkize_serial\")\n"
     ]
    }
   ],
   "source": [
    "from deepwalk import skipgram"
   ]
  },
  {
   "cell_type": "code",
   "execution_count": 17,
   "metadata": {},
   "outputs": [],
   "source": [
    "#help(skipgram)"
   ]
  },
  {
   "cell_type": "code",
   "execution_count": 14,
   "metadata": {},
   "outputs": [],
   "source": [
    "from deepwalk import walks"
   ]
  },
  {
   "cell_type": "code",
   "execution_count": 18,
   "metadata": {},
   "outputs": [],
   "source": [
    "#help(walks)"
   ]
  },
  {
   "cell_type": "code",
   "execution_count": 1,
   "metadata": {},
   "outputs": [
    {
     "name": "stderr",
     "output_type": "stream",
     "text": [
      "C:\\Users\\GAO\\AppData\\Local\\Continuum\\anaconda3\\envs\\tf-gpu\\lib\\site-packages\\gensim\\utils.py:1197: UserWarning: detected Windows; aliasing chunkize to chunkize_serial\n",
      "  warnings.warn(\"detected Windows; aliasing chunkize to chunkize_serial\")\n"
     ]
    }
   ],
   "source": [
    "import numpy as np\n",
    "import random\n",
    "import networkx\n",
    "import matplotlib.pyplot as plt\n",
    "from networkx.drawing.nx_agraph import write_dot, graphviz_layout\n",
    "from gensim.models import Word2Vec"
   ]
  },
  {
   "cell_type": "code",
   "execution_count": 2,
   "metadata": {},
   "outputs": [],
   "source": [
    "def relu(x):\n",
    "    return np.maximum(0, x)"
   ]
  },
  {
   "cell_type": "code",
   "execution_count": 11,
   "metadata": {},
   "outputs": [],
   "source": [
    "def get_edge_probability(G,start,end,p,q):\n",
    "    unnormalized_probability=[]\n",
    "    for end_neighbors in sorted(G.neighbors(end)):\n",
    "        if end_neighbors==start:\n",
    "            unnormalized_probability.append(1/p)\n",
    "        elif G.has_edge(end_neighbors,start):\n",
    "            unnormalized_probability.append(1)\n",
    "        else:\n",
    "            unnormalized_probability.append(1/q)\n",
    "    normalized_probability=[float(x)/sum(unnormalized_probability) for x in unnormalized_probability]\n",
    "    return normalized_probability"
   ]
  },
  {
   "cell_type": "code",
   "execution_count": 12,
   "metadata": {},
   "outputs": [],
   "source": [
    "def getAlledgesProbability(G,p,q, undirected=True):\n",
    "    AlledgesProbability={}\n",
    "    for edge in G.edges():\n",
    "        AlledgesProbability[edge]=get_edge_probability(G,edge[0],edge[1],p,q)\n",
    "        if undirected:\n",
    "            AlledgesProbability[(edge[1],edge[0])]=get_egde_probability(G,edge[1],edge[0],p,q)\n",
    "    return AlledgesProbability"
   ]
  },
  {
   "cell_type": "code",
   "execution_count": 13,
   "metadata": {},
   "outputs": [],
   "source": [
    "def random_walk(G,walk_length,start_point,p,q):\n",
    "    AlledgesProbability=getAlledgesProbability(G,p,q)\n",
    "    walk=[start_point]\n",
    "    while len(walk) <walk_length:\n",
    "        current=walk[-1]\n",
    "        neighbors=sorted(G.neighbors(current))\n",
    "        if len(neighbors)>0:\n",
    "            if len(walk)==1:\n",
    "                next=np.random.choice(neighbors,size=1,p=[1/len(neighbors)]*len(neighbors))[0]\n",
    "                walk.append(next)\n",
    "            else:\n",
    "                previous=walk[-2]\n",
    "                next=np.random.choice(neighbors,size=1,p=AlledgesProbability[(previous, current)])[0]\n",
    "                walk.append(next)\n",
    "        else:\n",
    "            break\n",
    "    return walk"
   ]
  },
  {
   "cell_type": "code",
   "execution_count": 14,
   "metadata": {},
   "outputs": [],
   "source": [
    "def simulate_walk(G, number_walk, walk_length,p,q):\n",
    "    walk=[]\n",
    "    nodes=list(G.nodes())\n",
    "    for i in range(number_walk):\n",
    "        random.shuffle(nodes)\n",
    "        for node in nodes:\n",
    "            walk.append(random_walk(G,walk_length, node, p,q))\n",
    "    return walk"
   ]
  },
  {
   "cell_type": "code",
   "execution_count": 15,
   "metadata": {},
   "outputs": [],
   "source": [
    "G=networkx.karate_club_graph()"
   ]
  },
  {
   "cell_type": "code",
   "execution_count": 16,
   "metadata": {},
   "outputs": [],
   "source": [
    "def clustering(H):\n",
    "    edges= networkx.edge_betweenness_centrality(H,normalized=True)\n",
    "    mx=max(edges.values())\n",
    "    for i in sorted(edges.keys()):\n",
    "        if edges[i]==mx:\n",
    "            return i"
   ]
  },
  {
   "cell_type": "code",
   "execution_count": 17,
   "metadata": {},
   "outputs": [],
   "source": [
    "split=list(networkx.algorithms.community.centrality.girvan_newman(G, most_valuable_edge=clustering))"
   ]
  },
  {
   "cell_type": "code",
   "execution_count": 18,
   "metadata": {},
   "outputs": [
    {
     "data": {
      "image/png": "[encoded data removed]",
      "text/plain": [
       "<Figure size 432x288 with 1 Axes>"
      ]
     },
     "metadata": {},
     "output_type": "display_data"
    }
   ],
   "source": [
    "split_number=2##times?\n",
    "color_map={}\n",
    "for i in range(len(split[2])):\n",
    "    for node in list(split[2][i]):\n",
    "        color_map[node]=i/len(split[2])\n",
    "values=[color_map.get(node,0.25) for node in G.node]\n",
    "plt.title('Karate Club Comunication ')\n",
    "networkx.draw(G,cmap=plt.get_cmap('Accent'),node_color=values,with_labels=True,font_color='white')\n",
    "plt.show()"
   ]
  },
  {
   "cell_type": "code",
   "execution_count": 25,
   "metadata": {},
   "outputs": [
    {
     "data": {
      "text/plain": [
       "[0.16666666666666666,\n",
       " 0.16666666666666666,\n",
       " 0.3333333333333333,\n",
       " 0.3333333333333333]"
      ]
     },
     "execution_count": 25,
     "metadata": {},
     "output_type": "execute_result"
    }
   ],
   "source": [
    "get_edge_probability(G, 15, 30, p=1, q=2)"
   ]
  },
  {
   "cell_type": "code",
   "execution_count": 3,
   "metadata": {},
   "outputs": [],
   "source": [
    "from networkx import karate_club_graph, to_numpy_matrix\n",
    "zkc = karate_club_graph()\n",
    "order = sorted(list(zkc.nodes()))\n",
    "A = to_numpy_matrix(zkc, nodelist=order)\n",
    "I = np.eye(zkc.number_of_nodes())\n",
    "A_hat = A + I\n",
    "D_hat = np.array(np.sum(A_hat, axis=0))[0]\n",
    "D_hat = np.matrix(np.diag(D_hat))"
   ]
  },
  {
   "cell_type": "code",
   "execution_count": 4,
   "metadata": {},
   "outputs": [],
   "source": [
    "W_1 = np.random.normal(\n",
    "    loc=0, scale=1, size=(zkc.number_of_nodes(), 4))\n",
    "W_2 = np.random.normal(\n",
    "    loc=0, size=(W_1.shape[1], 2))"
   ]
  },
  {
   "cell_type": "code",
   "execution_count": 5,
   "metadata": {},
   "outputs": [],
   "source": [
    "import numpy as np"
   ]
  },
  {
   "cell_type": "code",
   "execution_count": 6,
   "metadata": {},
   "outputs": [],
   "source": [
    "def gcn_layer(A_hat, D_hat, X, W):\n",
    "    return np.maximum(D_hat**-1 * A_hat * X * W, 0)\n",
    "H_1 = gcn_layer(A_hat, D_hat, I, W_1)\n",
    "H_2 = gcn_layer(A_hat, D_hat, H_1, W_2)\n",
    "output = H_2"
   ]
  },
  {
   "cell_type": "code",
   "execution_count": 7,
   "metadata": {},
   "outputs": [],
   "source": [
    "feature_representations = {\n",
    "    node: np.array(output)[node] \n",
    "    for node in zkc.nodes()}"
   ]
  },
  {
   "cell_type": "code",
   "execution_count": 8,
   "metadata": {},
   "outputs": [
    {
     "data": {
      "text/plain": [
       "{0: array([0.        , 0.07963494]),\n",
       " 1: array([0.        , 0.03424406]),\n",
       " 2: array([0.11189808, 0.        ]),\n",
       " 3: array([0.09687548, 0.        ]),\n",
       " 4: array([0.       , 0.1390064]),\n",
       " 5: array([0.        , 0.15659448]),\n",
       " 6: array([0.        , 0.12741695]),\n",
       " 7: array([0.07898383, 0.        ]),\n",
       " 8: array([0.12199453, 0.        ]),\n",
       " 9: array([0.1772392, 0.       ]),\n",
       " 10: array([0.        , 0.14262389]),\n",
       " 11: array([0.        , 0.16827804]),\n",
       " 12: array([0.        , 0.02194154]),\n",
       " 13: array([0.1497214, 0.       ]),\n",
       " 14: array([0.06044642, 0.        ]),\n",
       " 15: array([0.04080911, 0.        ]),\n",
       " 16: array([0.        , 0.17386136]),\n",
       " 17: array([0.        , 0.08412764]),\n",
       " 18: array([0.03626071, 0.        ]),\n",
       " 19: array([0.        , 0.05760528]),\n",
       " 20: array([0., 0.]),\n",
       " 21: array([0.        , 0.04072298]),\n",
       " 22: array([0., 0.]),\n",
       " 23: array([0.        , 0.05019771]),\n",
       " 24: array([0.        , 0.09460831]),\n",
       " 25: array([0.        , 0.07201352]),\n",
       " 26: array([0.17605958, 0.        ]),\n",
       " 27: array([0.        , 0.00029948]),\n",
       " 28: array([0.27439847, 0.        ]),\n",
       " 29: array([0.0579436, 0.       ]),\n",
       " 30: array([0.06548314, 0.        ]),\n",
       " 31: array([0., 0.]),\n",
       " 32: array([0., 0.]),\n",
       " 33: array([0., 0.])}"
      ]
     },
     "execution_count": 8,
     "metadata": {},
     "output_type": "execute_result"
    }
   ],
   "source": [
    "feature_representations"
   ]
  },
  {
   "cell_type": "code",
   "execution_count": 9,
   "metadata": {},
   "outputs": [],
   "source": [
    "feature_representations = np.array(list(feature_representations.values()))"
   ]
  },
  {
   "cell_type": "code",
   "execution_count": 10,
   "metadata": {},
   "outputs": [
    {
     "data": {
      "text/plain": [
       "(34, 2)"
      ]
     },
     "execution_count": 10,
     "metadata": {},
     "output_type": "execute_result"
    }
   ],
   "source": [
    "feature_representations.shape"
   ]
  },
  {
   "cell_type": "code",
   "execution_count": 11,
   "metadata": {},
   "outputs": [
    {
     "data": {
      "text/plain": [
       "array([[0.        , 0.07963494],\n",
       "       [0.        , 0.03424406],\n",
       "       [0.11189808, 0.        ],\n",
       "       [0.09687548, 0.        ],\n",
       "       [0.        , 0.1390064 ],\n",
       "       [0.        , 0.15659448],\n",
       "       [0.        , 0.12741695],\n",
       "       [0.07898383, 0.        ],\n",
       "       [0.12199453, 0.        ],\n",
       "       [0.1772392 , 0.        ],\n",
       "       [0.        , 0.14262389],\n",
       "       [0.        , 0.16827804],\n",
       "       [0.        , 0.02194154],\n",
       "       [0.1497214 , 0.        ],\n",
       "       [0.06044642, 0.        ],\n",
       "       [0.04080911, 0.        ],\n",
       "       [0.        , 0.17386136],\n",
       "       [0.        , 0.08412764],\n",
       "       [0.03626071, 0.        ],\n",
       "       [0.        , 0.05760528],\n",
       "       [0.        , 0.        ],\n",
       "       [0.        , 0.04072298],\n",
       "       [0.        , 0.        ],\n",
       "       [0.        , 0.05019771],\n",
       "       [0.        , 0.09460831],\n",
       "       [0.        , 0.07201352],\n",
       "       [0.17605958, 0.        ],\n",
       "       [0.        , 0.00029948],\n",
       "       [0.27439847, 0.        ],\n",
       "       [0.0579436 , 0.        ],\n",
       "       [0.06548314, 0.        ],\n",
       "       [0.        , 0.        ],\n",
       "       [0.        , 0.        ],\n",
       "       [0.        , 0.        ]])"
      ]
     },
     "execution_count": 11,
     "metadata": {},
     "output_type": "execute_result"
    }
   ],
   "source": [
    "feature_representations"
   ]
  },
  {
   "cell_type": "code",
   "execution_count": 22,
   "metadata": {},
   "outputs": [
    {
     "data": {
      "image/png": "[encoded data removed]",
      "text/plain": [
       "<Figure size 360x360 with 1 Axes>"
      ]
     },
     "metadata": {
      "needs_background": "light"
     },
     "output_type": "display_data"
    }
   ],
   "source": [
    "figure=plt.figure(figsize=(5,5))\n",
    "ax=figure.add_subplot(111)\n",
    "ax.scatter(feature_representations[:, 0], feature_representations[:, 1], cmap='Accent')\n",
    "plt.show()"
   ]
  },
  {
   "cell_type": "code",
   "execution_count": 19,
   "metadata": {},
   "outputs": [
    {
     "data": {
      "text/plain": [
       "(34,)"
      ]
     },
     "execution_count": 19,
     "metadata": {},
     "output_type": "execute_result"
    }
   ],
   "source": [
    "feature_representations[:, 0].shape"
   ]
  },
  {
   "cell_type": "code",
   "execution_count": 18,
   "metadata": {},
   "outputs": [
    {
     "data": {
      "text/plain": [
       "(34,)"
      ]
     },
     "execution_count": 18,
     "metadata": {},
     "output_type": "execute_result"
    }
   ],
   "source": [
    "feature_representations[:, 1].shape"
   ]
  },
  {
   "cell_type": "code",
   "execution_count": null,
   "metadata": {},
   "outputs": [],
   "source": []
  }
 ],
 "metadata": {
  "kernelspec": {
   "display_name": "TensorFlow-GPU",
   "language": "python",
   "name": "tf-gpu"
  },
  "language_info": {
   "codemirror_mode": {
    "name": "ipython",
    "version": 3
   },
   "file_extension": ".py",
   "mimetype": "text/x-python",
   "name": "python",
   "nbconvert_exporter": "python",
   "pygments_lexer": "ipython3",
   "version": "3.6.6"
  }
 },
 "nbformat": 4,
 "nbformat_minor": 2
}
