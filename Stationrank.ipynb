{
 "cells": [
  {
   "cell_type": "markdown",
   "metadata": {},
   "source": [
    "# Stationrank"
   ]
  },
  {
   "cell_type": "code",
   "execution_count": 1,
   "metadata": {},
   "outputs": [],
   "source": [
    "import os\n",
    "import time\n",
    "import json\n",
    "#import pygraphviz"
   ]
  },
  {
   "cell_type": "code",
   "execution_count": 2,
   "metadata": {},
   "outputs": [],
   "source": [
    "%matplotlib inline\n",
    "import numpy as np\n",
    "import pandas as pd\n",
    "import seaborn as sns\n",
    "import datetime as dt\n",
    "import networkx as nx\n",
    "import ipywidgets as widgets\n",
    "import matplotlib as mpl\n",
    "import matplotlib.pyplot as plt\n",
    "import warnings\n",
    "warnings.filterwarnings('ignore')"
   ]
  },
  {
   "cell_type": "code",
   "execution_count": 3,
   "metadata": {},
   "outputs": [],
   "source": [
    "from networkx.drawing.nx_agraph import write_dot\n",
    "from networkx.readwrite import json_graph\n",
    "#from shapely.geometry import Point, LineString\n",
    "#from shapely_geojson import dump, dumps, Feature, FeatureCollection\n",
    "from tqdm.notebook import trange, tqdm\n",
    "from scipy.linalg import norm\n",
    "from scipy.linalg import eig\n",
    "from matplotlib import cm\n",
    "from ipywidgets import interact, interact_manual\n",
    "from itertools import compress\n",
    "from datetime import datetime, timedelta\n",
    "from sklearn import preprocessing\n",
    "from numpy import linalg as LA\n",
    "from numpy import nan"
   ]
  },
  {
   "cell_type": "markdown",
   "metadata": {},
   "source": [
    "## Loading the dataset"
   ]
  },
  {
   "cell_type": "code",
   "execution_count": 4,
   "metadata": {},
   "outputs": [],
   "source": [
    "# Set month\n",
    "month = 'Oktober'\n",
    "\n",
    "# Set index\n",
    "imonth = '10'"
   ]
  },
  {
   "cell_type": "code",
   "execution_count": 5,
   "metadata": {},
   "outputs": [],
   "source": [
    "# Clean data contains every \"stop\" for a month for all swiss railways\n",
    "data = pd.read_pickle('data/istdaten/{}/data_clean_2019{}.pkl'.format(month, imonth))"
   ]
  },
  {
   "cell_type": "code",
   "execution_count": null,
   "metadata": {},
   "outputs": [],
   "source": [
    "# Check if all days are in\n",
    "print(data.BETRIEBSTAG.unique())"
   ]
  },
  {
   "cell_type": "code",
   "execution_count": null,
   "metadata": {},
   "outputs": [],
   "source": [
    "data.head()"
   ]
  },
  {
   "cell_type": "markdown",
   "metadata": {},
   "source": [
    "## Load stations dataset (didok)"
   ]
  },
  {
   "cell_type": "code",
   "execution_count": 6,
   "metadata": {},
   "outputs": [],
   "source": [
    "# Full didok data\n",
    "didok = pd.read_csv('data/istdaten/{}/dienststellenfull.csv'.format(month), header=6, sep=\";\")"
   ]
  },
  {
   "cell_type": "code",
   "execution_count": 7,
   "metadata": {},
   "outputs": [
    {
     "data": {
      "text/html": [
       "<div>\n",
       "<style scoped>\n",
       "    .dataframe tbody tr th:only-of-type {\n",
       "        vertical-align: middle;\n",
       "    }\n",
       "\n",
       "    .dataframe tbody tr th {\n",
       "        vertical-align: top;\n",
       "    }\n",
       "\n",
       "    .dataframe thead th {\n",
       "        text-align: right;\n",
       "    }\n",
       "</style>\n",
       "<table border=\"1\" class=\"dataframe\">\n",
       "  <thead>\n",
       "    <tr style=\"text-align: right;\">\n",
       "      <th></th>\n",
       "      <th>BPUIC</th>\n",
       "      <th>BEZEICHNUNG_OFFIZIELL</th>\n",
       "      <th>E_WGS84</th>\n",
       "      <th>N_WGS84</th>\n",
       "    </tr>\n",
       "  </thead>\n",
       "  <tbody>\n",
       "    <tr>\n",
       "      <td>0</td>\n",
       "      <td>8504048</td>\n",
       "      <td>Villariaz, Moulin Rouge</td>\n",
       "      <td>-14.801849</td>\n",
       "      <td>35.100356</td>\n",
       "    </tr>\n",
       "    <tr>\n",
       "      <td>1</td>\n",
       "      <td>8504049</td>\n",
       "      <td>Villarepos, F. de Plan</td>\n",
       "      <td>-14.764508</td>\n",
       "      <td>35.330601</td>\n",
       "    </tr>\n",
       "    <tr>\n",
       "      <td>2</td>\n",
       "      <td>8519024</td>\n",
       "      <td>Basel SBB RB West</td>\n",
       "      <td>-8.092301</td>\n",
       "      <td>55.603118</td>\n",
       "    </tr>\n",
       "    <tr>\n",
       "      <td>3</td>\n",
       "      <td>8519025</td>\n",
       "      <td>Basel SBB RB Ost</td>\n",
       "      <td>-8.073794</td>\n",
       "      <td>55.600495</td>\n",
       "    </tr>\n",
       "    <tr>\n",
       "      <td>4</td>\n",
       "      <td>8557043</td>\n",
       "      <td>Ennetbaden, Rütenen-Felmen</td>\n",
       "      <td>0.379039</td>\n",
       "      <td>47.265918</td>\n",
       "    </tr>\n",
       "  </tbody>\n",
       "</table>\n",
       "</div>"
      ],
      "text/plain": [
       "     BPUIC       BEZEICHNUNG_OFFIZIELL    E_WGS84    N_WGS84\n",
       "0  8504048     Villariaz, Moulin Rouge -14.801849  35.100356\n",
       "1  8504049      Villarepos, F. de Plan -14.764508  35.330601\n",
       "2  8519024           Basel SBB RB West  -8.092301  55.603118\n",
       "3  8519025            Basel SBB RB Ost  -8.073794  55.600495\n",
       "4  8557043  Ennetbaden, Rütenen-Felmen   0.379039  47.265918"
      ]
     },
     "execution_count": 7,
     "metadata": {},
     "output_type": "execute_result"
    }
   ],
   "source": [
    "# Coordinates\n",
    "didok = didok[['BPUIC', 'BEZEICHNUNG_OFFIZIELL', 'E_WGS84', 'N_WGS84']].drop_duplicates()\n",
    "didok = didok[np.isfinite(didok['E_WGS84'])]\n",
    "didok = didok.reset_index()\n",
    "didok = didok.drop(columns=['index'])\n",
    "didok.head(5)"
   ]
  },
  {
   "cell_type": "markdown",
   "metadata": {},
   "source": [
    "### Locations in project as BPUIC"
   ]
  },
  {
   "cell_type": "code",
   "execution_count": 8,
   "metadata": {},
   "outputs": [
    {
     "data": {
      "text/html": [
       "<div>\n",
       "<style scoped>\n",
       "    .dataframe tbody tr th:only-of-type {\n",
       "        vertical-align: middle;\n",
       "    }\n",
       "\n",
       "    .dataframe tbody tr th {\n",
       "        vertical-align: top;\n",
       "    }\n",
       "\n",
       "    .dataframe thead th {\n",
       "        text-align: right;\n",
       "    }\n",
       "</style>\n",
       "<table border=\"1\" class=\"dataframe\">\n",
       "  <thead>\n",
       "    <tr style=\"text-align: right;\">\n",
       "      <th></th>\n",
       "      <th>HALTESTELLEN_NAME</th>\n",
       "      <th>BPUIC</th>\n",
       "    </tr>\n",
       "  </thead>\n",
       "  <tbody>\n",
       "    <tr>\n",
       "      <td>0</td>\n",
       "      <td>Basel Bad Bf</td>\n",
       "      <td>8500090</td>\n",
       "    </tr>\n",
       "    <tr>\n",
       "      <td>1</td>\n",
       "      <td>Basel SBB</td>\n",
       "      <td>8500010</td>\n",
       "    </tr>\n",
       "    <tr>\n",
       "      <td>2</td>\n",
       "      <td>Schaffhausen</td>\n",
       "      <td>8503424</td>\n",
       "    </tr>\n",
       "    <tr>\n",
       "      <td>3</td>\n",
       "      <td>Zürich HB</td>\n",
       "      <td>8503000</td>\n",
       "    </tr>\n",
       "    <tr>\n",
       "      <td>4</td>\n",
       "      <td>Bern</td>\n",
       "      <td>8507000</td>\n",
       "    </tr>\n",
       "    <tr>\n",
       "      <td>...</td>\n",
       "      <td>...</td>\n",
       "      <td>...</td>\n",
       "    </tr>\n",
       "    <tr>\n",
       "      <td>1240</td>\n",
       "      <td>Genève-Champel</td>\n",
       "      <td>8516272</td>\n",
       "    </tr>\n",
       "    <tr>\n",
       "      <td>1241</td>\n",
       "      <td>Lancy-Bachet</td>\n",
       "      <td>8517142</td>\n",
       "    </tr>\n",
       "    <tr>\n",
       "      <td>1242</td>\n",
       "      <td>Genève Voie-Creuse</td>\n",
       "      <td>8519692</td>\n",
       "    </tr>\n",
       "    <tr>\n",
       "      <td>1243</td>\n",
       "      <td>Niederbottigen BN</td>\n",
       "      <td>8504492</td>\n",
       "    </tr>\n",
       "    <tr>\n",
       "      <td>1244</td>\n",
       "      <td>Goppenstein Autorampe</td>\n",
       "      <td>8519655</td>\n",
       "    </tr>\n",
       "  </tbody>\n",
       "</table>\n",
       "<p>1245 rows × 2 columns</p>\n",
       "</div>"
      ],
      "text/plain": [
       "          HALTESTELLEN_NAME    BPUIC\n",
       "0              Basel Bad Bf  8500090\n",
       "1                 Basel SBB  8500010\n",
       "2              Schaffhausen  8503424\n",
       "3                 Zürich HB  8503000\n",
       "4                      Bern  8507000\n",
       "...                     ...      ...\n",
       "1240         Genève-Champel  8516272\n",
       "1241           Lancy-Bachet  8517142\n",
       "1242     Genève Voie-Creuse  8519692\n",
       "1243      Niederbottigen BN  8504492\n",
       "1244  Goppenstein Autorampe  8519655\n",
       "\n",
       "[1245 rows x 2 columns]"
      ]
     },
     "execution_count": 8,
     "metadata": {},
     "output_type": "execute_result"
    }
   ],
   "source": [
    "# These are the specific stations of the project\n",
    "locations = data.copy(deep=True)\n",
    "locations = locations[['HALTESTELLEN_NAME', 'BPUIC']].drop_duplicates()\n",
    "locations.BPUIC = locations.BPUIC.astype(int)\n",
    "locations = locations.reset_index()\n",
    "locations = locations.drop(columns=['index'])\n",
    "locations"
   ]
  },
  {
   "cell_type": "markdown",
   "metadata": {},
   "source": [
    "### Georeferenced locations by BPUIC"
   ]
  },
  {
   "cell_type": "code",
   "execution_count": 9,
   "metadata": {},
   "outputs": [],
   "source": [
    "geopos = []\n",
    "abbreviation = []\n",
    "for i, location in enumerate(locations.values):\n",
    "    lon = didok.loc[didok['BPUIC']==location[1]].values[0][2]\n",
    "    lat = didok.loc[didok['BPUIC']==location[1]].values[0][3]\n",
    "    loc = [lon, lat]\n",
    "    geopos.append(loc)"
   ]
  },
  {
   "cell_type": "code",
   "execution_count": 10,
   "metadata": {},
   "outputs": [
    {
     "data": {
      "text/html": [
       "<div>\n",
       "<style scoped>\n",
       "    .dataframe tbody tr th:only-of-type {\n",
       "        vertical-align: middle;\n",
       "    }\n",
       "\n",
       "    .dataframe tbody tr th {\n",
       "        vertical-align: top;\n",
       "    }\n",
       "\n",
       "    .dataframe thead th {\n",
       "        text-align: right;\n",
       "    }\n",
       "</style>\n",
       "<table border=\"1\" class=\"dataframe\">\n",
       "  <thead>\n",
       "    <tr style=\"text-align: right;\">\n",
       "      <th></th>\n",
       "      <th>HALTESTELLEN_NAME</th>\n",
       "      <th>BPUIC</th>\n",
       "      <th>geopos</th>\n",
       "    </tr>\n",
       "  </thead>\n",
       "  <tbody>\n",
       "    <tr>\n",
       "      <td>0</td>\n",
       "      <td>Basel Bad Bf</td>\n",
       "      <td>8500090</td>\n",
       "      <td>[7.60728379, 47.56814685]</td>\n",
       "    </tr>\n",
       "    <tr>\n",
       "      <td>1</td>\n",
       "      <td>Basel SBB</td>\n",
       "      <td>8500010</td>\n",
       "      <td>[7.58955093, 47.54740464]</td>\n",
       "    </tr>\n",
       "    <tr>\n",
       "      <td>2</td>\n",
       "      <td>Schaffhausen</td>\n",
       "      <td>8503424</td>\n",
       "      <td>[8.632719999999999, 47.69827999]</td>\n",
       "    </tr>\n",
       "    <tr>\n",
       "      <td>3</td>\n",
       "      <td>Zürich HB</td>\n",
       "      <td>8503000</td>\n",
       "      <td>[8.540189999999999, 47.378170000000004]</td>\n",
       "    </tr>\n",
       "    <tr>\n",
       "      <td>4</td>\n",
       "      <td>Bern</td>\n",
       "      <td>8507000</td>\n",
       "      <td>[7.43911848, 46.94882499]</td>\n",
       "    </tr>\n",
       "  </tbody>\n",
       "</table>\n",
       "</div>"
      ],
      "text/plain": [
       "  HALTESTELLEN_NAME    BPUIC                                   geopos\n",
       "0      Basel Bad Bf  8500090                [7.60728379, 47.56814685]\n",
       "1         Basel SBB  8500010                [7.58955093, 47.54740464]\n",
       "2      Schaffhausen  8503424         [8.632719999999999, 47.69827999]\n",
       "3         Zürich HB  8503000  [8.540189999999999, 47.378170000000004]\n",
       "4              Bern  8507000                [7.43911848, 46.94882499]"
      ]
     },
     "execution_count": 10,
     "metadata": {},
     "output_type": "execute_result"
    }
   ],
   "source": [
    "locations['geopos'] = geopos\n",
    "locations.head(5)"
   ]
  },
  {
   "cell_type": "markdown",
   "metadata": {},
   "source": [
    "## Preprocessing (please use precomputed results)"
   ]
  },
  {
   "cell_type": "code",
   "execution_count": null,
   "metadata": {},
   "outputs": [],
   "source": [
    "def discretize(x):\n",
    "    if pd.isna(x):\n",
    "        return None\n",
    "    else:\n",
    "        x = pd.to_datetime(x)\n",
    "        return int((x.hour) * 60 + x.minute)"
   ]
  },
  {
   "cell_type": "code",
   "execution_count": null,
   "metadata": {},
   "outputs": [],
   "source": [
    "def span(x):\n",
    "    if pd.isna(x['arrival']) ^ pd.isna(x['departure']):\n",
    "        return 1\n",
    "    elif pd.isna(x['arrival']) and pd.isna(x['departure']):\n",
    "        return None\n",
    "    else:\n",
    "        diff = x['departure'] - x['arrival']\n",
    "        if diff >= 0:\n",
    "            return diff + 1\n",
    "        else:\n",
    "            return None"
   ]
  },
  {
   "cell_type": "code",
   "execution_count": null,
   "metadata": {},
   "outputs": [],
   "source": [
    "def timeline(lst, df):\n",
    "    if pd.isna(df.loc[df.index[0]].arrival):\n",
    "        start = int(df.loc[df.index[0]].departure)\n",
    "    else:\n",
    "        start = int(df.loc[df.index[0]].arrival)\n",
    "    primer = {int(i): None for i in range(0, start)}\n",
    "    main = {int(j + start): [lst[j]] for j in range(0, len(lst))}\n",
    "    sequel = {int(k): None for k in range(start + len(lst), 60 * 24)}\n",
    "    main.update(sequel)\n",
    "    primer.update(main)\n",
    "    return primer"
   ]
  },
  {
   "cell_type": "code",
   "execution_count": null,
   "metadata": {},
   "outputs": [],
   "source": [
    "# Collect features\n",
    "features = []\n",
    "# One feature per day\n",
    "for day in data['BETRIEBSTAG'].unique():\n",
    "    feature = data[data['BETRIEBSTAG'] == day]\n",
    "    # Reset index\n",
    "    feature = feature.reset_index()\n",
    "    feature = feature.drop(columns=['index'])\n",
    "    features.append(feature)"
   ]
  },
  {
   "cell_type": "code",
   "execution_count": null,
   "metadata": {},
   "outputs": [],
   "source": [
    "# Collect diaries\n",
    "diaries = []\n",
    "\n",
    "for feature in tqdm(features):\n",
    "\n",
    "    # Diary of routes\n",
    "    diary = []\n",
    "    for route in tqdm(\n",
    "            feature.FAHRT_BEZEICHNER.unique(),\n",
    "            desc=feature['BETRIEBSTAG'].unique()[0]):\n",
    "\n",
    "        df = feature.loc[(feature.FAHRT_BEZEICHNER == route)]\n",
    "\n",
    "        if len(df['HALTESTELLEN_NAME']) > 1:\n",
    "\n",
    "            df['arrival'] = df['ANKUNFTSZEIT'].apply(discretize)\n",
    "            df['departure'] = df['ABFAHRTSZEIT'].apply(discretize)\n",
    "\n",
    "            # Sort routes by scheduled departure\n",
    "            df = df.sort_values(\n",
    "                by='ABFAHRTSZEIT', ascending=True, na_position='last')\n",
    "\n",
    "            df['dwell'] = df[['arrival', 'departure']].apply(span, axis=1)\n",
    "            df['running'] = df['arrival'].shift(-1) - df['departure'] - 1\n",
    "\n",
    "            # Check for timetable errors\n",
    "            if any(df['running'].values.ravel() < 0):\n",
    "                continue\n",
    "            if any(df['dwell'].values.ravel() < 0):\n",
    "                continue\n",
    "\n",
    "            df['next'] = df['HALTESTELLEN_NAME'].shift(-1)\n",
    "\n",
    "            sentence = []\n",
    "            for i, j, k, l in df[[\n",
    "                    'HALTESTELLEN_NAME', 'next', 'dwell', 'running'\n",
    "            ]].values:\n",
    "                if pd.isna(j) or pd.isna(l):\n",
    "                    sentence.append([i])\n",
    "                    \n",
    "                elif pd.isna(k):\n",
    "                    sentence.append([i])\n",
    "                    break\n",
    "                else:\n",
    "                    sentence.append([i] * int(k))\n",
    "                    sentence.append([i + '=>' + j] * int(l))\n",
    "\n",
    "            flattened = [item for sublist in sentence for item in sublist]\n",
    "            dic = timeline(flattened, df)\n",
    "            if len(dic) != 1440:\n",
    "                print(len(dic))\n",
    "                break\n",
    "            diary.append(dic)\n",
    "\n",
    "    # Fill in the diaries\n",
    "    diaries.append(pd.DataFrame(diary))"
   ]
  },
  {
   "cell_type": "markdown",
   "metadata": {},
   "source": [
    "## Save the diaries for later use"
   ]
  },
  {
   "cell_type": "code",
   "execution_count": null,
   "metadata": {},
   "outputs": [],
   "source": [
    "# Export all diaries\n",
    "for i, diary in enumerate(diaries):\n",
    "    path = 'data/istdaten/{}/diaries/diary_{:>02}_2019{}.pkl'.format(\n",
    "        month, str(i + 1), imonth)\n",
    "    diary.to_pickle(path)"
   ]
  },
  {
   "cell_type": "markdown",
   "metadata": {},
   "source": [
    "## Load preprocessed data"
   ]
  },
  {
   "cell_type": "code",
   "execution_count": null,
   "metadata": {},
   "outputs": [],
   "source": [
    "Diaries = []\n",
    "directory = 'data/istdaten/{}/diaries/'.format(month)\n",
    "files = os.listdir(directory)\n",
    "for file in sorted(files):\n",
    "    path = '{}{}'.format(directory, file)\n",
    "    d = pd.read_pickle(path)\n",
    "    Diaries.append(d)"
   ]
  },
  {
   "cell_type": "markdown",
   "metadata": {},
   "source": [
    "## Model construction"
   ]
  },
  {
   "cell_type": "code",
   "execution_count": null,
   "metadata": {},
   "outputs": [],
   "source": [
    "# Collect starting vectors\n",
    "vectors = []\n",
    "# Collect transition matrices\n",
    "matrices = []\n",
    "# Collect states\n",
    "states = []"
   ]
  },
  {
   "cell_type": "code",
   "execution_count": null,
   "metadata": {},
   "outputs": [],
   "source": [
    "for diary in tqdm(Diaries):\n",
    "\n",
    "    # Dictionary of stations\n",
    "    dic = {'station': np.unique([x for x in diary.values.ravel() if x != None])}\n",
    "    stations = pd.DataFrame(dic)\n",
    "    states.append(stations)\n",
    "\n",
    "    # Size of the matrix\n",
    "    n = stations.shape[0]\n",
    "    \n",
    "    # Initialize a n*1 initial start vector\n",
    "    t = (n)\n",
    "    Vector = pd.DataFrame(np.zeros(t))\n",
    "    origin = pd.DataFrame(np.zeros(t))\n",
    "    \n",
    "    # Initialize a n*n transition matrix\n",
    "    s = (n, n)\n",
    "    matrix = pd.DataFrame(np.zeros(s))\n",
    "\n",
    "    for row in tqdm(diary.values):\n",
    "        route = [x for x in row if x != None]\n",
    "        stops = [item for sublist in route for item in sublist]\n",
    "          \n",
    "        # Initial vector\n",
    "        pos_i = stations.loc[stations['station'] == stops[0]].index[0]\n",
    "        origin.iloc[pos_i] += 1\n",
    "\n",
    "        # Transition matrix\n",
    "        for i in range(len(stops) - 1):\n",
    "            pos1 = stations.loc[stations['station'] == stops[i]].index[0]\n",
    "            pos2 = stations.loc[stations['station'] == stops[i + 1]].index[0]  \n",
    "            matrix.iloc[pos1, pos2] += 1\n",
    "            \n",
    "    # Fill in the vectors\n",
    "    inflow = matrix.sum(axis=0)\n",
    "    outflow = matrix.sum(axis=1)\n",
    "    \n",
    "    Vector['station'] = dic['station']\n",
    "    Vector['origin'] = origin/origin.sum()\n",
    "    Vector['inflow'] = inflow/inflow.sum()\n",
    "    Vector['outflow'] = outflow/outflow.sum()\n",
    "    Vector = Vector.drop(columns=[0])\n",
    "    vectors.append(Vector)\n",
    "\n",
    "    # Fill in the matrices\n",
    "    matrix.columns = dic['station']\n",
    "    matrix = matrix.set_index(dic['station'])\n",
    "    matrices.append(matrix)"
   ]
  },
  {
   "cell_type": "markdown",
   "metadata": {},
   "source": [
    "### Save the model for later use"
   ]
  },
  {
   "cell_type": "code",
   "execution_count": null,
   "metadata": {},
   "outputs": [],
   "source": [
    "# Export all vectors\n",
    "for i, vector in enumerate(vectors):\n",
    "    path = 'data/istdaten/{}/vectors/vector_{:>02}_2019{}.pkl'.format(\n",
    "        month, str(i + 1), imonth)\n",
    "    vector.to_pickle(path)"
   ]
  },
  {
   "cell_type": "code",
   "execution_count": null,
   "metadata": {},
   "outputs": [],
   "source": [
    "# Export all matrices\n",
    "for i, matrix in enumerate(matrices):\n",
    "    path = 'data/istdaten/{}/matrices/matrix_{:>02}_2019{}.pkl'.format(\n",
    "        month, str(i + 1), imonth)\n",
    "    matrix.to_pickle(path)"
   ]
  },
  {
   "cell_type": "markdown",
   "metadata": {},
   "source": [
    "### Loading the model"
   ]
  },
  {
   "cell_type": "code",
   "execution_count": 11,
   "metadata": {},
   "outputs": [],
   "source": [
    "# Load starting vectors\n",
    "Vs = []\n",
    "directory = 'data/istdaten/{}/vectors/'.format(month)\n",
    "files = os.listdir(directory)\n",
    "for file in sorted(files):\n",
    "    path = '{}{}'.format(directory, file)\n",
    "    V = pd.read_pickle(path)\n",
    "    Vs.append(V)"
   ]
  },
  {
   "cell_type": "code",
   "execution_count": 12,
   "metadata": {},
   "outputs": [],
   "source": [
    "# Load original transition matrices\n",
    "OTMs = []\n",
    "directory = 'data/istdaten/{}/matrices/'.format(month)\n",
    "files = os.listdir(directory)\n",
    "for file in sorted(files):\n",
    "    path = '{}{}'.format(directory,file)\n",
    "    OTM = pd.read_pickle(path)\n",
    "    OTMs.append(OTM)"
   ]
  },
  {
   "cell_type": "code",
   "execution_count": 13,
   "metadata": {},
   "outputs": [],
   "source": [
    "strings = []\n",
    "for i in range(1, len(Vs)+1):\n",
    "    string = '{:>02}.{}'.format(i, imonth)\n",
    "    strings.append(string)"
   ]
  },
  {
   "cell_type": "markdown",
   "metadata": {},
   "source": [
    "## Calculate Probabilities"
   ]
  },
  {
   "cell_type": "code",
   "execution_count": 125,
   "metadata": {},
   "outputs": [
    {
     "data": {
      "application/vnd.jupyter.widget-view+json": {
       "model_id": "9d41d1457fd84d859c9d4054be0fd2f5",
       "version_major": 2,
       "version_minor": 0
      },
      "text/plain": [
       "HBox(children=(IntProgress(value=1, bar_style='info', max=1), HTML(value='')))"
      ]
     },
     "metadata": {},
     "output_type": "display_data"
    },
    {
     "name": "stdout",
     "output_type": "stream",
     "text": [
      "Singular Terminal at Chiasso Olimpino I\n",
      "Singular Origin at Landesgrenze CH-Liechtenstein\n",
      "Singular Origin at Schaffhausen Nord\n",
      "Singular Terminal at Sagliains Abzw Sasslatschtunne\n",
      "Singular Origin at Schaffhausen Nord\n",
      "Singular Terminal at Gaggiolo Confine\n",
      "Singular Terminal at La Plaine-Frontière\n",
      "Singular Origin at Gaggiolo Confine\n",
      "Singular Origin at La Plaine-Frontière\n",
      "Singular Origin at Landesgrenze CH-Liechtenstein\n",
      "Singular Terminal at Le Locle-Frontière\n",
      "Singular Origin at Chêne-Bourg\n",
      "Singular Terminal at Genève Voie-Creuse\n",
      "\n"
     ]
    }
   ],
   "source": [
    "TMs = []\n",
    "row_singularities = []\n",
    "column_singularities = []\n",
    "\n",
    "for i, OTM in tqdm(enumerate(OTMs)):\n",
    "    TM = OTM.copy(deep=True)\n",
    "    eps = 0.001\n",
    "    \n",
    "    count = 0\n",
    "    \n",
    "    for column in TM.values.T:\n",
    "        column_singularities.append([])\n",
    "        \n",
    "        selfloop = TM.values[count][count]\n",
    "        \n",
    "        if (sum(column) - selfloop == 0):\n",
    "            singularity = Vs[i].iloc[count][0]\n",
    "            column_singularities[i].append(singularity)\n",
    "            print('Singular Origin at', singularity)\n",
    "            column[:] = eps\n",
    "            column[count] = selfloop        \n",
    "        TM.values.T[count]=column\n",
    "        count+=1    \n",
    "    \n",
    "    count = 0\n",
    "        \n",
    "    for row in TM.values:\n",
    "        row_singularities.append([])\n",
    "        \n",
    "        selfloop = TM.values[count][count]\n",
    "        \n",
    "        total = sum(row)\n",
    "        \n",
    "        if (sum(row) - selfloop == 0):\n",
    "            singularity = Vs[i].iloc[count][0]\n",
    "            row_singularities[i].append(singularity)\n",
    "            print('Singular Terminal at', singularity)\n",
    "            row[:] = eps\n",
    "            row[count] = 1.0\n",
    "            row[:] = [r / sum(row) for r in row]\n",
    "        elif (sum(row) - selfloop == eps):\n",
    "            singularity = Vs[i].iloc[count][0]\n",
    "            row_singularities[i].append(singularity)\n",
    "            print('Singular Terminal at', singularity)\n",
    "            row[:] = eps\n",
    "            row[count] = 1.0\n",
    "            row[:] = [r / sum(row) for r in row]        \n",
    "        else:\n",
    "            row[:] = [r / total for r in row]\n",
    "        TM.values[count]=row\n",
    "        count+=1\n",
    "        \n",
    "    TMs.append(TM)"
   ]
  },
  {
   "cell_type": "code",
   "execution_count": 73,
   "metadata": {},
   "outputs": [
    {
     "data": {
      "text/html": [
       "<div>\n",
       "<style scoped>\n",
       "    .dataframe tbody tr th:only-of-type {\n",
       "        vertical-align: middle;\n",
       "    }\n",
       "\n",
       "    .dataframe tbody tr th {\n",
       "        vertical-align: top;\n",
       "    }\n",
       "\n",
       "    .dataframe thead th {\n",
       "        text-align: right;\n",
       "    }\n",
       "</style>\n",
       "<table border=\"1\" class=\"dataframe\">\n",
       "  <thead>\n",
       "    <tr style=\"text-align: right;\">\n",
       "      <th></th>\n",
       "      <th>0</th>\n",
       "    </tr>\n",
       "  </thead>\n",
       "  <tbody>\n",
       "    <tr>\n",
       "      <td>2</td>\n",
       "      <td>Chiasso Olimpino I</td>\n",
       "    </tr>\n",
       "    <tr>\n",
       "      <td>7</td>\n",
       "      <td>Sagliains Abzw Sasslatschtunne</td>\n",
       "    </tr>\n",
       "    <tr>\n",
       "      <td>16</td>\n",
       "      <td>Gaggiolo Confine</td>\n",
       "    </tr>\n",
       "    <tr>\n",
       "      <td>19</td>\n",
       "      <td>La Plaine-Frontière</td>\n",
       "    </tr>\n",
       "    <tr>\n",
       "      <td>22</td>\n",
       "      <td>Le Locle-Frontière</td>\n",
       "    </tr>\n",
       "    <tr>\n",
       "      <td>28</td>\n",
       "      <td>Genève Voie-Creuse</td>\n",
       "    </tr>\n",
       "  </tbody>\n",
       "</table>\n",
       "</div>"
      ],
      "text/plain": [
       "                                 0\n",
       "2               Chiasso Olimpino I\n",
       "7   Sagliains Abzw Sasslatschtunne\n",
       "16                Gaggiolo Confine\n",
       "19             La Plaine-Frontière\n",
       "22              Le Locle-Frontière\n",
       "28              Genève Voie-Creuse"
      ]
     },
     "execution_count": 73,
     "metadata": {},
     "output_type": "execute_result"
    }
   ],
   "source": [
    "# Overview of singularities in the system by day of occurance\n",
    "singular_rows = pd.DataFrame(row_singularities).dropna(how ='all')\n",
    "singular_rows"
   ]
  },
  {
   "cell_type": "code",
   "execution_count": 74,
   "metadata": {},
   "outputs": [
    {
     "data": {
      "text/html": [
       "<div>\n",
       "<style scoped>\n",
       "    .dataframe tbody tr th:only-of-type {\n",
       "        vertical-align: middle;\n",
       "    }\n",
       "\n",
       "    .dataframe tbody tr th {\n",
       "        vertical-align: top;\n",
       "    }\n",
       "\n",
       "    .dataframe thead th {\n",
       "        text-align: right;\n",
       "    }\n",
       "</style>\n",
       "<table border=\"1\" class=\"dataframe\">\n",
       "  <thead>\n",
       "    <tr style=\"text-align: right;\">\n",
       "      <th></th>\n",
       "      <th>0</th>\n",
       "      <th>1</th>\n",
       "      <th>2</th>\n",
       "    </tr>\n",
       "  </thead>\n",
       "  <tbody>\n",
       "    <tr>\n",
       "      <td>3</td>\n",
       "      <td>Landesgrenze CH-Liechtenstein</td>\n",
       "      <td>None</td>\n",
       "      <td>None</td>\n",
       "    </tr>\n",
       "    <tr>\n",
       "      <td>6</td>\n",
       "      <td>Schaffhausen Nord</td>\n",
       "      <td>None</td>\n",
       "      <td>None</td>\n",
       "    </tr>\n",
       "    <tr>\n",
       "      <td>10</td>\n",
       "      <td>Schaffhausen Nord</td>\n",
       "      <td>None</td>\n",
       "      <td>None</td>\n",
       "    </tr>\n",
       "    <tr>\n",
       "      <td>20</td>\n",
       "      <td>Gaggiolo Confine</td>\n",
       "      <td>La Plaine-Frontière</td>\n",
       "      <td>Landesgrenze CH-Liechtenstein</td>\n",
       "    </tr>\n",
       "    <tr>\n",
       "      <td>28</td>\n",
       "      <td>Chêne-Bourg</td>\n",
       "      <td>None</td>\n",
       "      <td>None</td>\n",
       "    </tr>\n",
       "  </tbody>\n",
       "</table>\n",
       "</div>"
      ],
      "text/plain": [
       "                                0                    1  \\\n",
       "3   Landesgrenze CH-Liechtenstein                 None   \n",
       "6               Schaffhausen Nord                 None   \n",
       "10              Schaffhausen Nord                 None   \n",
       "20               Gaggiolo Confine  La Plaine-Frontière   \n",
       "28                    Chêne-Bourg                 None   \n",
       "\n",
       "                                2  \n",
       "3                            None  \n",
       "6                            None  \n",
       "10                           None  \n",
       "20  Landesgrenze CH-Liechtenstein  \n",
       "28                           None  "
      ]
     },
     "execution_count": 74,
     "metadata": {},
     "output_type": "execute_result"
    }
   ],
   "source": [
    "# Overview of singularities in the system by day of occurance\n",
    "singular_columns = pd.DataFrame(column_singularities).dropna(how ='all')\n",
    "singular_columns"
   ]
  },
  {
   "cell_type": "code",
   "execution_count": 285,
   "metadata": {},
   "outputs": [],
   "source": [
    "# Export all probabilities\n",
    "for i, probability in enumerate(TMs):\n",
    "    path = 'data/istdaten/{}/probability/probability_{:>02}_2019{}.pkl'.format(\n",
    "        month, str(i + 1), imonth)\n",
    "    probability.to_pickle(path)"
   ]
  },
  {
   "cell_type": "code",
   "execution_count": 14,
   "metadata": {},
   "outputs": [],
   "source": [
    "# Load probabilities\n",
    "TMs = []\n",
    "directory = 'data/istdaten/{}/probability/'.format(month)\n",
    "files = os.listdir(directory)\n",
    "for file in sorted(files):\n",
    "    path = '{}{}'.format(directory,file)\n",
    "    TM = pd.read_pickle(path)\n",
    "    TMs.append(TM)"
   ]
  },
  {
   "cell_type": "code",
   "execution_count": 15,
   "metadata": {},
   "outputs": [],
   "source": [
    "# Matrix size\n",
    "sizes = []\n",
    "for TM in TMs:\n",
    "    size = TM.shape[0]\n",
    "    sizes.append(size)"
   ]
  },
  {
   "cell_type": "code",
   "execution_count": 17,
   "metadata": {},
   "outputs": [
    {
     "data": {
      "image/png": "[encoded data removed]",
      "text/plain": [
       "<Figure size 720x504 with 1 Axes>"
      ]
     },
     "metadata": {
      "needs_background": "light"
     },
     "output_type": "display_data"
    }
   ],
   "source": [
    "# Plot size\n",
    "fig = plt.figure(figsize=(10, 7));\n",
    "plt.plot(sizes, '.-b', linewidth=.51)\n",
    "font = {'size': 12}\n",
    "plt.rc('font', **font)\n",
    "plt.ylabel('Size of the Corresponding Markov Chain')\n",
    "plt.xlabel('Day')\n",
    "xticks=[s for s in strings]\n",
    "plt.xticks(range(len(sizes)), xticks, rotation=80, horizontalalignment='center')\n",
    "\n",
    "plt.grid(linewidth=.31, color='gray', linestyle='--')\n",
    "\n",
    "#path = 'C:/Users/GAO/Desktop/ML/ETH/Paper/size.jpg'\n",
    "#fig.savefig(path, dpi=300)\n",
    "\n",
    "plt.show()\n",
    "plt.close()"
   ]
  },
  {
   "cell_type": "markdown",
   "metadata": {},
   "source": [
    "### Common indices"
   ]
  },
  {
   "cell_type": "code",
   "execution_count": 240,
   "metadata": {},
   "outputs": [],
   "source": [
    "initial_states = []\n",
    "for i, vector in enumerate(Vs):\n",
    "    _vector = vector.copy(deep=True)    \n",
    "    _vector['Date'] = str(datetime(year=2019, month=10, day=int(i + 1)))\n",
    "    _vector['Flag'] = ~_vector['station'].str.contains('=>')\n",
    "    _vector = _vector[_vector['Flag']]\n",
    "    initial_states.append(_vector)"
   ]
  },
  {
   "cell_type": "code",
   "execution_count": 241,
   "metadata": {},
   "outputs": [],
   "source": [
    "selected_states = []\n",
    "for state in initial_states:\n",
    "    state = state[state['Flag']]\n",
    "    state.set_index('station', inplace=True)\n",
    "    selected_states.append(state)"
   ]
  },
  {
   "cell_type": "code",
   "execution_count": 242,
   "metadata": {},
   "outputs": [],
   "source": [
    "# Merge stations over whole month\n",
    "merge = pd.concat(selected_states, axis=1, join='inner')"
   ]
  },
  {
   "cell_type": "code",
   "execution_count": 243,
   "metadata": {},
   "outputs": [],
   "source": [
    "# Get common indices\n",
    "indices = merge.index.values"
   ]
  },
  {
   "cell_type": "code",
   "execution_count": 244,
   "metadata": {},
   "outputs": [
    {
     "data": {
      "text/plain": [
       "1194"
      ]
     },
     "execution_count": 244,
     "metadata": {},
     "output_type": "execute_result"
    }
   ],
   "source": [
    "len(indices)"
   ]
  },
  {
   "cell_type": "code",
   "execution_count": 245,
   "metadata": {},
   "outputs": [],
   "source": [
    "commonloc = locations.copy(deep=True)\n",
    "commonloc = commonloc[commonloc['HALTESTELLEN_NAME'].isin(indices)]\n",
    "commonloc.sort_values('HALTESTELLEN_NAME', inplace=True)\n",
    "commonloc.set_index('HALTESTELLEN_NAME', inplace=True)"
   ]
  },
  {
   "cell_type": "markdown",
   "metadata": {},
   "source": [
    "## Analysis"
   ]
  },
  {
   "cell_type": "code",
   "execution_count": 25,
   "metadata": {},
   "outputs": [],
   "source": [
    "def Analyze(MC, verbose='on'):\n",
    "    e1 = time.time()    \n",
    "    w, vl, vr = eig(MC, left=True)\n",
    "    \n",
    "    w = np.real(w)\n",
    "    vl = np.real(vl)\n",
    "    \n",
    "    idx = np.argsort(w)\n",
    "    w = w[idx]\n",
    "    vl = vl[:,idx]\n",
    "    \n",
    "    eigvec_1 = (vl[:,-1])/(vl[:,-1]).sum()\n",
    "    eigvec_2 = (vl[:,-2])\n",
    "    \n",
    "    ind = np.around(w,decimals=8)!=1\n",
    "    K = np.divide(1,(1-w[ind])).sum()\n",
    "    if verbose == 'on':\n",
    "        print('Analysis in {}'.format(time.time() - e1))\n",
    "\n",
    "    return eigvec_1, eigvec_2, K"
   ]
  },
  {
   "cell_type": "markdown",
   "metadata": {},
   "source": [
    "### Calibration on Toy Matrix"
   ]
  },
  {
   "cell_type": "code",
   "execution_count": 23,
   "metadata": {},
   "outputs": [],
   "source": [
    "#Example from Kirkland\n",
    "P = np.array([[0, 0, 0.1, 0.9, 0, 0, 0, 0, 0, 0, 0, 0, 0, 0, 0, 0],\n",
    "               [0, 0, 0, 0, 0.1, 0.8, 0.1, 0, 0, 0, 0, 0, 0, 0, 0, 0],\n",
    "               [0.1, 0.9, 0, 0, 0, 0, 0, 0, 0, 0, 0, 0, 0, 0, 0, 0],\n",
    "               [0, 0, 0, 0, 0.8, 0.1, 0.1, 0, 0, 0, 0, 0, 0, 0, 0, 0],\n",
    "               [0.9, 0.1, 0, 0, 0, 0, 0, 0, 0, 0, 0, 0, 0, 0, 0, 0],\n",
    "               [0, 0, 0.9, 0.1, 0, 0, 0, 0, 0, 0, 0, 0, 0, 0, 0, 0],\n",
    "               [0, 0, 0, 0, 0, 0, 0, 0, 1, 0, 0, 0, 0, 0, 0, 0],\n",
    "               [0, 0, 0, 0, 0.5, 0.5, 0, 0, 0, 0, 0, 0, 0, 0, 0, 0],\n",
    "               [0, 0, 0, 0, 0, 0, 0, 0, 0, 0, 0.5, 0.5, 0, 0, 0, 0],\n",
    "               [0, 0, 0, 0, 0, 0, 0, 1, 0, 0, 0, 0, 0, 0, 0, 0],\n",
    "               [0, 0, 0, 0, 0, 0, 0, 0, 0, 0, 0, 0, 0.1, 0.9, 0, 0],\n",
    "               [0, 0, 0, 0, 0, 0, 0, 0, 0, 0, 0, 0, 0, 0, 0.1, 0.9],\n",
    "               [0, 0, 0, 0, 0, 0, 0, 0, 0, 0.1, 0.1, 0.8, 0, 0, 0, 0],\n",
    "               [0, 0, 0, 0, 0, 0, 0, 0, 0, 0, 0, 0, 0, 0, 0.9, 0.1],\n",
    "               [0, 0, 0, 0, 0, 0, 0, 0, 0, 0.1, 0.8, 0.1, 0, 0, 0, 0],\n",
    "               [0, 0, 0, 0, 0, 0, 0, 0, 0, 0, 0, 0, 0.9, 0.1, 0, 0]])"
   ]
  },
  {
   "cell_type": "code",
   "execution_count": 24,
   "metadata": {},
   "outputs": [
    {
     "name": "stdout",
     "output_type": "stream",
     "text": [
      "[[0.  0.  0.1 0.9 0.  0.  0.  0.  0.  0.  0.  0.  0.  0.  0.  0. ]\n",
      " [0.  0.  0.  0.  0.1 0.8 0.1 0.  0.  0.  0.  0.  0.  0.  0.  0. ]\n",
      " [0.1 0.9 0.  0.  0.  0.  0.  0.  0.  0.  0.  0.  0.  0.  0.  0. ]\n",
      " [0.  0.  0.  0.  0.8 0.1 0.1 0.  0.  0.  0.  0.  0.  0.  0.  0. ]\n",
      " [0.9 0.1 0.  0.  0.  0.  0.  0.  0.  0.  0.  0.  0.  0.  0.  0. ]\n",
      " [0.  0.  0.9 0.1 0.  0.  0.  0.  0.  0.  0.  0.  0.  0.  0.  0. ]\n",
      " [0.  0.  0.  0.  0.  0.  0.  0.  1.  0.  0.  0.  0.  0.  0.  0. ]\n",
      " [0.  0.  0.  0.  0.5 0.5 0.  0.  0.  0.  0.  0.  0.  0.  0.  0. ]\n",
      " [0.  0.  0.  0.  0.  0.  0.  0.  0.  0.  0.5 0.5 0.  0.  0.  0. ]\n",
      " [0.  0.  0.  0.  0.  0.  0.  1.  0.  0.  0.  0.  0.  0.  0.  0. ]\n",
      " [0.  0.  0.  0.  0.  0.  0.  0.  0.  0.  0.  0.  0.1 0.9 0.  0. ]\n",
      " [0.  0.  0.  0.  0.  0.  0.  0.  0.  0.  0.  0.  0.  0.  0.1 0.9]\n",
      " [0.  0.  0.  0.  0.  0.  0.  0.  0.  0.1 0.1 0.8 0.  0.  0.  0. ]\n",
      " [0.  0.  0.  0.  0.  0.  0.  0.  0.  0.  0.  0.  0.  0.  0.9 0.1]\n",
      " [0.  0.  0.  0.  0.  0.  0.  0.  0.  0.1 0.8 0.1 0.  0.  0.  0. ]\n",
      " [0.  0.  0.  0.  0.  0.  0.  0.  0.  0.  0.  0.  0.9 0.1 0.  0. ]]\n"
     ]
    }
   ],
   "source": [
    "print(P)"
   ]
  },
  {
   "cell_type": "code",
   "execution_count": 25,
   "metadata": {},
   "outputs": [
    {
     "data": {
      "image/png": "[encoded data removed]",
      "text/plain": [
       "<Figure size 432x288 with 1 Axes>"
      ]
     },
     "metadata": {
      "needs_background": "light"
     },
     "output_type": "display_data"
    }
   ],
   "source": [
    "plt.imshow(P);"
   ]
  },
  {
   "cell_type": "code",
   "execution_count": 26,
   "metadata": {},
   "outputs": [
    {
     "name": "stdout",
     "output_type": "stream",
     "text": [
      "Analysis in 0.0009999275207519531\n"
     ]
    }
   ],
   "source": [
    "AP = Analyze(P)"
   ]
  },
  {
   "cell_type": "code",
   "execution_count": 27,
   "metadata": {},
   "outputs": [
    {
     "data": {
      "image/png": "[encoded data removed]",
      "text/plain": [
       "<Figure size 432x288 with 1 Axes>"
      ]
     },
     "metadata": {
      "needs_background": "light"
     },
     "output_type": "display_data"
    }
   ],
   "source": [
    "# First Eigenvector of P\n",
    "plt.plot(AP[0]);"
   ]
  },
  {
   "cell_type": "code",
   "execution_count": 28,
   "metadata": {
    "scrolled": false
   },
   "outputs": [
    {
     "data": {
      "image/png": "[encoded data removed]",
      "text/plain": [
       "<Figure size 432x288 with 1 Axes>"
      ]
     },
     "metadata": {
      "needs_background": "light"
     },
     "output_type": "display_data"
    }
   ],
   "source": [
    "# Second Eigenvector of P\n",
    "plt.plot(AP[1]);"
   ]
  },
  {
   "cell_type": "markdown",
   "metadata": {},
   "source": [
    "### Compute Eigenvectors"
   ]
  },
  {
   "cell_type": "code",
   "execution_count": 135,
   "metadata": {},
   "outputs": [
    {
     "name": "stdout",
     "output_type": "stream",
     "text": [
      "Analysis in 66.5708076953888\n",
      "Analysis in 67.74287462234497\n",
      "Analysis in 66.62281036376953\n",
      "Analysis in 67.40785551071167\n",
      "Analysis in 65.38273978233337\n",
      "Analysis in 62.01754689216614\n",
      "Analysis in 66.85482406616211\n",
      "Analysis in 67.88588285446167\n",
      "Analysis in 67.23784589767456\n",
      "Analysis in 67.73787426948547\n",
      "Analysis in 67.91788458824158\n",
      "Analysis in 64.93071389198303\n",
      "Analysis in 63.6806423664093\n",
      "Analysis in 67.31485033035278\n",
      "Analysis in 67.99388909339905\n",
      "Analysis in 69.32396507263184\n",
      "Analysis in 70.14201188087463\n",
      "Analysis in 70.04400634765625\n",
      "Analysis in 66.17578530311584\n",
      "Analysis in 63.72164440155029\n",
      "Analysis in 70.93805742263794\n",
      "Analysis in 70.28101992607117\n",
      "Analysis in 70.77604818344116\n",
      "Analysis in 68.48391699790955\n",
      "Analysis in 70.21301603317261\n",
      "Analysis in 64.82970809936523\n",
      "Analysis in 64.56669282913208\n",
      "Analysis in 68.00488996505737\n",
      "Analysis in 67.67387104034424\n",
      "Analysis in 66.78081965446472\n",
      "Analysis in 67.29684925079346\n"
     ]
    }
   ],
   "source": [
    "ATMs = []\n",
    "sign = []\n",
    "\n",
    "for TM in TMs:\n",
    "    ATM = Analyze(TM.values, verbose='on')\n",
    "    ATMs.append(ATM)    \n",
    "    sign.append(ATM[0].min()>0)"
   ]
  },
  {
   "cell_type": "code",
   "execution_count": 136,
   "metadata": {},
   "outputs": [
    {
     "name": "stdout",
     "output_type": "stream",
     "text": [
      "[True, True, True, True, True, True, True, True, True, True, True, True, True, True, True, True, True, True, True, True, True, True, True, True, True, True, True, True, True, True, True]\n"
     ]
    }
   ],
   "source": [
    "print(sign)"
   ]
  },
  {
   "cell_type": "code",
   "execution_count": 400,
   "metadata": {},
   "outputs": [
    {
     "data": {
      "image/png": "[encoded data removed]",
      "text/plain": [
       "<Figure size 1296x864 with 4 Axes>"
      ]
     },
     "metadata": {
      "needs_background": "light"
     },
     "output_type": "display_data"
    }
   ],
   "source": [
    "fig = plt.figure(figsize=(18, 12));\n",
    "font = {'size': 12}\n",
    "plt.rc('font', **font)\n",
    "plt.subplot(221)\n",
    "alpha = 0.95\n",
    "markersize = 1.5\n",
    "marker = '.'\n",
    "linewidth= 0.2\n",
    "\n",
    "plt.subplot(221)\n",
    "plt.grid(linewidth=linewidth, color='gray', linestyle='--')\n",
    "plt.ylabel('Entries of the first eigenvector')\n",
    "plt.xlabel('States in alphabetical order')\n",
    "for i in range(len(ATMs)):\n",
    "    plt.plot((ATMs[i][0]), marker, alpha=alpha, markersize=markersize);\n",
    "plt.subplot(222)\n",
    "plt.ylabel('Entries of the first eigenvector')\n",
    "plt.xlabel('States in numerical order')\n",
    "plt.grid(linewidth=linewidth, color='gray', linestyle='--')\n",
    "for i in range(len(ATMs)):\n",
    "    plt.plot(np.sort(ATMs[i][0]), marker, alpha=alpha, markersize=markersize);\n",
    "plt.subplot(223)\n",
    "plt.ylabel('Entries of the second eigenvector')\n",
    "plt.xlabel('States in alphabetical order')\n",
    "plt.grid(linewidth=linewidth, color='gray', linestyle='--')\n",
    "for i in range(len(ATMs)):\n",
    "    plt.plot((ATMs[i][1]), marker, alpha=alpha, markersize=markersize);\n",
    "plt.subplot(224)\n",
    "plt.ylabel('Entries of the second eigenvector')\n",
    "plt.xlabel('States in numerical order')\n",
    "plt.grid(linewidth=linewidth, color='gray', linestyle='--')\n",
    "for i in range(len(ATMs)):\n",
    "    plt.plot(np.sort(ATMs[i][1]), marker, alpha=alpha, markersize=markersize);\n",
    "\n",
    "#path = 'C:/Users/GAO/Desktop/ML/ETH/Paper/size.jpg'\n",
    "#fig.savefig(path, dpi=300)\n",
    "\n",
    "plt.show()\n",
    "plt.close()"
   ]
  },
  {
   "cell_type": "code",
   "execution_count": 176,
   "metadata": {},
   "outputs": [],
   "source": [
    "Kemenys = []\n",
    "for i in range(len(ATMs)):\n",
    "    Kemenys.append(ATMs[i][2])"
   ]
  },
  {
   "cell_type": "code",
   "execution_count": 178,
   "metadata": {},
   "outputs": [
    {
     "data": {
      "image/png": "[encoded data removed]",
      "text/plain": [
       "<Figure size 720x504 with 1 Axes>"
      ]
     },
     "metadata": {
      "needs_background": "light"
     },
     "output_type": "display_data"
    }
   ],
   "source": [
    "# Plot size\n",
    "fig = plt.figure(figsize=(10, 7));\n",
    "plt.plot(Kemenys, '.-b', linewidth=.51)\n",
    "font = {'size': 12}\n",
    "plt.rc('font', **font)\n",
    "plt.ylabel('Kemeny Constant of the Corresponding Markov Chain')\n",
    "plt.xlabel('Day')\n",
    "xticks=[s for s in strings]\n",
    "plt.xticks(range(len(sizes)), xticks, rotation=80, horizontalalignment='center')\n",
    "\n",
    "plt.grid(linewidth=.31, color='gray', linestyle='--')\n",
    "\n",
    "#path = 'C:/Users/GAO/Desktop/ML/ETH/Paper/size.jpg'\n",
    "#fig.savefig(path, dpi=300)\n",
    "\n",
    "plt.show()\n",
    "plt.close()"
   ]
  },
  {
   "cell_type": "markdown",
   "metadata": {},
   "source": [
    "## Sensitivity analysis of Markov chains"
   ]
  },
  {
   "cell_type": "code",
   "execution_count": 44,
   "metadata": {},
   "outputs": [],
   "source": [
    "# Simultaneous Perturbation on incoming edges\n",
    "def perturb(M, i, p):\n",
    "\n",
    "    MC = M.copy()\n",
    "    n = MC.shape[0]\n",
    "    \n",
    "    ei = np.zeros(shape=[n, 1])\n",
    "    ei[i][0] = 1\n",
    "\n",
    "    ep = np.zeros(shape=[n, 1])\n",
    "    subtotal = 0\n",
    "    for r in p:\n",
    "        subtotal += MC[i][r]\n",
    "    for r in p:\n",
    "        ep[r][0] = MC[i][r] / subtotal\n",
    "        \n",
    "    fraction = subtotal / (1 - subtotal)\n",
    "\n",
    "    if subtotal < 1:\n",
    "        P = fraction * np.dot(ei, (np.dot(ei.T, MC) - ep.T))\n",
    "    elif len(p)==1 and subtotal == 1:\n",
    "        MC[i][p[0]] = -1\n",
    "        MC[i][i] = 1\n",
    "        P = MC\n",
    "    return P"
   ]
  },
  {
   "cell_type": "markdown",
   "metadata": {},
   "source": [
    "### Validation on Toy Matrix"
   ]
  },
  {
   "cell_type": "code",
   "execution_count": 214,
   "metadata": {},
   "outputs": [],
   "source": [
    "# Modified Example from Kirkland\n",
    "E = np.array([[0, 0, 0.1, 0.9, 0, 0, 0, 0, 0, 0, 0, 0, 0, 0, 0, 0],\n",
    "               [0, 0, 0, 0, 0.1, 0.5, 0.1, 0.3, 0, 0, 0, 0, 0, 0, 0, 0],\n",
    "               [0.1, 0.9, 0, 0, 0, 0, 0, 0, 0, 0, 0, 0, 0, 0, 0, 0],\n",
    "               [0, 0, 0, 0, 0.8, 0.1, 0.1, 0, 0, 0, 0, 0, 0, 0, 0, 0],\n",
    "               [0.9, 0.1, 0, 0, 0, 0, 0, 0, 0, 0, 0, 0, 0, 0, 0, 0],\n",
    "               [0, 0, 0.9, 0.1, 0, 0, 0, 0, 0, 0, 0, 0, 0, 0, 0, 0],\n",
    "               [0, 0, 0, 0, 0, 0, 0, 0, 1, 0, 0, 0, 0, 0, 0, 0],\n",
    "               [0, 0, 0, 0, 0.5, 0.5, 0, 0, 0, 0, 0, 0, 0, 0, 0, 0],\n",
    "               [0, 0, 0, 0, 0, 0, 0, 0, 0, 0, 0.5, 0.5, 0, 0, 0, 0],\n",
    "               [0, 0, 0, 0, 0, 0, 0, 1, 0, 0, 0, 0, 0, 0, 0, 0],\n",
    "               [0, 0, 0, 0, 0, 0, 0, 0, 0, 0, 0, 0, 0.1, 0.9, 0, 0],\n",
    "               [0, 0, 0, 0, 0, 0, 0, 0, 0, 0, 0, 0, 0, 0, 0.1, 0.9],\n",
    "               [0, 0, 0, 0, 0, 0, 0, 0, 0, 0.1, 0.1, 0.8, 0, 0, 0, 0],\n",
    "               [0, 0, 0, 0, 0, 0, 0, 0, 0, 0, 0, 0, 0, 0, 0.9, 0.1],\n",
    "               [0, 0, 0, 0, 0, 0, 0, 0, 0, 0.1, 0.8, 0.1, 0, 0, 0, 0],\n",
    "               [0, 0, 0, 0, 0, 0, 0, 0, 0, 0, 0, 0, 0.9, 0.1, 0, 0]])"
   ]
  },
  {
   "cell_type": "code",
   "execution_count": 216,
   "metadata": {},
   "outputs": [
    {
     "name": "stdout",
     "output_type": "stream",
     "text": [
      "[[0.  0.  0.1 0.9 0.  0.  0.  0.  0.  0.  0.  0.  0.  0.  0.  0. ]\n",
      " [0.  0.  0.  0.  0.1 0.5 0.1 0.3 0.  0.  0.  0.  0.  0.  0.  0. ]\n",
      " [0.1 0.9 0.  0.  0.  0.  0.  0.  0.  0.  0.  0.  0.  0.  0.  0. ]\n",
      " [0.  0.  0.  0.  0.8 0.1 0.1 0.  0.  0.  0.  0.  0.  0.  0.  0. ]\n",
      " [0.9 0.1 0.  0.  0.  0.  0.  0.  0.  0.  0.  0.  0.  0.  0.  0. ]\n",
      " [0.  0.  0.9 0.1 0.  0.  0.  0.  0.  0.  0.  0.  0.  0.  0.  0. ]\n",
      " [0.  0.  0.  0.  0.  0.  0.  0.  1.  0.  0.  0.  0.  0.  0.  0. ]\n",
      " [0.  0.  0.  0.  0.5 0.5 0.  0.  0.  0.  0.  0.  0.  0.  0.  0. ]\n",
      " [0.  0.  0.  0.  0.  0.  0.  0.  0.  0.  0.5 0.5 0.  0.  0.  0. ]\n",
      " [0.  0.  0.  0.  0.  0.  0.  1.  0.  0.  0.  0.  0.  0.  0.  0. ]\n",
      " [0.  0.  0.  0.  0.  0.  0.  0.  0.  0.  0.  0.  0.1 0.9 0.  0. ]\n",
      " [0.  0.  0.  0.  0.  0.  0.  0.  0.  0.  0.  0.  0.  0.  0.1 0.9]\n",
      " [0.  0.  0.  0.  0.  0.  0.  0.  0.  0.1 0.1 0.8 0.  0.  0.  0. ]\n",
      " [0.  0.  0.  0.  0.  0.  0.  0.  0.  0.  0.  0.  0.  0.  0.9 0.1]\n",
      " [0.  0.  0.  0.  0.  0.  0.  0.  0.  0.1 0.8 0.1 0.  0.  0.  0. ]\n",
      " [0.  0.  0.  0.  0.  0.  0.  0.  0.  0.  0.  0.  0.9 0.1 0.  0. ]]\n"
     ]
    }
   ],
   "source": [
    "print(E)"
   ]
  },
  {
   "cell_type": "code",
   "execution_count": 215,
   "metadata": {
    "scrolled": true
   },
   "outputs": [
    {
     "name": "stdout",
     "output_type": "stream",
     "text": [
      "[ 0.    0.    0.    0.    0.15 -0.5  -0.1   0.45  0.    0.    0.    0.\n",
      "  0.    0.    0.    0.  ]\n"
     ]
    }
   ],
   "source": [
    "print(perturb(E, 1, [5,6])[1])"
   ]
  },
  {
   "cell_type": "markdown",
   "metadata": {},
   "source": [
    "### Compute Perturbation on the Data"
   ]
  },
  {
   "cell_type": "code",
   "execution_count": 286,
   "metadata": {},
   "outputs": [],
   "source": [
    "d = 0"
   ]
  },
  {
   "cell_type": "code",
   "execution_count": 259,
   "metadata": {
    "scrolled": true
   },
   "outputs": [
    {
     "data": {
      "text/html": [
       "<div>\n",
       "<style scoped>\n",
       "    .dataframe tbody tr th:only-of-type {\n",
       "        vertical-align: middle;\n",
       "    }\n",
       "\n",
       "    .dataframe tbody tr th {\n",
       "        vertical-align: top;\n",
       "    }\n",
       "\n",
       "    .dataframe thead th {\n",
       "        text-align: right;\n",
       "    }\n",
       "</style>\n",
       "<table border=\"1\" class=\"dataframe\">\n",
       "  <thead>\n",
       "    <tr style=\"text-align: right;\">\n",
       "      <th></th>\n",
       "      <th>Aadorf</th>\n",
       "      <th>Aadorf=&gt;Elgg</th>\n",
       "      <th>Aadorf=&gt;Guntershausen</th>\n",
       "      <th>Aarau</th>\n",
       "      <th>Aarau=&gt;Brugg AG</th>\n",
       "      <th>Aarau=&gt;Lenzburg</th>\n",
       "      <th>Aarau=&gt;Olten</th>\n",
       "      <th>Aarau=&gt;Rupperswil</th>\n",
       "      <th>Aarau=&gt;Schönenwerd SO</th>\n",
       "      <th>Aarau=&gt;Sissach</th>\n",
       "      <th>...</th>\n",
       "      <th>Zürich Tiefenbrunnen=&gt;Zürich Stadelhofen</th>\n",
       "      <th>Zürich Wiedikon</th>\n",
       "      <th>Zürich Wiedikon=&gt;Zürich Enge</th>\n",
       "      <th>Zürich Wiedikon=&gt;Zürich HB</th>\n",
       "      <th>Zürich Wipkingen</th>\n",
       "      <th>Zürich Wipkingen=&gt;Zürich HB</th>\n",
       "      <th>Zürich Wipkingen=&gt;Zürich Oerlikon</th>\n",
       "      <th>Zürich Wollishofen</th>\n",
       "      <th>Zürich Wollishofen=&gt;Kilchberg</th>\n",
       "      <th>Zürich Wollishofen=&gt;Zürich Enge</th>\n",
       "    </tr>\n",
       "  </thead>\n",
       "  <tbody>\n",
       "    <tr>\n",
       "      <td>Aadorf</td>\n",
       "      <td>0.0</td>\n",
       "      <td>0.452381</td>\n",
       "      <td>0.547619</td>\n",
       "      <td>0.000000</td>\n",
       "      <td>0.000000</td>\n",
       "      <td>0.00000</td>\n",
       "      <td>0.000000</td>\n",
       "      <td>0.000000</td>\n",
       "      <td>0.000000</td>\n",
       "      <td>0.000000</td>\n",
       "      <td>...</td>\n",
       "      <td>0.0</td>\n",
       "      <td>0.0</td>\n",
       "      <td>0.0</td>\n",
       "      <td>0.0</td>\n",
       "      <td>0.0</td>\n",
       "      <td>0.0</td>\n",
       "      <td>0.0</td>\n",
       "      <td>0.0</td>\n",
       "      <td>0.0</td>\n",
       "      <td>0.0</td>\n",
       "    </tr>\n",
       "    <tr>\n",
       "      <td>Aadorf=&gt;Elgg</td>\n",
       "      <td>0.0</td>\n",
       "      <td>0.500000</td>\n",
       "      <td>0.000000</td>\n",
       "      <td>0.000000</td>\n",
       "      <td>0.000000</td>\n",
       "      <td>0.00000</td>\n",
       "      <td>0.000000</td>\n",
       "      <td>0.000000</td>\n",
       "      <td>0.000000</td>\n",
       "      <td>0.000000</td>\n",
       "      <td>...</td>\n",
       "      <td>0.0</td>\n",
       "      <td>0.0</td>\n",
       "      <td>0.0</td>\n",
       "      <td>0.0</td>\n",
       "      <td>0.0</td>\n",
       "      <td>0.0</td>\n",
       "      <td>0.0</td>\n",
       "      <td>0.0</td>\n",
       "      <td>0.0</td>\n",
       "      <td>0.0</td>\n",
       "    </tr>\n",
       "    <tr>\n",
       "      <td>Aadorf=&gt;Guntershausen</td>\n",
       "      <td>0.0</td>\n",
       "      <td>0.000000</td>\n",
       "      <td>0.500000</td>\n",
       "      <td>0.000000</td>\n",
       "      <td>0.000000</td>\n",
       "      <td>0.00000</td>\n",
       "      <td>0.000000</td>\n",
       "      <td>0.000000</td>\n",
       "      <td>0.000000</td>\n",
       "      <td>0.000000</td>\n",
       "      <td>...</td>\n",
       "      <td>0.0</td>\n",
       "      <td>0.0</td>\n",
       "      <td>0.0</td>\n",
       "      <td>0.0</td>\n",
       "      <td>0.0</td>\n",
       "      <td>0.0</td>\n",
       "      <td>0.0</td>\n",
       "      <td>0.0</td>\n",
       "      <td>0.0</td>\n",
       "      <td>0.0</td>\n",
       "    </tr>\n",
       "    <tr>\n",
       "      <td>Aarau</td>\n",
       "      <td>0.0</td>\n",
       "      <td>0.000000</td>\n",
       "      <td>0.000000</td>\n",
       "      <td>0.476522</td>\n",
       "      <td>0.033043</td>\n",
       "      <td>0.14087</td>\n",
       "      <td>0.093913</td>\n",
       "      <td>0.106087</td>\n",
       "      <td>0.066087</td>\n",
       "      <td>0.029565</td>\n",
       "      <td>...</td>\n",
       "      <td>0.0</td>\n",
       "      <td>0.0</td>\n",
       "      <td>0.0</td>\n",
       "      <td>0.0</td>\n",
       "      <td>0.0</td>\n",
       "      <td>0.0</td>\n",
       "      <td>0.0</td>\n",
       "      <td>0.0</td>\n",
       "      <td>0.0</td>\n",
       "      <td>0.0</td>\n",
       "    </tr>\n",
       "    <tr>\n",
       "      <td>Aarau=&gt;Brugg AG</td>\n",
       "      <td>0.0</td>\n",
       "      <td>0.000000</td>\n",
       "      <td>0.000000</td>\n",
       "      <td>0.000000</td>\n",
       "      <td>0.915556</td>\n",
       "      <td>0.00000</td>\n",
       "      <td>0.000000</td>\n",
       "      <td>0.000000</td>\n",
       "      <td>0.000000</td>\n",
       "      <td>0.000000</td>\n",
       "      <td>...</td>\n",
       "      <td>0.0</td>\n",
       "      <td>0.0</td>\n",
       "      <td>0.0</td>\n",
       "      <td>0.0</td>\n",
       "      <td>0.0</td>\n",
       "      <td>0.0</td>\n",
       "      <td>0.0</td>\n",
       "      <td>0.0</td>\n",
       "      <td>0.0</td>\n",
       "      <td>0.0</td>\n",
       "    </tr>\n",
       "  </tbody>\n",
       "</table>\n",
       "<p>5 rows × 4363 columns</p>\n",
       "</div>"
      ],
      "text/plain": [
       "                       Aadorf  Aadorf=>Elgg  Aadorf=>Guntershausen     Aarau  \\\n",
       "Aadorf                    0.0      0.452381               0.547619  0.000000   \n",
       "Aadorf=>Elgg              0.0      0.500000               0.000000  0.000000   \n",
       "Aadorf=>Guntershausen     0.0      0.000000               0.500000  0.000000   \n",
       "Aarau                     0.0      0.000000               0.000000  0.476522   \n",
       "Aarau=>Brugg AG           0.0      0.000000               0.000000  0.000000   \n",
       "\n",
       "                       Aarau=>Brugg AG  Aarau=>Lenzburg  Aarau=>Olten  \\\n",
       "Aadorf                        0.000000          0.00000      0.000000   \n",
       "Aadorf=>Elgg                  0.000000          0.00000      0.000000   \n",
       "Aadorf=>Guntershausen         0.000000          0.00000      0.000000   \n",
       "Aarau                         0.033043          0.14087      0.093913   \n",
       "Aarau=>Brugg AG               0.915556          0.00000      0.000000   \n",
       "\n",
       "                       Aarau=>Rupperswil  Aarau=>Schönenwerd SO  \\\n",
       "Aadorf                          0.000000               0.000000   \n",
       "Aadorf=>Elgg                    0.000000               0.000000   \n",
       "Aadorf=>Guntershausen           0.000000               0.000000   \n",
       "Aarau                           0.106087               0.066087   \n",
       "Aarau=>Brugg AG                 0.000000               0.000000   \n",
       "\n",
       "                       Aarau=>Sissach  ...  \\\n",
       "Aadorf                       0.000000  ...   \n",
       "Aadorf=>Elgg                 0.000000  ...   \n",
       "Aadorf=>Guntershausen        0.000000  ...   \n",
       "Aarau                        0.029565  ...   \n",
       "Aarau=>Brugg AG              0.000000  ...   \n",
       "\n",
       "                       Zürich Tiefenbrunnen=>Zürich Stadelhofen  \\\n",
       "Aadorf                                                      0.0   \n",
       "Aadorf=>Elgg                                                0.0   \n",
       "Aadorf=>Guntershausen                                       0.0   \n",
       "Aarau                                                       0.0   \n",
       "Aarau=>Brugg AG                                             0.0   \n",
       "\n",
       "                       Zürich Wiedikon  Zürich Wiedikon=>Zürich Enge  \\\n",
       "Aadorf                             0.0                           0.0   \n",
       "Aadorf=>Elgg                       0.0                           0.0   \n",
       "Aadorf=>Guntershausen              0.0                           0.0   \n",
       "Aarau                              0.0                           0.0   \n",
       "Aarau=>Brugg AG                    0.0                           0.0   \n",
       "\n",
       "                       Zürich Wiedikon=>Zürich HB  Zürich Wipkingen  \\\n",
       "Aadorf                                        0.0               0.0   \n",
       "Aadorf=>Elgg                                  0.0               0.0   \n",
       "Aadorf=>Guntershausen                         0.0               0.0   \n",
       "Aarau                                         0.0               0.0   \n",
       "Aarau=>Brugg AG                               0.0               0.0   \n",
       "\n",
       "                       Zürich Wipkingen=>Zürich HB  \\\n",
       "Aadorf                                         0.0   \n",
       "Aadorf=>Elgg                                   0.0   \n",
       "Aadorf=>Guntershausen                          0.0   \n",
       "Aarau                                          0.0   \n",
       "Aarau=>Brugg AG                                0.0   \n",
       "\n",
       "                       Zürich Wipkingen=>Zürich Oerlikon  Zürich Wollishofen  \\\n",
       "Aadorf                                               0.0                 0.0   \n",
       "Aadorf=>Elgg                                         0.0                 0.0   \n",
       "Aadorf=>Guntershausen                                0.0                 0.0   \n",
       "Aarau                                                0.0                 0.0   \n",
       "Aarau=>Brugg AG                                      0.0                 0.0   \n",
       "\n",
       "                       Zürich Wollishofen=>Kilchberg  \\\n",
       "Aadorf                                           0.0   \n",
       "Aadorf=>Elgg                                     0.0   \n",
       "Aadorf=>Guntershausen                            0.0   \n",
       "Aarau                                            0.0   \n",
       "Aarau=>Brugg AG                                  0.0   \n",
       "\n",
       "                       Zürich Wollishofen=>Zürich Enge  \n",
       "Aadorf                                             0.0  \n",
       "Aadorf=>Elgg                                       0.0  \n",
       "Aadorf=>Guntershausen                              0.0  \n",
       "Aarau                                              0.0  \n",
       "Aarau=>Brugg AG                                    0.0  \n",
       "\n",
       "[5 rows x 4363 columns]"
      ]
     },
     "execution_count": 259,
     "metadata": {},
     "output_type": "execute_result"
    }
   ],
   "source": [
    "TM = TMs[d].copy(deep=True)\n",
    "TM.head()"
   ]
  },
  {
   "cell_type": "code",
   "execution_count": 260,
   "metadata": {},
   "outputs": [],
   "source": [
    "TM = TM.values.copy()"
   ]
  },
  {
   "cell_type": "code",
   "execution_count": 261,
   "metadata": {},
   "outputs": [],
   "source": [
    "target = 'Winterthur'"
   ]
  },
  {
   "cell_type": "code",
   "execution_count": 262,
   "metadata": {},
   "outputs": [
    {
     "data": {
      "text/plain": [
       "4096"
      ]
     },
     "execution_count": 262,
     "metadata": {},
     "output_type": "execute_result"
    }
   ],
   "source": [
    "p = np.where(TMs[d].index == target)[0][0]\n",
    "p"
   ]
  },
  {
   "cell_type": "code",
   "execution_count": 263,
   "metadata": {},
   "outputs": [],
   "source": [
    "inbound = list(np.asarray(np.where(TM[:,p] > 0))[0])\n",
    "if p in inbound:\n",
    "    inbound.remove(p)\n",
    "\n",
    "incoming = []\n",
    "for n, i in enumerate(inbound):\n",
    "    a = list(np.asarray(np.where(TM[:,i] > 0))[0])\n",
    "    if i in a:\n",
    "        a.remove(i)\n",
    "    if len(a)>1:\n",
    "        inbound[n] = p\n",
    "        a = [i]\n",
    "    incoming.append(a[0])"
   ]
  },
  {
   "cell_type": "code",
   "execution_count": 264,
   "metadata": {},
   "outputs": [
    {
     "data": {
      "text/plain": [
       "[100, 1071, 1281, 1590, 1766, 2722, 3543, 3650, 4066, 4097, 4107, 4299, 4343]"
      ]
     },
     "execution_count": 264,
     "metadata": {},
     "output_type": "execute_result"
    }
   ],
   "source": [
    "incoming"
   ]
  },
  {
   "cell_type": "code",
   "execution_count": 265,
   "metadata": {},
   "outputs": [
    {
     "data": {
      "text/plain": [
       "[104, 1076, 1285, 1592, 1768, 2724, 3568, 3653, 4071, 4098, 4108, 4301, 4348]"
      ]
     },
     "execution_count": 265,
     "metadata": {},
     "output_type": "execute_result"
    }
   ],
   "source": [
    "inbound"
   ]
  },
  {
   "cell_type": "code",
   "execution_count": 266,
   "metadata": {},
   "outputs": [],
   "source": [
    "dictionary = dict(zip(inbound, incoming))"
   ]
  },
  {
   "cell_type": "code",
   "execution_count": 267,
   "metadata": {},
   "outputs": [],
   "source": [
    "from operator import itemgetter\n",
    "from itertools import groupby\n",
    "\n",
    "snd = itemgetter(1)\n",
    "\n",
    "def sort_and_group(itr, f):\n",
    "    return groupby(sorted(itr, key=f), f)\n",
    "\n",
    "mydict = dictionary\n",
    "reversed_dict = {number: [char for char,_ in v] \n",
    "                 for number, v in sort_and_group(mydict.items(), snd)}"
   ]
  },
  {
   "cell_type": "code",
   "execution_count": 268,
   "metadata": {},
   "outputs": [
    {
     "data": {
      "text/plain": [
       "{100: [104],\n",
       " 1071: [1076],\n",
       " 1281: [1285],\n",
       " 1590: [1592],\n",
       " 1766: [1768],\n",
       " 2722: [2724],\n",
       " 3543: [3568],\n",
       " 3650: [3653],\n",
       " 4066: [4071],\n",
       " 4097: [4098],\n",
       " 4107: [4108],\n",
       " 4299: [4301],\n",
       " 4343: [4348]}"
      ]
     },
     "execution_count": 268,
     "metadata": {},
     "output_type": "execute_result"
    }
   ],
   "source": [
    "reversed_dict"
   ]
  },
  {
   "cell_type": "code",
   "execution_count": 269,
   "metadata": {},
   "outputs": [
    {
     "name": "stdout",
     "output_type": "stream",
     "text": [
      "Andelfingen ['Andelfingen=>Winterthur']\n",
      "Effretikon ['Effretikon=>Winterthur']\n",
      "Frauenfeld ['Frauenfeld=>Winterthur']\n",
      "Hettlingen ['Hettlingen=>Winterthur']\n",
      "Kemptthal ['Kemptthal=>Winterthur']\n",
      "Oberwinterthur ['Oberwinterthur=>Winterthur']\n",
      "St. Gallen ['St. Gallen=>Winterthur']\n",
      "Stettbach ['Stettbach=>Winterthur']\n",
      "Wil ['Wil=>Winterthur']\n",
      "Winterthur Grüze ['Winterthur Grüze=>Winterthur']\n",
      "Winterthur Töss ['Winterthur Töss=>Winterthur']\n",
      "Zürich Flughafen ['Zürich Flughafen=>Winterthur']\n",
      "Zürich Stadelhofen ['Zürich Stadelhofen=>Winterthur']\n"
     ]
    }
   ],
   "source": [
    "for k, v in reversed_dict.items():\n",
    "    print(TMs[d].iloc[k].name, TMs[d].iloc[v].index.values)"
   ]
  },
  {
   "cell_type": "code",
   "execution_count": 270,
   "metadata": {},
   "outputs": [],
   "source": [
    "t = 0.9"
   ]
  },
  {
   "cell_type": "code",
   "execution_count": 271,
   "metadata": {},
   "outputs": [],
   "source": [
    "n = TM.shape[0]\n",
    "PM = np.zeros(shape=[n, n])\n",
    "for k, v in reversed_dict.items():\n",
    "    PM += t*perturb(TM, k, v)\n",
    "PM += TM"
   ]
  },
  {
   "cell_type": "code",
   "execution_count": 272,
   "metadata": {},
   "outputs": [
    {
     "name": "stdout",
     "output_type": "stream",
     "text": [
      "Analysis in 66.88382530212402\n"
     ]
    }
   ],
   "source": [
    "# Iterative simulation of Perturbed TM\n",
    "APM = Analyze(PM)"
   ]
  },
  {
   "cell_type": "code",
   "execution_count": 273,
   "metadata": {},
   "outputs": [
    {
     "data": {
      "text/plain": [
       "2.571808550608818"
      ]
     },
     "execution_count": 273,
     "metadata": {},
     "output_type": "execute_result"
    }
   ],
   "source": [
    "# Kemeny PCT\n",
    "100*(APM[2] - ATMs[d][2])/ATM[2]"
   ]
  },
  {
   "cell_type": "code",
   "execution_count": 284,
   "metadata": {},
   "outputs": [
    {
     "data": {
      "image/png": "[encoded data removed]",
      "text/plain": [
       "<Figure size 432x288 with 1 Axes>"
      ]
     },
     "metadata": {
      "needs_background": "light"
     },
     "output_type": "display_data"
    }
   ],
   "source": [
    "# First Eigenvector of TM\n",
    "plt.plot(ATMs[d][0]);\n",
    "plt.plot(APM[0]);"
   ]
  },
  {
   "cell_type": "code",
   "execution_count": 276,
   "metadata": {},
   "outputs": [
    {
     "data": {
      "image/png": "[encoded data removed]",
      "text/plain": [
       "<Figure size 432x288 with 1 Axes>"
      ]
     },
     "metadata": {
      "needs_background": "light"
     },
     "output_type": "display_data"
    }
   ],
   "source": [
    "# Second Eigenvector of TM\n",
    "plt.plot(np.sort(ATMs[d][1]));\n",
    "plt.plot(np.sort(APM[1]));"
   ]
  },
  {
   "cell_type": "code",
   "execution_count": 277,
   "metadata": {},
   "outputs": [
    {
     "data": {
      "image/png": "[encoded data removed]",
      "text/plain": [
       "<Figure size 432x288 with 1 Axes>"
      ]
     },
     "metadata": {
      "needs_background": "light"
     },
     "output_type": "display_data"
    }
   ],
   "source": [
    "font = {'size': 12}\n",
    "plt.rc('font', **font)\n",
    "plt.plot(ATMs[d][0][4100:4200], '.-.');\n",
    "plt.plot(APM[0][4100:4200]);"
   ]
  },
  {
   "cell_type": "code",
   "execution_count": 278,
   "metadata": {},
   "outputs": [],
   "source": [
    "ADF = 100*(APM[0]-ATMs[d][0])/ATMs[d][0]"
   ]
  },
  {
   "cell_type": "code",
   "execution_count": 279,
   "metadata": {},
   "outputs": [
    {
     "data": {
      "image/png": "[encoded data removed]",
      "text/plain": [
       "<Figure size 432x288 with 1 Axes>"
      ]
     },
     "metadata": {
      "needs_background": "light"
     },
     "output_type": "display_data"
    }
   ],
   "source": [
    "plt.plot(ADF);"
   ]
  },
  {
   "cell_type": "code",
   "execution_count": 280,
   "metadata": {},
   "outputs": [
    {
     "data": {
      "image/png": "[encoded data removed]",
      "text/plain": [
       "<Figure size 432x288 with 1 Axes>"
      ]
     },
     "metadata": {
      "needs_background": "light"
     },
     "output_type": "display_data"
    }
   ],
   "source": [
    "plt.plot(np.sort(ADF));"
   ]
  },
  {
   "cell_type": "code",
   "execution_count": 386,
   "metadata": {},
   "outputs": [],
   "source": [
    "# Steady distribution of common stations\n",
    "common_states = []\n",
    "for i, vector in enumerate(Vs):\n",
    "    _vector = vector.copy(deep=True)\n",
    "    if i == d:\n",
    "        _vector['color'] = ADF\n",
    "    _vector['Date'] = str(datetime(year=2019, month=10, day=int(i + 1)))\n",
    "    _vector['Flag'] = _vector['station'].isin(indices)\n",
    "    _vector = _vector[_vector['Flag']]   \n",
    "    _vector.set_index('station', inplace=True)\n",
    "    _vector.loc[:, 'lon'] = commonloc.geopos.map(lambda x: x[0])\n",
    "    _vector.loc[:, 'lat'] = commonloc.geopos.map(lambda x: x[1])\n",
    "    common_states.append(_vector)"
   ]
  },
  {
   "cell_type": "code",
   "execution_count": 387,
   "metadata": {},
   "outputs": [
    {
     "data": {
      "image/png": "[encoded data removed]",
      "text/plain": [
       "<Figure size 432x288 with 2 Axes>"
      ]
     },
     "metadata": {
      "needs_background": "light"
     },
     "output_type": "display_data"
    }
   ],
   "source": [
    "x = common_states[d].lon.values\n",
    "y = common_states[d].lat.values\n",
    "c = common_states[d].color\n",
    "#plt.style.use('dark_background')\n",
    "aspect = plt.rcParams['figure.figsize']\n",
    "fig = plt.figure()\n",
    "im = plt.scatter(\n",
    "    x,\n",
    "    y,\n",
    "    c=c,\n",
    "    norm=mpl.colors.Normalize(vmin=c.min(),vmax=c.max()),\n",
    "    s=3,\n",
    "    cmap = plt.cm.Spectral,\n",
    "    alpha=.9)\n",
    "\n",
    "fig.colorbar(im)\n",
    "plt.axis('off')\n",
    "plt.show()\n",
    "plt.close()"
   ]
  },
  {
   "cell_type": "code",
   "execution_count": null,
   "metadata": {},
   "outputs": [],
   "source": [
    "# blackout_stations = [target]\n",
    "#blackout_stations = list(indices)\n",
    "# for d in range(len(TMs[:1])):\n",
    "    #TM = TMs[d].copy(deep=True)\n",
    "\n",
    "#     names_perturbed = []\n",
    "#     indices_perturbed = []\n",
    "\n",
    "#     Pi_perturbed = []\n",
    "#     Pi_diff = []\n",
    "\n",
    "    #e0 = time.time()\n",
    "    \n",
    "#     pi_normal = ATM[0]\n",
    "\n",
    "    #for station in tqdm(blackout_stations):\n",
    "#     for station in blackout_stations:\n",
    "#         ind = np.where(TM.index == station)[0][0]\n",
    "#     Perturbed_TM = PM#change_node(TM.values, ind, percent)\n",
    "#         e0 = time.time()\n",
    "#     pi = APM[0]#pi, _ = simulate_markov(PM, verbose='on', thres=1e-6, cycles=2*1e5)\n",
    "#         print(\"Sensitivity of TM {}, in {} second\".format(\n",
    "#             datetime(year=2019, month=10, day=int(d + 1)),\n",
    "#             time.time() - e0))\n",
    "\n",
    "\n",
    "#         indices_perturbed.append(ind)\n",
    "#         names_perturbed.append(station)\n",
    "#         Pi_perturbed.append(pi)\n",
    "#     Pi_diff.append(np.asarray(100 * (pi - pi_normal) / pi_normal))\n",
    "\n",
    "#     DF = pd.DataFrame(\n",
    "#         index=names_perturbed, data=np.asarray(Pi_diff), columns=TM.index)\n",
    "#     path = 'data/istdaten/{}/perturbations/{}/Pi_diff_{}_{:>02}{}2019.pkl'.format(\n",
    "#         month, folder, str(percent), str(d + 1), imonth)\n",
    "#     DF.to_pickle(path)\n",
    "\n",
    "#     DF = pd.DataFrame(\n",
    "#         index=['pi_normal'],\n",
    "#         data=np.asarray(pi_normal)[np.newaxis, :],\n",
    "#         columns=TM.index)\n",
    "#     path = 'data/istdaten/{}/perturbations/{}/pi_normal_{}_{:>02}{}2019.pkl'.format(\n",
    "#         month, folder, str(percent), str(d + 1), imonth)\n",
    "#     DF.to_pickle(path)\n",
    "\n",
    "#     DF = pd.DataFrame(\n",
    "#         index=names_perturbed,\n",
    "#         data=np.asarray(Pi_perturbed),\n",
    "#         columns=TM.index)\n",
    "#     path = 'data/istdaten/{}/perturbations/{}/Pi_perturbed_{}_{:>02}{}2019.pkl'.format(\n",
    "#         month, folder, str(percent), str(d + 1), imonth)\n",
    "#     DF.to_pickle(path)"
   ]
  },
  {
   "cell_type": "code",
   "execution_count": null,
   "metadata": {},
   "outputs": [],
   "source": [
    "period = 1"
   ]
  },
  {
   "cell_type": "code",
   "execution_count": null,
   "metadata": {},
   "outputs": [],
   "source": [
    "max_list = []\n",
    "min_list = []\n",
    "for i in range(0, period):\n",
    "#     pi_diff_path = 'data/istdaten/{}/perturbations/{}/Pi_diff_{}_{:>02}{}2019.pkl'.format(\n",
    "#         month, folder, (percent), str(i + 1), imonth)\n",
    "#     pi_diff = pd.read_pickle(pi_diff_path)\n",
    "#     pi_diff = pi_diff[list(indices)]\n",
    "    pi_diff = Pi_diff[0]#pi_diff.loc[[target]]\n",
    "    max_list.append(max(pi_diff))\n",
    "    min_list.append(min(pi_diff))"
   ]
  },
  {
   "cell_type": "code",
   "execution_count": null,
   "metadata": {},
   "outputs": [],
   "source": [
    "def scatterplot(d, target, stations, fontsize, dotsize, alpha, vmin, vmax):\n",
    "    font = {'size': fontsize}\n",
    "    plt.rc('font', **font)\n",
    "    \n",
    "    Steady_dist = Vs[d].copy(deep=True)\n",
    "    Steady_dist['Pi'] = Pi[d].values\n",
    "    Steady_dist.loc[:, 'color'] = Pi_diff[0]#pi_diff.T[target].values\n",
    "    Steady_dist['Date'] = str(datetime(year=2019, month=10, day=int(d + 1)))\n",
    "    Steady_dist['Flag'] = Steady_dist['station'].isin(stations)\n",
    "    Steady_dist = Steady_dist[Steady_dist['Flag']]   \n",
    "    Steady_dist.set_index('station', inplace=True)\n",
    "    Steady_dist.loc[:, 'lon'] = commonloc.geopos.map(lambda x: x[0])\n",
    "    Steady_dist.loc[:, 'lat'] = commonloc.geopos.map(lambda x: x[1])\n",
    "    x = Steady_dist.lon.values\n",
    "    y = Steady_dist.lat.values\n",
    "    sc = plt.scatter(x, y, c=Steady_dist.color, lw=0, s=dotsize, alpha=alpha, cmap=plt.cm.RdYlBu)\n",
    "    plt.clim(vmin=vmin, vmax=vmax)\n",
    "    plt.axis('off')\n",
    "    return sc"
   ]
  },
  {
   "cell_type": "code",
   "execution_count": null,
   "metadata": {},
   "outputs": [],
   "source": [
    "msz10 = 5\n",
    "msz11 = 7\n",
    "week = ['M', 'T', 'W', 'T', 'F', 'S', 'S']\n",
    "fontsize = 25\n",
    "aspect = plt.rcParams['figure.figsize']\n",
    "fig = plt.figure(figsize=(aspect[0]*msz11, aspect[1]*msz10))\n",
    "for i in range(2, 2+period):\n",
    "#     pi_diff_path = 'data/istdaten/{}/perturbations/{}/Pi_diff_{}_{:>02}{}2019.pkl'.format(\n",
    "#         month, folder, (percent), str(i - 1), imonth)\n",
    "#     pi_diff = pd.read_pickle(pi_diff_path)\n",
    "#     pi_diff = pi_diff[list(indices)]\n",
    "    plt.subplot(msz10, msz11, i)\n",
    "    plt.axis('off')\n",
    "    target = 'target'\n",
    "    stations = indices\n",
    "    im = scatterplot(i-2, target, stations, fontsize=fontsize, dotsize=20,\n",
    "                     alpha=1, vmin=min(min_list), vmax=0)\n",
    "    plt.title(week[(i-1)%7], fontsize=fontsize)\n",
    "        \n",
    "#path = 'C:/Users/Georgios/Desktop/Paper/Luzern.jpg'\n",
    "#fig.savefig(path, dpi=300, bbox_inches='tight')\n",
    "\n",
    "#cbar_ax = fig.add_axes([0.91, 0.15, 0.01, 0.7])\n",
    "\n",
    "#fig.colorbar(im, cbar_ax)\n",
    "fig.colorbar(im)\n",
    "plt.show()\n",
    "plt.close()"
   ]
  },
  {
   "cell_type": "code",
   "execution_count": null,
   "metadata": {},
   "outputs": [],
   "source": [
    "msz10 = 5\n",
    "msz11 = 7\n",
    "week = ['M', 'T', 'W', 'T', 'F', 'S', 'S']\n",
    "fontsize = 25\n",
    "aspect = plt.rcParams['figure.figsize']\n",
    "fig = plt.figure(figsize=(aspect[0]*msz11, aspect[1]*msz10))\n",
    "for i in range(2, 3):\n",
    "    pi_diff_path = 'data/istdaten/{}/perturbations/{}/Pi_diff_{}_{:>02}{}2019.pkl'.format(\n",
    "        month, folder, (percent), str(i - 1), imonth)\n",
    "    pi_diff = pd.read_pickle(pi_diff_path)\n",
    "    pi_diff = pi_diff[list(indices)]\n",
    "    plt.subplot(msz10, msz11, i)\n",
    "    plt.axis('off')\n",
    "    target = target\n",
    "    stations = indices\n",
    "    im = scatterplot(i-2, target, stations, fontsize=fontsize, dotsize=20,\n",
    "                     alpha=1, vmin=min(min_list), vmax=max(max_list))\n",
    "    plt.title(week[(i-1)%7], fontsize=fontsize)\n",
    "        \n",
    "#path = 'C:/Users/Georgios/Desktop/Paper/Luzern.jpg'\n",
    "#fig.savefig(path, dpi=300, bbox_inches='tight')\n",
    "\n",
    "cbar_ax = fig.add_axes([0.91, 0.15, 0.01, 0.7])\n",
    "fig.colorbar(im, cbar_ax)\n",
    "plt.show()\n",
    "plt.close()"
   ]
  },
  {
   "cell_type": "markdown",
   "metadata": {},
   "source": [
    "## Graph Utilities"
   ]
  },
  {
   "cell_type": "code",
   "execution_count": null,
   "metadata": {},
   "outputs": [],
   "source": [
    "def station_graph(index):\n",
    "    TM = TMs[index]\n",
    "    timestamp = pd.DataFrame({'year': [2019], 'month': [10], 'day': [index + 1]})\n",
    "    # Construct the graph\n",
    "    G = nx.MultiDiGraph()\n",
    "    for i, origin_state in enumerate(list(TM.index)):\n",
    "        for j, destination_state in enumerate(list(TM.columns)):\n",
    "            rate = TM.iloc[i, j]\n",
    "            if rate > 0:\n",
    "                G.add_edge(\n",
    "                    origin_state,\n",
    "                    destination_state,\n",
    "                    weight=rate,\n",
    "                    Flag = True,\n",
    "                    Date=str(pd.to_datetime(timestamp)[0]))\n",
    "    attrs = steady_states[index].T.to_dict()\n",
    "    nx.set_node_attributes(G, attrs)\n",
    "    return G"
   ]
  },
  {
   "cell_type": "markdown",
   "metadata": {},
   "source": [
    "### Interactive Plots"
   ]
  },
  {
   "cell_type": "code",
   "execution_count": null,
   "metadata": {},
   "outputs": [],
   "source": [
    "def plot_station_graph(index=15, geo=True, labels=False, mode='contextual', cmap=plt.cm.RdYlBu_r):\n",
    "    G = station_graph(index)\n",
    "    bond = np.array(list(nx.get_edge_attributes(G, 'weight').values()))\n",
    "    # Get pagerank metrics on each node\n",
    "    pi = np.array(list(nx.get_node_attributes(G, 'Pi').values()))\n",
    "    # Filter transitions out\n",
    "    flag = np.array(list(nx.get_node_attributes(G, 'Flag').values()))    \n",
    "    \n",
    "    bar = False\n",
    "    \n",
    "    if mode=='contextual':\n",
    "        color = np.array(list(nx.get_node_attributes(G, 'color').values()))\n",
    "        edge_cmap = plt.cm.Greys_r\n",
    "        outline = 'black'\n",
    "        bar = True\n",
    "    elif mode=='degree':\n",
    "        degree = np.array(list(nx.degree_centrality(G).values()))\n",
    "        color = np.log(np.divide(1, degree))\n",
    "        edge_cmap = plt.cm.Greys_r\n",
    "        outline = 'black'\n",
    "    elif mode=='closeness':\n",
    "        closeness = np.array(list(nx.closeness_centrality(G).values()))\n",
    "        color = np.log(np.divide(1, closeness))\n",
    "        edge_cmap = plt.cm.Greys_r\n",
    "        outline = 'black'\n",
    "    elif mode=='betweenness':\n",
    "        # Include endpoints to avoid division by zero \n",
    "        betweenness = np.array(list(nx.betweenness_centrality(G, weight=None, endpoints=True).values()))\n",
    "        color = np.log(np.divide(1, betweenness))\n",
    "        edge_cmap = plt.cm.Greys_r\n",
    "        outline = 'black'\n",
    "    elif mode=='binary':\n",
    "        degree = np.array(list(nx.degree_centrality(G).values()))\n",
    "        color = np.where(degree <= np.unique(degree)[3], 255, 0)\n",
    "        edge_cmap = plt.cm.Greys_r\n",
    "        outline = 'black'\n",
    "    elif mode=='default':\n",
    "        color = 'Blue'\n",
    "        edge_cmap = plt.cm.Blues_r\n",
    "        outline = None\n",
    "\n",
    "    # Layout\n",
    "    pos = nx.spring_layout(G, seed=1)\n",
    "    if not geo:\n",
    "        plt.figure(figsize=(50, 50))\n",
    "        nx.draw(\n",
    "            G,\n",
    "            pos=pos,\n",
    "            edge_color=bond,\n",
    "            node_color=color,\n",
    "            cmap=cmap,\n",
    "            edge_cmap=edge_cmap,\n",
    "            with_labels=labels,\n",
    "            font_weight=1,\n",
    "            node_size=pi * pow(10, 6) * flag,\n",
    "            width=bond * 10,\n",
    "            alpha=0.5)\n",
    "    elif geo:\n",
    "        # Overwrite random graph positions with the georeferenced locations\n",
    "        geopos = pos.copy()\n",
    "        for key, value in geopos.items():\n",
    "            if '=>' in key:\n",
    "                pair = key.split('=>')\n",
    "                posA = np.array(locations.loc[locations['HALTESTELLEN_NAME'] == pair[0]].geopos.values[0])\n",
    "                posB = np.array(locations.loc[locations['HALTESTELLEN_NAME'] == pair[1]].geopos.values[0])\n",
    "                geopos[key] = list((posA+posB)/2.0)\n",
    "            else:\n",
    "                geopos[key] = np.array(locations.loc[locations['HALTESTELLEN_NAME'] == key].geopos.values[0])   \n",
    "                \n",
    "        aspect = plt.rcParams[\"figure.figsize\"]\n",
    "        plt.figure(figsize=(aspect[0]*10, aspect[1]*10))\n",
    "\n",
    "        nx.draw(\n",
    "            G,\n",
    "            pos=geopos,\n",
    "            edge_color=bond,\n",
    "            node_color=color,\n",
    "            cmap=cmap,\n",
    "            edge_cmap=edge_cmap,\n",
    "            with_labels=labels,\n",
    "            font_weight=30,\n",
    "            node_size=pi * pow(10, 6.5) * flag,\n",
    "            width=bond * 5,\n",
    "            alpha=0.5)\n",
    "        \n",
    "    if bar:        \n",
    "        vmin = min(color)\n",
    "        vmax = max(color)\n",
    "        sm = plt.cm.ScalarMappable(cmap=cmap, norm=plt.Normalize(vmin = vmin, vmax=vmax))\n",
    "        sm._A = []\n",
    "        font = {'size': 50}\n",
    "        plt.rc('font', **font)\n",
    "        plt.colorbar(sm, aspect=50)\n",
    "        ax= plt.gca()\n",
    "        ax.collections[0].set_edgecolor(outline)\n",
    "\n",
    "        plt.axis('off')\n",
    "        plt.show()\n",
    "    else:\n",
    "        ax= plt.gca()\n",
    "        ax.collections[0].set_edgecolor(outline)\n",
    "\n",
    "        plt.axis('off')\n",
    "        plt.show()        "
   ]
  },
  {
   "cell_type": "markdown",
   "metadata": {},
   "source": [
    "## Graph Theory"
   ]
  },
  {
   "cell_type": "code",
   "execution_count": null,
   "metadata": {},
   "outputs": [],
   "source": [
    "# Steady distribution of common stations\n",
    "steady_states = []\n",
    "for i, vector in enumerate(Vs):\n",
    "    Steady_dist = vector.copy(deep=True)\n",
    "    Steady_dist['Pi'] = Pi[i].values\n",
    "    Steady_dist['Date'] = str(datetime(year=2019, month=10, day=int(i + 1)))\n",
    "    Steady_dist['Flag'] = Steady_dist['station'].isin(indices) \n",
    "    Steady_dist.set_index('station')\n",
    "    Steady_dist_ = Steady_dist[Steady_dist['Flag']]    \n",
    "    Steady_dist = Steady_dist.merge(Steady_dist_, how='outer')\n",
    "    Steady_dist = Steady_dist.fillna(0)\n",
    "    Steady_dist.set_index('station', inplace=True)\n",
    "    steady_states.append(Steady_dist)"
   ]
  },
  {
   "cell_type": "code",
   "execution_count": null,
   "metadata": {},
   "outputs": [],
   "source": [
    "plot_station_graph(mode='default')"
   ]
  },
  {
   "cell_type": "code",
   "execution_count": null,
   "metadata": {},
   "outputs": [],
   "source": [
    "G = station_graph(index=day)"
   ]
  },
  {
   "cell_type": "code",
   "execution_count": null,
   "metadata": {},
   "outputs": [],
   "source": [
    "# Get pagerank metrics on each node\n",
    "pi = np.array(list(nx.get_node_attributes(G, 'Pi').values()))\n",
    "# Filter transitions out\n",
    "flag = np.array(list(nx.get_node_attributes(G, 'Flag').values()))"
   ]
  },
  {
   "cell_type": "code",
   "execution_count": null,
   "metadata": {},
   "outputs": [],
   "source": [
    "origin = np.array(list(nx.get_node_attributes(G, 'origin').values()))\n",
    "inflow = np.array(list(nx.get_node_attributes(G, 'inflow').values()))\n",
    "outflow = np.array(list(nx.get_node_attributes(G, 'outflow').values()))"
   ]
  },
  {
   "cell_type": "code",
   "execution_count": null,
   "metadata": {},
   "outputs": [],
   "source": [
    "name = np.array(list(G.nodes.keys()))"
   ]
  },
  {
   "cell_type": "code",
   "execution_count": null,
   "metadata": {},
   "outputs": [],
   "source": [
    "degree = np.array(list(nx.out_degree_centrality(G).values()))"
   ]
  },
  {
   "cell_type": "code",
   "execution_count": null,
   "metadata": {},
   "outputs": [],
   "source": [
    "closeness = np.array(list(nx.closeness_centrality(G).values()))"
   ]
  },
  {
   "cell_type": "code",
   "execution_count": null,
   "metadata": {},
   "outputs": [],
   "source": [
    "# Include endpoints to avoid division by zero \n",
    "betweenness = np.array(list(nx.betweenness_centrality(G, weight=None, endpoints=True).values()))"
   ]
  },
  {
   "cell_type": "code",
   "execution_count": null,
   "metadata": {},
   "outputs": [],
   "source": [
    "# create a dictionary\n",
    "dic = {\n",
    "    'degree': np.log(degree),\n",
    "    'betweenness': np.log(betweenness),\n",
    "    'closeness': np.log(closeness),\n",
    "    'pi': np.log(pi),\n",
    "    'flag': flag\n",
    "}\n",
    "\n",
    "# create a list of strings\n",
    "columns = ['degree', 'betweenness', 'closeness', 'pi', 'flag']\n",
    "\n",
    "df = pd.DataFrame(dic, columns=columns)\n",
    "df = df[df['flag']] \n",
    "df.reset_index(inplace=True, drop=True)"
   ]
  },
  {
   "cell_type": "code",
   "execution_count": null,
   "metadata": {
    "scrolled": true
   },
   "outputs": [],
   "source": [
    "np.unique(df.degree)"
   ]
  },
  {
   "cell_type": "code",
   "execution_count": null,
   "metadata": {},
   "outputs": [],
   "source": [
    "lowcon = np.where(df.degree <= np.unique(df.degree)[0], True, False)"
   ]
  },
  {
   "cell_type": "code",
   "execution_count": null,
   "metadata": {},
   "outputs": [],
   "source": [
    "indices[lowcon]"
   ]
  },
  {
   "cell_type": "code",
   "execution_count": null,
   "metadata": {},
   "outputs": [],
   "source": [
    "# Create a pair grid instance\n",
    "font = {'size': 15}\n",
    "plt.rc('font', **font)\n",
    "grid = sns.PairGrid(df[['degree', 'betweenness', 'closeness', 'pi']], height=3.5)\n",
    "grid = grid.map_lower(plt.scatter, s=20,\n",
    "                      color='white', edgecolor='b', alpha=.5, lw=.4)\n",
    "grid = grid.map_upper(sns.kdeplot, color='b', shade=True,\n",
    "                      shade_lowest=False, alpha=0.5, n_levels=1000)\n",
    "grid = grid.map_diag(sns.kdeplot, shade=True, color='b', lw=.9);\n",
    "#grid.set(xticks=[])\n",
    "#grid.set(yticks=[])\n",
    "path = 'C:/Users/Georgios/Desktop/Paper/pairplot.jpg'\n",
    "grid.savefig(path, dpi=300, bbox_inches='tight')"
   ]
  },
  {
   "cell_type": "markdown",
   "metadata": {},
   "source": [
    "### Degree centrality"
   ]
  },
  {
   "cell_type": "code",
   "execution_count": null,
   "metadata": {},
   "outputs": [],
   "source": [
    "plot_station_graph(index=10, cmap=plt.cm.bwr, mode='binary')"
   ]
  },
  {
   "cell_type": "markdown",
   "metadata": {},
   "source": [
    "### Graph-Theoritical Clustering"
   ]
  },
  {
   "cell_type": "code",
   "execution_count": null,
   "metadata": {},
   "outputs": [],
   "source": [
    "from sompy import mapview\n",
    "from sompy.sompy import SOMFactory"
   ]
  },
  {
   "cell_type": "code",
   "execution_count": null,
   "metadata": {},
   "outputs": [],
   "source": [
    "# create a dictionary\n",
    "dic = {\n",
    "    'name': name,\n",
    "    'degree': np.log(degree),\n",
    "    'betweenness': np.log(betweenness),\n",
    "    'closeness': np.log(closeness),\n",
    "    'pi': np.log(pi),\n",
    "    'origin': origin,\n",
    "    'inflow': inflow,\n",
    "    'outflow': outflow,\n",
    "    'flag': flag\n",
    "}\n",
    "\n",
    "# create a list of strings\n",
    "columns = ['name', 'degree', 'betweenness', 'closeness', 'pi', 'origin', 'inflow', 'outflow', 'flag']\n",
    "\n",
    "df = pd.DataFrame(dic, columns=columns)\n",
    "df = df[df['flag']] \n",
    "del df['flag']\n",
    "df.sort_values(by=['name'], inplace=True)\n",
    "df.reset_index(inplace=True, drop=True)"
   ]
  },
  {
   "cell_type": "code",
   "execution_count": null,
   "metadata": {},
   "outputs": [],
   "source": [
    "centralities = ['degree', 'betweenness', 'closeness', 'pi']"
   ]
  },
  {
   "cell_type": "code",
   "execution_count": null,
   "metadata": {},
   "outputs": [],
   "source": [
    "X = df[centralities].values"
   ]
  },
  {
   "cell_type": "code",
   "execution_count": null,
   "metadata": {},
   "outputs": [],
   "source": [
    "#Normal = (X - X.min(axis=0)) / (X.max(axis=0) - X.min(axis=0))"
   ]
  },
  {
   "cell_type": "code",
   "execution_count": null,
   "metadata": {},
   "outputs": [],
   "source": [
    "min_max_scaler = preprocessing.MinMaxScaler()"
   ]
  },
  {
   "cell_type": "code",
   "execution_count": null,
   "metadata": {},
   "outputs": [],
   "source": [
    "print(min_max_scaler.fit(X))"
   ]
  },
  {
   "cell_type": "code",
   "execution_count": null,
   "metadata": {},
   "outputs": [],
   "source": [
    "Normal = min_max_scaler.transform(X)"
   ]
  },
  {
   "cell_type": "markdown",
   "metadata": {},
   "source": [
    "### 2-dimensional SOM"
   ]
  },
  {
   "cell_type": "code",
   "execution_count": null,
   "metadata": {},
   "outputs": [],
   "source": [
    "msz10 = 70\n",
    "msz11 = 50"
   ]
  },
  {
   "cell_type": "code",
   "execution_count": null,
   "metadata": {},
   "outputs": [],
   "source": [
    "som2 = SOMFactory().build(Normal, lattice='hexa', mapsize=[msz10, msz11], normalization='var',\n",
    "                        initialization='pca', component_names=centralities)\n",
    "som2.train(n_job=1, verbose=False, train_rough_len=20, train_finetune_len=50)"
   ]
  },
  {
   "cell_type": "code",
   "execution_count": null,
   "metadata": {},
   "outputs": [],
   "source": [
    "topographic_error = som2.calculate_topographic_error()\n",
    "quantization_error = np.mean(som2._bmu[1])\n",
    "print(\"Topographic error = %s; Quantization error = %s\" % (topographic_error,\n",
    "                                                           quantization_error))"
   ]
  },
  {
   "cell_type": "code",
   "execution_count": null,
   "metadata": {},
   "outputs": [],
   "source": [
    "from sompy.visualization.mapview import View2D\n",
    "view2D  = View2D('','','',text_size=10)\n",
    "view2D.show(som2, what='codebook', which_dim='all', cmap=plt.cm.RdYlBu_r, col_sz=4.1, denormalize=True)"
   ]
  },
  {
   "cell_type": "markdown",
   "metadata": {},
   "source": [
    "### 1-dimensional SOM with contextual numbers"
   ]
  },
  {
   "cell_type": "code",
   "execution_count": null,
   "metadata": {},
   "outputs": [],
   "source": [
    "import sompylib.sompy as SOM"
   ]
  },
  {
   "cell_type": "code",
   "execution_count": null,
   "metadata": {},
   "outputs": [],
   "source": [
    "# create a dictionary\n",
    "dic = {\n",
    "    'name': name,\n",
    "    'degree': degree,\n",
    "    'betweenness': betweenness,\n",
    "    'closeness': closeness,\n",
    "    'pi': pi,\n",
    "    'origin': origin,\n",
    "    'inflow': inflow,\n",
    "    'outflow': outflow,\n",
    "    'flag': flag\n",
    "}\n",
    "\n",
    "# create a list of strings\n",
    "columns = ['name', 'degree', 'betweenness', 'closeness', 'pi', 'origin', 'inflow', 'outflow', 'flag']\n",
    "\n",
    "df = pd.DataFrame(dic, columns=columns)\n",
    "df = df[df['flag']] \n",
    "del df['flag']\n",
    "df.sort_values(by=['name'], inplace=True)\n",
    "df.reset_index(inplace=True, drop=True)"
   ]
  },
  {
   "cell_type": "code",
   "execution_count": null,
   "metadata": {},
   "outputs": [],
   "source": [
    "centralities = ['degree', 'betweenness', 'closeness', 'pi']"
   ]
  },
  {
   "cell_type": "code",
   "execution_count": null,
   "metadata": {},
   "outputs": [],
   "source": [
    "X = df[centralities].values"
   ]
  },
  {
   "cell_type": "code",
   "execution_count": null,
   "metadata": {},
   "outputs": [],
   "source": [
    "#Normal = (X - X.min(axis=0)) / (X.max(axis=0) - X.min(axis=0))"
   ]
  },
  {
   "cell_type": "code",
   "execution_count": null,
   "metadata": {},
   "outputs": [],
   "source": [
    "min_max_scaler = preprocessing.MinMaxScaler()"
   ]
  },
  {
   "cell_type": "code",
   "execution_count": null,
   "metadata": {},
   "outputs": [],
   "source": [
    "print(min_max_scaler.fit(X))"
   ]
  },
  {
   "cell_type": "code",
   "execution_count": null,
   "metadata": {},
   "outputs": [],
   "source": [
    "Normal = min_max_scaler.transform(X)"
   ]
  },
  {
   "cell_type": "code",
   "execution_count": null,
   "metadata": {},
   "outputs": [],
   "source": [
    "def denormalize_by(data_by, n_vect, n_method = 'var'):\n",
    "    #based on the normalization\n",
    "    if n_method == 'var':\n",
    "        me = np.mean(data_by, axis = 0)\n",
    "        st = np.std(data_by, axis = 0)\n",
    "        vect = n_vect* st + me\n",
    "        return vect \n",
    "    else:\n",
    "        print('data is not normalized before')\n",
    "        return n_vect"
   ]
  },
  {
   "cell_type": "code",
   "execution_count": null,
   "metadata": {},
   "outputs": [],
   "source": [
    "msz1 =1\n",
    "msz0 = 120\n",
    "data = Normal\n",
    "somCN= SOM.SOM('som1', data, mapsize = [msz0, msz1],norm_method = 'var',initmethod='pca')\n",
    "somCN.train(n_job = 1, shared_memory = 'no',verbose='final')\n",
    "codebook_CN= denormalize_by(somCN.data_raw, somCN.codebook[:], n_method = 'var')"
   ]
  },
  {
   "cell_type": "code",
   "execution_count": null,
   "metadata": {},
   "outputs": [],
   "source": [
    "dim1 = 2\n",
    "dim2 = 0"
   ]
  },
  {
   "cell_type": "code",
   "execution_count": null,
   "metadata": {},
   "outputs": [],
   "source": [
    "fig = plt.figure()\n",
    "K = codebook_CN.shape[0]\n",
    "plt.plot(data[:,dim1],data[:,dim2],'.',alpha=.1, c = 'Black')\n",
    "c = range(codebook_CN.shape[0])\n",
    "plt.scatter(codebook_CN[:,dim1],codebook_CN[:,dim2],s=60,marker='o',alpha=1.,c=plt.cm.RdYlBu_r(np.asarray(c)/float(K)));\n",
    "plt.plot(codebook_CN[:,dim1],codebook_CN[:,dim2],'-',alpha=.5, c='Grey')\n",
    "fig.set_size_inches(9,9);"
   ]
  },
  {
   "cell_type": "code",
   "execution_count": null,
   "metadata": {},
   "outputs": [],
   "source": [
    "proj = somCN.project_data(data)"
   ]
  },
  {
   "cell_type": "code",
   "execution_count": null,
   "metadata": {},
   "outputs": [],
   "source": [
    "# Python 3 program to replace the elements \n",
    "# by their frequency in the array. \n",
    "  \n",
    "def ReplaceElementsByFrequency(arr, n): \n",
    "    newarr = []  \n",
    "    # Hash map which will store the \n",
    "    # frequency of the elements of the array. \n",
    "    mp = {i:0 for i in range(len(arr))} \n",
    "  \n",
    "    for i in range(n): \n",
    "          \n",
    "        # Increment the frequency of the  \n",
    "        # element by 1. \n",
    "        mp[arr[i]] += 1\n",
    "  \n",
    "    # Replace every element by its frequency \n",
    "    for i in range(n): \n",
    "        newarr.append(mp[arr[i]])\n",
    "    return np.array(newarr)"
   ]
  },
  {
   "cell_type": "code",
   "execution_count": null,
   "metadata": {},
   "outputs": [],
   "source": [
    "bins = ReplaceElementsByFrequency(proj, len(proj))"
   ]
  },
  {
   "cell_type": "code",
   "execution_count": null,
   "metadata": {},
   "outputs": [],
   "source": [
    "# Euclidean metric of weights\n",
    "w = codebook_CN\n",
    "HDist = []\n",
    "for i, _ in enumerate(w):\n",
    "    if i>=1:\n",
    "        HDist.append(np.linalg.norm(w[i]-w[i-1]))\n",
    "HDist = HDist/min(HDist)"
   ]
  },
  {
   "cell_type": "code",
   "execution_count": null,
   "metadata": {},
   "outputs": [],
   "source": [
    "# Calclulate adjusted contextual numbers (ACNs)\n",
    "acn = []\n",
    "ACN = 0\n",
    "acn.append(ACN)\n",
    "for i in range(1, len(HDist)+1):\n",
    "    ACN = ACN + HDist[i-1]\n",
    "    acn.append(ACN)"
   ]
  },
  {
   "cell_type": "code",
   "execution_count": null,
   "metadata": {},
   "outputs": [],
   "source": [
    "# Match results to ACNs\n",
    "newproj=[]\n",
    "for pr in proj:\n",
    "    newpr = acn[pr]\n",
    "    newproj.append(newpr)"
   ]
  },
  {
   "cell_type": "code",
   "execution_count": null,
   "metadata": {},
   "outputs": [],
   "source": [
    "# Interpolate between 0 and 1\n",
    "interpol = np.interp(newproj, (min(newproj), max(newproj)), (0, 1))"
   ]
  },
  {
   "cell_type": "code",
   "execution_count": null,
   "metadata": {},
   "outputs": [],
   "source": [
    "from matplotlib.collections import EllipseCollection\n",
    "\n",
    "x = np.arange(0, len(acn), 1)\n",
    "y = acn\n",
    "\n",
    "font = {'size': 20}\n",
    "plt.rc('font', **font)\n",
    "fig, ax = plt.subplots()\n",
    "plt.plot(x, y, 'black', linewidth=.51, linestyle='-.')\n",
    "plt.grid(linewidth=.31, color='gray', linestyle='--')\n",
    "plt.xlabel('CN')\n",
    "plt.ylabel('ACN')\n",
    "\n",
    "offsets = list(zip(proj, newproj))\n",
    "\n",
    "scatter = ax.add_collection(EllipseCollection(widths=bins, heights=bins, angles=0, units='x',\n",
    "                                       facecolors=plt.cm.RdYlBu_r(interpol),\n",
    "                                       offsets=offsets, transOffset=ax.transData, alpha=0.5))\n",
    "\n",
    "fig.set_size_inches(10,10);\n",
    "\n",
    "path = 'C:/Users/Georgios/Desktop/Paper/ACN.jpg'\n",
    "fig.savefig(path, dpi=300, bbox_inches='tight')\n",
    "\n",
    "plt.show()\n",
    "plt.close()"
   ]
  },
  {
   "cell_type": "code",
   "execution_count": null,
   "metadata": {},
   "outputs": [],
   "source": [
    "labels=np.array(centralities)\n",
    "angles=np.linspace(0, 2*np.pi, len(labels), endpoint=False)\n",
    "angles=np.concatenate((angles,[angles[0]]))\n",
    "fig=plt.figure(figsize=(10, 10))\n",
    "font = {'size': 20}\n",
    "plt.rc('font', **font)\n",
    "ax = fig.add_subplot(111, polar=True)\n",
    "for i in range(len(X)):\n",
    "    stats=Normal[i]\n",
    "    # close the plot\n",
    "    stats=np.concatenate((stats,[stats[0]]))\n",
    "    ax.plot(angles, stats, '-', alpha=0.2, linewidth=5, color=cm.RdYlBu_r(interpol[i]))\n",
    "    ax.fill(angles, stats, alpha=0.4, color=cm.RdYlBu_r(interpol[i]))\n",
    "ax.set_thetagrids(angles * 180/np.pi, labels)\n",
    "#ax.set_title('Centralities')\n",
    "ax.grid(linewidth=0.75, color='black', linestyle=(0, (1, 5)))\n",
    "ax.spines['polar'].set_visible(False)\n",
    "path = 'C:/Users/Georgios/Desktop/Paper/radar.jpg'\n",
    "fig.savefig(path, dpi=300, bbox_inches='tight')\n",
    "\n",
    "plt.show()\n",
    "plt.close()"
   ]
  },
  {
   "cell_type": "code",
   "execution_count": null,
   "metadata": {},
   "outputs": [],
   "source": [
    "# Steady distribution of stations\n",
    "steady_states = []\n",
    "for i, vector in enumerate(Vs):\n",
    "    Steady_dist = vector.copy(deep=True)\n",
    "    Steady_dist['Pi'] = Pi[i].values\n",
    "    Steady_dist['Date'] = str(datetime(year=2019, month=10, day=int(i + 1)))\n",
    "    Steady_dist['Flag'] = Steady_dist['station'].isin(indices)  \n",
    "    Steady_dist.set_index('station')\n",
    "    Steady_dist_ = Steady_dist[Steady_dist['Flag']]    \n",
    "    Steady_dist_['color'] = interpol\n",
    "    Steady_dist = Steady_dist.merge(Steady_dist_, how='outer')\n",
    "    Steady_dist = Steady_dist.fillna(0)\n",
    "    Steady_dist.set_index('station', inplace=True)\n",
    "    steady_states.append(Steady_dist)"
   ]
  },
  {
   "cell_type": "code",
   "execution_count": null,
   "metadata": {},
   "outputs": [],
   "source": [
    "plot_station_graph(index=10, cmap=plt.cm.RdYlBu_r)"
   ]
  },
  {
   "cell_type": "markdown",
   "metadata": {},
   "source": [
    "### Perturbed Data"
   ]
  },
  {
   "cell_type": "code",
   "execution_count": null,
   "metadata": {},
   "outputs": [],
   "source": [
    "d = 10"
   ]
  },
  {
   "cell_type": "code",
   "execution_count": null,
   "metadata": {},
   "outputs": [],
   "source": [
    "pi_normal_path = 'data/istdaten/{}/perturbations/Sample/pi_normal_{}_{:>02}{}2019.pkl'.format(\n",
    "            month, str(percent), str(d + 1), imonth)\n",
    "pi_normal = pd.read_pickle(pi_normal_path)\n",
    "pi_normal = pi_normal[list(indices)]\n",
    "\n",
    "pi_perturbed_path = 'data/istdaten/{}/perturbations/Sample/Pi_perturbed_{}_{:>02}{}2019.pkl'.format(\n",
    "            month, str(percent), str(d + 1), imonth)\n",
    "pi_perturbed = pd.read_pickle(pi_perturbed_path)\n",
    "pi_perturbed = pi_perturbed[list(indices)]\n",
    "\n",
    "pi_diff_path = 'data/istdaten/{}/perturbations/Sample/Pi_diff_{}_{:>02}{}2019.pkl'.format(\n",
    "            month, str(percent), str(d + 1), imonth)\n",
    "pi_diff = pd.read_pickle(pi_diff_path)\n",
    "pi_diff = pi_diff[list(indices)]"
   ]
  },
  {
   "cell_type": "code",
   "execution_count": null,
   "metadata": {},
   "outputs": [],
   "source": [
    "minimum = pi_diff.min(axis=1)"
   ]
  },
  {
   "cell_type": "code",
   "execution_count": null,
   "metadata": {
    "scrolled": true
   },
   "outputs": [],
   "source": [
    "maximum = pi_diff.max(axis=1)"
   ]
  },
  {
   "cell_type": "code",
   "execution_count": null,
   "metadata": {},
   "outputs": [],
   "source": [
    "#posfilter = (pi_diff > 0).any(axis=1).values\n",
    "#diff = (pi_diff.max(axis=1) - pi_diff.min(axis=1)).values\n",
    "negfilter = (np.logical_and(maximum.values<=15, minimum.values<=0))\n",
    "posfilter = [not c for c in negfilter]"
   ]
  },
  {
   "cell_type": "code",
   "execution_count": null,
   "metadata": {},
   "outputs": [],
   "source": [
    "poslist = list(compress(list(indices), posfilter))\n",
    "poslist.sort()\n",
    "neglist = list(compress(list(indices), negfilter))\n",
    "neglist.sort()"
   ]
  },
  {
   "cell_type": "code",
   "execution_count": null,
   "metadata": {},
   "outputs": [],
   "source": [
    "len(poslist)"
   ]
  },
  {
   "cell_type": "code",
   "execution_count": null,
   "metadata": {},
   "outputs": [],
   "source": [
    "len(neglist)"
   ]
  },
  {
   "cell_type": "code",
   "execution_count": null,
   "metadata": {},
   "outputs": [],
   "source": [
    "city='Baldegg'\n",
    "print(city)\n",
    "print('IN')\n",
    "for n, i in enumerate(TMs[0][[city]].values.T[0]):\n",
    "    if i > 0:\n",
    "        print(i, TMs[0].iloc[n].name)\n",
    "print('OUT')\n",
    "for n, i in enumerate(TMs[0].loc[[city]].values[0]):\n",
    "    if i > 0:\n",
    "        print(i, TMs[0].iloc[n].name)"
   ]
  },
  {
   "cell_type": "code",
   "execution_count": null,
   "metadata": {},
   "outputs": [],
   "source": [
    "city='Baldegg Kloster'\n",
    "print(city)\n",
    "print('IN')\n",
    "for n, i in enumerate(TMs[0][[city]].values.T[0]):\n",
    "    if i > 0:\n",
    "        print(i, TMs[0].iloc[n].name)\n",
    "print('OUT')\n",
    "for n, i in enumerate(TMs[0].loc[[city]].values[0]):\n",
    "    if i > 0:\n",
    "        print(i, TMs[0].iloc[n].name)"
   ]
  },
  {
   "cell_type": "code",
   "execution_count": null,
   "metadata": {},
   "outputs": [],
   "source": [
    "for city in poslist:\n",
    "    print(city)\n",
    "    print('IN')\n",
    "    for n, i in enumerate(TMs[0][[city]].values.T[0]):\n",
    "        if i > 0:\n",
    "            print(i, TMs[0].iloc[n].name)\n",
    "    print('OUT')\n",
    "    for n, i in enumerate(TMs[0].loc[[city]].values[0]):\n",
    "        if i > 0:\n",
    "            print(i, TMs[0].iloc[n].name)\n",
    "    print()"
   ]
  },
  {
   "cell_type": "code",
   "execution_count": null,
   "metadata": {},
   "outputs": [],
   "source": [
    "pi_normal = pi_normal[neglist]\n",
    "pi_diff = pi_diff[neglist].drop(poslist)\n",
    "pi_perturbed = pi_perturbed[neglist].drop(poslist)"
   ]
  },
  {
   "cell_type": "code",
   "execution_count": null,
   "metadata": {},
   "outputs": [],
   "source": [
    "vmax = pi_diff.max(axis=1).max()\n",
    "vmax"
   ]
  },
  {
   "cell_type": "code",
   "execution_count": null,
   "metadata": {},
   "outputs": [],
   "source": [
    "vmin = pi_diff.min(axis=1).min()\n",
    "vmin"
   ]
  },
  {
   "cell_type": "markdown",
   "metadata": {},
   "source": [
    "## Clustering"
   ]
  },
  {
   "cell_type": "code",
   "execution_count": null,
   "metadata": {},
   "outputs": [],
   "source": [
    "from sompy import mapview\n",
    "from sompy.sompy import SOMFactory"
   ]
  },
  {
   "cell_type": "code",
   "execution_count": null,
   "metadata": {},
   "outputs": [],
   "source": [
    "import sompylib.sompy as SOM"
   ]
  },
  {
   "cell_type": "code",
   "execution_count": null,
   "metadata": {},
   "outputs": [],
   "source": [
    "# Normalize along the rows!\n",
    "row_sums = pi_perturbed.T.values.sum(axis=1)\n",
    "Normal = pi_perturbed.T.values / row_sums[:, np.newaxis]"
   ]
  },
  {
   "cell_type": "code",
   "execution_count": null,
   "metadata": {},
   "outputs": [],
   "source": [
    "from sklearn.preprocessing import normalize\n",
    "Normal = normalize(pi_perturbed.T.values, axis=1, norm='l1')"
   ]
  },
  {
   "cell_type": "markdown",
   "metadata": {},
   "source": [
    "### 2-dimensional SOM"
   ]
  },
  {
   "cell_type": "code",
   "execution_count": null,
   "metadata": {},
   "outputs": [],
   "source": [
    "msz11 = 7\n",
    "msz10 = 14"
   ]
  },
  {
   "cell_type": "code",
   "execution_count": null,
   "metadata": {},
   "outputs": [],
   "source": [
    "som = SOMFactory().build(\n",
    "    Normal, mapsize=[msz10, msz11], initialization='pca', component_names=neglist)\n",
    "som.train(n_job=1, verbose=False, train_rough_len=100, train_finetune_len=250)"
   ]
  },
  {
   "cell_type": "code",
   "execution_count": null,
   "metadata": {},
   "outputs": [],
   "source": [
    "dists,bmus = som.find_k_nodes(som.data_raw,k=1)"
   ]
  },
  {
   "cell_type": "code",
   "execution_count": null,
   "metadata": {},
   "outputs": [],
   "source": [
    "topographic_error = som.calculate_topographic_error()\n",
    "quantization_error = np.mean(som._bmu[1])\n",
    "print(\"Topographic error = %s; Quantization error = %s\" % (topographic_error,\n",
    "                                                           quantization_error))"
   ]
  },
  {
   "cell_type": "code",
   "execution_count": null,
   "metadata": {},
   "outputs": [],
   "source": [
    "from sompy.visualization.bmuhits import BmuHitsView\n",
    "vhts  = BmuHitsView(10,10,\"Hits Map\",text_size=10)\n",
    "vhts.show(som, anotate=True, onlyzeros=True, labelsize=10, cmap=plt.cm.RdYlBu_r, logaritmic=True)\n",
    "plt.show()"
   ]
  },
  {
   "cell_type": "code",
   "execution_count": null,
   "metadata": {},
   "outputs": [],
   "source": [
    "aspect = plt.rcParams['figure.figsize']\n",
    "fig = plt.figure(figsize=(aspect[0]*msz11, aspect[1]*msz10))\n",
    "for i in range(1, msz10*msz11+1):\n",
    "    plt.subplot(msz10, msz11, i)\n",
    "    plt.axis('off')\n",
    "    ind_node_i = np.where(bmus==i-1)[0]\n",
    "    if ind_node_i.any():\n",
    "        index = ind_node_i[dists[ind_node_i].argmin()]\n",
    "        target = neglist[index]\n",
    "        stations = neglist\n",
    "        im = scatterplot(d, target, stations, fontsize=20, dotsize=20, vmin=vmin, vmax=vmax, alpha=1.0)\n",
    "        plt.title(target, fontsize=25)\n",
    "    else:\n",
    "        pass#plt.text(0.5, 0.5, str((msz10, msz11, i)), fontsize=25, ha='center')\n",
    "path = 'C:/Users/Georgios/Desktop/Paper/SOM_{}_{}2019.jpg'.format(\n",
    "        month, str(d + 1), imonth)\n",
    "fig.savefig(path, dpi=300, bbox_inches='tight')\n",
    "cbar_ax = fig.add_axes([0.92, 0.15, 0.01, 0.7])\n",
    "fig.colorbar(im, cbar_ax)\n",
    "plt.show()\n",
    "plt.close()"
   ]
  },
  {
   "cell_type": "markdown",
   "metadata": {},
   "source": [
    "## Calculating Systemic Influence, Systemic Fragility and other measures"
   ]
  },
  {
   "cell_type": "code",
   "execution_count": null,
   "metadata": {},
   "outputs": [],
   "source": [
    "d = 10"
   ]
  },
  {
   "cell_type": "code",
   "execution_count": null,
   "metadata": {},
   "outputs": [],
   "source": [
    "pi_normal_path = 'data/istdaten/{}/perturbations/Sample/pi_normal_{}_{:>02}{}2019.pkl'.format(\n",
    "            month, str(percent), str(d + 1), imonth)\n",
    "pi_normal = pd.read_pickle(pi_normal_path)\n",
    "pi_normal = pi_normal[list(indices)]\n",
    "\n",
    "pi_perturbed_path = 'data/istdaten/{}/perturbations/Sample/Pi_perturbed_{}_{:>02}{}2019.pkl'.format(\n",
    "            month, str(percent), str(d + 1), imonth)\n",
    "pi_perturbed = pd.read_pickle(pi_perturbed_path)\n",
    "pi_perturbed = pi_perturbed[list(indices)]\n",
    "\n",
    "pi_diff_path = 'data/istdaten/{}/perturbations/Sample/Pi_diff_{}_{:>02}{}2019.pkl'.format(\n",
    "            month, str(percent), str(d + 1), imonth)\n",
    "pi_diff = pd.read_pickle(pi_diff_path)\n",
    "pi_diff = pi_diff[list(indices)]"
   ]
  },
  {
   "cell_type": "code",
   "execution_count": null,
   "metadata": {},
   "outputs": [],
   "source": [
    "# Threshold of change in pct\n",
    "thresh = 20\n",
    "\n",
    "dim = pi_diff.shape[1]"
   ]
  },
  {
   "cell_type": "code",
   "execution_count": null,
   "metadata": {},
   "outputs": [],
   "source": [
    "# Systemic Influence\n",
    "no_of_pos_affecting = (pi_diff.values[:dim, :dim] > thresh).sum(axis=1)\n",
    "no_of_neg_affecting = (pi_diff.values[:dim, :dim] < -1 * thresh).sum(axis=1)\n",
    "\n",
    "ind_pos_affecting = pi_diff.values[:dim, :dim] > thresh\n",
    "ind_neg_affecting = pi_diff.values[:dim, :dim] < -1 * thresh\n",
    "pos_affecting = np.zeros(dim)\n",
    "neg_affecting = np.zeros(dim)\n",
    "\n",
    "for i in range(dim):\n",
    "    pos_affecting[i] = pi_diff.values[i, ind_pos_affecting[i]].dot(\n",
    "        pi_normal.values[0, :dim][ind_pos_affecting[i]])\n",
    "    neg_affecting[i] = pi_diff.values[i, ind_neg_affecting[i]].dot(\n",
    "        pi_normal.values[0, :dim][ind_neg_affecting[i]])\n",
    "    \n",
    "sum_of_affecting = np.abs(neg_affecting) + pos_affecting\n",
    "\n",
    "#systemic_influence = (no_of_pos_affecting + no_of_neg_affecting) / float(dim)\n",
    "systemic_influence = (sum_of_affecting) / float(sum_of_affecting.max())"
   ]
  },
  {
   "cell_type": "code",
   "execution_count": null,
   "metadata": {},
   "outputs": [],
   "source": [
    "# Systemic Fragility\n",
    "no_of_pos_affected = (pi_diff.values[:dim, :dim] > thresh).sum(axis=0)\n",
    "no_of_neg_affected = (pi_diff.values[:dim, :dim] < -1 * thresh).sum(axis=0)\n",
    "\n",
    "ind_pos_affected = pi_diff.values[:dim, :dim] > thresh\n",
    "ind_neg_affected = pi_diff.values[:dim, :dim] < -1 * thresh\n",
    "pos_affected = np.zeros(dim)\n",
    "neg_affected = np.zeros(dim)\n",
    "\n",
    "for i in range(dim):\n",
    "    pos_affected[i] = pi_diff.values[ind_pos_affected[:dim, i],\n",
    "                                     i].sum() * pi_normal.values[0, i]\n",
    "    neg_affected[i] = pi_diff.values[ind_neg_affected[:dim, i],\n",
    "                                     i].sum() * pi_normal.values[0, i]\n",
    "\n",
    "# We want to take out the effect each node on itself\n",
    "self_change = np.diag(pi_diff.values[:, :dim]) * pi_normal.values[0, :dim]\n",
    "sum_of_affected = np.abs(neg_affected) + pos_affected - np.abs(self_change)    \n",
    "    \n",
    "systemic_fragility = (no_of_pos_affected + no_of_neg_affected) / float((no_of_pos_affected + no_of_neg_affected).max())\n",
    "#systemic_fragility = (sum_of_affected) / float(dim)"
   ]
  },
  {
   "cell_type": "markdown",
   "metadata": {},
   "source": [
    "### Systemic fragility vs. systemic influence"
   ]
  },
  {
   "cell_type": "code",
   "execution_count": null,
   "metadata": {},
   "outputs": [],
   "source": [
    "fig = plt.figure(figsize=(10, 7))\n",
    "plt.subplot(1, 1, 1)\n",
    "font = {'size': 12}\n",
    "plt.rc('font', **font)\n",
    "\n",
    "ax = plt.gca()\n",
    "\n",
    "x = systemic_fragility\n",
    "y = systemic_influence\n",
    "z = pi_normal.values[0]\n",
    "\n",
    "p = plt.scatter(\n",
    "    x,\n",
    "    y,\n",
    "    c='white',\n",
    "    s=z * pow(10, 5.5),\n",
    "    marker='o',\n",
    "    edgecolor='Blue',\n",
    "    cmap=plt.cm.Blues_r,\n",
    "    alpha=0.5)\n",
    "\n",
    "plt.xlabel('systemic fragility (absolute change > {}%)'.format(thresh))\n",
    "plt.ylabel('systemic influence (absolute change > {}%)'.format(thresh))\n",
    "\n",
    "xmin = x.min() - 0.01\n",
    "xmax = x.max() + 0.01\n",
    "\n",
    "ymin = y.min() - 0.02\n",
    "ymax = y.max() + 0.1\n",
    "\n",
    "plt.xlim(xmin, xmax)\n",
    "plt.ylim(ymin, ymax)\n",
    "\n",
    "font = {'size': 14.}\n",
    "\n",
    "plt.rc('font', **font)\n",
    "plt.tight_layout()\n",
    "\n",
    "#path = 'C:/Users/GAO/Desktop/ML/ETH/Paper/plt.jpg'\n",
    "#fig.savefig(path, dpi=300)\n",
    "\n",
    "plt.show();\n",
    "plt.close();"
   ]
  },
  {
   "cell_type": "markdown",
   "metadata": {},
   "source": [
    "### Systemic fragility"
   ]
  },
  {
   "cell_type": "code",
   "execution_count": null,
   "metadata": {},
   "outputs": [],
   "source": [
    "fig = plt.figure(figsize=(10, 7))\n",
    "plt.subplot(1, 1, 1)\n",
    "\n",
    "ax = plt.gca()\n",
    "ax.set_xscale('log')\n",
    "metric = systemic_fragility\n",
    "y = metric\n",
    "x = pi_normal.values[0]\n",
    "z = pi_normal.values[0]\n",
    "\n",
    "p = plt.scatter(\n",
    "    x,\n",
    "    y,\n",
    "    c='white',\n",
    "    s=z * pow(10, 5.5),\n",
    "    marker='o',\n",
    "    edgecolor='Blue',\n",
    "    cmap=plt.cm.Blues_r,\n",
    "    alpha=0.5)\n",
    "\n",
    "plt.ylabel('systemic fragility (absolute change > {}%)'.format(thresh))\n",
    "plt.xlabel('log scale-steady state probability (structural power)')\n",
    "\n",
    "xmin = x.min() / 1.5\n",
    "xmax = x.max() + 0.01\n",
    "\n",
    "ymin = y.min() - 0.01\n",
    "ymax = y.max() + 0.01\n",
    "\n",
    "plt.xlim(xmin, xmax)\n",
    "plt.ylim(ymin, ymax)\n",
    "\n",
    "font = {'size': 14.}\n",
    "\n",
    "plt.rc('font', **font)\n",
    "plt.tight_layout()\n",
    "\n",
    "#path = 'C:/Users/GAO/Desktop/ML/ETH/Paper/fragility_plt.jpg'\n",
    "#fig.savefig(path, dpi=300)\n",
    "\n",
    "plt.show();\n",
    "plt.close();"
   ]
  },
  {
   "cell_type": "code",
   "execution_count": null,
   "metadata": {},
   "outputs": [],
   "source": [
    "# Steady distribution of stations\n",
    "steady_states = []\n",
    "for i, vector in enumerate(Vs):\n",
    "    Steady_dist = vector.copy(deep=True)\n",
    "    Steady_dist['Pi'] = Pi[i].values\n",
    "    Steady_dist['Date'] = str(datetime(year=2019, month=10, day=int(i + 1)))\n",
    "    Steady_dist['Flag'] = Steady_dist['station'].isin(indices)\n",
    "    array = []\n",
    "    measure = systemic_fragility\n",
    "    count = 0\n",
    "    if i==d:\n",
    "        for j, boo in enumerate(Steady_dist['Flag']):\n",
    "            if boo:\n",
    "                array.append(measure[count])\n",
    "                count+=1\n",
    "            else:\n",
    "                array.append(min(measure))\n",
    "        Steady_dist['color'] = array\n",
    "    Steady_dist.set_index('station', inplace=True)\n",
    "    steady_states.append(Steady_dist)"
   ]
  },
  {
   "cell_type": "code",
   "execution_count": null,
   "metadata": {},
   "outputs": [],
   "source": [
    "plot_station_graph(index=10, cmap=plt.cm.RdYlBu_r)"
   ]
  },
  {
   "cell_type": "markdown",
   "metadata": {},
   "source": [
    "### Top 10 nodes with the lowest systemic fragility"
   ]
  },
  {
   "cell_type": "code",
   "execution_count": null,
   "metadata": {},
   "outputs": [],
   "source": [
    "dd = np.concatenate(\n",
    "    (pi_normal.T.index.values[:][:, np.newaxis],\n",
    "     pi_normal.T['pi_normal'].values[:][:, np.newaxis],\n",
    "     systemic_fragility[:, np.newaxis],\n",
    "     systemic_influence[:, np.newaxis]),\n",
    "    axis=1)\n",
    "\n",
    "DF = pd.DataFrame(\n",
    "    data=dd,\n",
    "    columns=[\n",
    "        'Names', 'structural power', 'Systemic Fragility', 'Systemic Influence'\n",
    "    ])\n",
    "\n",
    "DF.head()\n",
    "DF = DF.sort_values(['Systemic Fragility', 'structural power'], ascending=[True, True])\n",
    "DF.index = range(1, DF.shape[0] + 1)\n",
    "DF.loc[DF.index[:10]]"
   ]
  },
  {
   "cell_type": "markdown",
   "metadata": {},
   "source": [
    "### Top 10 nodes with the highest systemic fragility"
   ]
  },
  {
   "cell_type": "code",
   "execution_count": null,
   "metadata": {},
   "outputs": [],
   "source": [
    "dd = np.concatenate(\n",
    "    (pi_normal.T.index.values[:][:, np.newaxis],\n",
    "     pi_normal.T['pi_normal'].values[:][:, np.newaxis],\n",
    "     systemic_fragility[:, np.newaxis],\n",
    "     systemic_influence[:, np.newaxis]),\n",
    "    axis=1)\n",
    "\n",
    "DF = pd.DataFrame(\n",
    "    data=dd,\n",
    "    columns=[\n",
    "        'Names', 'structural power', 'Systemic Fragility', 'Systemic Influence'\n",
    "    ])\n",
    "\n",
    "DF.head()\n",
    "DF = DF.sort_values(['Systemic Fragility', 'structural power'], ascending=[False, False])\n",
    "DF.index = range(1, DF.shape[0] + 1)\n",
    "DF.loc[DF.index[:10]]"
   ]
  },
  {
   "cell_type": "markdown",
   "metadata": {},
   "source": [
    "### Systemic influence"
   ]
  },
  {
   "cell_type": "code",
   "execution_count": null,
   "metadata": {},
   "outputs": [],
   "source": [
    "fig = plt.figure(figsize=(10, 7))\n",
    "plt.subplot(1, 1, 1)\n",
    "font = {'size': 12}\n",
    "plt.rc('font', **font)\n",
    "\n",
    "ax = plt.gca()\n",
    "ax.set_xscale('log')\n",
    "metric = systemic_influence\n",
    "y = metric\n",
    "x = pi_normal.values[0]\n",
    "z = pi_normal.values[0]\n",
    "\n",
    "p = plt.scatter(\n",
    "    x,\n",
    "    y,\n",
    "    c='white',\n",
    "    s=z * pow(10, 5.5),\n",
    "    marker='o',\n",
    "    edgecolor='Blue',\n",
    "    cmap=plt.cm.Blues_r,\n",
    "    alpha=0.5)\n",
    "\n",
    "plt.ylabel('systemic influence (absolute change > {}%)'.format(thresh))\n",
    "plt.xlabel('log scale-steady state probability (structural power)')\n",
    "\n",
    "xmin = x.min() / 1.5\n",
    "xmax = x.max() + 0.01\n",
    "\n",
    "ymin = y.min() - 0.02\n",
    "ymax = y.max() + 0.1\n",
    "\n",
    "plt.xlim(xmin, xmax)\n",
    "plt.ylim(ymin, ymax)\n",
    "\n",
    "font = {'size': 14.}\n",
    "\n",
    "plt.rc('font', **font)\n",
    "plt.tight_layout()\n",
    "\n",
    "#path = 'C:/Users/GAO/Desktop/ML/ETH/Paper/influence_plt.jpg'\n",
    "#fig.savefig(path, dpi=300)\n",
    "plt.show();\n",
    "plt.close();"
   ]
  },
  {
   "cell_type": "code",
   "execution_count": null,
   "metadata": {},
   "outputs": [],
   "source": [
    "steady_states = []\n",
    "for i, vector in enumerate(Vs):\n",
    "    Steady_dist = vector.copy(deep=True)\n",
    "    Steady_dist['Pi'] = Pi[i].values\n",
    "    Steady_dist['Date'] = str(datetime(year=2019, month=10, day=int(i + 1)))\n",
    "    Steady_dist['Flag'] = Steady_dist['station'].isin(indices)\n",
    "    array = []\n",
    "    measure = systemic_influence\n",
    "    count = 0\n",
    "    if i==d:\n",
    "        for j, boo in enumerate(Steady_dist['Flag']):\n",
    "            if boo:\n",
    "                array.append(measure[count])\n",
    "                count+=1\n",
    "            else:\n",
    "                array.append(min(measure))\n",
    "        Steady_dist['color'] = array\n",
    "    Steady_dist.set_index('station', inplace=True)\n",
    "    steady_states.append(Steady_dist)"
   ]
  },
  {
   "cell_type": "code",
   "execution_count": null,
   "metadata": {},
   "outputs": [],
   "source": [
    "plot_station_graph(index=10, cmap=plt.cm.RdYlBu_r)"
   ]
  },
  {
   "cell_type": "markdown",
   "metadata": {},
   "source": [
    "### Top 10 nodes with the highest systemic influence"
   ]
  },
  {
   "cell_type": "code",
   "execution_count": null,
   "metadata": {},
   "outputs": [],
   "source": [
    "dd = np.concatenate(\n",
    "    (pi_normal.T.index.values[:][:, np.newaxis],\n",
    "     pi_normal.T['pi_normal'].values[:][:, np.newaxis],\n",
    "     systemic_fragility[:, np.newaxis],\n",
    "     systemic_influence[:, np.newaxis]),\n",
    "    axis=1)\n",
    "\n",
    "DF = pd.DataFrame(\n",
    "    data=dd,\n",
    "    columns=[\n",
    "        'Names', 'structural power', 'Systemic Fragility', 'Systemic Influence'\n",
    "    ])\n",
    "\n",
    "DF.head()\n",
    "DF = DF.sort_values(['Systemic Influence'], ascending=[False])\n",
    "DF.index = range(1, DF.shape[0] + 1)\n",
    "DF.loc[DF.index[:10]]"
   ]
  },
  {
   "cell_type": "markdown",
   "metadata": {},
   "source": [
    "### Top 10 nodes with the lowest systemic influence"
   ]
  },
  {
   "cell_type": "code",
   "execution_count": null,
   "metadata": {},
   "outputs": [],
   "source": [
    "dd = np.concatenate(\n",
    "    (pi_normal.T.index.values[:][:, np.newaxis],\n",
    "     pi_normal.T['pi_normal'].values[:][:, np.newaxis],\n",
    "     systemic_fragility[:, np.newaxis],\n",
    "     systemic_influence[:, np.newaxis]),\n",
    "    axis=1)\n",
    "\n",
    "DF = pd.DataFrame(\n",
    "    data=dd,\n",
    "    columns=[\n",
    "        'Names', 'structural power', 'Systemic Fragility', 'Systemic Influence'\n",
    "    ])\n",
    "\n",
    "DF.head()\n",
    "DF = DF.sort_values(['Systemic Influence'], ascending=[True])\n",
    "DF.index = range(1, DF.shape[0] + 1)\n",
    "DF.loc[DF.index[:10]]"
   ]
  },
  {
   "cell_type": "code",
   "execution_count": null,
   "metadata": {},
   "outputs": [],
   "source": []
  }
 ],
 "metadata": {
  "kernelspec": {
   "display_name": "Python 3",
   "language": "python",
   "name": "python3"
  },
  "language_info": {
   "codemirror_mode": {
    "name": "ipython",
    "version": 3
   },
   "file_extension": ".py",
   "mimetype": "text/x-python",
   "name": "python",
   "nbconvert_exporter": "python",
   "pygments_lexer": "ipython3",
   "version": "3.7.4"
  }
 },
 "nbformat": 4,
 "nbformat_minor": 2
}
