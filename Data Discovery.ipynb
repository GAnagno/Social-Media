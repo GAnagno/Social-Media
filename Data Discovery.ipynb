{
 "cells": [
  {
   "cell_type": "markdown",
   "metadata": {},
   "source": [
    "# Data Discovery"
   ]
  },
  {
   "cell_type": "code",
   "execution_count": 1,
   "metadata": {},
   "outputs": [],
   "source": [
    "import pandas as pd\n",
    "import datetime as dt\n",
    "import numpy as np\n",
    "import matplotlib.pyplot as plt"
   ]
  },
  {
   "cell_type": "markdown",
   "metadata": {},
   "source": [
    "## Data Understanding"
   ]
  },
  {
   "cell_type": "code",
   "execution_count": 4,
   "metadata": {},
   "outputs": [],
   "source": [
    "# Set month\n",
    "month = 'August'\n",
    "\n",
    "# Set index\n",
    "imonth = '08'"
   ]
  },
  {
   "cell_type": "markdown",
   "metadata": {},
   "source": [
    "https://opentransportdata.swiss/de/dataset/istdaten"
   ]
  },
  {
   "cell_type": "code",
   "execution_count": 5,
   "metadata": {},
   "outputs": [],
   "source": [
    "# Clean data contains every \"stop\" for a month for all swiss railways\n",
    "data_all = pd.read_pickle('data/istdaten/{}/data_clean_2019{}.pkl'.format(month, imonth))"
   ]
  },
  {
   "cell_type": "code",
   "execution_count": 6,
   "metadata": {},
   "outputs": [
    {
     "data": {
      "text/plain": [
       "BETRIEBSTAG            2815013\n",
       "FAHRT_BEZEICHNER       2815013\n",
       "BETREIBER_ABK          2815013\n",
       "PRODUKT_ID             2815013\n",
       "LINIEN_ID              2815013\n",
       "LINIEN_TEXT            2815005\n",
       "VERKEHRSMITTEL_TEXT    2815005\n",
       "ZUSATZFAHRT_TF         2815013\n",
       "FAELLT_AUS_TF          2815013\n",
       "HALTESTELLEN_NAME      2815013\n",
       "ANKUNFTSZEIT           2561757\n",
       "AN_PROGNOSE            2426314\n",
       "AN_PROGNOSE_STATUS     2815013\n",
       "ABFAHRTSZEIT           2561594\n",
       "AB_PROGNOSE            2426184\n",
       "AB_PROGNOSE_STATUS     2815013\n",
       "DURCHFAHRT_TF          2815013\n",
       "dtype: int64"
      ]
     },
     "execution_count": 6,
     "metadata": {},
     "output_type": "execute_result"
    }
   ],
   "source": [
    "# Look at data integrity and size\n",
    "data_all.count()"
   ]
  },
  {
   "cell_type": "code",
   "execution_count": 7,
   "metadata": {},
   "outputs": [
    {
     "data": {
      "text/plain": [
       "Zug    2815013\n",
       "Name: PRODUKT_ID, dtype: int64"
      ]
     },
     "execution_count": 7,
     "metadata": {},
     "output_type": "execute_result"
    }
   ],
   "source": [
    "# Produkt_ID seems to be containing information about the type of public transport\n",
    "data_all['PRODUKT_ID'].value_counts()"
   ]
  },
  {
   "cell_type": "code",
   "execution_count": 8,
   "metadata": {},
   "outputs": [
    {
     "data": {
      "text/html": [
       "<div>\n",
       "<style scoped>\n",
       "    .dataframe tbody tr th:only-of-type {\n",
       "        vertical-align: middle;\n",
       "    }\n",
       "\n",
       "    .dataframe tbody tr th {\n",
       "        vertical-align: top;\n",
       "    }\n",
       "\n",
       "    .dataframe thead th {\n",
       "        text-align: right;\n",
       "    }\n",
       "</style>\n",
       "<table border=\"1\" class=\"dataframe\">\n",
       "  <thead>\n",
       "    <tr style=\"text-align: right;\">\n",
       "      <th></th>\n",
       "      <th>BETRIEBSTAG</th>\n",
       "      <th>FAHRT_BEZEICHNER</th>\n",
       "      <th>BETREIBER_ABK</th>\n",
       "      <th>PRODUKT_ID</th>\n",
       "      <th>LINIEN_ID</th>\n",
       "      <th>LINIEN_TEXT</th>\n",
       "      <th>VERKEHRSMITTEL_TEXT</th>\n",
       "      <th>ZUSATZFAHRT_TF</th>\n",
       "      <th>FAELLT_AUS_TF</th>\n",
       "      <th>HALTESTELLEN_NAME</th>\n",
       "      <th>ANKUNFTSZEIT</th>\n",
       "      <th>AN_PROGNOSE</th>\n",
       "      <th>AN_PROGNOSE_STATUS</th>\n",
       "      <th>ABFAHRTSZEIT</th>\n",
       "      <th>AB_PROGNOSE</th>\n",
       "      <th>AB_PROGNOSE_STATUS</th>\n",
       "      <th>DURCHFAHRT_TF</th>\n",
       "    </tr>\n",
       "  </thead>\n",
       "  <tbody>\n",
       "    <tr>\n",
       "      <td>258</td>\n",
       "      <td>01.08.2019</td>\n",
       "      <td>80:L7____:87875:000</td>\n",
       "      <td>SBB</td>\n",
       "      <td>Zug</td>\n",
       "      <td>87875</td>\n",
       "      <td>S6</td>\n",
       "      <td>S</td>\n",
       "      <td>False</td>\n",
       "      <td>False</td>\n",
       "      <td>Basel Bad Bf</td>\n",
       "      <td>01.08.2019 01:14</td>\n",
       "      <td>NaN</td>\n",
       "      <td>UNBEKANNT</td>\n",
       "      <td>NaN</td>\n",
       "      <td>NaN</td>\n",
       "      <td>PROGNOSE</td>\n",
       "      <td>False</td>\n",
       "    </tr>\n",
       "    <tr>\n",
       "      <td>427</td>\n",
       "      <td>01.08.2019</td>\n",
       "      <td>85:11:100:001</td>\n",
       "      <td>SBB</td>\n",
       "      <td>Zug</td>\n",
       "      <td>100</td>\n",
       "      <td>ICE</td>\n",
       "      <td>ICE</td>\n",
       "      <td>False</td>\n",
       "      <td>False</td>\n",
       "      <td>Basel SBB</td>\n",
       "      <td>NaN</td>\n",
       "      <td>NaN</td>\n",
       "      <td>PROGNOSE</td>\n",
       "      <td>01.08.2019 19:13</td>\n",
       "      <td>01.08.2019 19:15:06</td>\n",
       "      <td>REAL</td>\n",
       "      <td>False</td>\n",
       "    </tr>\n",
       "    <tr>\n",
       "      <td>428</td>\n",
       "      <td>01.08.2019</td>\n",
       "      <td>85:11:100:001</td>\n",
       "      <td>SBB</td>\n",
       "      <td>Zug</td>\n",
       "      <td>100</td>\n",
       "      <td>ICE</td>\n",
       "      <td>ICE</td>\n",
       "      <td>False</td>\n",
       "      <td>False</td>\n",
       "      <td>Basel Bad Bf</td>\n",
       "      <td>01.08.2019 19:19</td>\n",
       "      <td>01.08.2019 19:20:26</td>\n",
       "      <td>PROGNOSE</td>\n",
       "      <td>01.08.2019 19:23</td>\n",
       "      <td>01.08.2019 19:23:24</td>\n",
       "      <td>PROGNOSE</td>\n",
       "      <td>False</td>\n",
       "    </tr>\n",
       "    <tr>\n",
       "      <td>429</td>\n",
       "      <td>01.08.2019</td>\n",
       "      <td>85:11:1007:001</td>\n",
       "      <td>SBB</td>\n",
       "      <td>Zug</td>\n",
       "      <td>1007</td>\n",
       "      <td>IC4</td>\n",
       "      <td>IC</td>\n",
       "      <td>False</td>\n",
       "      <td>False</td>\n",
       "      <td>Schaffhausen</td>\n",
       "      <td>NaN</td>\n",
       "      <td>NaN</td>\n",
       "      <td>PROGNOSE</td>\n",
       "      <td>01.08.2019 05:47</td>\n",
       "      <td>01.08.2019 05:47:42</td>\n",
       "      <td>REAL</td>\n",
       "      <td>False</td>\n",
       "    </tr>\n",
       "    <tr>\n",
       "      <td>430</td>\n",
       "      <td>01.08.2019</td>\n",
       "      <td>85:11:1007:001</td>\n",
       "      <td>SBB</td>\n",
       "      <td>Zug</td>\n",
       "      <td>1007</td>\n",
       "      <td>IC4</td>\n",
       "      <td>IC</td>\n",
       "      <td>False</td>\n",
       "      <td>False</td>\n",
       "      <td>Zürich HB</td>\n",
       "      <td>01.08.2019 06:23</td>\n",
       "      <td>01.08.2019 06:24:46</td>\n",
       "      <td>REAL</td>\n",
       "      <td>NaN</td>\n",
       "      <td>NaN</td>\n",
       "      <td>PROGNOSE</td>\n",
       "      <td>False</td>\n",
       "    </tr>\n",
       "  </tbody>\n",
       "</table>\n",
       "</div>"
      ],
      "text/plain": [
       "    BETRIEBSTAG     FAHRT_BEZEICHNER BETREIBER_ABK PRODUKT_ID LINIEN_ID  \\\n",
       "258  01.08.2019  80:L7____:87875:000           SBB        Zug     87875   \n",
       "427  01.08.2019        85:11:100:001           SBB        Zug       100   \n",
       "428  01.08.2019        85:11:100:001           SBB        Zug       100   \n",
       "429  01.08.2019       85:11:1007:001           SBB        Zug      1007   \n",
       "430  01.08.2019       85:11:1007:001           SBB        Zug      1007   \n",
       "\n",
       "    LINIEN_TEXT VERKEHRSMITTEL_TEXT  ZUSATZFAHRT_TF  FAELLT_AUS_TF  \\\n",
       "258          S6                   S           False          False   \n",
       "427         ICE                 ICE           False          False   \n",
       "428         ICE                 ICE           False          False   \n",
       "429         IC4                  IC           False          False   \n",
       "430         IC4                  IC           False          False   \n",
       "\n",
       "    HALTESTELLEN_NAME      ANKUNFTSZEIT          AN_PROGNOSE  \\\n",
       "258      Basel Bad Bf  01.08.2019 01:14                  NaN   \n",
       "427         Basel SBB               NaN                  NaN   \n",
       "428      Basel Bad Bf  01.08.2019 19:19  01.08.2019 19:20:26   \n",
       "429      Schaffhausen               NaN                  NaN   \n",
       "430         Zürich HB  01.08.2019 06:23  01.08.2019 06:24:46   \n",
       "\n",
       "    AN_PROGNOSE_STATUS      ABFAHRTSZEIT          AB_PROGNOSE  \\\n",
       "258          UNBEKANNT               NaN                  NaN   \n",
       "427           PROGNOSE  01.08.2019 19:13  01.08.2019 19:15:06   \n",
       "428           PROGNOSE  01.08.2019 19:23  01.08.2019 19:23:24   \n",
       "429           PROGNOSE  01.08.2019 05:47  01.08.2019 05:47:42   \n",
       "430               REAL               NaN                  NaN   \n",
       "\n",
       "    AB_PROGNOSE_STATUS DURCHFAHRT_TF  \n",
       "258           PROGNOSE         False  \n",
       "427               REAL         False  \n",
       "428           PROGNOSE         False  \n",
       "429               REAL         False  \n",
       "430           PROGNOSE         False  "
      ]
     },
     "execution_count": 8,
     "metadata": {},
     "output_type": "execute_result"
    }
   ],
   "source": [
    "data_all.head()"
   ]
  },
  {
   "cell_type": "code",
   "execution_count": 9,
   "metadata": {},
   "outputs": [
    {
     "data": {
      "text/plain": [
       "(15488,)"
      ]
     },
     "execution_count": 9,
     "metadata": {},
     "output_type": "execute_result"
    }
   ],
   "source": [
    "data_all['LINIEN_ID'].unique().shape"
   ]
  },
  {
   "cell_type": "code",
   "execution_count": 10,
   "metadata": {},
   "outputs": [],
   "source": [
    "def plot_value_counts_pie_chart(df_col, title_upperpart):\n",
    "    \"\"\"\n",
    "    function takes a column of a dataframe as input and makes a pie chart out of it,\n",
    "    based on the value_counts function. title_upperpart is also provided to give the \n",
    "    plto a title\n",
    "    \"\"\"\n",
    "    plt.figure()\n",
    "    df_size = len(df_col)\n",
    "    print(df_size)\n",
    "    y=df_col.value_counts().values\n",
    "    for item in y:\n",
    "        print(item/df_size)\n",
    "    df_col.value_counts().plot(\n",
    "        kind='pie',\n",
    "        explode=explode,\n",
    "        y=df_col.value_counts().values,\n",
    "        legend=False,\n",
    "        autopct='%1.1f%%',\n",
    "        startangle=0,\n",
    "        shadow=False,\n",
    "        label='',\n",
    "        title=title_upperpart + ', \\n total: ' + str(df_size) +\n",
    "        ' stops (13th September 2019)',\n",
    "        figsize=(10, 10))"
   ]
  },
  {
   "cell_type": "code",
   "execution_count": 11,
   "metadata": {},
   "outputs": [
    {
     "name": "stdout",
     "output_type": "stream",
     "text": [
      "2815013\n",
      "1.0\n"
     ]
    },
    {
     "data": {
      "image/png": "[encoded data removed]",
      "text/plain": [
       "<Figure size 720x720 with 1 Axes>"
      ]
     },
     "metadata": {},
     "output_type": "display_data"
    }
   ],
   "source": [
    "explode = list(\n",
    "    np.true_divide(\n",
    "        np.logspace(-1.2, 1.2, data_all['PRODUKT_ID'].value_counts().shape[0]), 4))\n",
    "plot_value_counts_pie_chart(data_all['PRODUKT_ID'],\n",
    "                            '\"Stops\" distribution per transport type')"
   ]
  },
  {
   "cell_type": "code",
   "execution_count": 12,
   "metadata": {},
   "outputs": [],
   "source": [
    "# Keep only trains data (Zug is train in german)\n",
    "data_train = data_all[data_all['PRODUKT_ID'] == 'Zug']"
   ]
  },
  {
   "cell_type": "code",
   "execution_count": 13,
   "metadata": {},
   "outputs": [
    {
     "data": {
      "text/plain": [
       "array(['SBB', 'BLS-bls', 'THURBO'], dtype=object)"
      ]
     },
     "execution_count": 13,
     "metadata": {},
     "output_type": "execute_result"
    }
   ],
   "source": [
    "pd.unique(data_train['BETREIBER_ABK'])"
   ]
  },
  {
   "cell_type": "code",
   "execution_count": 16,
   "metadata": {},
   "outputs": [
    {
     "name": "stdout",
     "output_type": "stream",
     "text": [
      "2815013\n",
      "0.6911342860583592\n",
      "0.16536264663786632\n",
      "0.14350306730377443\n"
     ]
    },
    {
     "data": {
      "image/png": "[encoded data removed]",
      "text/plain": [
       "<Figure size 720x720 with 1 Axes>"
      ]
     },
     "metadata": {},
     "output_type": "display_data"
    }
   ],
   "source": [
    "explode = list(\n",
    "    np.true_divide(\n",
    "        np.logspace(-1.2, 1.2, data_train['BETREIBER_ABK'].value_counts().shape[0]), 4))\n",
    "plot_value_counts_pie_chart(data_train['BETREIBER_ABK'],\n",
    "                            'Train \"Stops\" per operator type')"
   ]
  },
  {
   "cell_type": "code",
   "execution_count": 17,
   "metadata": {},
   "outputs": [],
   "source": [
    "# Keep only trains operated by SBB\n",
    "data_train_SBB = data_train[data_train['BETREIBER_ABK'] == 'SBB']"
   ]
  },
  {
   "cell_type": "code",
   "execution_count": 18,
   "metadata": {},
   "outputs": [
    {
     "name": "stdout",
     "output_type": "stream",
     "text": [
      "1945552\n",
      "0.6960189190522793\n",
      "0.0878727476829198\n",
      "0.0810063159452947\n",
      "0.0696090364071482\n",
      "0.04601881625369047\n",
      "0.00468144773308552\n",
      "0.003937699943255179\n",
      "0.0034524906042089853\n",
      "0.002917937942547925\n",
      "0.0018812141746918098\n",
      "0.0008881798070676086\n",
      "0.0006579109681982286\n",
      "0.0005355806475488704\n",
      "0.0003274135052673997\n",
      "0.00013980608074212357\n",
      "2.621364013914817e-05\n",
      "1.4905795373241116e-05\n",
      "4.111943551238928e-06\n",
      "2.055971775619464e-06\n",
      "1.5419788317145983e-06\n",
      "1.027985887809732e-06\n",
      "5.13992943904866e-07\n"
     ]
    },
    {
     "data": {
      "image/png": "[encoded data removed]",
      "text/plain": [
       "<Figure size 720x720 with 1 Axes>"
      ]
     },
     "metadata": {},
     "output_type": "display_data"
    }
   ],
   "source": [
    "explode = list(\n",
    "    np.true_divide(\n",
    "        np.logspace(-1.2, 1.2, data_train_SBB['VERKEHRSMITTEL_TEXT'].value_counts().shape[0]), 4))\n",
    "plot_value_counts_pie_chart(data_train_SBB['VERKEHRSMITTEL_TEXT'],\n",
    "                            'Train \"Stops\" per train type')"
   ]
  },
  {
   "cell_type": "code",
   "execution_count": 19,
   "metadata": {},
   "outputs": [
    {
     "data": {
      "text/html": [
       "<div>\n",
       "<style scoped>\n",
       "    .dataframe tbody tr th:only-of-type {\n",
       "        vertical-align: middle;\n",
       "    }\n",
       "\n",
       "    .dataframe tbody tr th {\n",
       "        vertical-align: top;\n",
       "    }\n",
       "\n",
       "    .dataframe thead th {\n",
       "        text-align: right;\n",
       "    }\n",
       "</style>\n",
       "<table border=\"1\" class=\"dataframe\">\n",
       "  <thead>\n",
       "    <tr style=\"text-align: right;\">\n",
       "      <th></th>\n",
       "      <th>BETRIEBSTAG</th>\n",
       "      <th>FAHRT_BEZEICHNER</th>\n",
       "      <th>BETREIBER_ABK</th>\n",
       "      <th>PRODUKT_ID</th>\n",
       "      <th>LINIEN_ID</th>\n",
       "      <th>LINIEN_TEXT</th>\n",
       "      <th>VERKEHRSMITTEL_TEXT</th>\n",
       "      <th>HALTESTELLEN_NAME</th>\n",
       "      <th>ANKUNFTSZEIT</th>\n",
       "      <th>AN_PROGNOSE</th>\n",
       "      <th>AN_PROGNOSE_STATUS</th>\n",
       "      <th>ABFAHRTSZEIT</th>\n",
       "      <th>AB_PROGNOSE</th>\n",
       "      <th>AB_PROGNOSE_STATUS</th>\n",
       "      <th>DURCHFAHRT_TF</th>\n",
       "    </tr>\n",
       "  </thead>\n",
       "  <tbody>\n",
       "    <tr>\n",
       "      <td>count</td>\n",
       "      <td>1945552</td>\n",
       "      <td>1945552</td>\n",
       "      <td>1945552</td>\n",
       "      <td>1945552</td>\n",
       "      <td>1945552</td>\n",
       "      <td>1945544</td>\n",
       "      <td>1945544</td>\n",
       "      <td>1945552</td>\n",
       "      <td>1771818</td>\n",
       "      <td>1666076</td>\n",
       "      <td>1945552</td>\n",
       "      <td>1771728</td>\n",
       "      <td>1666028</td>\n",
       "      <td>1945552</td>\n",
       "      <td>1945552</td>\n",
       "    </tr>\n",
       "    <tr>\n",
       "      <td>unique</td>\n",
       "      <td>31</td>\n",
       "      <td>9571</td>\n",
       "      <td>1</td>\n",
       "      <td>1</td>\n",
       "      <td>12334</td>\n",
       "      <td>87</td>\n",
       "      <td>22</td>\n",
       "      <td>663</td>\n",
       "      <td>41638</td>\n",
       "      <td>1171590</td>\n",
       "      <td>3</td>\n",
       "      <td>41684</td>\n",
       "      <td>1157874</td>\n",
       "      <td>3</td>\n",
       "      <td>2</td>\n",
       "    </tr>\n",
       "    <tr>\n",
       "      <td>top</td>\n",
       "      <td>23.08.2019</td>\n",
       "      <td>85:11:24289:001</td>\n",
       "      <td>SBB</td>\n",
       "      <td>Zug</td>\n",
       "      <td>20423</td>\n",
       "      <td>R</td>\n",
       "      <td>S</td>\n",
       "      <td>Zürich HB</td>\n",
       "      <td>23.08.2019 17:24</td>\n",
       "      <td>24.08.2019 07:27:26</td>\n",
       "      <td>REAL</td>\n",
       "      <td>25.08.2019 17:39</td>\n",
       "      <td>05.08.2019 08:32:06</td>\n",
       "      <td>REAL</td>\n",
       "      <td>False</td>\n",
       "    </tr>\n",
       "    <tr>\n",
       "      <td>freq</td>\n",
       "      <td>65437</td>\n",
       "      <td>961</td>\n",
       "      <td>1945552</td>\n",
       "      <td>1945552</td>\n",
       "      <td>839</td>\n",
       "      <td>170961</td>\n",
       "      <td>1354141</td>\n",
       "      <td>60880</td>\n",
       "      <td>79</td>\n",
       "      <td>9</td>\n",
       "      <td>1590992</td>\n",
       "      <td>76</td>\n",
       "      <td>15</td>\n",
       "      <td>1594891</td>\n",
       "      <td>1945446</td>\n",
       "    </tr>\n",
       "  </tbody>\n",
       "</table>\n",
       "</div>"
      ],
      "text/plain": [
       "       BETRIEBSTAG FAHRT_BEZEICHNER BETREIBER_ABK PRODUKT_ID  LINIEN_ID  \\\n",
       "count      1945552          1945552       1945552    1945552    1945552   \n",
       "unique          31             9571             1          1      12334   \n",
       "top     23.08.2019  85:11:24289:001           SBB        Zug      20423   \n",
       "freq         65437              961       1945552    1945552        839   \n",
       "\n",
       "       LINIEN_TEXT VERKEHRSMITTEL_TEXT HALTESTELLEN_NAME      ANKUNFTSZEIT  \\\n",
       "count      1945544             1945544           1945552           1771818   \n",
       "unique          87                  22               663             41638   \n",
       "top              R                   S         Zürich HB  23.08.2019 17:24   \n",
       "freq        170961             1354141             60880                79   \n",
       "\n",
       "                AN_PROGNOSE AN_PROGNOSE_STATUS      ABFAHRTSZEIT  \\\n",
       "count               1666076            1945552           1771728   \n",
       "unique              1171590                  3             41684   \n",
       "top     24.08.2019 07:27:26               REAL  25.08.2019 17:39   \n",
       "freq                      9            1590992                76   \n",
       "\n",
       "                AB_PROGNOSE AB_PROGNOSE_STATUS DURCHFAHRT_TF  \n",
       "count               1666028            1945552       1945552  \n",
       "unique              1157874                  3             2  \n",
       "top     05.08.2019 08:32:06               REAL         False  \n",
       "freq                     15            1594891       1945446  "
      ]
     },
     "execution_count": 19,
     "metadata": {},
     "output_type": "execute_result"
    }
   ],
   "source": [
    "# Take a look at the data, to understand its size\n",
    "data_train_SBB.describe(include='object')"
   ]
  },
  {
   "cell_type": "code",
   "execution_count": 20,
   "metadata": {},
   "outputs": [
    {
     "data": {
      "text/html": [
       "<div>\n",
       "<style scoped>\n",
       "    .dataframe tbody tr th:only-of-type {\n",
       "        vertical-align: middle;\n",
       "    }\n",
       "\n",
       "    .dataframe tbody tr th {\n",
       "        vertical-align: top;\n",
       "    }\n",
       "\n",
       "    .dataframe thead th {\n",
       "        text-align: right;\n",
       "    }\n",
       "</style>\n",
       "<table border=\"1\" class=\"dataframe\">\n",
       "  <thead>\n",
       "    <tr style=\"text-align: right;\">\n",
       "      <th></th>\n",
       "      <th>BETRIEBSTAG</th>\n",
       "      <th>FAHRT_BEZEICHNER</th>\n",
       "      <th>BETREIBER_ABK</th>\n",
       "      <th>PRODUKT_ID</th>\n",
       "      <th>LINIEN_ID</th>\n",
       "      <th>LINIEN_TEXT</th>\n",
       "      <th>VERKEHRSMITTEL_TEXT</th>\n",
       "      <th>ZUSATZFAHRT_TF</th>\n",
       "      <th>FAELLT_AUS_TF</th>\n",
       "      <th>HALTESTELLEN_NAME</th>\n",
       "      <th>ANKUNFTSZEIT</th>\n",
       "      <th>AN_PROGNOSE</th>\n",
       "      <th>AN_PROGNOSE_STATUS</th>\n",
       "      <th>ABFAHRTSZEIT</th>\n",
       "      <th>AB_PROGNOSE</th>\n",
       "      <th>AB_PROGNOSE_STATUS</th>\n",
       "      <th>DURCHFAHRT_TF</th>\n",
       "    </tr>\n",
       "  </thead>\n",
       "  <tbody>\n",
       "    <tr>\n",
       "      <td>38739</td>\n",
       "      <td>01.08.2019</td>\n",
       "      <td>85:11:24289:001</td>\n",
       "      <td>SBB</td>\n",
       "      <td>Zug</td>\n",
       "      <td>24289</td>\n",
       "      <td>S2</td>\n",
       "      <td>S</td>\n",
       "      <td>False</td>\n",
       "      <td>False</td>\n",
       "      <td>Vallorbe</td>\n",
       "      <td>NaN</td>\n",
       "      <td>NaN</td>\n",
       "      <td>PROGNOSE</td>\n",
       "      <td>01.08.2019 22:10</td>\n",
       "      <td>01.08.2019 22:19:42</td>\n",
       "      <td>REAL</td>\n",
       "      <td>False</td>\n",
       "    </tr>\n",
       "    <tr>\n",
       "      <td>38740</td>\n",
       "      <td>01.08.2019</td>\n",
       "      <td>85:11:24289:001</td>\n",
       "      <td>SBB</td>\n",
       "      <td>Zug</td>\n",
       "      <td>24289</td>\n",
       "      <td>S2</td>\n",
       "      <td>S</td>\n",
       "      <td>False</td>\n",
       "      <td>False</td>\n",
       "      <td>Le Day</td>\n",
       "      <td>01.08.2019 22:14</td>\n",
       "      <td>01.08.2019 22:22:38</td>\n",
       "      <td>REAL</td>\n",
       "      <td>01.08.2019 22:14</td>\n",
       "      <td>01.08.2019 22:23:40</td>\n",
       "      <td>REAL</td>\n",
       "      <td>False</td>\n",
       "    </tr>\n",
       "    <tr>\n",
       "      <td>38741</td>\n",
       "      <td>01.08.2019</td>\n",
       "      <td>85:11:24289:001</td>\n",
       "      <td>SBB</td>\n",
       "      <td>Zug</td>\n",
       "      <td>24289</td>\n",
       "      <td>S2</td>\n",
       "      <td>S</td>\n",
       "      <td>False</td>\n",
       "      <td>False</td>\n",
       "      <td>Bretonnières</td>\n",
       "      <td>01.08.2019 22:20</td>\n",
       "      <td>01.08.2019 22:29:35</td>\n",
       "      <td>REAL</td>\n",
       "      <td>01.08.2019 22:20</td>\n",
       "      <td>01.08.2019 22:30:55</td>\n",
       "      <td>REAL</td>\n",
       "      <td>False</td>\n",
       "    </tr>\n",
       "    <tr>\n",
       "      <td>38742</td>\n",
       "      <td>01.08.2019</td>\n",
       "      <td>85:11:24289:001</td>\n",
       "      <td>SBB</td>\n",
       "      <td>Zug</td>\n",
       "      <td>24289</td>\n",
       "      <td>S2</td>\n",
       "      <td>S</td>\n",
       "      <td>False</td>\n",
       "      <td>False</td>\n",
       "      <td>Croy-Romainmôtier</td>\n",
       "      <td>01.08.2019 22:22</td>\n",
       "      <td>01.08.2019 22:31:50</td>\n",
       "      <td>REAL</td>\n",
       "      <td>01.08.2019 22:22</td>\n",
       "      <td>01.08.2019 22:32:23</td>\n",
       "      <td>REAL</td>\n",
       "      <td>False</td>\n",
       "    </tr>\n",
       "    <tr>\n",
       "      <td>38743</td>\n",
       "      <td>01.08.2019</td>\n",
       "      <td>85:11:24289:001</td>\n",
       "      <td>SBB</td>\n",
       "      <td>Zug</td>\n",
       "      <td>24289</td>\n",
       "      <td>S2</td>\n",
       "      <td>S</td>\n",
       "      <td>False</td>\n",
       "      <td>False</td>\n",
       "      <td>Arnex</td>\n",
       "      <td>01.08.2019 22:27</td>\n",
       "      <td>01.08.2019 22:33:23</td>\n",
       "      <td>REAL</td>\n",
       "      <td>01.08.2019 22:27</td>\n",
       "      <td>01.08.2019 22:39:56</td>\n",
       "      <td>REAL</td>\n",
       "      <td>False</td>\n",
       "    </tr>\n",
       "  </tbody>\n",
       "</table>\n",
       "</div>"
      ],
      "text/plain": [
       "      BETRIEBSTAG FAHRT_BEZEICHNER BETREIBER_ABK PRODUKT_ID LINIEN_ID  \\\n",
       "38739  01.08.2019  85:11:24289:001           SBB        Zug     24289   \n",
       "38740  01.08.2019  85:11:24289:001           SBB        Zug     24289   \n",
       "38741  01.08.2019  85:11:24289:001           SBB        Zug     24289   \n",
       "38742  01.08.2019  85:11:24289:001           SBB        Zug     24289   \n",
       "38743  01.08.2019  85:11:24289:001           SBB        Zug     24289   \n",
       "\n",
       "      LINIEN_TEXT VERKEHRSMITTEL_TEXT  ZUSATZFAHRT_TF  FAELLT_AUS_TF  \\\n",
       "38739          S2                   S           False          False   \n",
       "38740          S2                   S           False          False   \n",
       "38741          S2                   S           False          False   \n",
       "38742          S2                   S           False          False   \n",
       "38743          S2                   S           False          False   \n",
       "\n",
       "       HALTESTELLEN_NAME      ANKUNFTSZEIT          AN_PROGNOSE  \\\n",
       "38739           Vallorbe               NaN                  NaN   \n",
       "38740             Le Day  01.08.2019 22:14  01.08.2019 22:22:38   \n",
       "38741       Bretonnières  01.08.2019 22:20  01.08.2019 22:29:35   \n",
       "38742  Croy-Romainmôtier  01.08.2019 22:22  01.08.2019 22:31:50   \n",
       "38743              Arnex  01.08.2019 22:27  01.08.2019 22:33:23   \n",
       "\n",
       "      AN_PROGNOSE_STATUS      ABFAHRTSZEIT          AB_PROGNOSE  \\\n",
       "38739           PROGNOSE  01.08.2019 22:10  01.08.2019 22:19:42   \n",
       "38740               REAL  01.08.2019 22:14  01.08.2019 22:23:40   \n",
       "38741               REAL  01.08.2019 22:20  01.08.2019 22:30:55   \n",
       "38742               REAL  01.08.2019 22:22  01.08.2019 22:32:23   \n",
       "38743               REAL  01.08.2019 22:27  01.08.2019 22:39:56   \n",
       "\n",
       "      AB_PROGNOSE_STATUS DURCHFAHRT_TF  \n",
       "38739               REAL         False  \n",
       "38740               REAL         False  \n",
       "38741               REAL         False  \n",
       "38742               REAL         False  \n",
       "38743               REAL         False  "
      ]
     },
     "execution_count": 20,
     "metadata": {},
     "output_type": "execute_result"
    }
   ],
   "source": [
    "# Example of a route\n",
    "data_train_SBB.loc[data_train_SBB['FAHRT_BEZEICHNER'] == '85:11:24289:001'].head()"
   ]
  },
  {
   "cell_type": "code",
   "execution_count": 21,
   "metadata": {},
   "outputs": [],
   "source": [
    "from geopy.geocoders import Nominatim"
   ]
  },
  {
   "cell_type": "code",
   "execution_count": 134,
   "metadata": {},
   "outputs": [],
   "source": [
    "geolocator = Nominatim(user_agent=\"https://ganagno.github.io/\",country_bias='Schweiz')"
   ]
  },
  {
   "cell_type": "code",
   "execution_count": 141,
   "metadata": {},
   "outputs": [
    {
     "name": "stdout",
     "output_type": "stream",
     "text": [
      "Schweiz/Suisse/Svizzera/Svizra\n"
     ]
    }
   ],
   "source": [
    "origin = geolocator.geocode('Schweiz')\n",
    "print(origin)"
   ]
  },
  {
   "cell_type": "code",
   "execution_count": 151,
   "metadata": {},
   "outputs": [
    {
     "name": "stdout",
     "output_type": "stream",
     "text": [
      "Le Day, District du Jura-Nord vaudois, Vaud, 1337, Schweiz/Suisse/Svizzera/Svizra\n"
     ]
    }
   ],
   "source": [
    "location = geolocator.geocode('Le Day, Schweiz/Suisse/Svizzera/Svizra')\n",
    "print(location)"
   ]
  },
  {
   "cell_type": "code",
   "execution_count": 142,
   "metadata": {},
   "outputs": [],
   "source": [
    "spots = np.unique(data_train_SBB.loc[data_train_SBB['FAHRT_BEZEICHNER'] == '85:11:24289:001']['HALTESTELLEN_NAME'].values)"
   ]
  },
  {
   "cell_type": "code",
   "execution_count": 143,
   "metadata": {},
   "outputs": [
    {
     "data": {
      "text/plain": [
       "array(['Aigle', 'Arnex', 'Bex', 'Bretonnières', 'Burier', 'Bussigny',\n",
       "       'Clarens', 'Cossonay-Penthalaz', 'Croy-Romainmôtier', 'Cully',\n",
       "       'Epesses', 'La Sarraz', 'La Tour-de-Peilz', 'Lausanne', 'Le Day',\n",
       "       'Lutry', 'Montreux', 'Prilly-Malley', 'Pully', 'Renens VD',\n",
       "       'Rivaz', 'Roche VD', 'St-Maurice', 'St-Saphorin', 'Territet',\n",
       "       'Vallorbe', 'Vevey', 'Veytaux-Chillon', 'Villeneuve',\n",
       "       'Villette VD', 'Vufflens-la-Ville'], dtype=object)"
      ]
     },
     "execution_count": 143,
     "metadata": {},
     "output_type": "execute_result"
    }
   ],
   "source": [
    "spots"
   ]
  },
  {
   "cell_type": "code",
   "execution_count": 160,
   "metadata": {},
   "outputs": [],
   "source": [
    "locations=[]"
   ]
  },
  {
   "cell_type": "code",
   "execution_count": 161,
   "metadata": {},
   "outputs": [
    {
     "name": "stdout",
     "output_type": "stream",
     "text": [
      "Aigle, District d'Aigle, Vaud, 1860, Schweiz/Suisse/Svizzera/Svizra\n",
      "Arnex, District du Jura-Nord vaudois, Vaud, 1321, Schweiz/Suisse/Svizzera/Svizra\n",
      "Bex, District d'Aigle, Vaud, 1880, Schweiz/Suisse/Svizzera/Svizra\n",
      "Bretonnières, District du Jura-Nord vaudois, Vaud, 1329, Schweiz/Suisse/Svizzera/Svizra\n",
      "Burier, La Tour-de-Peilz, District de la Riviera-Pays-d’Enhaut, Vaud, 1814, Schweiz/Suisse/Svizzera/Svizra\n",
      "Bussigny-sur-Oron, Bussigny, District de Lavaux-Oron, Vaud, 1608, Schweiz/Suisse/Svizzera/Svizra\n",
      "Clarens, District de la Riviera-Pays-d’Enhaut, Vaud, 1815, Schweiz/Suisse/Svizzera/Svizra\n",
      "Cossonay-Penthalaz, Route de Gollion, Penthalaz, District du Gros-de-Vaud, Vaud, 1305, Schweiz/Suisse/Svizzera/Svizra\n",
      "Croy-Romainmôtier, 11, La Riettaz, Romainmôtier-Envy, District du Jura-Nord vaudois, Vaud, 1323, Schweiz/Suisse/Svizzera/Svizra\n",
      "Cully, Bourg-en-Lavaux, District de Lavaux-Oron, Vaud, 1096, Schweiz/Suisse/Svizzera/Svizra\n",
      "Epesses, District de Lavaux-Oron, Vaud, 1098, Schweiz/Suisse/Svizzera/Svizra\n",
      "La Sarraz, District de Morges, Vaud, 1315, Schweiz/Suisse/Svizzera/Svizra\n",
      "La Tour-de-Peilz, District de la Riviera-Pays-d’Enhaut, Vaud, 1814, Schweiz/Suisse/Svizzera/Svizra\n",
      "Lausanne, District de Lausanne, Vaud, Switzerland\n",
      "Le Day, District du Jura-Nord vaudois, Vaud, 1337, Schweiz/Suisse/Svizzera/Svizra\n",
      "Lutry, District de Lavaux-Oron, Vaud, Schweiz/Suisse/Svizzera/Svizra\n",
      "Montreux, District de la Riviera-Pays-d’Enhaut, Vaud, Schweiz/Suisse/Svizzera/Svizra\n",
      "Prilly-Malley, Chemin des Bouchers, Prilly, District de l'Ouest lausannois, Vaud, 1008, Schweiz/Suisse/Svizzera/Svizra\n",
      "Pully, District de Lavaux-Oron, Vaud, Schweiz/Suisse/Svizzera/Svizra\n",
      "Renens, District de l'Ouest lausannois, Vaud, 1020, Schweiz/Suisse/Svizzera/Svizra\n",
      "Rivaz, District de Lavaux-Oron, Vaud, 1071, Schweiz/Suisse/Svizzera/Svizra\n",
      "Roche (VD), District d'Aigle, Vaud, 1852, Schweiz/Suisse/Svizzera/Svizra\n",
      "Saint-Maurice, Valais/Wallis, 1890, Schweiz/Suisse/Svizzera/Svizra\n",
      "Saint-Saphorin-sur-Morges, Saint-Saphorin, District de Morges, Vaud, 1113, Schweiz/Suisse/Svizzera/Svizra\n",
      "Territet, District de la Riviera-Pays-d’Enhaut, Vaud, 1823, Schweiz/Suisse/Svizzera/Svizra\n",
      "Vallorbe, Route du Tunnel, Vallorbe, District du Jura-Nord vaudois, Vaud, 1337, Schweiz/Suisse/Svizzera/Svizra\n",
      "Vevey, District de la Riviera-Pays-d’Enhaut, Vaud, 1800, Schweiz/Suisse/Svizzera/Svizra\n",
      "Veytaux-Chillon, Quai Alfred Chatelanat, Le Petit-Veytaux, Belcrêt, Veytaux, District de la Riviera-Pays-d’Enhaut, Vaud, 1820, Switzerland\n",
      "Villeneuve, District d'Aigle, Vaud, 1844, Schweiz/Suisse/Svizzera/Svizra\n",
      "La Villette, District du Jura-Nord vaudois, Vaud, 1452, Schweiz/Suisse/Svizzera/Svizra\n",
      "Vufflens-la-Ville, District du Gros-de-Vaud, Vaud, 1302, Schweiz/Suisse/Svizzera/Svizra\n"
     ]
    }
   ],
   "source": [
    "for spot in spots:\n",
    "    location = geolocator.geocode('{}, Schweiz/Suisse/Svizzera/Svizra'.format(spot))\n",
    "    print(location)\n",
    "    locations.append(location)"
   ]
  },
  {
   "cell_type": "code",
   "execution_count": 163,
   "metadata": {},
   "outputs": [],
   "source": [
    "df = pd.DataFrame()"
   ]
  },
  {
   "cell_type": "code",
   "execution_count": 164,
   "metadata": {},
   "outputs": [],
   "source": [
    "# intialise data of lists.\n",
    "data = {\n",
    "        'latitude':[location.latitude for location in locations],\n",
    "        'longitude':[location.longitude for location in locations]\n",
    "       }"
   ]
  },
  {
   "cell_type": "code",
   "execution_count": 165,
   "metadata": {},
   "outputs": [
    {
     "data": {
      "text/html": [
       "<div>\n",
       "<style scoped>\n",
       "    .dataframe tbody tr th:only-of-type {\n",
       "        vertical-align: middle;\n",
       "    }\n",
       "\n",
       "    .dataframe tbody tr th {\n",
       "        vertical-align: top;\n",
       "    }\n",
       "\n",
       "    .dataframe thead th {\n",
       "        text-align: right;\n",
       "    }\n",
       "</style>\n",
       "<table border=\"1\" class=\"dataframe\">\n",
       "  <thead>\n",
       "    <tr style=\"text-align: right;\">\n",
       "      <th></th>\n",
       "      <th>latitude</th>\n",
       "      <th>longitude</th>\n",
       "    </tr>\n",
       "  </thead>\n",
       "  <tbody>\n",
       "    <tr>\n",
       "      <td>0</td>\n",
       "      <td>46.317901</td>\n",
       "      <td>6.968893</td>\n",
       "    </tr>\n",
       "    <tr>\n",
       "      <td>1</td>\n",
       "      <td>46.694159</td>\n",
       "      <td>6.518752</td>\n",
       "    </tr>\n",
       "    <tr>\n",
       "      <td>2</td>\n",
       "      <td>46.251378</td>\n",
       "      <td>7.012388</td>\n",
       "    </tr>\n",
       "    <tr>\n",
       "      <td>3</td>\n",
       "      <td>46.712238</td>\n",
       "      <td>6.473491</td>\n",
       "    </tr>\n",
       "    <tr>\n",
       "      <td>4</td>\n",
       "      <td>46.449612</td>\n",
       "      <td>6.881897</td>\n",
       "    </tr>\n",
       "    <tr>\n",
       "      <td>5</td>\n",
       "      <td>46.569770</td>\n",
       "      <td>6.862843</td>\n",
       "    </tr>\n",
       "    <tr>\n",
       "      <td>6</td>\n",
       "      <td>46.441112</td>\n",
       "      <td>6.893060</td>\n",
       "    </tr>\n",
       "    <tr>\n",
       "      <td>7</td>\n",
       "      <td>46.605819</td>\n",
       "      <td>6.523085</td>\n",
       "    </tr>\n",
       "    <tr>\n",
       "      <td>8</td>\n",
       "      <td>46.696692</td>\n",
       "      <td>6.478088</td>\n",
       "    </tr>\n",
       "    <tr>\n",
       "      <td>9</td>\n",
       "      <td>46.500736</td>\n",
       "      <td>6.731724</td>\n",
       "    </tr>\n",
       "    <tr>\n",
       "      <td>10</td>\n",
       "      <td>46.491326</td>\n",
       "      <td>6.747592</td>\n",
       "    </tr>\n",
       "    <tr>\n",
       "      <td>11</td>\n",
       "      <td>46.659058</td>\n",
       "      <td>6.512445</td>\n",
       "    </tr>\n",
       "    <tr>\n",
       "      <td>12</td>\n",
       "      <td>46.453752</td>\n",
       "      <td>6.856906</td>\n",
       "    </tr>\n",
       "    <tr>\n",
       "      <td>13</td>\n",
       "      <td>46.521827</td>\n",
       "      <td>6.632702</td>\n",
       "    </tr>\n",
       "    <tr>\n",
       "      <td>14</td>\n",
       "      <td>46.716387</td>\n",
       "      <td>6.399459</td>\n",
       "    </tr>\n",
       "    <tr>\n",
       "      <td>15</td>\n",
       "      <td>46.503277</td>\n",
       "      <td>6.686788</td>\n",
       "    </tr>\n",
       "    <tr>\n",
       "      <td>16</td>\n",
       "      <td>46.431083</td>\n",
       "      <td>6.912992</td>\n",
       "    </tr>\n",
       "    <tr>\n",
       "      <td>17</td>\n",
       "      <td>46.526710</td>\n",
       "      <td>6.602558</td>\n",
       "    </tr>\n",
       "    <tr>\n",
       "      <td>18</td>\n",
       "      <td>46.509802</td>\n",
       "      <td>6.661748</td>\n",
       "    </tr>\n",
       "    <tr>\n",
       "      <td>19</td>\n",
       "      <td>46.534909</td>\n",
       "      <td>6.592844</td>\n",
       "    </tr>\n",
       "    <tr>\n",
       "      <td>20</td>\n",
       "      <td>46.476277</td>\n",
       "      <td>6.778640</td>\n",
       "    </tr>\n",
       "    <tr>\n",
       "      <td>21</td>\n",
       "      <td>46.358953</td>\n",
       "      <td>6.925148</td>\n",
       "    </tr>\n",
       "    <tr>\n",
       "      <td>22</td>\n",
       "      <td>46.202940</td>\n",
       "      <td>7.007180</td>\n",
       "    </tr>\n",
       "    <tr>\n",
       "      <td>23</td>\n",
       "      <td>46.546531</td>\n",
       "      <td>6.486782</td>\n",
       "    </tr>\n",
       "    <tr>\n",
       "      <td>24</td>\n",
       "      <td>46.424970</td>\n",
       "      <td>6.924644</td>\n",
       "    </tr>\n",
       "    <tr>\n",
       "      <td>25</td>\n",
       "      <td>46.712347</td>\n",
       "      <td>6.370590</td>\n",
       "    </tr>\n",
       "    <tr>\n",
       "      <td>26</td>\n",
       "      <td>46.460298</td>\n",
       "      <td>6.841865</td>\n",
       "    </tr>\n",
       "    <tr>\n",
       "      <td>27</td>\n",
       "      <td>46.417611</td>\n",
       "      <td>6.927739</td>\n",
       "    </tr>\n",
       "    <tr>\n",
       "      <td>28</td>\n",
       "      <td>46.396571</td>\n",
       "      <td>6.924813</td>\n",
       "    </tr>\n",
       "    <tr>\n",
       "      <td>29</td>\n",
       "      <td>46.818988</td>\n",
       "      <td>6.526496</td>\n",
       "    </tr>\n",
       "    <tr>\n",
       "      <td>30</td>\n",
       "      <td>46.578373</td>\n",
       "      <td>6.538673</td>\n",
       "    </tr>\n",
       "  </tbody>\n",
       "</table>\n",
       "</div>"
      ],
      "text/plain": [
       "     latitude  longitude\n",
       "0   46.317901   6.968893\n",
       "1   46.694159   6.518752\n",
       "2   46.251378   7.012388\n",
       "3   46.712238   6.473491\n",
       "4   46.449612   6.881897\n",
       "5   46.569770   6.862843\n",
       "6   46.441112   6.893060\n",
       "7   46.605819   6.523085\n",
       "8   46.696692   6.478088\n",
       "9   46.500736   6.731724\n",
       "10  46.491326   6.747592\n",
       "11  46.659058   6.512445\n",
       "12  46.453752   6.856906\n",
       "13  46.521827   6.632702\n",
       "14  46.716387   6.399459\n",
       "15  46.503277   6.686788\n",
       "16  46.431083   6.912992\n",
       "17  46.526710   6.602558\n",
       "18  46.509802   6.661748\n",
       "19  46.534909   6.592844\n",
       "20  46.476277   6.778640\n",
       "21  46.358953   6.925148\n",
       "22  46.202940   7.007180\n",
       "23  46.546531   6.486782\n",
       "24  46.424970   6.924644\n",
       "25  46.712347   6.370590\n",
       "26  46.460298   6.841865\n",
       "27  46.417611   6.927739\n",
       "28  46.396571   6.924813\n",
       "29  46.818988   6.526496\n",
       "30  46.578373   6.538673"
      ]
     },
     "execution_count": 165,
     "metadata": {},
     "output_type": "execute_result"
    }
   ],
   "source": [
    "df = pd.DataFrame(data)\n",
    "df"
   ]
  },
  {
   "cell_type": "code",
   "execution_count": 166,
   "metadata": {},
   "outputs": [
    {
     "data": {
      "text/html": [
       "<div style=\"width:100%;\"><div style=\"position:relative;width:100%;height:0;padding-bottom:60%;\"><iframe src=\"data:text/html;charset=utf-8;base64,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\" style=\"position:absolute;width:100%;height:100%;left:0;top:0;border:none !important;\" allowfullscreen webkitallowfullscreen mozallowfullscreen></iframe></div></div>"
      ],
      "text/plain": [
       "<folium.folium.Map at 0x178138ac390>"
      ]
     },
     "execution_count": 166,
     "metadata": {},
     "output_type": "execute_result"
    }
   ],
   "source": [
    "import folium \n",
    "map1 = folium.Map(\n",
    "    location=[origin.latitude,origin.longitude],\n",
    "    tiles='cartodbpositron',\n",
    "    zoom_start=7.5,\n",
    ")\n",
    "df.apply(lambda row:folium.CircleMarker(location=[row[\"latitude\"], row[\"longitude\"]]).add_to(map1), axis=1)\n",
    "map1"
   ]
  },
  {
   "cell_type": "code",
   "execution_count": null,
   "metadata": {},
   "outputs": [],
   "source": []
  }
 ],
 "metadata": {
  "kernelspec": {
   "display_name": "TensorFlow-GPU",
   "language": "python",
   "name": "tf-gpu"
  },
  "language_info": {
   "codemirror_mode": {
    "name": "ipython",
    "version": 3
   },
   "file_extension": ".py",
   "mimetype": "text/x-python",
   "name": "python",
   "nbconvert_exporter": "python",
   "pygments_lexer": "ipython3",
   "version": "3.6.9"
  }
 },
 "nbformat": 4,
 "nbformat_minor": 2
}
